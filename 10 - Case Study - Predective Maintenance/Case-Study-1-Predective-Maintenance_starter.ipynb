{
 "cells": [
  {
   "cell_type": "markdown",
   "metadata": {},
   "source": [
    "# Case Study 1: Predective Maintenance\n",
    "\n",
    "## Objectives\n",
    "\n",
    "After this tutorial you will be able to:\n",
    "\n",
    "*   Link all the steps of a typical data science project\n",
    "*   Predict maintenance time for a device based on historical data"
   ]
  },
  {
   "cell_type": "markdown",
   "metadata": {},
   "source": [
    "<h2>Table of Contents</h2>\n",
    "\n",
    "<ol>\n",
    "    <li>\n",
    "        <a href=\"#problem\">Problem Definition</a>\n",
    "    </li>\n",
    "    <br>\n",
    "    <li>\n",
    "        <a href=\"#import\">Data Collection</a>\n",
    "    </li>\n",
    "    <br>\n",
    "    <li>\n",
    "        <a href=\"#clean\">Data Cleaning and Preparation</a>\n",
    "    </li>\n",
    "    <br>\n",
    "    <li>\n",
    "        <a href=\"#eda\">Exploratory Data Analysis</a>\n",
    "    </li>\n",
    "    <br>\n",
    "    <li>\n",
    "        <a href=\"#model\">Model Development and Evaluation</a>\n",
    "    </li>\n",
    "    <br>\n",
    "    <li>\n",
    "        <a href=\"#deploy\">Deployment and Communication</a>\n",
    "    </li>\n",
    "    <br>\n",
    "</ol>\n"
   ]
  },
  {
   "cell_type": "markdown",
   "metadata": {},
   "source": [
    "<hr id=\"problem\">\n",
    "\n",
    "<h2>1. Problem Definition</h2>\n",
    "\n",
    "<h3>Background:</h3>\n",
    "\n",
    "Operation data was provided by a refinery. The data reflect information about heat exchangers in a cold train serving a crude distillation unit in the refinery.  \n",
    "The network consists of 7 countercurrent heat exchangers where raw crude is in the tube side of each exchanger.  \n",
    "\n",
    "<div style=\"text-align: center;\">\n",
    "    <img src=\"hex_network.png\" height=\"500px\">\n",
    "</div>\n",
    "\n",
    "<h3>Data</h3>\n",
    "\n",
    "The data provided consists of monthly files with daily data for each heat exchanger. We will only work on exchanger `E-003` in this lab.  \n",
    "Each file contains the following details:\n",
    "- Date\n",
    "- Flow rate (raw crude), bph\n",
    "- Inlet temp (raw crude), F\n",
    "- Outlet temp (raw crude), F\n",
    "- Flow rate (VTB), bph\n",
    "- Inlet temp (VTB), F\n",
    "- Outlet temp (VTB), F\n",
    "\n",
    "Process parameters:\n",
    "- U (service), Btu/h.ft^2.F: 27.7\n",
    "- Exchanger Area, ft^2: 3,561\n",
    "- Cp (raw crude), Btu/lb.F: 2.6\n",
    "- Cp (VTB), Btu/lb.F: 4\n",
    "- Density (raw crude), lb/ft^3: 56.85\n",
    "- Density (VTB), lb/ft^3: 65\n",
    "\n",
    "\n",
    "<h3>Goal:</h3>\n",
    "\n",
    "Making recommendations on heat exchanger cleaning schedule given that cleaning is necessary when `U (actual)` drops below `70% of U (service)`.\n"
   ]
  },
  {
   "cell_type": "markdown",
   "metadata": {},
   "source": [
    "<hr id=\"import\">\n",
    "\n",
    "<h2>2. Data Collection</h2>"
   ]
  },
  {
   "cell_type": "markdown",
   "metadata": {},
   "source": [
    "Import the `Pandas` library"
   ]
  },
  {
   "cell_type": "code",
   "execution_count": 21,
   "metadata": {},
   "outputs": [],
   "source": [
    "import os\n",
    "import pandas as pd\n",
    "import numpy as np\n",
    "import matplotlib.pyplot as plt"
   ]
  },
  {
   "cell_type": "markdown",
   "metadata": {},
   "source": [
    "Read the data from `data.csv` into a `Pandas DataFrame`"
   ]
  },
  {
   "cell_type": "code",
   "execution_count": null,
   "metadata": {},
   "outputs": [],
   "source": [
    "# load all csv files in hex_data folder and concatenate them into one dataframe\n",
    "folder = 'E003_data'\n",
    "files = os.listdir(folder)\n",
    "df = pd.DataFrame()\n",
    "for file in files:\n",
    "    df = pd.concat([df, pd.read_csv(folder + '/' + file)], axis=0, ignore_index=True)\n",
    "\n",
    "df.head()\n"
   ]
  },
  {
   "cell_type": "markdown",
   "metadata": {},
   "source": [
    "<hr id=\"clean\">\n",
    "\n",
    "<h2>3. Data Cleaning and Preparation</h2>"
   ]
  },
  {
   "cell_type": "markdown",
   "metadata": {},
   "source": [
    "<h5 id=\"clean-missing\">Handle missing values</h5>\n",
    "\n",
    "Identify missing values"
   ]
  },
  {
   "cell_type": "code",
   "execution_count": null,
   "metadata": {},
   "outputs": [],
   "source": [
    "# get more info about the data\n",
    "df.info()"
   ]
  },
  {
   "cell_type": "code",
   "execution_count": null,
   "metadata": {},
   "outputs": [],
   "source": [
    "# find the number of missing values in each column\n",
    "# TODO"
   ]
  },
  {
   "cell_type": "markdown",
   "metadata": {},
   "source": [
    "Drop rows with \"NaN\" from certain columns"
   ]
  },
  {
   "cell_type": "code",
   "execution_count": null,
   "metadata": {},
   "outputs": [],
   "source": [
    "# drop the rows with missing values\n",
    "# TODO"
   ]
  },
  {
   "cell_type": "markdown",
   "metadata": {},
   "source": [
    "<h5 id=\"clean-duplicates\">Remove duplicates</h5>"
   ]
  },
  {
   "cell_type": "code",
   "execution_count": null,
   "metadata": {},
   "outputs": [],
   "source": [
    "# find the number of duplicate rows\n",
    "# TODO"
   ]
  },
  {
   "cell_type": "code",
   "execution_count": null,
   "metadata": {},
   "outputs": [],
   "source": [
    "# drop the duplicate rows\n",
    "# TODO"
   ]
  },
  {
   "cell_type": "markdown",
   "metadata": {},
   "source": [
    "<h5 id=\"clean-standardize\">Standardize data</h5>"
   ]
  },
  {
   "cell_type": "code",
   "execution_count": 28,
   "metadata": {},
   "outputs": [],
   "source": [
    "# convert column to datetime\n",
    "# TODO\n",
    "\n",
    "# convert the rest of the columns to float\n",
    "# TODO\n"
   ]
  },
  {
   "cell_type": "markdown",
   "metadata": {},
   "source": [
    "<h5>Validate cleaned data</h5>"
   ]
  },
  {
   "cell_type": "code",
   "execution_count": null,
   "metadata": {},
   "outputs": [],
   "source": [
    "# check data types\n",
    "# TODO"
   ]
  },
  {
   "cell_type": "code",
   "execution_count": null,
   "metadata": {},
   "outputs": [],
   "source": [
    "# check for duplicates\n",
    "# TODO"
   ]
  },
  {
   "cell_type": "markdown",
   "metadata": {},
   "source": [
    "<h5>Create extra required features</h5>\n",
    "\n",
    "-  `year-month`\n",
    "-  `LMTD`\n",
    "-  `U (actual)`"
   ]
  },
  {
   "cell_type": "code",
   "execution_count": null,
   "metadata": {},
   "outputs": [],
   "source": [
    "# system parameters\n",
    "V = 5.615 # ft^3/min\n",
    "rho = 56.85 # lb/ft^3\n",
    "Cp = 2.6 # Btu/lb.F\n",
    "A = 3561 # ft^2\n",
    "\n",
    "# create a new column for \"year-month\" (yyyy-mm)\n",
    "# TODO\n",
    "\n",
    "# create a new column for \"LMTD\"\n",
    "# LMTD = ((Tsi - Toi) - (Tso - Tio)) / ln((Tsi - Toi) / (Tso - Tio))\n",
    "# TODO\n",
    "\n",
    "# create a new column for \"U (actual)\" = Q / (A * LMTD) = V * rho * Cp * dT / (A * LMTD)\n",
    "# TODO\n",
    "\n",
    "df.head()"
   ]
  },
  {
   "cell_type": "markdown",
   "metadata": {},
   "source": [
    "<hr id=\"eda\">\n",
    "\n",
    "<h2>4. Exploratory Data Analysis</h2>"
   ]
  },
  {
   "cell_type": "markdown",
   "metadata": {},
   "source": [
    "<h5>Descriptive Analysis</h5>"
   ]
  },
  {
   "cell_type": "code",
   "execution_count": null,
   "metadata": {},
   "outputs": [],
   "source": [
    "df_desc = df.describe()\n",
    "df_desc"
   ]
  },
  {
   "cell_type": "markdown",
   "metadata": {},
   "source": [
    "<h5>Visualize Parameters and identify outliers</h5>"
   ]
  },
  {
   "cell_type": "code",
   "execution_count": 33,
   "metadata": {},
   "outputs": [],
   "source": [
    "# helper function to identify iqr bounds\n",
    "def iqr_bounds(df, column):\n",
    "    q1 = df[column].quantile(0.25)\n",
    "    q3 = df[column].quantile(0.75)\n",
    "    iqr = q3 - q1\n",
    "    lower_bound = q1 - 1.5 * iqr\n",
    "    upper_bound = q3 + 1.5 * iqr\n",
    "    return lower_bound, upper_bound"
   ]
  },
  {
   "cell_type": "markdown",
   "metadata": {},
   "source": [
    "### Shell side"
   ]
  },
  {
   "cell_type": "markdown",
   "metadata": {},
   "source": [
    "Box plot"
   ]
  },
  {
   "cell_type": "code",
   "execution_count": null,
   "metadata": {},
   "outputs": [],
   "source": [
    "# box plot of shell temperature in and out\n",
    "# TODO\n"
   ]
  },
  {
   "cell_type": "markdown",
   "metadata": {},
   "source": [
    "Remove outliers"
   ]
  },
  {
   "cell_type": "code",
   "execution_count": 35,
   "metadata": {},
   "outputs": [],
   "source": [
    "# remove outliers for \"Shell Temp In, F\" column\n",
    "# TODO\n",
    "\n",
    "# remove outliers for \"Shell Temp Out, F\" column\n",
    "# TODO"
   ]
  },
  {
   "cell_type": "markdown",
   "metadata": {},
   "source": [
    "Remove impractical entries"
   ]
  },
  {
   "cell_type": "code",
   "execution_count": null,
   "metadata": {},
   "outputs": [],
   "source": [
    "# find entries with \"Shell Temp In, F\" < \"Shell Temp Out, F\"\n",
    "# TODO\n"
   ]
  },
  {
   "cell_type": "code",
   "execution_count": null,
   "metadata": {},
   "outputs": [],
   "source": [
    "# remove the found entries\n",
    "# TODO"
   ]
  },
  {
   "cell_type": "markdown",
   "metadata": {},
   "source": [
    "Tube Side\n"
   ]
  },
  {
   "cell_type": "code",
   "execution_count": null,
   "metadata": {},
   "outputs": [],
   "source": [
    "# box plot of tube temperature in and out\n",
    "# TODO\n"
   ]
  },
  {
   "cell_type": "markdown",
   "metadata": {},
   "source": [
    "Flow Rates"
   ]
  },
  {
   "cell_type": "code",
   "execution_count": null,
   "metadata": {},
   "outputs": [],
   "source": [
    "# box plot of shell flow rate and tube flow rate\n",
    "# TODO"
   ]
  },
  {
   "cell_type": "markdown",
   "metadata": {},
   "source": [
    "U (actual)"
   ]
  },
  {
   "cell_type": "code",
   "execution_count": null,
   "metadata": {},
   "outputs": [],
   "source": [
    "# box plot of U (actual)\n"
   ]
  },
  {
   "cell_type": "markdown",
   "metadata": {},
   "source": [
    "<h5>Visualize trend of U over time</h5>"
   ]
  },
  {
   "cell_type": "code",
   "execution_count": null,
   "metadata": {},
   "outputs": [],
   "source": [
    "# plot U (actual) over time (Date)\n",
    "# TODO\n"
   ]
  },
  {
   "cell_type": "code",
   "execution_count": 42,
   "metadata": {},
   "outputs": [],
   "source": [
    "# remove outliers for \"U (actual)\" column\n",
    "# TODO"
   ]
  },
  {
   "cell_type": "markdown",
   "metadata": {},
   "source": [
    "To decrease the noise, let's examine the average monthly values."
   ]
  },
  {
   "cell_type": "code",
   "execution_count": null,
   "metadata": {},
   "outputs": [],
   "source": [
    "# group by \"year-month\" and calculate the average of \"U (actual)\"\n",
    "df_monthly = df.groupby('year-month', as_index=False)['U (actual)'].mean()\n",
    "df_monthly\n"
   ]
  },
  {
   "cell_type": "code",
   "execution_count": null,
   "metadata": {},
   "outputs": [],
   "source": [
    "# plot monthly average U (actual) over time (year-month)\n",
    "# TODO\n"
   ]
  },
  {
   "cell_type": "markdown",
   "metadata": {},
   "source": [
    "<hr id=\"model\">\n",
    "\n",
    "<h2>5. Model Development and Evaluation</h2>"
   ]
  },
  {
   "cell_type": "markdown",
   "metadata": {},
   "source": [
    "Let's first try linear regression to fit `U (actual) vs Date`"
   ]
  },
  {
   "cell_type": "code",
   "execution_count": null,
   "metadata": {},
   "outputs": [],
   "source": [
    "from sklearn.linear_model import LinearRegression\n",
    "from sklearn.model_selection import train_test_split\n",
    "from sklearn.metrics import mean_squared_error, r2_score\n",
    "\n",
    "# create a linear regression model (call it \"lr\")\n",
    "# TODO\n",
    "\n",
    "# split the data into training and testing sets\n",
    "# TODO\n",
    "\n",
    "# fit the model to the training data\n",
    "# TODO\n",
    "\n",
    "# make predictions using the testing set\n",
    "# TODO\n",
    "\n",
    "# print the coefficients\n",
    "# TODO\n"
   ]
  },
  {
   "cell_type": "markdown",
   "metadata": {},
   "source": [
    "Evaluate the linear model using the following metrics:\n",
    "- Mean Squared Error (MSE)\n",
    "- Coefficient of Determination (R2)"
   ]
  },
  {
   "cell_type": "code",
   "execution_count": null,
   "metadata": {},
   "outputs": [],
   "source": [
    "# evaluate the model\n",
    "# TODO"
   ]
  },
  {
   "cell_type": "markdown",
   "metadata": {},
   "source": [
    "Calculate the month when `U (actual)` will fall under `70% of U (service)`"
   ]
  },
  {
   "cell_type": "code",
   "execution_count": null,
   "metadata": {},
   "outputs": [],
   "source": [
    "# predict the month when U (dirty) is 70% of the clean U\n",
    "u_design = 27.7\n",
    "u_dirty = 0.7 * u_design\n",
    "\n",
    "# calculate the month (call it \"month\")\n",
    "# TODO\n"
   ]
  },
  {
   "cell_type": "code",
   "execution_count": null,
   "metadata": {},
   "outputs": [],
   "source": [
    "# add a new column for \"U (predicted)\"\n",
    "# TODO\n",
    "\n",
    "# add new rows for future months\n",
    "for i in range(len(df_monthly), month.astype(int) + 4):\n",
    "    # increment month by 1\n",
    "    if i % 12 == 0:\n",
    "        m = 1\n",
    "        y = int(df_monthly.loc[i - 1, 'year-month'][:4]) + 1\n",
    "    else:\n",
    "        m = int(df_monthly.loc[i - 1, 'year-month'][5:]) + 1\n",
    "        y = int(df_monthly.loc[i - 1, 'year-month'][:4])\n",
    "    year_month = str(y) + '-' + str(m).zfill(2)\n",
    "\n",
    "    df_monthly.loc[i] = {\n",
    "        'year-month': year_month, \n",
    "        'U (actual)': np.nan, \n",
    "        'U (predicted)': lr.predict([[i]])[0]\n",
    "    }\n",
    "\n",
    "df_monthly.tail()"
   ]
  },
  {
   "cell_type": "markdown",
   "metadata": {},
   "source": [
    "Generate a scatter plot with a trend line showing when the heat exchanger will require maintenance"
   ]
  },
  {
   "cell_type": "code",
   "execution_count": null,
   "metadata": {},
   "outputs": [],
   "source": [
    "# plot the actual and predicted U values\n",
    "df_monthly.plot(kind='scatter', x='year-month', y='U (actual)', figsize=(12, 6), title='U (actual) over time')\n",
    "plt.plot(df_monthly['year-month'], df_monthly['U (predicted)'], color='orange')\n",
    "plt.plot(df_monthly['year-month'], [u_dirty] * len(df_monthly), color='red', linestyle='dashed')\n",
    "plt.scatter(month, u_dirty, color='red', marker='o', s=400, facecolors='none')\n",
    "plt.xlabel('Month')\n",
    "plt.xticks(rotation=90, fontsize=8)\n",
    "plt.yticks(fontsize=8)\n",
    "plt.ylabel('U')\n",
    "plt.legend(['U (actual)', 'U (predicted)', 'U (dirty)'])\n",
    "plt.grid()\n",
    "plt.show()\n"
   ]
  },
  {
   "cell_type": "markdown",
   "metadata": {},
   "source": [
    "<hr id=\"deploy\">\n",
    "\n",
    "<h2>6. Deployment and Communication</h2>"
   ]
  },
  {
   "cell_type": "markdown",
   "metadata": {},
   "source": [
    "The findings of the project can be deployed in a dashboard.  \n",
    "\n",
    "They can also be presented in a report format for written reporting or presentation purposes.  \n",
    "The report should contain the following sections:\n",
    "1. **Title Page**  \n",
    "   *the title, name, and date*\n",
    "2. **Outline (table of contents)**  \n",
    "   *the different sections of the report (with page numbers for printed report)*\n",
    "3. **Executive Summary**  \n",
    "   *a summary/overview of the problem, methodology, findings, and conclusions*\n",
    "4. **Introduction**  \n",
    "   *problem statement and background*\n",
    "5. **Methodology**  \n",
    "   *description of the different data science project steps (data collection, cleaning, exploration, different models tested, etc.)*\n",
    "6. **Results**  \n",
    "   *the findings with visualization charts, etc.*\n",
    "7. **Discussion**  \n",
    "   *analysis of the findings*\n",
    "8. **Conclusion**  \n",
    "   *drawn conclusions based on the findings*\n",
    "9. **Appendix**  \n",
    "   *any supporting data, charts, etc. that were not used in the report but could be useful to review (if any)*\n"
   ]
  },
  {
   "cell_type": "markdown",
   "metadata": {},
   "source": [
    "<hr style=\"margin-top: 4rem;\">\n",
    "<h2>Author</h2>\n",
    "\n",
    "<a href=\"https://github.com/SamerHany\">Samer Hany</a>"
   ]
  },
  {
   "cell_type": "markdown",
   "metadata": {},
   "source": [
    "<h2>References</h2>\n",
    "<a href=\"https://www.w3schools.com/python/default.asp\">w3schools.com</a>"
   ]
  }
 ],
 "metadata": {
  "kernelspec": {
   "display_name": "Python 3",
   "language": "python",
   "name": "python3"
  },
  "language_info": {
   "codemirror_mode": {
    "name": "ipython",
    "version": 3
   },
   "file_extension": ".py",
   "mimetype": "text/x-python",
   "name": "python",
   "nbconvert_exporter": "python",
   "pygments_lexer": "ipython3",
   "version": "3.11.4"
  }
 },
 "nbformat": 4,
 "nbformat_minor": 4
}
