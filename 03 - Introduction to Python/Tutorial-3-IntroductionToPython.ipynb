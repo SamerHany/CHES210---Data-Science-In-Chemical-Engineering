{
 "cells": [
  {
   "cell_type": "markdown",
   "metadata": {},
   "source": [
    "# Tutorial 3: Introduction to Python\n",
    "\n",
    "\n",
    "## Objectives\n",
    "\n",
    "After this tutorial you will be able to:\n",
    "\n",
    "*   Write basic code in Python\n",
    "*   Know the different data types in Python\n",
    "*   Use control flow statements to introduce logic into your code\n",
    "*   Use variables and expressions\n",
    "*   Define and use functions to organize your code\n",
    "*   Know what Python libraries are and use them\n",
    "*   Perform simple file read and write operations\n"
   ]
  },
  {
   "cell_type": "markdown",
   "metadata": {},
   "source": [
    "<h2 id=\"index\">Table of Contents</h2>\n",
    "\n",
    "<ol>\n",
    "    <li>\n",
    "        <details>\n",
    "            <summary><a href=\"#intro\">Introduction</a></summary>\n",
    "            <ul>\n",
    "                <li><a href=\"#intro-hello\">Hello, World!</a></li>\n",
    "                <li><a href=\"#intro-version\">Check Python version</a></li>\n",
    "                <li><a href=\"#intro-version\">Syntax</a></li>\n",
    "            </ul>\n",
    "        </details>\n",
    "    </li>\n",
    "    <br>\n",
    "    <li>\n",
    "        <details>\n",
    "            <summary><a href=\"#data\">Data Types</a></summary>\n",
    "            <ul>\n",
    "                <li><a href=\"#data-string\">String</a></li>\n",
    "                <li><a href=\"#data-number\">Number</a></li>\n",
    "                <li><a href=\"#data-bool\">Boolean</a></li>\n",
    "                <li><a href=\"#data-list\">List</a></li>\n",
    "                <li><a href=\"#data-tuple\">Tuple</a></li>\n",
    "                <li><a href=\"#data-set\">Set</a></li>\n",
    "                <li><a href=\"#data-dict\">Dictionary</a></li>\n",
    "                <li><a href=\"#data-none\">NoneType</a></li>\n",
    "            </ul>\n",
    "        </details>\n",
    "    </li>\n",
    "    <br>\n",
    "    <li>\n",
    "        <details>\n",
    "            <summary><a href=\"#operators\">Operators</a></summary>\n",
    "            <ul>\n",
    "                <li><a href=\"#operators-arithmetic\">Arithmetic</a></li>\n",
    "                <li><a href=\"#operators-comparison\">Comparison</a></li>\n",
    "                <li><a href=\"#operators-logical\">Logical</a></li>\n",
    "            </ul>\n",
    "        </details>\n",
    "    </li>\n",
    "    <br>\n",
    "    <li>\n",
    "        <details>\n",
    "            <summary><a href=\"#control\">Control Flow</a></summary>\n",
    "            <ul>\n",
    "                <li><a href=\"#control-conditions\">Conditions</a></li>\n",
    "                <li><a href=\"#control-iteration\">Iteration</a></li>\n",
    "            </ul>\n",
    "        </details>\n",
    "    </li>\n",
    "    <br>\n",
    "    <li>\n",
    "        <a href=\"#error\">Error Handling</a>\n",
    "    </li>\n",
    "    <br>\n",
    "    <li>\n",
    "        <a href=\"#functions\">Functions</a>\n",
    "    </li>\n",
    "    <br>\n",
    "    <li>\n",
    "        <a href=\"#libraries\">Modules / Libraries</a>\n",
    "    </li>\n",
    "    <br>\n",
    "    <li>\n",
    "        <a href=\"#files\">Simple File Handling</a>\n",
    "    </li>\n",
    "    <br>\n",
    "    <li>\n",
    "        <a href=\"#scripting\">Scripting</a>\n",
    "    </li>\n",
    "</ol>\n"
   ]
  },
  {
   "cell_type": "markdown",
   "metadata": {},
   "source": [
    "<hr id=\"intro\">\n",
    "\n",
    "<h2>1. Introduction</h2>\n",
    "\n",
    "Let's start with the usual \"Hello, World!\".\n",
    "To show output in the console, we use the function: `print()`  \n",
    "\n",
    "There are two ways to execute the code in a cell in this notebook:\n",
    "1. Click the *run* button to the left of the cell  \n",
    "2. Press the (<kbd>Shift</kbd> or <kbd>Ctrl</kbd>) + <kbd>Enter</kbd> keys on your keyboard\n"
   ]
  },
  {
   "cell_type": "markdown",
   "metadata": {},
   "source": [
    "<h5 id=\"intro-hello\">Hello, World!</h5>"
   ]
  },
  {
   "cell_type": "code",
   "execution_count": null,
   "metadata": {},
   "outputs": [],
   "source": [
    "print('Hello, World!')"
   ]
  },
  {
   "cell_type": "markdown",
   "metadata": {},
   "source": [
    "<h5 id=\"intro-version\">Check Python version</h5>"
   ]
  },
  {
   "cell_type": "code",
   "execution_count": null,
   "metadata": {},
   "outputs": [],
   "source": [
    "import sys\n",
    "print(sys.version)"
   ]
  },
  {
   "cell_type": "markdown",
   "metadata": {},
   "source": [
    "<h5 id=\"intro-syntax\">Syntax</h5>\n",
    "\n",
    "*   Close to natural language / pseudocode\n",
    "*   Code blocks are identified by indentation\n",
    "*   Single-line comments start with `#` sign\n",
    "*   Multi-line comments are wrapped in `\"\"\"`\n",
    "*   Variables are created when a values are assigned to them"
   ]
  },
  {
   "cell_type": "code",
   "execution_count": null,
   "metadata": {},
   "outputs": [],
   "source": [
    "\"\"\"\n",
    "This is a multi-line comment\n",
    "Everything in between is not executed\n",
    "\"\"\"\n",
    "\n",
    "# This is a single line comment\n",
    "x = 1       # This is how we create a variable in Python\n",
    "print(x)    # Prints the value of x"
   ]
  },
  {
   "cell_type": "markdown",
   "metadata": {},
   "source": [
    "<hr id=\"data\">\n",
    "\n",
    "<h2>2. Data Types</h2>\n",
    "\n",
    "Variables can store different types of data.  \n",
    "Each different type has pre-defined supported operations."
   ]
  },
  {
   "cell_type": "markdown",
   "metadata": {},
   "source": [
    "<h5 id=\"data-string\">String</h5>\n",
    "\n",
    "This is the type of stored text"
   ]
  },
  {
   "cell_type": "code",
   "execution_count": null,
   "metadata": {},
   "outputs": [],
   "source": [
    "# string can be declared using single or double quotes\n",
    "x = \"Hello, World!\"\n",
    "print(x)\n",
    "y = 'From Python.'\n",
    "print(y)\n",
    "\n",
    "# let's print the type of x\n",
    "print(type(x))"
   ]
  },
  {
   "cell_type": "markdown",
   "metadata": {},
   "source": [
    "<h5 id=\"data-number\">Number</h5>\n",
    "\n",
    "There are different types of numbers in python:\n",
    "*   `int`:      Integer numbers\n",
    "*   `float`:    Real numbers\n",
    "*   `complex`:  Complex numbers"
   ]
  },
  {
   "cell_type": "code",
   "execution_count": null,
   "metadata": {},
   "outputs": [],
   "source": [
    "# Integers\n",
    "x = 1\n",
    "print('Type of x >>', type(x))\n",
    "\n",
    "# Floats\n",
    "y = 1.5\n",
    "print('Type of y >>', type(y))\n",
    "\n",
    "# Complex\n",
    "z = 1 + 2j\n",
    "print('Type of z >>', type(z))"
   ]
  },
  {
   "cell_type": "markdown",
   "metadata": {},
   "source": [
    "<h5 id=\"data-bool\">Boolean</h5>\n",
    "\n",
    "Boooleans represent one of two values: `True` or `False`"
   ]
  },
  {
   "cell_type": "code",
   "execution_count": null,
   "metadata": {},
   "outputs": [],
   "source": [
    "x = True\n",
    "print('Type of x >>', type(x))"
   ]
  },
  {
   "cell_type": "markdown",
   "metadata": {},
   "source": [
    "<h5 id=\"data-list\">List</h5>\n",
    "\n",
    "Used to store a collection of data.  \n",
    "Lists are **mutable**, which means items in the list can be changed after initialization.  \n",
    "The items in a list are ordered and can be indexed by an index number."
   ]
  },
  {
   "cell_type": "code",
   "execution_count": null,
   "metadata": {},
   "outputs": [],
   "source": [
    "# Create a list\n",
    "x = [1, 2, 3]\n",
    "print('Type of x >>', type(x))\n",
    "\n",
    "# Access the first element of the list\n",
    "print('First element =', x[0])\n",
    "print('Last element = ', x[-1])"
   ]
  },
  {
   "cell_type": "markdown",
   "metadata": {},
   "source": [
    "<h5 id=\"data-tuple\">Tuple</h5>\n",
    "\n",
    "Used to store a collection of data.  \n",
    "Tuples are **immutable**, which means items in the tuple can **NOT** be changed after initialization.  \n",
    "The items in a tupe are ordered and can be indexed by an index number."
   ]
  },
  {
   "cell_type": "code",
   "execution_count": null,
   "metadata": {},
   "outputs": [],
   "source": [
    "# Create a tuple\n",
    "x = (1, 2, 3)\n",
    "print('Type of x >>', type(x))\n",
    "\n",
    "# Access the second element of the tuple\n",
    "print('Second element =', x[1])"
   ]
  },
  {
   "cell_type": "markdown",
   "metadata": {},
   "source": [
    "<h5 id=\"data-set\">Set</h5>\n",
    "\n",
    "Used to store a collection of data.  \n",
    "Sets are **immutable**, which means items in the set can **NOT** be changed after initialization.  \n",
    "The items in a set are **NOT** ordered and can **NOT** be indexed by an index number.  \n",
    "Sets do **NOT** allow duplicate values."
   ]
  },
  {
   "cell_type": "code",
   "execution_count": null,
   "metadata": {},
   "outputs": [],
   "source": [
    "# Create a set\n",
    "x = {1, 2, 3}\n",
    "print('Type of x >>', type(x))\n",
    "\n",
    "# Check if an item is in the set\n",
    "print(8 in x)"
   ]
  },
  {
   "cell_type": "markdown",
   "metadata": {},
   "source": [
    "<h5 id=\"data-dict\">Dictionary</h5>\n",
    "\n",
    "Used to store a collection of data in *key:value* pairs.  \n",
    "Dictionaries are **mutable**, which means items in the dictionary can be changed after initialization.  \n",
    "Dictionaries do **NOT** allow duplicate keys."
   ]
  },
  {
   "cell_type": "code",
   "execution_count": null,
   "metadata": {},
   "outputs": [],
   "source": [
    "# Create a dictionary\n",
    "element = {\n",
    "    'name': 'Hydrogen',\n",
    "    'symbol': 'H',\n",
    "    'atomic_number': 1,\n",
    "    'is_noble_gas': False,\n",
    "    'atomic_mass': 1,\n",
    "    'oxidation_states': [-1, 1],\n",
    "    'standard_state': 'gas',\n",
    "}\n",
    "print('Type of element >>', type(element))\n",
    "\n",
    "# Access the value of the key 'symbol'\n",
    "print('Symbol =', element['symbol'])\n",
    "element['name']"
   ]
  },
  {
   "cell_type": "markdown",
   "metadata": {},
   "source": [
    "<h5 id=\"data-none\">NoneType</h5>\n",
    "\n",
    "The value `None` is used to indicate no value."
   ]
  },
  {
   "cell_type": "code",
   "execution_count": null,
   "metadata": {},
   "outputs": [],
   "source": [
    "x = None\n",
    "print(type(x))"
   ]
  },
  {
   "cell_type": "markdown",
   "metadata": {},
   "source": [
    "<hr id=\"operators\">\n",
    "\n",
    "<h2>3. Operators</h2>\n",
    "\n",
    "Operators are used to perform operations on variables and values."
   ]
  },
  {
   "cell_type": "markdown",
   "metadata": {},
   "source": [
    "<h5 id=\"operators-arithmetic\">Arithmetic</h5>\n",
    "\n",
    "Used with numerical values to perform common mathemtical operations"
   ]
  },
  {
   "cell_type": "code",
   "execution_count": null,
   "metadata": {},
   "outputs": [],
   "source": [
    "# addition\n",
    "x = 1 + 2\n",
    "print('1 + 2 = ', x)\n",
    "\n",
    "# subtraction\n",
    "x = 1 - 2\n",
    "print('1 - 2 = ', x)\n",
    "\n",
    "# multiplication\n",
    "x = 1 * 2\n",
    "print('1 * 2 = ', x)\n",
    "\n",
    "# division\n",
    "x = 7 / 2\n",
    "print('7 / 2 = ', x)\n",
    "\n",
    "# integer / floor division\n",
    "x = 7 // 2\n",
    "print('7 // 2 = ', x)\n",
    "\n",
    "# modulus\n",
    "x = 7 % 2\n",
    "print('7 % 2 = ', x)\n",
    "\n",
    "# exponentiation\n",
    "x = 2 ** 3\n",
    "print('2 ** 3 = ', x)\n"
   ]
  },
  {
   "cell_type": "markdown",
   "metadata": {},
   "source": [
    "<h5 id=\"operators-comparison\">Comparison</h5>\n",
    "\n",
    "Used to compare 2 values"
   ]
  },
  {
   "cell_type": "code",
   "execution_count": null,
   "metadata": {},
   "outputs": [],
   "source": [
    "# equality\n",
    "x = (1 == 1)\n",
    "print('1 == 1', x)\n",
    "\n",
    "# inequality\n",
    "x = 1 != 1\n",
    "print('1 != 1', x)\n",
    "\n",
    "# greater than\n",
    "x = 1 > 2\n",
    "print('1 > 2', x)\n",
    "\n",
    "# less than\n",
    "x = 1 < 2\n",
    "print('1 < 2', x)\n",
    "\n",
    "# greater than or equal to\n",
    "x = 1 >= 2\n",
    "print('1 >= 2', x)\n",
    "\n",
    "# less than or equal to\n",
    "x = 1 <= 2\n",
    "print('1 <= 2', x)"
   ]
  },
  {
   "cell_type": "markdown",
   "metadata": {},
   "source": [
    "<h5 id=\"operators-logical\">Logical</h5>\n",
    "\n",
    "Used to combine comparison statements"
   ]
  },
  {
   "cell_type": "code",
   "execution_count": null,
   "metadata": {},
   "outputs": [],
   "source": [
    "# and\n",
    "x = True and False  # True if both are True\n",
    "print('True and False', x)\n",
    "\n",
    "# or\n",
    "x = True or False  # True if either is True\n",
    "print('True or False', x)\n",
    "\n",
    "# not\n",
    "x = not True  # True if False\n",
    "print('not True', x)"
   ]
  },
  {
   "cell_type": "markdown",
   "metadata": {},
   "source": [
    "<hr id=\"control\">\n",
    "\n",
    "<h2>4. Control Flow</h2>\n",
    "\n",
    "Used to introduce decision logic into the code"
   ]
  },
  {
   "cell_type": "markdown",
   "metadata": {},
   "source": [
    "<h5 id=\"control-conditions\">Conditions</h5>\n",
    "\n",
    "Using `if` statements for making decisions"
   ]
  },
  {
   "cell_type": "code",
   "execution_count": null,
   "metadata": {},
   "outputs": [],
   "source": [
    "# simple if statement\n",
    "x = 12\n",
    "\n",
    "if x == 1:\n",
    "    print('x is equal to 1')\n",
    "\n",
    "print('This is always printed')"
   ]
  },
  {
   "cell_type": "code",
   "execution_count": null,
   "metadata": {},
   "outputs": [],
   "source": [
    "# if-else statement\n",
    "x = 1\n",
    "\n",
    "if x == 1:\n",
    "    print('x is equal to 1')\n",
    "else:\n",
    "    print('x is not equal to 1')\n",
    "    \n",
    "print('This is always printed')"
   ]
  },
  {
   "cell_type": "code",
   "execution_count": null,
   "metadata": {},
   "outputs": [],
   "source": [
    "# if-elif-else statement\n",
    "x = 2\n",
    "if x == 1:\n",
    "    print('x is equal to 1')\n",
    "elif x == 2:    # elif is short for else if\n",
    "    print('x is equal to 2')\n",
    "else:\n",
    "    print('x is not equal to 1 or 2')\n",
    "\n",
    "print('This is always printed')"
   ]
  },
  {
   "cell_type": "markdown",
   "metadata": {},
   "source": [
    "<h5 id=\"control-iteration\">Iteration</h5>\n",
    "\n",
    "Python has 2 loop commands:\n",
    "1. `for`: iterates over each item in a sequence (e.g. list, tuple, dict, set, string)\n",
    "2. `while`: executes a set of statements as long as a condition is true\n"
   ]
  },
  {
   "cell_type": "code",
   "execution_count": null,
   "metadata": {},
   "outputs": [],
   "source": [
    "# for loop\n",
    "cars = ['BMW', 'Audi', 'Mercedes']\n",
    "for car in cars:\n",
    "    print(car)\n",
    "\n",
    "for i in range(1, 11, 1):\n",
    "    print(i)"
   ]
  },
  {
   "cell_type": "code",
   "execution_count": null,
   "metadata": {},
   "outputs": [],
   "source": [
    "# while loop\n",
    "x = 0\n",
    "sum = 0\n",
    "while sum < 20:\n",
    "    sum += x ** 2\n",
    "    x += 1  # same as x = x + 1\n",
    "print(x)\n",
    "print(sum)"
   ]
  },
  {
   "cell_type": "code",
   "execution_count": null,
   "metadata": {},
   "outputs": [],
   "source": [
    "# break statement, breaks out of a for or while loop\n",
    "x = 0\n",
    "while True:\n",
    "    print(x)\n",
    "    x += 1\n",
    "    if x >= 5:\n",
    "        print('Breaking')\n",
    "        break\n"
   ]
  },
  {
   "cell_type": "code",
   "execution_count": null,
   "metadata": {},
   "outputs": [],
   "source": [
    "# continue statement, skips the current iteration of the loop\n",
    "\n",
    "# print only odd numbers\n",
    "for x in range(10):\n",
    "    # check if x is even\n",
    "    if x % 2 == 0:\n",
    "        continue\n",
    "    print(x)"
   ]
  },
  {
   "cell_type": "markdown",
   "metadata": {},
   "source": [
    "<hr id=\"error\">\n",
    "\n",
    "<h2>5. Error Handling</h2>\n",
    "\n",
    "When an error happens, the default action for Python is to stop execution and output an error message.  \n",
    "We can use exception handling using the `try` & `except` statements.\n"
   ]
  },
  {
   "cell_type": "code",
   "execution_count": null,
   "metadata": {},
   "outputs": [],
   "source": [
    "# this will return an error because xx is not defined\n",
    "print(xx)"
   ]
  },
  {
   "cell_type": "code",
   "execution_count": null,
   "metadata": {},
   "outputs": [],
   "source": [
    "# we can handle common exceptions using try-except to prevent the program from crashing\n",
    "# and to print a more user-friendly message to the user describing the error\n",
    "try:\n",
    "    print(xx)\n",
    "except:\n",
    "    print('Error: xx is not defined. Please define xx before using it.')"
   ]
  },
  {
   "cell_type": "code",
   "execution_count": null,
   "metadata": {},
   "outputs": [],
   "source": [
    "# we can also handle specific exceptions\n",
    "# name error occurs when a variable is not defined before using it\n",
    "try:\n",
    "    print(xx)\n",
    "except NameError:\n",
    "    print('Error: xx is not defined. Please define xx before using it.')\n",
    "except:\n",
    "    print('Something else went wrong.')"
   ]
  },
  {
   "cell_type": "code",
   "execution_count": null,
   "metadata": {},
   "outputs": [],
   "source": [
    "# we can also handle specific exceptions\n",
    "# for other exceptions, we can print a default exception message\n",
    "try:\n",
    "    print(1 / 0)\n",
    "except NameError:\n",
    "    print('Error: xx is not defined. Please define xx before using it.')\n",
    "except Exception as e:\n",
    "    print('Something else went wrong:', e)"
   ]
  },
  {
   "cell_type": "markdown",
   "metadata": {},
   "source": [
    "<hr id=\"functions\">\n",
    "\n",
    "<h2>6. Functions</h2>\n",
    "\n",
    "A script is a file that contains commands to be executed to perform a specific task"
   ]
  },
  {
   "cell_type": "markdown",
   "metadata": {},
   "source": [
    "Functions are defined using the def keyword"
   ]
  },
  {
   "cell_type": "code",
   "execution_count": null,
   "metadata": {},
   "outputs": [],
   "source": [
    "# determines whether a number is even or odd\n",
    "def even_or_odd(x):\n",
    "    if x % 2 == 0:\n",
    "        print(x, 'is even')\n",
    "    else:\n",
    "        print(x, 'is odd')\n",
    "\n",
    "\n",
    "# call the function\n",
    "even_or_odd(2)\n",
    "y = even_or_odd(3)"
   ]
  },
  {
   "cell_type": "markdown",
   "metadata": {},
   "source": [
    "Functions can return values using the return keyword"
   ]
  },
  {
   "cell_type": "code",
   "execution_count": null,
   "metadata": {},
   "outputs": [],
   "source": [
    "def even_or_odd(x):\n",
    "    if x % 2 == 0:\n",
    "        return 'even'\n",
    "    else:\n",
    "        return 'odd'\n",
    "\n",
    "# call the function\n",
    "x = 7\n",
    "print(x, 'is', even_or_odd(x))\n",
    "y = 8\n",
    "print(y, 'is', even_or_odd(y))\n",
    "print(f'{y} is {even_or_odd(y)}')"
   ]
  },
  {
   "cell_type": "markdown",
   "metadata": {},
   "source": [
    "<hr id=\"libraries\">\n",
    "\n",
    "<h2>7. Modules / Libraries</h2>\n",
    "\n",
    "A module is a file containing a set of functions you want to include in your application."
   ]
  },
  {
   "cell_type": "markdown",
   "metadata": {},
   "source": [
    "To import a module, we use the `import` keyword"
   ]
  },
  {
   "cell_type": "code",
   "execution_count": null,
   "metadata": {},
   "outputs": [],
   "source": [
    "import math     # import the built-in math module\n",
    "\n",
    "# use the module\n",
    "x = math.sqrt(4)    # using the \"sqrt()\" function of the math module\n",
    "print(x)"
   ]
  },
  {
   "cell_type": "markdown",
   "metadata": {},
   "source": [
    "We can also name the module by giving it an alias  \n",
    "This is useful when the module name is long"
   ]
  },
  {
   "cell_type": "code",
   "execution_count": null,
   "metadata": {},
   "outputs": [],
   "source": [
    "import math as mt\n",
    "\n",
    "# use the module\n",
    "x = mt.sqrt(4)    # using the \"sqrt()\" function of the math module\n",
    "print(x)"
   ]
  },
  {
   "cell_type": "markdown",
   "metadata": {},
   "source": [
    "We can also import specific functions from a module to optimize performance"
   ]
  },
  {
   "cell_type": "code",
   "execution_count": null,
   "metadata": {},
   "outputs": [],
   "source": [
    "from math import sqrt, pi\n",
    "\n",
    "# use the module\n",
    "x = sqrt(4)    # using the \"sqrt()\" function of the math module\n",
    "print(x)\n",
    "print(pi)       # using the \"pi\" variable of the math module"
   ]
  },
  {
   "cell_type": "markdown",
   "metadata": {},
   "source": [
    "We can also install external libraries using the Python package manager using the following command in the terminal:\n",
    "`pip install <library_name>`  \n",
    "  \n",
    "For example, you can try installing the libraries we will use in this course:\n",
    "*   numpy\n",
    "*   pandas\n",
    "*   matplotlib\n",
    "*   seaborn"
   ]
  },
  {
   "cell_type": "markdown",
   "metadata": {},
   "source": [
    "<hr id=\"files\">\n",
    "\n",
    "<h2>8. Simple File Handling</h2>\n",
    "\n",
    "We can use Python to read and write data to files.  \n",
    "To open a file, use the `open()` function which takes **2** parameters:  \n",
    "- `file_name`\n",
    "- `mode`  \n",
    "\n",
    "The modes we will be using are:\n",
    "*   `r`: for reading data from a file\n",
    "*   `w`: for writing (overwriting) data to a file\n",
    "*   `a`: for appending data to the existing data in a file"
   ]
  },
  {
   "cell_type": "code",
   "execution_count": null,
   "metadata": {},
   "outputs": [],
   "source": [
    "# open a file in \"write\" mode (creates the file if it doesn't exist)\n",
    "with open('test.txt', 'w') as f1:\n",
    "    f1.write('Hello, World!')\n",
    "\n",
    "print('hello')"
   ]
  },
  {
   "cell_type": "code",
   "execution_count": null,
   "metadata": {},
   "outputs": [],
   "source": [
    "# open a file in \"append\" mode\n",
    "with open('test.txt', 'a') as f2:\n",
    "    f2.write('\\nFrom Python.')"
   ]
  },
  {
   "cell_type": "code",
   "execution_count": null,
   "metadata": {},
   "outputs": [],
   "source": [
    "# open a file in \"read\" mode\n",
    "with open('test.txt', 'r') as f3:\n",
    "    file_contents = f3.read()\n",
    "\n",
    "print(file_contents)"
   ]
  },
  {
   "cell_type": "markdown",
   "metadata": {},
   "source": [
    "<hr id=\"scripting\">\n",
    "\n",
    "<h2>9. Scripting</h2>\n",
    "\n",
    "A script is a python file (`.py`) containing a set of commands programmed to be executed to perform a specific task.  \n",
    "Let's create a very simple script to ask the user for the radius of a circle and calculates the area.  \n",
    "You can create it in a text file or run the below code to create the file and test it.  "
   ]
  },
  {
   "cell_type": "markdown",
   "metadata": {},
   "source": [
    "<details><summary>Expand to see the code</summary>\n",
    "\n",
    "```python\n",
    "# import the math module\n",
    "import math\n",
    "\n",
    "# define a function to calculate the area of a circle\n",
    "def circle_area(r):\n",
    "\treturn math.pi * r ** 2\n",
    "\n",
    "# ask user for radius input and convert to float\n",
    "r = input(\"Enter the radius: \")\n",
    "r = float(r)\n",
    "\n",
    "# print the calculated area\n",
    "print(\"Area = \", circle_area(r))\n",
    "\n",
    "```\n",
    "\n",
    "</details>"
   ]
  },
  {
   "cell_type": "code",
   "execution_count": null,
   "metadata": {},
   "outputs": [],
   "source": [
    "# open a file in \"write\" mode\n",
    "with open('circle_area.py', 'w') as f:\n",
    "    f.write('import math\\n')\n",
    "    f.write('def circle_area(r):\\n')\n",
    "    f.write('\\treturn math.pi * r ** 2\\n')\n",
    "    f.write('r = input(\"Enter the radius: \")\\n')\n",
    "    f.write('r = float(r)\\n')\n",
    "    f.write('print(\"Area = \", circle_area(r))\\n')"
   ]
  },
  {
   "cell_type": "markdown",
   "metadata": {},
   "source": [
    "We can run the python script by double-clicking on it.  \n",
    "Or by opening a terminal in the same folder and running the following command:  \n",
    "`python circle_area.py`"
   ]
  },
  {
   "cell_type": "markdown",
   "metadata": {},
   "source": [
    "<hr style=\"margin-top: 4rem;\">\n",
    "<h2>Author</h2>\n",
    "\n",
    "<a href=\"https://github.com/SamerHany\">Samer Hany</a>"
   ]
  },
  {
   "cell_type": "markdown",
   "metadata": {},
   "source": [
    "<h2>References</h2>\n",
    "<a href=\"https://www.w3schools.com/python/default.asp\">w3schools.com</a>\n",
    "  \n",
    "<a href=\"https://www.geeksforgeeks.org/python-programming-language\">geeksforgeeks.org</a>\n",
    "  \n",
    "<a href=\"https://www.tutorialspoint.com/python/python_control_flow.htm\">tutorialspoint.com</a>"
   ]
  }
 ],
 "metadata": {
  "kernelspec": {
   "display_name": "Python 3 (ipykernel)",
   "language": "python",
   "name": "python3"
  },
  "language_info": {
   "codemirror_mode": {
    "name": "ipython",
    "version": 3
   },
   "file_extension": ".py",
   "mimetype": "text/x-python",
   "name": "python",
   "nbconvert_exporter": "python",
   "pygments_lexer": "ipython3",
   "version": "3.11.4"
  }
 },
 "nbformat": 4,
 "nbformat_minor": 4
}
