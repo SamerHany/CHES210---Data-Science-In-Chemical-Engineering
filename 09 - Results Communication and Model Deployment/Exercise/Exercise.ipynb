{
 "cells": [
  {
   "cell_type": "markdown",
   "metadata": {},
   "source": [
    "## Description\n",
    "The dataset (downloaded from UCI machine learning repository88) comes from a wastewater treatment plant that uses activated sludge process to remove organic matter and suspended\n",
    "solids from municipal wastewater. \n",
    "\n",
    "In this process (Figure A7), the suspended solids are first physically settled (primary treatment) and then biologically treated to oxidize the biodegradable organic matter (secondary treatment). \n",
    "\n",
    "Data from on-line sensors at different stages of the process for 40 variables over 527 days of operation are provided. Seven out of the 38 variables characterize the effluent water quality. \n",
    "\n",
    "<div style=\"text-align:center; margin-top:2rem;\">\n",
    "\n",
    "![water treatment](water-treatment.png)\n",
    "\n",
    "</div>\n",
    "\n",
    "\n",
    "## Sensor Data:\n",
    "\n",
    "- **Influent:**\n",
    "\n",
    "    1. DATE        (date)\n",
    "\n",
    "    2. Q-E         (input flow to plant)\n",
    "\n",
    "    3. ZN-E        (input Zinc to plant)\n",
    "\n",
    "    4. PH-E        (input pH to plant)\n",
    "\n",
    "    5. DBO-E       (input Biological demand of oxygen to plant)\n",
    "\n",
    "    6. DQO-E       (input chemical demand of oxygen to plant)\n",
    "\n",
    "    7. SS-E        (input suspended solids to plant)\n",
    "\n",
    "    8. SSV-E       (input volatile supended solids to plant)\n",
    "\n",
    "    9. SED-E       (input sediments to plant)\n",
    "\n",
    "    10. COND-E     (input conductivity to plant)\n",
    "\n",
    "- **Input to *Primary* Settler**\n",
    "\n",
    "    11. PH-P       (input pH to primary settler)\n",
    "\n",
    "    12. DBO-P      (input Biological demand of oxygen to primary settler)\n",
    "\n",
    "    13. SS-P       (input suspended solids to primary settler)\n",
    "\n",
    "    14. SSV-P      (input volatile supended solids to primary settler)\n",
    "\n",
    "    15. SED-P      (input sediments to primary settler)\n",
    "\n",
    "    16. COND-P     (input conductivity to primary settler)\n",
    "\n",
    "- **Input to *Secondary* Settler**\n",
    "\n",
    "    17. PH-D       (input pH to secondary settler)\n",
    "\n",
    "    18. DBO-D      (input Biological demand of oxygen to secondary settler)\n",
    "\n",
    "    19. DQO-D      (input chemical demand of oxygen to secondary settler)\n",
    "\n",
    "    20. SS-D       (input suspended solids to secondary settler)\n",
    "\n",
    "    21. SSV-D      (input volatile supended solids to secondary settler)\n",
    "\n",
    "    22. SED-D      (input sediments to secondary settler)\n",
    "\n",
    "    23. COND-D     (input conductivity to secondary settler)\n",
    "\n",
    "- **Output from *Secondary* Settler (Effluent)**\n",
    "\n",
    "    24. PH-S       (output pH)\n",
    "\n",
    "    25. DBO-S      (output Biological demand of oxygen)\n",
    "\n",
    "    26. DQO-S      (output chemical demand of oxygen)\n",
    "\n",
    "    27. SS-S       (output suspended solids)\n",
    "\n",
    "    28. SSV-S      (output volatile supended solids)\n",
    "\n",
    "    29. SED-S      (output sediments)\n",
    "\n",
    "    30. COND-S     (output conductivity)\n",
    "\n",
    "- **Performance Indicators**\n",
    "\n",
    "    31. RD-DBO-P   (performance input Biological demand of oxygen in primary settler)\n",
    "\n",
    "    32. RD-SS-P    (performance input suspended solids to primary settler)\n",
    "\n",
    "    33. RD-SED-P   (performance input sediments to primary settler)\n",
    "\n",
    "    34. RD-DBO-S   (performance input Biological demand of oxygen to secondary settler)\n",
    "\n",
    "    35. RD-DQO-S   (performance input chemical demand of oxygen to secondary settler)\n",
    "\n",
    "    36. RD-DBO-G   (global performance input Biological demand of oxygen)\n",
    "\n",
    "    37. RD-DQO-G   (global performance input chemical demand of oxygen)\n",
    "\n",
    "    38. RD-SS-G    (global performance input suspended solids)\n",
    "\n",
    "    39. RD-SED-G   (global performance input sediments)"
   ]
  },
  {
   "cell_type": "markdown",
   "metadata": {},
   "source": [
    "### **Communicating Data Science Insights: Interactive Plots and Dashboards**\n",
    "\n",
    "---\n",
    "\n",
    "### **Overview**\n",
    "Communicating data science insights effectively requires interactive tools and dashboards that make it easier to explore data and share findings with stakeholders. Tools like **Plotly** and **Dash** enable interactive data visualizations, while **Microsoft Power BI** provides a business-ready solution for building visual reports.\n",
    "\n",
    "For the wastewater treatment process, interactive plots and dashboards can help:\n",
    "- Explore trends in input and output parameters dynamically.\n",
    "- Identify relationships and anomalies in real time.\n",
    "- Provide actionable insights into treatment efficiency.\n",
    "\n",
    "\n",
    "### **Key Components of Communication**\n",
    "\n",
    "\n",
    "#### **1. Clarity and Simplicity**\n",
    "   - **Purpose**: Ensure that insights are easily understood by a diverse audience, including non-technical stakeholders.\n",
    "   - **Best Practices**:\n",
    "     - Avoid jargon and overly technical terms when presenting results.\n",
    "     - Use concise labels, titles, and annotations in visualizations.\n",
    "   - **Examples**:\n",
    "     - Clearly label axes in charts (e.g., \"Input pH (\\( PH_E \\))\" instead of just \"pH\").\n",
    "     - Summarize complex statistical metrics with intuitive explanations.\n",
    "\n",
    "\n",
    "#### **2. Visual Storytelling**\n",
    "   - **Purpose**: Use visuals to tell a compelling story that emphasizes the key findings and guides the audience through the analysis.\n",
    "   - **Best Practices**:\n",
    "     - Highlight trends, patterns, and key points in visualizations.\n",
    "     - Use consistent color schemes and chart styles for readability.\n",
    "   - **Examples**:\n",
    "     - Use a line plot to show daily trends and highlight spikes with annotations.\n",
    "     - Create heatmaps to visually communicate correlations between variables.\n",
    "\n",
    "\n",
    "#### **3. Interactivity**\n",
    "   - **Purpose**: Allow stakeholders to explore data and insights dynamically, enabling deeper understanding and engagement.\n",
    "   - **Best Practices**:\n",
    "     - Include interactive filters, tooltips, and sliders in visualizations and dashboards.\n",
    "     - Provide multiple views for drilling down into specific data subsets.\n",
    "   - **Examples**:\n",
    "     - Use dropdown menus in a dashboard to select variables for analysis.\n",
    "     - Create tooltips in scatter plots to display additional information about each data point.\n",
    "\n",
    "\n",
    "#### **4. Relevance and Audience-Focus**\n",
    "   - **Purpose**: Tailor the communication style and content to the audience’s needs and decision-making requirements.\n",
    "   - **Best Practices**:\n",
    "     - Focus on the metrics and visuals most relevant to the problem at hand.\n",
    "     - Provide actionable recommendations based on insights.\n",
    "   - **Examples**:\n",
    "     - For plant operators: Focus on daily trends and compliance metrics.\n",
    "     - For managers: Emphasize high-level summaries and performance metrics.\n",
    "\n",
    "\n",
    "#### **5. Accuracy and Transparency**\n",
    "   - **Purpose**: Ensure the data, methods, and results are accurate and presented with full transparency to build trust.\n",
    "   - **Best Practices**:\n",
    "     - Double-check calculations and visualizations for correctness.\n",
    "     - Clearly explain assumptions, limitations, and potential biases in the analysis.\n",
    "   - **Examples**:\n",
    "     - Include a note in dashboards about missing data or outliers.\n",
    "     - Highlight confidence intervals or uncertainty in model predictions.\n",
    "\n",
    "\n",
    "#### **6. Call to Action**\n",
    "   - **Purpose**: Conclude with actionable insights and clear next steps for the audience to act on.\n",
    "   - **Best Practices**:\n",
    "     - End presentations with specific recommendations based on findings.\n",
    "     - Provide tools (e.g., dashboards or reports) that empower stakeholders to act independently.\n",
    "   - **Examples**:\n",
    "     - Recommend process adjustments to improve compliance rates.\n",
    "     - Share a dashboard with filters for exploring scenarios interactively.\n",
    "\n",
    "\n",
    "### **How Communication Enhances Understanding**\n",
    "- **Improves Stakeholder Engagement**:\n",
    "  - Clear and interactive tools enable stakeholders to explore and understand data more effectively.\n",
    "- **Supports Decision-Making**:\n",
    "  - Relevant insights presented transparently help in making informed and timely decisions.\n",
    "- **Drives Action**:\n",
    "  - Visual storytelling and actionable recommendations inspire proactive improvements and optimizations.\n",
    "\n"
   ]
  },
  {
   "cell_type": "markdown",
   "metadata": {},
   "source": [
    "\n",
    "---\n",
    "\n",
    "## **Exercise: Interactive Plots with Plotly**\n",
    "\n"
   ]
  },
  {
   "cell_type": "code",
   "execution_count": null,
   "metadata": {},
   "outputs": [
    {
     "data": {
      "text/html": [
       "<div>\n",
       "<style scoped>\n",
       "    .dataframe tbody tr th:only-of-type {\n",
       "        vertical-align: middle;\n",
       "    }\n",
       "\n",
       "    .dataframe tbody tr th {\n",
       "        vertical-align: top;\n",
       "    }\n",
       "\n",
       "    .dataframe thead th {\n",
       "        text-align: right;\n",
       "    }\n",
       "</style>\n",
       "<table border=\"1\" class=\"dataframe\">\n",
       "  <thead>\n",
       "    <tr style=\"text-align: right;\">\n",
       "      <th></th>\n",
       "      <th>DATE</th>\n",
       "      <th>DAY-OF-WEEK</th>\n",
       "      <th>Q-E</th>\n",
       "      <th>ZN-E</th>\n",
       "      <th>PH-E</th>\n",
       "      <th>DBO-E</th>\n",
       "      <th>DQO-E</th>\n",
       "      <th>SS-E</th>\n",
       "      <th>SSV-E</th>\n",
       "      <th>SED-E</th>\n",
       "      <th>...</th>\n",
       "      <th>RD-DQO-G</th>\n",
       "      <th>RD-SS-G</th>\n",
       "      <th>RD-SED-G</th>\n",
       "      <th>PH-S</th>\n",
       "      <th>DBO-S</th>\n",
       "      <th>DQO-S</th>\n",
       "      <th>SS-S</th>\n",
       "      <th>SSV-S</th>\n",
       "      <th>SED-S</th>\n",
       "      <th>COND-S</th>\n",
       "    </tr>\n",
       "  </thead>\n",
       "  <tbody>\n",
       "    <tr>\n",
       "      <th>0</th>\n",
       "      <td>1990-01-01</td>\n",
       "      <td>Monday</td>\n",
       "      <td>41230.0</td>\n",
       "      <td>0.35</td>\n",
       "      <td>7.6</td>\n",
       "      <td>120.0</td>\n",
       "      <td>344.0</td>\n",
       "      <td>136.0</td>\n",
       "      <td>54.4</td>\n",
       "      <td>4.5</td>\n",
       "      <td>...</td>\n",
       "      <td>71.8</td>\n",
       "      <td>87.5</td>\n",
       "      <td>99.4</td>\n",
       "      <td>7.5</td>\n",
       "      <td>16.0</td>\n",
       "      <td>97.0</td>\n",
       "      <td>17.0</td>\n",
       "      <td>51.8</td>\n",
       "      <td>0.03</td>\n",
       "      <td>903.0</td>\n",
       "    </tr>\n",
       "    <tr>\n",
       "      <th>1</th>\n",
       "      <td>1990-01-02</td>\n",
       "      <td>Tuesday</td>\n",
       "      <td>37386.0</td>\n",
       "      <td>1.40</td>\n",
       "      <td>7.9</td>\n",
       "      <td>165.0</td>\n",
       "      <td>470.0</td>\n",
       "      <td>170.0</td>\n",
       "      <td>76.5</td>\n",
       "      <td>4.0</td>\n",
       "      <td>...</td>\n",
       "      <td>79.4</td>\n",
       "      <td>89.4</td>\n",
       "      <td>100.0</td>\n",
       "      <td>7.6</td>\n",
       "      <td>22.0</td>\n",
       "      <td>97.0</td>\n",
       "      <td>18.0</td>\n",
       "      <td>80.6</td>\n",
       "      <td>0.00</td>\n",
       "      <td>1481.0</td>\n",
       "    </tr>\n",
       "    <tr>\n",
       "      <th>2</th>\n",
       "      <td>1990-01-03</td>\n",
       "      <td>Wednesday</td>\n",
       "      <td>34535.0</td>\n",
       "      <td>1.00</td>\n",
       "      <td>7.8</td>\n",
       "      <td>232.0</td>\n",
       "      <td>518.0</td>\n",
       "      <td>220.0</td>\n",
       "      <td>65.5</td>\n",
       "      <td>5.5</td>\n",
       "      <td>...</td>\n",
       "      <td>71.8</td>\n",
       "      <td>85.9</td>\n",
       "      <td>99.8</td>\n",
       "      <td>7.5</td>\n",
       "      <td>29.0</td>\n",
       "      <td>146.0</td>\n",
       "      <td>31.0</td>\n",
       "      <td>77.4</td>\n",
       "      <td>0.01</td>\n",
       "      <td>1492.0</td>\n",
       "    </tr>\n",
       "    <tr>\n",
       "      <th>3</th>\n",
       "      <td>1990-01-04</td>\n",
       "      <td>Thursday</td>\n",
       "      <td>32527.0</td>\n",
       "      <td>3.00</td>\n",
       "      <td>7.8</td>\n",
       "      <td>187.0</td>\n",
       "      <td>460.0</td>\n",
       "      <td>180.0</td>\n",
       "      <td>67.8</td>\n",
       "      <td>5.2</td>\n",
       "      <td>...</td>\n",
       "      <td>77.2</td>\n",
       "      <td>83.3</td>\n",
       "      <td>100.0</td>\n",
       "      <td>7.5</td>\n",
       "      <td>28.0</td>\n",
       "      <td>105.0</td>\n",
       "      <td>30.0</td>\n",
       "      <td>82.0</td>\n",
       "      <td>0.00</td>\n",
       "      <td>1590.0</td>\n",
       "    </tr>\n",
       "    <tr>\n",
       "      <th>4</th>\n",
       "      <td>1990-01-07</td>\n",
       "      <td>Sunday</td>\n",
       "      <td>27760.0</td>\n",
       "      <td>1.20</td>\n",
       "      <td>7.6</td>\n",
       "      <td>199.0</td>\n",
       "      <td>466.0</td>\n",
       "      <td>186.0</td>\n",
       "      <td>74.2</td>\n",
       "      <td>4.5</td>\n",
       "      <td>...</td>\n",
       "      <td>73.8</td>\n",
       "      <td>86.6</td>\n",
       "      <td>99.6</td>\n",
       "      <td>7.4</td>\n",
       "      <td>21.0</td>\n",
       "      <td>122.0</td>\n",
       "      <td>25.0</td>\n",
       "      <td>84.0</td>\n",
       "      <td>0.02</td>\n",
       "      <td>1411.0</td>\n",
       "    </tr>\n",
       "  </tbody>\n",
       "</table>\n",
       "<p>5 rows × 40 columns</p>\n",
       "</div>"
      ],
      "text/plain": [
       "         DATE DAY-OF-WEEK      Q-E  ZN-E  PH-E  DBO-E  DQO-E   SS-E  SSV-E  \\\n",
       "0  1990-01-01      Monday  41230.0  0.35   7.6  120.0  344.0  136.0   54.4   \n",
       "1  1990-01-02     Tuesday  37386.0  1.40   7.9  165.0  470.0  170.0   76.5   \n",
       "2  1990-01-03   Wednesday  34535.0  1.00   7.8  232.0  518.0  220.0   65.5   \n",
       "3  1990-01-04    Thursday  32527.0  3.00   7.8  187.0  460.0  180.0   67.8   \n",
       "4  1990-01-07      Sunday  27760.0  1.20   7.6  199.0  466.0  186.0   74.2   \n",
       "\n",
       "   SED-E  ...  RD-DQO-G  RD-SS-G  RD-SED-G  PH-S  DBO-S  DQO-S  SS-S  SSV-S  \\\n",
       "0    4.5  ...      71.8     87.5      99.4   7.5   16.0   97.0  17.0   51.8   \n",
       "1    4.0  ...      79.4     89.4     100.0   7.6   22.0   97.0  18.0   80.6   \n",
       "2    5.5  ...      71.8     85.9      99.8   7.5   29.0  146.0  31.0   77.4   \n",
       "3    5.2  ...      77.2     83.3     100.0   7.5   28.0  105.0  30.0   82.0   \n",
       "4    4.5  ...      73.8     86.6      99.6   7.4   21.0  122.0  25.0   84.0   \n",
       "\n",
       "   SED-S  COND-S  \n",
       "0   0.03   903.0  \n",
       "1   0.00  1481.0  \n",
       "2   0.01  1492.0  \n",
       "3   0.00  1590.0  \n",
       "4   0.02  1411.0  \n",
       "\n",
       "[5 rows x 40 columns]"
      ]
     },
     "execution_count": 2,
     "metadata": {},
     "output_type": "execute_result"
    }
   ],
   "source": [
    "# Import necessary packages\n",
    "import pandas as pd\n",
    "import plotly.express as px\n",
    "\n",
    "# Load the dataset\n",
    "df = pd.read_csv('data.csv')\n",
    "\n",
    "# Display the first few rows of the dataset\n",
    "df.head()\n"
   ]
  },
  {
   "cell_type": "markdown",
   "metadata": {},
   "source": [
    "\n",
    "### **1. Line Plot: Trends in Output pH (\\( PH\\_S \\))**\n",
    "#### **Tasks**\n",
    "1. Create a **line plot** of \\( PH\\_S \\) over time using Plotly.\n",
    "2. Add a title, axis labels, and tooltips showing the date and \\( PH\\_S \\) value.\n",
    "3. Highlight any significant dips or spikes in the trend.\n",
    "\n"
   ]
  },
  {
   "cell_type": "code",
   "execution_count": null,
   "metadata": {},
   "outputs": [
    {
     "data": {
      "application/vnd.plotly.v1+json": {
       "config": {
        "plotlyServerURL": "https://plot.ly"
       },
       "data": [
        {
         "hovertemplate": "DATE=%{x}<br>PH-S=%{y}<extra></extra>",
         "legendgroup": "",
         "line": {
          "color": "#636efa",
          "dash": "solid"
         },
         "marker": {
          "symbol": "circle"
         },
         "mode": "lines",
         "name": "",
         "orientation": "v",
         "showlegend": false,
         "type": "scatter",
         "x": [
          "1990-01-01",
          "1990-01-02",
          "1990-01-03",
          "1990-01-04",
          "1990-01-07",
          "1990-01-08",
          "1990-01-09",
          "1990-01-10",
          "1990-01-11",
          "1990-01-12",
          "1990-01-14",
          "1990-01-15",
          "1990-01-16",
          "1990-01-17",
          "1990-01-18",
          "1990-01-19",
          "1990-01-21",
          "1990-01-22",
          "1990-01-23",
          "1990-01-24",
          "1990-01-25",
          "1990-01-26",
          "1990-01-28",
          "1990-01-29",
          "1990-01-30",
          "1990-01-31",
          "1990-02-01",
          "1990-02-02",
          "1990-02-04",
          "1990-02-05",
          "1990-02-06",
          "1990-02-07",
          "1990-02-08",
          "1990-02-09",
          "1990-02-11",
          "1990-02-12",
          "1990-02-13",
          "1990-02-14",
          "1990-02-15",
          "1990-02-16",
          "1990-02-18",
          "1990-02-19",
          "1990-02-21",
          "1990-02-22",
          "1990-02-23",
          "1990-02-25",
          "1990-02-26",
          "1990-02-27",
          "1990-02-28",
          "1990-03-01",
          "1990-03-02",
          "1990-03-04",
          "1990-03-05",
          "1990-03-06",
          "1990-03-07",
          "1990-03-08",
          "1990-03-09",
          "1990-03-11",
          "1990-03-12",
          "1990-03-13",
          "1990-03-14",
          "1990-03-15",
          "1990-03-16",
          "1990-03-18",
          "1990-03-19",
          "1990-03-20",
          "1990-03-21",
          "1990-03-22",
          "1990-03-23",
          "1990-03-25",
          "1990-03-26",
          "1990-03-27",
          "1990-03-28",
          "1990-03-29",
          "1990-03-30",
          "1990-04-01",
          "1990-04-02",
          "1990-04-03",
          "1990-04-04",
          "1990-04-05",
          "1990-04-06",
          "1990-04-08",
          "1990-04-09",
          "1990-04-10",
          "1990-04-11",
          "1990-04-13",
          "1990-04-16",
          "1990-04-17",
          "1990-04-18",
          "1990-04-19",
          "1990-04-20",
          "1990-04-22",
          "1990-04-23",
          "1990-04-24",
          "1990-04-25",
          "1990-04-26",
          "1990-04-27",
          "1990-04-29",
          "1990-05-01",
          "1990-05-02",
          "1990-05-03",
          "1990-05-04",
          "1990-05-06",
          "1990-05-07",
          "1990-05-08",
          "1990-05-09",
          "1990-05-10",
          "1990-05-11",
          "1990-05-13",
          "1990-05-14",
          "1990-05-15",
          "1990-05-16",
          "1990-05-17",
          "1990-05-18",
          "1990-05-20",
          "1990-05-21",
          "1990-05-22",
          "1990-05-23",
          "1990-05-24",
          "1990-05-25",
          "1990-05-27",
          "1990-05-28",
          "1990-05-29",
          "1990-05-30",
          "1990-06-01",
          "1990-06-03",
          "1990-06-04",
          "1990-06-05",
          "1990-06-06",
          "1990-06-07",
          "1990-06-08",
          "1990-06-10",
          "1990-06-11",
          "1990-06-12",
          "1990-06-13",
          "1990-06-14",
          "1990-06-15",
          "1990-06-17",
          "1990-06-18",
          "1990-06-19",
          "1990-06-20",
          "1990-06-21",
          "1990-06-22",
          "1990-06-24",
          "1990-06-25",
          "1990-06-26",
          "1990-06-27",
          "1990-06-28",
          "1990-06-29",
          "1990-07-01",
          "1990-07-02",
          "1990-07-03",
          "1990-07-04",
          "1990-07-05",
          "1990-07-06",
          "1990-07-08",
          "1990-07-09",
          "1990-07-10",
          "1990-07-11",
          "1990-07-12",
          "1990-07-13",
          "1990-07-15",
          "1990-07-16",
          "1990-07-17",
          "1990-07-18",
          "1990-07-19",
          "1990-07-20",
          "1990-07-22",
          "1990-07-23",
          "1990-07-24",
          "1990-07-25",
          "1990-07-26",
          "1990-07-27",
          "1990-07-29",
          "1990-07-30",
          "1990-07-31",
          "1990-08-01",
          "1990-08-02",
          "1990-08-03",
          "1990-08-05",
          "1990-08-06",
          "1990-08-07",
          "1990-08-08",
          "1990-08-09",
          "1990-08-10",
          "1990-08-12",
          "1990-08-13",
          "1990-08-15",
          "1990-08-16",
          "1990-08-17",
          "1990-08-19",
          "1990-08-20",
          "1990-08-21",
          "1990-08-22",
          "1990-08-23",
          "1990-08-24",
          "1990-08-25",
          "1990-08-27",
          "1990-08-28",
          "1990-08-29",
          "1990-08-30",
          "1990-08-31",
          "1990-09-02",
          "1990-09-03",
          "1990-09-04",
          "1990-09-05",
          "1990-09-06",
          "1990-09-07",
          "1990-09-09",
          "1990-09-11",
          "1990-09-12",
          "1990-09-13",
          "1990-09-14",
          "1990-09-16",
          "1990-09-17",
          "1990-09-18",
          "1990-09-19",
          "1990-09-20",
          "1990-09-21",
          "1990-09-23",
          "1990-09-24",
          "1990-09-25",
          "1990-09-26",
          "1990-09-27",
          "1990-09-28",
          "1990-09-30",
          "1990-10-01",
          "1990-10-02",
          "1990-10-03",
          "1990-10-04",
          "1990-10-05",
          "1990-10-07",
          "1990-10-08",
          "1990-10-09",
          "1990-10-10",
          "1990-10-12",
          "1990-10-14",
          "1990-10-15",
          "1990-10-16",
          "1990-10-17",
          "1990-10-18",
          "1990-10-19",
          "1990-10-21",
          "1990-10-22",
          "1990-10-23",
          "1990-10-24",
          "1990-10-25",
          "1990-10-26",
          "1990-10-28",
          "1990-10-29",
          "1990-10-30",
          "1990-11-01",
          "1990-11-02",
          "1990-11-04",
          "1990-11-05",
          "1990-11-06",
          "1990-11-07",
          "1990-11-08",
          "1990-11-09",
          "1990-11-11",
          "1990-11-12",
          "1990-11-13",
          "1990-11-14",
          "1990-11-15",
          "1990-11-16",
          "1990-11-18",
          "1990-11-19",
          "1990-11-20",
          "1990-11-21",
          "1990-11-22",
          "1990-11-23",
          "1990-11-25",
          "1990-11-26",
          "1990-11-27",
          "1990-11-28",
          "1990-11-29",
          "1990-11-30",
          "1990-12-02",
          "1990-12-03",
          "1990-12-04",
          "1990-12-06",
          "1990-12-07",
          "1990-12-09",
          "1990-12-10",
          "1990-12-11",
          "1990-12-12",
          "1990-12-13",
          "1990-12-14",
          "1990-12-16",
          "1990-12-17",
          "1990-12-18",
          "1990-12-19",
          "1990-12-20",
          "1990-12-21",
          "1990-12-23",
          "1990-12-24",
          "1990-12-26",
          "1990-12-27",
          "1990-12-28",
          "1990-12-30",
          "1991-01-01",
          "1991-01-02",
          "1991-01-03",
          "1991-01-04",
          "1991-01-06",
          "1991-01-07",
          "1991-01-08",
          "1991-01-09",
          "1991-01-10",
          "1991-01-11",
          "1991-01-13",
          "1991-01-14",
          "1991-01-15",
          "1991-01-16",
          "1991-01-17",
          "1991-01-18",
          "1991-01-20",
          "1991-01-21",
          "1991-01-22",
          "1991-01-23",
          "1991-01-24",
          "1991-01-25",
          "1991-01-27",
          "1991-01-28",
          "1991-01-29",
          "1991-01-30",
          "1991-01-31",
          "1991-02-01",
          "1991-02-03",
          "1991-02-04",
          "1991-02-05",
          "1991-02-06",
          "1991-02-07",
          "1991-02-08",
          "1991-02-10",
          "1991-02-11",
          "1991-02-12",
          "1991-02-13",
          "1991-02-14",
          "1991-02-15",
          "1991-02-17",
          "1991-02-18",
          "1991-02-19",
          "1991-02-21",
          "1991-02-22",
          "1991-02-24",
          "1991-02-25",
          "1991-02-26",
          "1991-02-27",
          "1991-02-28",
          "1991-03-01",
          "1991-03-03",
          "1991-03-04",
          "1991-03-05",
          "1991-03-06",
          "1991-03-07",
          "1991-03-08",
          "1991-03-10",
          "1991-03-11",
          "1991-03-12",
          "1991-03-13",
          "1991-03-14",
          "1991-03-15",
          "1991-03-17",
          "1991-03-18",
          "1991-03-19",
          "1991-03-20",
          "1991-03-21",
          "1991-03-22",
          "1991-03-24",
          "1991-03-25",
          "1991-03-26",
          "1991-03-27",
          "1991-03-29",
          "1991-03-31",
          "1991-04-01",
          "1991-04-02",
          "1991-04-03",
          "1991-04-04",
          "1991-04-05",
          "1991-04-07",
          "1991-04-08",
          "1991-04-09",
          "1991-04-10",
          "1991-04-11",
          "1991-04-12",
          "1991-04-14",
          "1991-04-15",
          "1991-04-16",
          "1991-04-17",
          "1991-04-18",
          "1991-04-19",
          "1991-04-21",
          "1991-04-22",
          "1991-04-23",
          "1991-04-24",
          "1991-04-25",
          "1991-04-26",
          "1991-04-28",
          "1991-04-29",
          "1991-05-01",
          "1991-05-02",
          "1991-05-03",
          "1991-05-05",
          "1991-05-06",
          "1991-05-07",
          "1991-05-08",
          "1991-05-09",
          "1991-05-10",
          "1991-05-12",
          "1991-05-13",
          "1991-05-14",
          "1991-05-15",
          "1991-05-16",
          "1991-05-17",
          "1991-05-19",
          "1991-05-20",
          "1991-05-21",
          "1991-05-22",
          "1991-05-23",
          "1991-05-24",
          "1991-05-26",
          "1991-05-27",
          "1991-05-28",
          "1991-05-29",
          "1991-05-30",
          "1991-05-31",
          "1991-06-02",
          "1991-06-03",
          "1991-06-04",
          "1991-06-05",
          "1991-06-06",
          "1991-06-07",
          "1991-06-09",
          "1991-06-10",
          "1991-06-12",
          "1991-06-13",
          "1991-06-14",
          "1991-06-16",
          "1991-06-17",
          "1991-06-18",
          "1991-06-19",
          "1991-06-20",
          "1991-06-21",
          "1991-06-24",
          "1991-06-25",
          "1991-06-26",
          "1991-06-27",
          "1991-06-28",
          "1991-06-30",
          "1991-07-01",
          "1991-07-02",
          "1991-07-03",
          "1991-07-04",
          "1991-07-05",
          "1991-07-07",
          "1991-07-08",
          "1991-07-09",
          "1991-07-10",
          "1991-07-11",
          "1991-07-12",
          "1991-07-14",
          "1991-07-15",
          "1991-07-16",
          "1991-07-17",
          "1991-07-18",
          "1991-07-19",
          "1991-07-21",
          "1991-07-22",
          "1991-07-23",
          "1991-07-24",
          "1991-07-25",
          "1991-07-26",
          "1991-07-28",
          "1991-07-29",
          "1991-07-30",
          "1991-07-31",
          "1991-08-01",
          "1991-08-02",
          "1991-08-04",
          "1991-08-05",
          "1991-08-06",
          "1991-08-07",
          "1991-08-08",
          "1991-08-09",
          "1991-08-11",
          "1991-08-12",
          "1991-08-13",
          "1991-08-14",
          "1991-08-16",
          "1991-08-18",
          "1991-08-19",
          "1991-08-20",
          "1991-08-21",
          "1991-08-22",
          "1991-08-23",
          "1991-08-25",
          "1991-08-26",
          "1991-08-27",
          "1991-08-28",
          "1991-08-29",
          "1991-08-30",
          "1991-10-01",
          "1991-10-02",
          "1991-10-03",
          "1991-10-04",
          "1991-10-05",
          "1991-10-06",
          "1991-10-08",
          "1991-10-09",
          "1991-10-11",
          "1991-10-12",
          "1991-10-13",
          "1991-10-15",
          "1991-10-16",
          "1991-10-17",
          "1991-10-18",
          "1991-10-19",
          "1991-10-20",
          "1991-10-22",
          "1991-10-23",
          "1991-10-24",
          "1991-10-25",
          "1991-10-26",
          "1991-10-27",
          "1991-10-29",
          "1991-10-30"
         ],
         "xaxis": "x",
         "y": [
          7.5,
          7.6,
          7.5,
          7.5,
          7.4,
          7.5,
          7.5,
          7.5,
          7.5,
          7.5,
          7.4,
          7.4,
          7.5,
          7.5,
          7.4,
          7.5,
          7.4,
          7.4,
          7.6,
          7.5,
          7.4,
          7.3,
          7.3,
          7.5,
          7.5,
          7.6,
          7.5,
          7.5,
          7.4,
          7.7,
          7.5,
          7.5,
          7.5,
          7.6,
          7.5,
          7.5,
          7.6,
          7.5,
          7.4,
          7.6,
          7.6,
          7.6,
          7.5,
          7.4,
          7.7,
          7.5,
          7.6,
          7.6,
          7.6,
          7.3,
          7.5,
          7.6,
          7.6,
          7.6,
          7.5,
          7.5,
          7.5,
          7.5,
          7.6,
          7.6,
          7.4,
          7.5,
          7.6,
          7.5,
          7.6,
          7.3,
          7.5,
          7.5,
          7.5,
          7.1,
          7.6,
          7.6,
          7.9,
          7.8,
          7.8,
          7.6,
          7.7,
          7.7,
          7.5,
          7.7,
          7.8,
          7.7,
          7.6,
          7.8,
          7.7,
          7.4,
          7.5,
          7.6,
          7.6,
          7.7,
          7.8,
          7.3,
          7.7,
          7.6,
          7.7,
          7.6,
          7.7,
          7.4,
          7.5,
          7.6,
          7.7,
          7.6,
          7.4,
          7.8,
          7.8,
          7.5,
          7.7,
          7.6,
          7.7,
          7.7,
          7.7,
          7.6,
          7.8,
          7.7,
          7.7,
          7.8,
          7.6,
          7.8,
          7.7,
          7.9,
          7.7,
          7.6,
          7.9,
          8,
          7.7,
          7.8,
          7.9,
          7.8,
          7.9,
          7.6,
          7.5,
          8,
          7.9,
          7.8,
          7.6,
          7.6,
          7.8,
          7.3,
          7.7,
          7.7,
          7.7,
          7.8,
          7.7,
          7.7,
          7.9,
          8,
          7.8,
          8,
          7.9,
          7.4,
          8,
          7.9,
          8.1,
          7.9,
          7.8,
          7.6,
          7.6,
          7.8,
          7.9,
          7.8,
          7.8,
          7.8,
          8,
          8,
          7.9,
          7.9,
          8,
          7.9,
          7.6,
          7.7,
          7.9,
          7.8,
          7.8,
          7.5,
          8.2,
          7.6,
          7.5,
          7.6,
          8,
          8.1,
          8,
          8,
          8,
          8,
          7.9,
          7.9,
          8,
          8,
          7.9,
          8.1,
          7.9,
          7.7,
          7.6,
          7.7,
          7.7,
          7.4,
          7.9,
          7.9,
          7.9,
          7.7,
          7.8,
          8.3,
          7.6,
          7.8,
          7.5,
          7.9,
          7.8,
          7.7,
          7.7,
          7.7,
          7.9,
          7.8,
          7.8,
          7.7,
          7.7,
          7.7,
          7.7,
          7.8,
          7.6,
          7.9,
          7.9,
          7.9,
          7.9,
          7.9,
          7.6,
          7.9,
          7.9,
          7.9,
          7.7,
          7.7,
          7.8,
          7.5,
          7.8,
          7.7,
          7.9,
          7.8,
          8,
          7.9,
          8,
          7.8,
          7.9,
          7.9,
          7.8,
          7.9,
          8,
          7.9,
          8,
          7.9,
          7.8,
          7.8,
          7.9,
          7.8,
          7.6,
          7.8,
          7.8,
          7.8,
          8,
          7.8,
          7.7,
          7.9,
          7.8,
          7.9,
          7.8,
          7.9,
          7.6,
          7.7,
          7.7,
          7.8,
          7.9,
          7.8,
          7.9,
          7.7,
          7.7,
          7.8,
          7.8,
          7.7,
          7.8,
          7.6,
          7.8,
          7.7,
          7.8,
          7.8,
          7.7,
          7.9,
          null,
          7.7,
          7.8,
          7.6,
          7.9,
          7.7,
          7.8,
          7.8,
          7.8,
          7.8,
          7.7,
          7.6,
          7.7,
          7.8,
          7.5,
          7.8,
          7.9,
          7.8,
          7.8,
          7.7,
          7.8,
          7.8,
          7.8,
          7.7,
          7.8,
          7.7,
          7.7,
          7.8,
          7.7,
          7.8,
          7.7,
          7.7,
          7.7,
          7.8,
          7.7,
          7.8,
          7.7,
          7.4,
          7.7,
          7.9,
          7.8,
          7.9,
          7.8,
          8,
          7.6,
          7.7,
          7.7,
          7.8,
          7.8,
          7.7,
          9.7,
          7.8,
          7.8,
          7.7,
          7.8,
          7.8,
          7.6,
          7.7,
          8,
          7.8,
          7.6,
          7.7,
          7.7,
          7.8,
          7.7,
          7.8,
          7.7,
          7.7,
          7.7,
          7.7,
          7.8,
          7.7,
          7.7,
          7.7,
          7.7,
          7.8,
          7.8,
          7.8,
          7.8,
          7.7,
          7.6,
          7.7,
          7.8,
          7.8,
          7.6,
          7.6,
          7.7,
          7.7,
          7.8,
          7.4,
          7.6,
          7.7,
          7.7,
          7.8,
          7.9,
          7.7,
          7.6,
          7.7,
          7.7,
          7.6,
          7.8,
          7.5,
          7.6,
          7.8,
          7.8,
          7.8,
          7.7,
          7.7,
          7.7,
          7.7,
          7.6,
          7.8,
          7.7,
          7,
          7.5,
          7.7,
          7.6,
          7.7,
          7.6,
          7.6,
          7.7,
          7.8,
          7.4,
          7.4,
          7.2,
          7.5,
          7.7,
          7.8,
          7.9,
          7.7,
          7.7,
          7.7,
          7.7,
          7.7,
          7.7,
          7.7,
          7.6,
          7.6,
          7.7,
          7.6,
          7.8,
          7.7,
          7.6,
          7.6,
          7.7,
          7.7,
          7.8,
          7.7,
          7.5,
          7.6,
          7.7,
          7.7,
          7.7,
          7.6,
          7.6,
          7.7,
          7.7,
          7.6,
          7.6,
          7.8,
          7.6,
          7.6,
          7.7,
          7.7,
          7.8,
          7.8,
          7.7,
          7.7,
          7.4,
          7.6,
          7.4,
          7.4,
          8,
          7.4,
          7.7,
          7.6,
          7.7,
          7.7,
          7.6,
          7.8,
          7.8,
          7.6,
          7.5,
          7.6,
          7.6,
          7.6,
          7.5,
          7.5,
          7.6,
          7.7,
          7.5,
          7.6,
          7.7,
          7.7,
          7.8,
          7.5,
          7.8,
          8,
          7.8,
          7.9,
          7.8,
          7.6,
          7.7,
          7.8,
          7.6,
          7.9,
          7.5,
          7.9,
          7.9,
          7.8,
          7.9,
          7.9,
          7.7,
          7.9,
          7.9,
          7.7,
          7.7,
          7.3,
          7.8,
          7.8,
          7.7,
          7.8,
          7.8,
          7.9,
          7.6,
          7.8,
          7.7,
          7.8,
          7.7,
          7.8,
          7.8,
          7.8,
          7.8,
          7.9,
          7.9,
          7.8,
          7.9,
          7.8,
          7.7,
          7.9,
          7.6,
          7.7,
          7.8
         ],
         "yaxis": "y"
        }
       ],
       "layout": {
        "legend": {
         "tracegroupgap": 0
        },
        "template": {
         "data": {
          "bar": [
           {
            "error_x": {
             "color": "#2a3f5f"
            },
            "error_y": {
             "color": "#2a3f5f"
            },
            "marker": {
             "line": {
              "color": "#E5ECF6",
              "width": 0.5
             },
             "pattern": {
              "fillmode": "overlay",
              "size": 10,
              "solidity": 0.2
             }
            },
            "type": "bar"
           }
          ],
          "barpolar": [
           {
            "marker": {
             "line": {
              "color": "#E5ECF6",
              "width": 0.5
             },
             "pattern": {
              "fillmode": "overlay",
              "size": 10,
              "solidity": 0.2
             }
            },
            "type": "barpolar"
           }
          ],
          "carpet": [
           {
            "aaxis": {
             "endlinecolor": "#2a3f5f",
             "gridcolor": "white",
             "linecolor": "white",
             "minorgridcolor": "white",
             "startlinecolor": "#2a3f5f"
            },
            "baxis": {
             "endlinecolor": "#2a3f5f",
             "gridcolor": "white",
             "linecolor": "white",
             "minorgridcolor": "white",
             "startlinecolor": "#2a3f5f"
            },
            "type": "carpet"
           }
          ],
          "choropleth": [
           {
            "colorbar": {
             "outlinewidth": 0,
             "ticks": ""
            },
            "type": "choropleth"
           }
          ],
          "contour": [
           {
            "colorbar": {
             "outlinewidth": 0,
             "ticks": ""
            },
            "colorscale": [
             [
              0,
              "#0d0887"
             ],
             [
              0.1111111111111111,
              "#46039f"
             ],
             [
              0.2222222222222222,
              "#7201a8"
             ],
             [
              0.3333333333333333,
              "#9c179e"
             ],
             [
              0.4444444444444444,
              "#bd3786"
             ],
             [
              0.5555555555555556,
              "#d8576b"
             ],
             [
              0.6666666666666666,
              "#ed7953"
             ],
             [
              0.7777777777777778,
              "#fb9f3a"
             ],
             [
              0.8888888888888888,
              "#fdca26"
             ],
             [
              1,
              "#f0f921"
             ]
            ],
            "type": "contour"
           }
          ],
          "contourcarpet": [
           {
            "colorbar": {
             "outlinewidth": 0,
             "ticks": ""
            },
            "type": "contourcarpet"
           }
          ],
          "heatmap": [
           {
            "colorbar": {
             "outlinewidth": 0,
             "ticks": ""
            },
            "colorscale": [
             [
              0,
              "#0d0887"
             ],
             [
              0.1111111111111111,
              "#46039f"
             ],
             [
              0.2222222222222222,
              "#7201a8"
             ],
             [
              0.3333333333333333,
              "#9c179e"
             ],
             [
              0.4444444444444444,
              "#bd3786"
             ],
             [
              0.5555555555555556,
              "#d8576b"
             ],
             [
              0.6666666666666666,
              "#ed7953"
             ],
             [
              0.7777777777777778,
              "#fb9f3a"
             ],
             [
              0.8888888888888888,
              "#fdca26"
             ],
             [
              1,
              "#f0f921"
             ]
            ],
            "type": "heatmap"
           }
          ],
          "heatmapgl": [
           {
            "colorbar": {
             "outlinewidth": 0,
             "ticks": ""
            },
            "colorscale": [
             [
              0,
              "#0d0887"
             ],
             [
              0.1111111111111111,
              "#46039f"
             ],
             [
              0.2222222222222222,
              "#7201a8"
             ],
             [
              0.3333333333333333,
              "#9c179e"
             ],
             [
              0.4444444444444444,
              "#bd3786"
             ],
             [
              0.5555555555555556,
              "#d8576b"
             ],
             [
              0.6666666666666666,
              "#ed7953"
             ],
             [
              0.7777777777777778,
              "#fb9f3a"
             ],
             [
              0.8888888888888888,
              "#fdca26"
             ],
             [
              1,
              "#f0f921"
             ]
            ],
            "type": "heatmapgl"
           }
          ],
          "histogram": [
           {
            "marker": {
             "pattern": {
              "fillmode": "overlay",
              "size": 10,
              "solidity": 0.2
             }
            },
            "type": "histogram"
           }
          ],
          "histogram2d": [
           {
            "colorbar": {
             "outlinewidth": 0,
             "ticks": ""
            },
            "colorscale": [
             [
              0,
              "#0d0887"
             ],
             [
              0.1111111111111111,
              "#46039f"
             ],
             [
              0.2222222222222222,
              "#7201a8"
             ],
             [
              0.3333333333333333,
              "#9c179e"
             ],
             [
              0.4444444444444444,
              "#bd3786"
             ],
             [
              0.5555555555555556,
              "#d8576b"
             ],
             [
              0.6666666666666666,
              "#ed7953"
             ],
             [
              0.7777777777777778,
              "#fb9f3a"
             ],
             [
              0.8888888888888888,
              "#fdca26"
             ],
             [
              1,
              "#f0f921"
             ]
            ],
            "type": "histogram2d"
           }
          ],
          "histogram2dcontour": [
           {
            "colorbar": {
             "outlinewidth": 0,
             "ticks": ""
            },
            "colorscale": [
             [
              0,
              "#0d0887"
             ],
             [
              0.1111111111111111,
              "#46039f"
             ],
             [
              0.2222222222222222,
              "#7201a8"
             ],
             [
              0.3333333333333333,
              "#9c179e"
             ],
             [
              0.4444444444444444,
              "#bd3786"
             ],
             [
              0.5555555555555556,
              "#d8576b"
             ],
             [
              0.6666666666666666,
              "#ed7953"
             ],
             [
              0.7777777777777778,
              "#fb9f3a"
             ],
             [
              0.8888888888888888,
              "#fdca26"
             ],
             [
              1,
              "#f0f921"
             ]
            ],
            "type": "histogram2dcontour"
           }
          ],
          "mesh3d": [
           {
            "colorbar": {
             "outlinewidth": 0,
             "ticks": ""
            },
            "type": "mesh3d"
           }
          ],
          "parcoords": [
           {
            "line": {
             "colorbar": {
              "outlinewidth": 0,
              "ticks": ""
             }
            },
            "type": "parcoords"
           }
          ],
          "pie": [
           {
            "automargin": true,
            "type": "pie"
           }
          ],
          "scatter": [
           {
            "fillpattern": {
             "fillmode": "overlay",
             "size": 10,
             "solidity": 0.2
            },
            "type": "scatter"
           }
          ],
          "scatter3d": [
           {
            "line": {
             "colorbar": {
              "outlinewidth": 0,
              "ticks": ""
             }
            },
            "marker": {
             "colorbar": {
              "outlinewidth": 0,
              "ticks": ""
             }
            },
            "type": "scatter3d"
           }
          ],
          "scattercarpet": [
           {
            "marker": {
             "colorbar": {
              "outlinewidth": 0,
              "ticks": ""
             }
            },
            "type": "scattercarpet"
           }
          ],
          "scattergeo": [
           {
            "marker": {
             "colorbar": {
              "outlinewidth": 0,
              "ticks": ""
             }
            },
            "type": "scattergeo"
           }
          ],
          "scattergl": [
           {
            "marker": {
             "colorbar": {
              "outlinewidth": 0,
              "ticks": ""
             }
            },
            "type": "scattergl"
           }
          ],
          "scattermapbox": [
           {
            "marker": {
             "colorbar": {
              "outlinewidth": 0,
              "ticks": ""
             }
            },
            "type": "scattermapbox"
           }
          ],
          "scatterpolar": [
           {
            "marker": {
             "colorbar": {
              "outlinewidth": 0,
              "ticks": ""
             }
            },
            "type": "scatterpolar"
           }
          ],
          "scatterpolargl": [
           {
            "marker": {
             "colorbar": {
              "outlinewidth": 0,
              "ticks": ""
             }
            },
            "type": "scatterpolargl"
           }
          ],
          "scatterternary": [
           {
            "marker": {
             "colorbar": {
              "outlinewidth": 0,
              "ticks": ""
             }
            },
            "type": "scatterternary"
           }
          ],
          "surface": [
           {
            "colorbar": {
             "outlinewidth": 0,
             "ticks": ""
            },
            "colorscale": [
             [
              0,
              "#0d0887"
             ],
             [
              0.1111111111111111,
              "#46039f"
             ],
             [
              0.2222222222222222,
              "#7201a8"
             ],
             [
              0.3333333333333333,
              "#9c179e"
             ],
             [
              0.4444444444444444,
              "#bd3786"
             ],
             [
              0.5555555555555556,
              "#d8576b"
             ],
             [
              0.6666666666666666,
              "#ed7953"
             ],
             [
              0.7777777777777778,
              "#fb9f3a"
             ],
             [
              0.8888888888888888,
              "#fdca26"
             ],
             [
              1,
              "#f0f921"
             ]
            ],
            "type": "surface"
           }
          ],
          "table": [
           {
            "cells": {
             "fill": {
              "color": "#EBF0F8"
             },
             "line": {
              "color": "white"
             }
            },
            "header": {
             "fill": {
              "color": "#C8D4E3"
             },
             "line": {
              "color": "white"
             }
            },
            "type": "table"
           }
          ]
         },
         "layout": {
          "annotationdefaults": {
           "arrowcolor": "#2a3f5f",
           "arrowhead": 0,
           "arrowwidth": 1
          },
          "autotypenumbers": "strict",
          "coloraxis": {
           "colorbar": {
            "outlinewidth": 0,
            "ticks": ""
           }
          },
          "colorscale": {
           "diverging": [
            [
             0,
             "#8e0152"
            ],
            [
             0.1,
             "#c51b7d"
            ],
            [
             0.2,
             "#de77ae"
            ],
            [
             0.3,
             "#f1b6da"
            ],
            [
             0.4,
             "#fde0ef"
            ],
            [
             0.5,
             "#f7f7f7"
            ],
            [
             0.6,
             "#e6f5d0"
            ],
            [
             0.7,
             "#b8e186"
            ],
            [
             0.8,
             "#7fbc41"
            ],
            [
             0.9,
             "#4d9221"
            ],
            [
             1,
             "#276419"
            ]
           ],
           "sequential": [
            [
             0,
             "#0d0887"
            ],
            [
             0.1111111111111111,
             "#46039f"
            ],
            [
             0.2222222222222222,
             "#7201a8"
            ],
            [
             0.3333333333333333,
             "#9c179e"
            ],
            [
             0.4444444444444444,
             "#bd3786"
            ],
            [
             0.5555555555555556,
             "#d8576b"
            ],
            [
             0.6666666666666666,
             "#ed7953"
            ],
            [
             0.7777777777777778,
             "#fb9f3a"
            ],
            [
             0.8888888888888888,
             "#fdca26"
            ],
            [
             1,
             "#f0f921"
            ]
           ],
           "sequentialminus": [
            [
             0,
             "#0d0887"
            ],
            [
             0.1111111111111111,
             "#46039f"
            ],
            [
             0.2222222222222222,
             "#7201a8"
            ],
            [
             0.3333333333333333,
             "#9c179e"
            ],
            [
             0.4444444444444444,
             "#bd3786"
            ],
            [
             0.5555555555555556,
             "#d8576b"
            ],
            [
             0.6666666666666666,
             "#ed7953"
            ],
            [
             0.7777777777777778,
             "#fb9f3a"
            ],
            [
             0.8888888888888888,
             "#fdca26"
            ],
            [
             1,
             "#f0f921"
            ]
           ]
          },
          "colorway": [
           "#636efa",
           "#EF553B",
           "#00cc96",
           "#ab63fa",
           "#FFA15A",
           "#19d3f3",
           "#FF6692",
           "#B6E880",
           "#FF97FF",
           "#FECB52"
          ],
          "font": {
           "color": "#2a3f5f"
          },
          "geo": {
           "bgcolor": "white",
           "lakecolor": "white",
           "landcolor": "#E5ECF6",
           "showlakes": true,
           "showland": true,
           "subunitcolor": "white"
          },
          "hoverlabel": {
           "align": "left"
          },
          "hovermode": "closest",
          "mapbox": {
           "style": "light"
          },
          "paper_bgcolor": "white",
          "plot_bgcolor": "#E5ECF6",
          "polar": {
           "angularaxis": {
            "gridcolor": "white",
            "linecolor": "white",
            "ticks": ""
           },
           "bgcolor": "#E5ECF6",
           "radialaxis": {
            "gridcolor": "white",
            "linecolor": "white",
            "ticks": ""
           }
          },
          "scene": {
           "xaxis": {
            "backgroundcolor": "#E5ECF6",
            "gridcolor": "white",
            "gridwidth": 2,
            "linecolor": "white",
            "showbackground": true,
            "ticks": "",
            "zerolinecolor": "white"
           },
           "yaxis": {
            "backgroundcolor": "#E5ECF6",
            "gridcolor": "white",
            "gridwidth": 2,
            "linecolor": "white",
            "showbackground": true,
            "ticks": "",
            "zerolinecolor": "white"
           },
           "zaxis": {
            "backgroundcolor": "#E5ECF6",
            "gridcolor": "white",
            "gridwidth": 2,
            "linecolor": "white",
            "showbackground": true,
            "ticks": "",
            "zerolinecolor": "white"
           }
          },
          "shapedefaults": {
           "line": {
            "color": "#2a3f5f"
           }
          },
          "ternary": {
           "aaxis": {
            "gridcolor": "white",
            "linecolor": "white",
            "ticks": ""
           },
           "baxis": {
            "gridcolor": "white",
            "linecolor": "white",
            "ticks": ""
           },
           "bgcolor": "#E5ECF6",
           "caxis": {
            "gridcolor": "white",
            "linecolor": "white",
            "ticks": ""
           }
          },
          "title": {
           "x": 0.05
          },
          "xaxis": {
           "automargin": true,
           "gridcolor": "white",
           "linecolor": "white",
           "ticks": "",
           "title": {
            "standoff": 15
           },
           "zerolinecolor": "white",
           "zerolinewidth": 2
          },
          "yaxis": {
           "automargin": true,
           "gridcolor": "white",
           "linecolor": "white",
           "ticks": "",
           "title": {
            "standoff": 15
           },
           "zerolinecolor": "white",
           "zerolinewidth": 2
          }
         }
        },
        "title": {
         "text": "Daily Trends in Output pH"
        },
        "xaxis": {
         "anchor": "y",
         "domain": [
          0,
          1
         ],
         "title": {
          "text": "Date"
         }
        },
        "yaxis": {
         "anchor": "x",
         "domain": [
          0,
          1
         ],
         "title": {
          "text": "Output pH (PH_S)"
         }
        }
       }
      }
     },
     "metadata": {},
     "output_type": "display_data"
    }
   ],
   "source": [
    "# TODO: Create a line plot for PH_S over time\n",
    "\n"
   ]
  },
  {
   "cell_type": "markdown",
   "metadata": {},
   "source": [
    "\n",
    "### **2. Scatter Plot: Relationship Between \\( DBO\\_E \\) and \\( PH\\_S \\)**\n",
    "#### **Tasks**\n",
    "1. Create an **interactive scatter plot** to explore the relationship between \\( DBO\\_E \\) and \\( PH\\_S \\).\n",
    "2. Use tooltips to display additional information, such as \\( Q\\_E \\) (Input Flow).  *Use `hover_data=[x]` to show additional details in the hover cards*\n",
    "3. Add a trendline to highlight the relationship.\n",
    "\n"
   ]
  },
  {
   "cell_type": "code",
   "execution_count": null,
   "metadata": {},
   "outputs": [
    {
     "data": {
      "application/vnd.plotly.v1+json": {
       "config": {
        "plotlyServerURL": "https://plot.ly"
       },
       "data": [
        {
         "customdata": [
          [
           41230
          ],
          [
           37386
          ],
          [
           34535
          ],
          [
           32527
          ],
          [
           27760
          ],
          [
           36281
          ],
          [
           38055
          ],
          [
           34064
          ],
          [
           31447
          ],
          [
           32127
          ],
          [
           31059
          ],
          [
           36470
          ],
          [
           47449
          ],
          [
           43940
          ],
          [
           40347
          ],
          [
           40267
          ],
          [
           37976
          ],
          [
           47368
          ],
          [
           48086
          ],
          [
           47642
          ],
          [
           43174
          ],
          [
           39891
          ],
          [
           32257
          ],
          [
           40498
          ],
          [
           40221
          ],
          [
           46669
          ],
          [
           44365
          ],
          [
           43080
          ],
          [
           29414
          ],
          [
           37312
          ],
          [
           38568
          ],
          [
           38655
          ],
          [
           34193
          ],
          [
           36332
          ],
          [
           32484
          ],
          [
           37724
          ],
          [
           36446
          ],
          [
           35636
          ],
          [
           34746
          ],
          [
           34893
          ],
          [
           37102
          ],
          [
           41598
          ],
          [
           38058
          ],
          [
           40716
          ],
          [
           40868
          ],
          [
           36358
          ],
          [
           40879
          ],
          [
           44150
          ],
          [
           45779
          ],
          [
           44101
          ],
          [
           39024
          ],
          [
           32229
          ],
          [
           35023
          ],
          [
           36924
          ],
          [
           38572
          ],
          [
           41115
          ],
          [
           36107
          ],
          [
           29156
          ],
          [
           39246
          ],
          [
           42393
          ],
          [
           42857
          ],
          [
           42911
          ],
          [
           40376
          ],
          [
           40923
          ],
          [
           43830
          ],
          [
           39165
          ],
          [
           35791
          ],
          [
           37419
          ],
          [
           40983
          ],
          [
           42217
          ],
          [
           47665
          ],
          [
           44314
          ],
          [
           40841
          ],
          [
           41157
          ],
          [
           40078
          ],
          [
           40552
          ],
          [
           53210
          ],
          [
           53530
          ],
          [
           46659
          ],
          [
           45772
          ],
          [
           52933
          ],
          [
           36510
          ],
          [
           34299
          ],
          [
           41073
          ],
          [
           43536
          ],
          [
           34667
          ],
          [
           29624
          ],
          [
           34069
          ],
          [
           37782
          ],
          [
           42109
          ],
          [
           40871
          ],
          [
           36088
          ],
          [
           47255
          ],
          [
           55300
          ],
          [
           37646
          ],
          [
           34528
          ],
          [
           31417
          ],
          [
           27333
          ],
          [
           27617
          ],
          [
           37881
          ],
          [
           39024
          ],
          [
           38990
          ],
          [
           37710
          ],
          [
           25957
          ],
          [
           38623
          ],
          [
           41746
          ],
          [
           43291
          ],
          [
           41436
          ],
          [
           39402
          ],
          [
           39383
          ],
          [
           37106
          ],
          [
           36591
          ],
          [
           33711
          ],
          [
           35081
          ],
          [
           32372
          ],
          [
           37283
          ],
          [
           42202
          ],
          [
           50942
          ],
          [
           44040
          ],
          [
           43117
          ],
          [
           48333
          ],
          [
           46540
          ],
          [
           46057
          ],
          [
           45018
          ],
          [
           34669
          ],
          [
           41824
          ],
          [
           51520
          ],
          [
           39421
          ],
          [
           36131
          ],
          [
           33251
          ],
          [
           35789
          ],
          [
           40106
          ],
          [
           45191
          ],
          [
           43308
          ],
          [
           37615
          ],
          [
           42596
          ],
          [
           41948
          ],
          [
           34647
          ],
          [
           36967
          ],
          [
           34879
          ],
          [
           34365
          ],
          [
           34291
          ],
          [
           34886
          ],
          [
           38731
          ],
          [
           39308
          ],
          [
           44198
          ],
          [
           39003
          ],
          [
           34487
          ],
          [
           35198
          ],
          [
           30201
          ],
          [
           39445
          ],
          [
           37252
          ],
          [
           37643
          ],
          [
           36389
          ],
          [
           33020
          ],
          [
           36095
          ],
          [
           39590
          ],
          [
           42859
          ],
          [
           36325
          ],
          [
           33522
          ],
          [
           33680
          ],
          [
           31293
          ],
          [
           36010
          ],
          [
           35445
          ],
          [
           32540
          ],
          [
           32929
          ],
          [
           32575
          ],
          [
           30019
          ],
          [
           27711
          ],
          [
           33999
          ],
          [
           33959
          ],
          [
           33290
          ],
          [
           33877
          ],
          [
           26871
          ],
          [
           37634
          ],
          [
           32909
          ],
          [
           33322
          ],
          [
           10050
          ],
          [
           55930
          ],
          [
           52851
          ],
          [
           40585
          ],
          [
           45027
          ],
          [
           47338
          ],
          [
           44207
          ],
          [
           43563
          ],
          [
           47718
          ],
          [
           42587
          ],
          [
           35098
          ],
          [
           38052
          ],
          [
           31404
          ],
          [
           38905
          ],
          [
           38620
          ],
          [
           34352
          ],
          [
           34785
          ],
          [
           27109
          ],
          [
           32802
          ],
          [
           35876
          ],
          [
           41410
          ],
          [
           40933
          ],
          [
           34764
          ],
          [
           39489
          ],
          [
           42230
          ],
          [
           44601
          ],
          [
           43614
          ],
          [
           40529
          ],
          [
           38231
          ],
          [
           36909
          ],
          [
           37002
          ],
          [
           43377
          ],
          [
           37862
          ],
          [
           35809
          ],
          [
           35729
          ],
          [
           41206
          ],
          [
           15519
          ],
          [
           49986
          ],
          [
           51575
          ],
          [
           44869
          ],
          [
           43491
          ],
          [
           45453
          ],
          [
           37190
          ],
          [
           40067
          ],
          [
           57606
          ],
          [
           46791
          ],
          [
           46852
          ],
          [
           38761
          ],
          [
           42046
          ],
          [
           47623
          ],
          [
           54578
          ],
          [
           36911
          ],
          [
           35244
          ],
          [
           39566
          ],
          [
           45469
          ],
          [
           46240
          ],
          [
           45903
          ],
          [
           44343
          ],
          [
           39343
          ],
          [
           34347
          ],
          [
           53012
          ],
          [
           52258
          ],
          [
           49493
          ],
          [
           46200
          ],
          [
           46069
          ],
          [
           44324
          ],
          [
           48950
          ],
          [
           60017
          ],
          [
           41569
          ],
          [
           40915
          ],
          [
           44858
          ],
          [
           47576
          ],
          [
           47501
          ],
          [
           47506
          ],
          [
           45006
          ],
          [
           44158
          ],
          [
           39223
          ],
          [
           42394
          ],
          [
           44364
          ],
          [
           44235
          ],
          [
           45151
          ],
          [
           47032
          ],
          [
           41372
          ],
          [
           45729
          ],
          [
           49314
          ],
          [
           44038
          ],
          [
           29816
          ],
          [
           29448
          ],
          [
           35825
          ],
          [
           47384
          ],
          [
           47306
          ],
          [
           40127
          ],
          [
           28005
          ],
          [
           28819
          ],
          [
           27098
          ],
          [
           42667
          ],
          [
           47222
          ],
          [
           32157
          ],
          [
           25687
          ],
          [
           26040
          ],
          [
           29388
          ],
          [
           30935
          ],
          [
           26348
          ],
          [
           28680
          ],
          [
           32799
          ],
          [
           33545
          ],
          [
           28791
          ],
          [
           27219
          ],
          [
           31849
          ],
          [
           30352
          ],
          [
           32009
          ],
          [
           34492
          ],
          [
           36452
          ],
          [
           34361
          ],
          [
           36432
          ],
          [
           37009
          ],
          [
           37281
          ],
          [
           28437
          ],
          [
           29955
          ],
          [
           35263
          ],
          [
           34319
          ],
          [
           32730
          ],
          [
           30164
          ],
          [
           32441
          ],
          [
           40740
          ],
          [
           34637
          ],
          [
           34322
          ],
          [
           35111
          ],
          [
           40585
          ],
          [
           37735
          ],
          [
           34277
          ],
          [
           41451
          ],
          [
           45183
          ],
          [
           27415
          ],
          [
           42614
          ],
          [
           48914
          ],
          [
           49174
          ],
          [
           45151
          ],
          [
           37143
          ],
          [
           30244
          ],
          [
           34032
          ],
          [
           34904
          ],
          [
           36063
          ],
          [
           35500
          ],
          [
           37730
          ],
          [
           28209
          ],
          [
           32680
          ],
          [
           32974
          ],
          [
           33189
          ],
          [
           34579
          ],
          [
           38105
          ],
          [
           30701
          ],
          [
           34290
          ],
          [
           35338
          ],
          [
           37120
          ],
          [
           35190
          ],
          [
           33714
          ],
          [
           29660
          ],
          [
           31749
          ],
          [
           32736
          ],
          [
           34441
          ],
          [
           32888
          ],
          [
           34461
          ],
          [
           34045
          ],
          [
           36421
          ],
          [
           37662
          ],
          [
           29990
          ],
          [
           37561
          ],
          [
           27340
          ],
          [
           30055
          ],
          [
           31494
          ],
          [
           31765
          ],
          [
           25342
          ],
          [
           26343
          ],
          [
           32884
          ],
          [
           40745
          ],
          [
           39804
          ],
          [
           45804
          ],
          [
           42289
          ],
          [
           44548
          ],
          [
           36792
          ],
          [
           36410
          ],
          [
           33988
          ],
          [
           36479
          ],
          [
           31592
          ],
          [
           31789
          ],
          [
           27968
          ],
          [
           30853
          ],
          [
           29815
          ],
          [
           32578
          ],
          [
           33784
          ],
          [
           33029
          ],
          [
           48657
          ],
          [
           45512
          ],
          [
           44085
          ],
          [
           40578
          ],
          [
           34917
          ],
          [
           32217
          ],
          [
           34573
          ],
          [
           35395
          ],
          [
           34525
          ],
          [
           35861
          ],
          [
           43082
          ],
          [
           27931
          ],
          [
           32954
          ],
          [
           33773
          ],
          [
           33666
          ],
          [
           39715
          ],
          [
           28923
          ],
          [
           32317
          ],
          [
           33090
          ],
          [
           33371
          ],
          [
           33813
          ],
          [
           35456
          ],
          [
           38045
          ],
          [
           31191
          ],
          [
           36215
          ],
          [
           34719
          ],
          [
           35729
          ],
          [
           36395
          ],
          [
           41503
          ],
          [
           27642
          ],
          [
           35760
          ],
          [
           46126
          ],
          [
           43445
          ],
          [
           35990
          ],
          [
           36976
          ],
          [
           33085
          ],
          [
           34150
          ],
          [
           60081
          ],
          [
           57629
          ],
          [
           48110
          ],
          [
           59184
          ],
          [
           47489
          ],
          [
           35374
          ],
          [
           33434
          ],
          [
           31967
          ],
          [
           32835
          ],
          [
           33000
          ],
          [
           47243
          ],
          [
           40295
          ],
          [
           38792
          ],
          [
           36162
          ],
          [
           36495
          ],
          [
           36922
          ],
          [
           43497
          ],
          [
           38809
          ],
          [
           34301
          ],
          [
           33968
          ],
          [
           34094
          ],
          [
           32308
          ],
          [
           31114
          ],
          [
           31205
          ],
          [
           35509
          ],
          [
           34903
          ],
          [
           34294
          ],
          [
           30614
          ],
          [
           33239
          ],
          [
           32100
          ],
          [
           32538
          ],
          [
           35571
          ],
          [
           33210
          ],
          [
           34097
          ],
          [
           31224
          ],
          [
           35389
          ],
          [
           36708
          ],
          [
           33064
          ],
          [
           31949
          ],
          [
           35195
          ],
          [
           34886
          ],
          [
           33708
          ],
          [
           32253
          ],
          [
           29793
          ],
          [
           33416
          ],
          [
           35518
          ],
          [
           35623
          ],
          [
           32815
          ],
          [
           32454
          ],
          [
           26590
          ],
          [
           33636
          ],
          [
           32334
          ],
          [
           35178
          ],
          [
           null
          ],
          [
           null
          ],
          [
           null
          ],
          [
           null
          ],
          [
           null
          ],
          [
           null
          ],
          [
           null
          ],
          [
           null
          ],
          [
           null
          ],
          [
           null
          ],
          [
           null
          ],
          [
           null
          ],
          [
           null
          ],
          [
           null
          ],
          [
           null
          ],
          [
           null
          ],
          [
           null
          ],
          [
           null
          ],
          [
           29834
          ],
          [
           28492
          ],
          [
           24978
          ],
          [
           29719
          ],
          [
           29741
          ],
          [
           29027
          ],
          [
           30211
          ],
          [
           30848
          ],
          [
           17527
          ],
          [
           33331
          ],
          [
           27998
          ],
          [
           32845
          ],
          [
           27933
          ],
          [
           27527
          ],
          [
           32363
          ],
          [
           31437
          ],
          [
           31914
          ],
          [
           28088
          ],
          [
           27838
          ],
          [
           29271
          ],
          [
           32723
          ],
          [
           33535
          ],
          [
           32922
          ],
          [
           32190
          ],
          [
           30488
          ],
          [
           32208
          ],
          [
           33649
          ],
          [
           34536
          ],
          [
           33178
          ],
          [
           33695
          ],
          [
           30442
          ],
          [
           29448
          ],
          [
           33623
          ],
          [
           30927
          ],
          [
           34823
          ],
          [
           34018
          ],
          [
           42876
          ],
          [
           34820
          ],
          [
           31780
          ],
          [
           33370
          ],
          [
           34408
          ],
          [
           32720
          ],
          [
           28707
          ],
          [
           36182
          ],
          [
           34364
          ],
          [
           35400
          ],
          [
           30964
          ],
          [
           35573
          ],
          [
           29801
          ],
          [
           31524
          ]
         ],
         "hovertemplate": "DBO-E=%{x}<br>PH-S=%{y}<br>Q-E=%{customdata[0]}<extra></extra>",
         "legendgroup": "",
         "marker": {
          "color": "#636efa",
          "symbol": "circle"
         },
         "mode": "markers",
         "name": "",
         "orientation": "v",
         "showlegend": false,
         "type": "scatter",
         "x": [
          120,
          165,
          232,
          187,
          199,
          null,
          221,
          230,
          190,
          null,
          202,
          227,
          170,
          149,
          155,
          180,
          148,
          156,
          247,
          157,
          179,
          178,
          246,
          202,
          177,
          null,
          null,
          95,
          160,
          205,
          233,
          179,
          166,
          120,
          null,
          null,
          null,
          203,
          208,
          235,
          196,
          194,
          193,
          null,
          206,
          192,
          null,
          null,
          null,
          null,
          null,
          null,
          205,
          242,
          202,
          null,
          215,
          206,
          172,
          189,
          238,
          114,
          204,
          146,
          177,
          250,
          277,
          219,
          182,
          138,
          156,
          155,
          179,
          145,
          198,
          200,
          87,
          132,
          175,
          162,
          135,
          91,
          210,
          166,
          267,
          165,
          184,
          89,
          155,
          159,
          193,
          75,
          181,
          254,
          355,
          262,
          237,
          238,
          285,
          257,
          268,
          189,
          312,
          404,
          243,
          352,
          215,
          191,
          283,
          216,
          163,
          null,
          345,
          431,
          174,
          327,
          184,
          159,
          275,
          134,
          132,
          132,
          133,
          224,
          198,
          161,
          156,
          189,
          215,
          225,
          316,
          238,
          125,
          265,
          199,
          138,
          198,
          193,
          202,
          319,
          236,
          192,
          211,
          200,
          217,
          257,
          183,
          183,
          185,
          137,
          187,
          131,
          145,
          156,
          176,
          112,
          144,
          161,
          135,
          189,
          215,
          150,
          189,
          182,
          290,
          246,
          244,
          175,
          342,
          191,
          235,
          128,
          166,
          139,
          151,
          221,
          217,
          208,
          223,
          64,
          66,
          48,
          69,
          70,
          95,
          31,
          77,
          100,
          94,
          null,
          58,
          95,
          112,
          126,
          158,
          203,
          81,
          85,
          120,
          127,
          131,
          132,
          140,
          143,
          192,
          124,
          172,
          268,
          176,
          146,
          139,
          205,
          117,
          148,
          158,
          123,
          133,
          237,
          203,
          199,
          214,
          208,
          206,
          247,
          438,
          255,
          283,
          313,
          300,
          177,
          192,
          129,
          122,
          90,
          169,
          140,
          155,
          157,
          195,
          102,
          192,
          185,
          174,
          109,
          120,
          115,
          244,
          380,
          null,
          null,
          null,
          null,
          124,
          151,
          241,
          182,
          195,
          185,
          139,
          119,
          139,
          166,
          138,
          251,
          192,
          111,
          147,
          206,
          233,
          226,
          195,
          197,
          173,
          148,
          243,
          316,
          302,
          339,
          255,
          253,
          256,
          215,
          145,
          354,
          302,
          330,
          324,
          288,
          253,
          154,
          172,
          168,
          181,
          287,
          176,
          203,
          201,
          236,
          290,
          232,
          198,
          127,
          231,
          249,
          228,
          230,
          203,
          133,
          131,
          205,
          241,
          113,
          203,
          188,
          166,
          222,
          224,
          223,
          272,
          346,
          148,
          427,
          319,
          334,
          311,
          238,
          261,
          230,
          136,
          194,
          195,
          212,
          227,
          228,
          223,
          247,
          257,
          199,
          185,
          222,
          129,
          240,
          238,
          204,
          null,
          254,
          230,
          290,
          240,
          275,
          275,
          169,
          156,
          209,
          170,
          150,
          218,
          168,
          173,
          161,
          192,
          217,
          215,
          202,
          179,
          224,
          223,
          166,
          226,
          72,
          89,
          183,
          174,
          156,
          365,
          156,
          273,
          312,
          242,
          173,
          296,
          269,
          233,
          237,
          241,
          133,
          166,
          205,
          290,
          212,
          184,
          177,
          270,
          161,
          173,
          334,
          183,
          133,
          69,
          115,
          122,
          133,
          142,
          152,
          185,
          228,
          100,
          80,
          179,
          94,
          135,
          175,
          223,
          222,
          159,
          153,
          168,
          238,
          250,
          224,
          213,
          122,
          134,
          179,
          243,
          198,
          156,
          118,
          181,
          214,
          181,
          227,
          146,
          146,
          217,
          277,
          219,
          166,
          164,
          192,
          231,
          157,
          196,
          266,
          133,
          134,
          178,
          171,
          140,
          137,
          167,
          133,
          151,
          151,
          148,
          134,
          166,
          179,
          159,
          146,
          198,
          177,
          197,
          149,
          149,
          186,
          233,
          185,
          182,
          198,
          129,
          115,
          132,
          188,
          114,
          159,
          170,
          160,
          124,
          146,
          133,
          151,
          136,
          114,
          142,
          150,
          92,
          138,
          84,
          158,
          191,
          159,
          132,
          127,
          153,
          179,
          99,
          93,
          192,
          139,
          200,
          152,
          145,
          147,
          133,
          155,
          133,
          152,
          115,
          135,
          184,
          170,
          153,
          133,
          185,
          175,
          223,
          174,
          235,
          117,
          195,
          191,
          156,
          220,
          176,
          172,
          null
         ],
         "xaxis": "x",
         "y": [
          7.5,
          7.6,
          7.5,
          7.5,
          7.4,
          7.5,
          7.5,
          7.5,
          7.5,
          7.5,
          7.4,
          7.4,
          7.5,
          7.5,
          7.4,
          7.5,
          7.4,
          7.4,
          7.6,
          7.5,
          7.4,
          7.3,
          7.3,
          7.5,
          7.5,
          7.6,
          7.5,
          7.5,
          7.4,
          7.7,
          7.5,
          7.5,
          7.5,
          7.6,
          7.5,
          7.5,
          7.6,
          7.5,
          7.4,
          7.6,
          7.6,
          7.6,
          7.5,
          7.4,
          7.7,
          7.5,
          7.6,
          7.6,
          7.6,
          7.3,
          7.5,
          7.6,
          7.6,
          7.6,
          7.5,
          7.5,
          7.5,
          7.5,
          7.6,
          7.6,
          7.4,
          7.5,
          7.6,
          7.5,
          7.6,
          7.3,
          7.5,
          7.5,
          7.5,
          7.1,
          7.6,
          7.6,
          7.9,
          7.8,
          7.8,
          7.6,
          7.7,
          7.7,
          7.5,
          7.7,
          7.8,
          7.7,
          7.6,
          7.8,
          7.7,
          7.4,
          7.5,
          7.6,
          7.6,
          7.7,
          7.8,
          7.3,
          7.7,
          7.6,
          7.7,
          7.6,
          7.7,
          7.4,
          7.5,
          7.6,
          7.7,
          7.6,
          7.4,
          7.8,
          7.8,
          7.5,
          7.7,
          7.6,
          7.7,
          7.7,
          7.7,
          7.6,
          7.8,
          7.7,
          7.7,
          7.8,
          7.6,
          7.8,
          7.7,
          7.9,
          7.7,
          7.6,
          7.9,
          8,
          7.7,
          7.8,
          7.9,
          7.8,
          7.9,
          7.6,
          7.5,
          8,
          7.9,
          7.8,
          7.6,
          7.6,
          7.8,
          7.3,
          7.7,
          7.7,
          7.7,
          7.8,
          7.7,
          7.7,
          7.9,
          8,
          7.8,
          8,
          7.9,
          7.4,
          8,
          7.9,
          8.1,
          7.9,
          7.8,
          7.6,
          7.6,
          7.8,
          7.9,
          7.8,
          7.8,
          7.8,
          8,
          8,
          7.9,
          7.9,
          8,
          7.9,
          7.6,
          7.7,
          7.9,
          7.8,
          7.8,
          7.5,
          8.2,
          7.6,
          7.5,
          7.6,
          8,
          8.1,
          8,
          8,
          8,
          8,
          7.9,
          7.9,
          8,
          8,
          7.9,
          8.1,
          7.9,
          7.7,
          7.6,
          7.7,
          7.7,
          7.4,
          7.9,
          7.9,
          7.9,
          7.7,
          7.8,
          8.3,
          7.6,
          7.8,
          7.5,
          7.9,
          7.8,
          7.7,
          7.7,
          7.7,
          7.9,
          7.8,
          7.8,
          7.7,
          7.7,
          7.7,
          7.7,
          7.8,
          7.6,
          7.9,
          7.9,
          7.9,
          7.9,
          7.9,
          7.6,
          7.9,
          7.9,
          7.9,
          7.7,
          7.7,
          7.8,
          7.5,
          7.8,
          7.7,
          7.9,
          7.8,
          8,
          7.9,
          8,
          7.8,
          7.9,
          7.9,
          7.8,
          7.9,
          8,
          7.9,
          8,
          7.9,
          7.8,
          7.8,
          7.9,
          7.8,
          7.6,
          7.8,
          7.8,
          7.8,
          8,
          7.8,
          7.7,
          7.9,
          7.8,
          7.9,
          7.8,
          7.9,
          7.6,
          7.7,
          7.7,
          7.8,
          7.9,
          7.8,
          7.9,
          7.7,
          7.7,
          7.8,
          7.8,
          7.7,
          7.8,
          7.6,
          7.8,
          7.7,
          7.8,
          7.8,
          7.7,
          7.9,
          null,
          7.7,
          7.8,
          7.6,
          7.9,
          7.7,
          7.8,
          7.8,
          7.8,
          7.8,
          7.7,
          7.6,
          7.7,
          7.8,
          7.5,
          7.8,
          7.9,
          7.8,
          7.8,
          7.7,
          7.8,
          7.8,
          7.8,
          7.7,
          7.8,
          7.7,
          7.7,
          7.8,
          7.7,
          7.8,
          7.7,
          7.7,
          7.7,
          7.8,
          7.7,
          7.8,
          7.7,
          7.4,
          7.7,
          7.9,
          7.8,
          7.9,
          7.8,
          8,
          7.6,
          7.7,
          7.7,
          7.8,
          7.8,
          7.7,
          9.7,
          7.8,
          7.8,
          7.7,
          7.8,
          7.8,
          7.6,
          7.7,
          8,
          7.8,
          7.6,
          7.7,
          7.7,
          7.8,
          7.7,
          7.8,
          7.7,
          7.7,
          7.7,
          7.7,
          7.8,
          7.7,
          7.7,
          7.7,
          7.7,
          7.8,
          7.8,
          7.8,
          7.8,
          7.7,
          7.6,
          7.7,
          7.8,
          7.8,
          7.6,
          7.6,
          7.7,
          7.7,
          7.8,
          7.4,
          7.6,
          7.7,
          7.7,
          7.8,
          7.9,
          7.7,
          7.6,
          7.7,
          7.7,
          7.6,
          7.8,
          7.5,
          7.6,
          7.8,
          7.8,
          7.8,
          7.7,
          7.7,
          7.7,
          7.7,
          7.6,
          7.8,
          7.7,
          7,
          7.5,
          7.7,
          7.6,
          7.7,
          7.6,
          7.6,
          7.7,
          7.8,
          7.4,
          7.4,
          7.2,
          7.5,
          7.7,
          7.8,
          7.9,
          7.7,
          7.7,
          7.7,
          7.7,
          7.7,
          7.7,
          7.7,
          7.6,
          7.6,
          7.7,
          7.6,
          7.8,
          7.7,
          7.6,
          7.6,
          7.7,
          7.7,
          7.8,
          7.7,
          7.5,
          7.6,
          7.7,
          7.7,
          7.7,
          7.6,
          7.6,
          7.7,
          7.7,
          7.6,
          7.6,
          7.8,
          7.6,
          7.6,
          7.7,
          7.7,
          7.8,
          7.8,
          7.7,
          7.7,
          7.4,
          7.6,
          7.4,
          7.4,
          8,
          7.4,
          7.7,
          7.6,
          7.7,
          7.7,
          7.6,
          7.8,
          7.8,
          7.6,
          7.5,
          7.6,
          7.6,
          7.6,
          7.5,
          7.5,
          7.6,
          7.7,
          7.5,
          7.6,
          7.7,
          7.7,
          7.8,
          7.5,
          7.8,
          8,
          7.8,
          7.9,
          7.8,
          7.6,
          7.7,
          7.8,
          7.6,
          7.9,
          7.5,
          7.9,
          7.9,
          7.8,
          7.9,
          7.9,
          7.7,
          7.9,
          7.9,
          7.7,
          7.7,
          7.3,
          7.8,
          7.8,
          7.7,
          7.8,
          7.8,
          7.9,
          7.6,
          7.8,
          7.7,
          7.8,
          7.7,
          7.8,
          7.8,
          7.8,
          7.8,
          7.9,
          7.9,
          7.8,
          7.9,
          7.8,
          7.7,
          7.9,
          7.6,
          7.7,
          7.8
         ],
         "yaxis": "y"
        }
       ],
       "layout": {
        "legend": {
         "tracegroupgap": 0
        },
        "template": {
         "data": {
          "bar": [
           {
            "error_x": {
             "color": "#2a3f5f"
            },
            "error_y": {
             "color": "#2a3f5f"
            },
            "marker": {
             "line": {
              "color": "#E5ECF6",
              "width": 0.5
             },
             "pattern": {
              "fillmode": "overlay",
              "size": 10,
              "solidity": 0.2
             }
            },
            "type": "bar"
           }
          ],
          "barpolar": [
           {
            "marker": {
             "line": {
              "color": "#E5ECF6",
              "width": 0.5
             },
             "pattern": {
              "fillmode": "overlay",
              "size": 10,
              "solidity": 0.2
             }
            },
            "type": "barpolar"
           }
          ],
          "carpet": [
           {
            "aaxis": {
             "endlinecolor": "#2a3f5f",
             "gridcolor": "white",
             "linecolor": "white",
             "minorgridcolor": "white",
             "startlinecolor": "#2a3f5f"
            },
            "baxis": {
             "endlinecolor": "#2a3f5f",
             "gridcolor": "white",
             "linecolor": "white",
             "minorgridcolor": "white",
             "startlinecolor": "#2a3f5f"
            },
            "type": "carpet"
           }
          ],
          "choropleth": [
           {
            "colorbar": {
             "outlinewidth": 0,
             "ticks": ""
            },
            "type": "choropleth"
           }
          ],
          "contour": [
           {
            "colorbar": {
             "outlinewidth": 0,
             "ticks": ""
            },
            "colorscale": [
             [
              0,
              "#0d0887"
             ],
             [
              0.1111111111111111,
              "#46039f"
             ],
             [
              0.2222222222222222,
              "#7201a8"
             ],
             [
              0.3333333333333333,
              "#9c179e"
             ],
             [
              0.4444444444444444,
              "#bd3786"
             ],
             [
              0.5555555555555556,
              "#d8576b"
             ],
             [
              0.6666666666666666,
              "#ed7953"
             ],
             [
              0.7777777777777778,
              "#fb9f3a"
             ],
             [
              0.8888888888888888,
              "#fdca26"
             ],
             [
              1,
              "#f0f921"
             ]
            ],
            "type": "contour"
           }
          ],
          "contourcarpet": [
           {
            "colorbar": {
             "outlinewidth": 0,
             "ticks": ""
            },
            "type": "contourcarpet"
           }
          ],
          "heatmap": [
           {
            "colorbar": {
             "outlinewidth": 0,
             "ticks": ""
            },
            "colorscale": [
             [
              0,
              "#0d0887"
             ],
             [
              0.1111111111111111,
              "#46039f"
             ],
             [
              0.2222222222222222,
              "#7201a8"
             ],
             [
              0.3333333333333333,
              "#9c179e"
             ],
             [
              0.4444444444444444,
              "#bd3786"
             ],
             [
              0.5555555555555556,
              "#d8576b"
             ],
             [
              0.6666666666666666,
              "#ed7953"
             ],
             [
              0.7777777777777778,
              "#fb9f3a"
             ],
             [
              0.8888888888888888,
              "#fdca26"
             ],
             [
              1,
              "#f0f921"
             ]
            ],
            "type": "heatmap"
           }
          ],
          "heatmapgl": [
           {
            "colorbar": {
             "outlinewidth": 0,
             "ticks": ""
            },
            "colorscale": [
             [
              0,
              "#0d0887"
             ],
             [
              0.1111111111111111,
              "#46039f"
             ],
             [
              0.2222222222222222,
              "#7201a8"
             ],
             [
              0.3333333333333333,
              "#9c179e"
             ],
             [
              0.4444444444444444,
              "#bd3786"
             ],
             [
              0.5555555555555556,
              "#d8576b"
             ],
             [
              0.6666666666666666,
              "#ed7953"
             ],
             [
              0.7777777777777778,
              "#fb9f3a"
             ],
             [
              0.8888888888888888,
              "#fdca26"
             ],
             [
              1,
              "#f0f921"
             ]
            ],
            "type": "heatmapgl"
           }
          ],
          "histogram": [
           {
            "marker": {
             "pattern": {
              "fillmode": "overlay",
              "size": 10,
              "solidity": 0.2
             }
            },
            "type": "histogram"
           }
          ],
          "histogram2d": [
           {
            "colorbar": {
             "outlinewidth": 0,
             "ticks": ""
            },
            "colorscale": [
             [
              0,
              "#0d0887"
             ],
             [
              0.1111111111111111,
              "#46039f"
             ],
             [
              0.2222222222222222,
              "#7201a8"
             ],
             [
              0.3333333333333333,
              "#9c179e"
             ],
             [
              0.4444444444444444,
              "#bd3786"
             ],
             [
              0.5555555555555556,
              "#d8576b"
             ],
             [
              0.6666666666666666,
              "#ed7953"
             ],
             [
              0.7777777777777778,
              "#fb9f3a"
             ],
             [
              0.8888888888888888,
              "#fdca26"
             ],
             [
              1,
              "#f0f921"
             ]
            ],
            "type": "histogram2d"
           }
          ],
          "histogram2dcontour": [
           {
            "colorbar": {
             "outlinewidth": 0,
             "ticks": ""
            },
            "colorscale": [
             [
              0,
              "#0d0887"
             ],
             [
              0.1111111111111111,
              "#46039f"
             ],
             [
              0.2222222222222222,
              "#7201a8"
             ],
             [
              0.3333333333333333,
              "#9c179e"
             ],
             [
              0.4444444444444444,
              "#bd3786"
             ],
             [
              0.5555555555555556,
              "#d8576b"
             ],
             [
              0.6666666666666666,
              "#ed7953"
             ],
             [
              0.7777777777777778,
              "#fb9f3a"
             ],
             [
              0.8888888888888888,
              "#fdca26"
             ],
             [
              1,
              "#f0f921"
             ]
            ],
            "type": "histogram2dcontour"
           }
          ],
          "mesh3d": [
           {
            "colorbar": {
             "outlinewidth": 0,
             "ticks": ""
            },
            "type": "mesh3d"
           }
          ],
          "parcoords": [
           {
            "line": {
             "colorbar": {
              "outlinewidth": 0,
              "ticks": ""
             }
            },
            "type": "parcoords"
           }
          ],
          "pie": [
           {
            "automargin": true,
            "type": "pie"
           }
          ],
          "scatter": [
           {
            "fillpattern": {
             "fillmode": "overlay",
             "size": 10,
             "solidity": 0.2
            },
            "type": "scatter"
           }
          ],
          "scatter3d": [
           {
            "line": {
             "colorbar": {
              "outlinewidth": 0,
              "ticks": ""
             }
            },
            "marker": {
             "colorbar": {
              "outlinewidth": 0,
              "ticks": ""
             }
            },
            "type": "scatter3d"
           }
          ],
          "scattercarpet": [
           {
            "marker": {
             "colorbar": {
              "outlinewidth": 0,
              "ticks": ""
             }
            },
            "type": "scattercarpet"
           }
          ],
          "scattergeo": [
           {
            "marker": {
             "colorbar": {
              "outlinewidth": 0,
              "ticks": ""
             }
            },
            "type": "scattergeo"
           }
          ],
          "scattergl": [
           {
            "marker": {
             "colorbar": {
              "outlinewidth": 0,
              "ticks": ""
             }
            },
            "type": "scattergl"
           }
          ],
          "scattermapbox": [
           {
            "marker": {
             "colorbar": {
              "outlinewidth": 0,
              "ticks": ""
             }
            },
            "type": "scattermapbox"
           }
          ],
          "scatterpolar": [
           {
            "marker": {
             "colorbar": {
              "outlinewidth": 0,
              "ticks": ""
             }
            },
            "type": "scatterpolar"
           }
          ],
          "scatterpolargl": [
           {
            "marker": {
             "colorbar": {
              "outlinewidth": 0,
              "ticks": ""
             }
            },
            "type": "scatterpolargl"
           }
          ],
          "scatterternary": [
           {
            "marker": {
             "colorbar": {
              "outlinewidth": 0,
              "ticks": ""
             }
            },
            "type": "scatterternary"
           }
          ],
          "surface": [
           {
            "colorbar": {
             "outlinewidth": 0,
             "ticks": ""
            },
            "colorscale": [
             [
              0,
              "#0d0887"
             ],
             [
              0.1111111111111111,
              "#46039f"
             ],
             [
              0.2222222222222222,
              "#7201a8"
             ],
             [
              0.3333333333333333,
              "#9c179e"
             ],
             [
              0.4444444444444444,
              "#bd3786"
             ],
             [
              0.5555555555555556,
              "#d8576b"
             ],
             [
              0.6666666666666666,
              "#ed7953"
             ],
             [
              0.7777777777777778,
              "#fb9f3a"
             ],
             [
              0.8888888888888888,
              "#fdca26"
             ],
             [
              1,
              "#f0f921"
             ]
            ],
            "type": "surface"
           }
          ],
          "table": [
           {
            "cells": {
             "fill": {
              "color": "#EBF0F8"
             },
             "line": {
              "color": "white"
             }
            },
            "header": {
             "fill": {
              "color": "#C8D4E3"
             },
             "line": {
              "color": "white"
             }
            },
            "type": "table"
           }
          ]
         },
         "layout": {
          "annotationdefaults": {
           "arrowcolor": "#2a3f5f",
           "arrowhead": 0,
           "arrowwidth": 1
          },
          "autotypenumbers": "strict",
          "coloraxis": {
           "colorbar": {
            "outlinewidth": 0,
            "ticks": ""
           }
          },
          "colorscale": {
           "diverging": [
            [
             0,
             "#8e0152"
            ],
            [
             0.1,
             "#c51b7d"
            ],
            [
             0.2,
             "#de77ae"
            ],
            [
             0.3,
             "#f1b6da"
            ],
            [
             0.4,
             "#fde0ef"
            ],
            [
             0.5,
             "#f7f7f7"
            ],
            [
             0.6,
             "#e6f5d0"
            ],
            [
             0.7,
             "#b8e186"
            ],
            [
             0.8,
             "#7fbc41"
            ],
            [
             0.9,
             "#4d9221"
            ],
            [
             1,
             "#276419"
            ]
           ],
           "sequential": [
            [
             0,
             "#0d0887"
            ],
            [
             0.1111111111111111,
             "#46039f"
            ],
            [
             0.2222222222222222,
             "#7201a8"
            ],
            [
             0.3333333333333333,
             "#9c179e"
            ],
            [
             0.4444444444444444,
             "#bd3786"
            ],
            [
             0.5555555555555556,
             "#d8576b"
            ],
            [
             0.6666666666666666,
             "#ed7953"
            ],
            [
             0.7777777777777778,
             "#fb9f3a"
            ],
            [
             0.8888888888888888,
             "#fdca26"
            ],
            [
             1,
             "#f0f921"
            ]
           ],
           "sequentialminus": [
            [
             0,
             "#0d0887"
            ],
            [
             0.1111111111111111,
             "#46039f"
            ],
            [
             0.2222222222222222,
             "#7201a8"
            ],
            [
             0.3333333333333333,
             "#9c179e"
            ],
            [
             0.4444444444444444,
             "#bd3786"
            ],
            [
             0.5555555555555556,
             "#d8576b"
            ],
            [
             0.6666666666666666,
             "#ed7953"
            ],
            [
             0.7777777777777778,
             "#fb9f3a"
            ],
            [
             0.8888888888888888,
             "#fdca26"
            ],
            [
             1,
             "#f0f921"
            ]
           ]
          },
          "colorway": [
           "#636efa",
           "#EF553B",
           "#00cc96",
           "#ab63fa",
           "#FFA15A",
           "#19d3f3",
           "#FF6692",
           "#B6E880",
           "#FF97FF",
           "#FECB52"
          ],
          "font": {
           "color": "#2a3f5f"
          },
          "geo": {
           "bgcolor": "white",
           "lakecolor": "white",
           "landcolor": "#E5ECF6",
           "showlakes": true,
           "showland": true,
           "subunitcolor": "white"
          },
          "hoverlabel": {
           "align": "left"
          },
          "hovermode": "closest",
          "mapbox": {
           "style": "light"
          },
          "paper_bgcolor": "white",
          "plot_bgcolor": "#E5ECF6",
          "polar": {
           "angularaxis": {
            "gridcolor": "white",
            "linecolor": "white",
            "ticks": ""
           },
           "bgcolor": "#E5ECF6",
           "radialaxis": {
            "gridcolor": "white",
            "linecolor": "white",
            "ticks": ""
           }
          },
          "scene": {
           "xaxis": {
            "backgroundcolor": "#E5ECF6",
            "gridcolor": "white",
            "gridwidth": 2,
            "linecolor": "white",
            "showbackground": true,
            "ticks": "",
            "zerolinecolor": "white"
           },
           "yaxis": {
            "backgroundcolor": "#E5ECF6",
            "gridcolor": "white",
            "gridwidth": 2,
            "linecolor": "white",
            "showbackground": true,
            "ticks": "",
            "zerolinecolor": "white"
           },
           "zaxis": {
            "backgroundcolor": "#E5ECF6",
            "gridcolor": "white",
            "gridwidth": 2,
            "linecolor": "white",
            "showbackground": true,
            "ticks": "",
            "zerolinecolor": "white"
           }
          },
          "shapedefaults": {
           "line": {
            "color": "#2a3f5f"
           }
          },
          "ternary": {
           "aaxis": {
            "gridcolor": "white",
            "linecolor": "white",
            "ticks": ""
           },
           "baxis": {
            "gridcolor": "white",
            "linecolor": "white",
            "ticks": ""
           },
           "bgcolor": "#E5ECF6",
           "caxis": {
            "gridcolor": "white",
            "linecolor": "white",
            "ticks": ""
           }
          },
          "title": {
           "x": 0.05
          },
          "xaxis": {
           "automargin": true,
           "gridcolor": "white",
           "linecolor": "white",
           "ticks": "",
           "title": {
            "standoff": 15
           },
           "zerolinecolor": "white",
           "zerolinewidth": 2
          },
          "yaxis": {
           "automargin": true,
           "gridcolor": "white",
           "linecolor": "white",
           "ticks": "",
           "title": {
            "standoff": 15
           },
           "zerolinecolor": "white",
           "zerolinewidth": 2
          }
         }
        },
        "title": {
         "text": "Relationship Between DBO_E and PH_S"
        },
        "xaxis": {
         "anchor": "y",
         "domain": [
          0,
          1
         ],
         "title": {
          "text": "Input BOD (DBO_E)"
         }
        },
        "yaxis": {
         "anchor": "x",
         "domain": [
          0,
          1
         ],
         "title": {
          "text": "Output pH (PH_S)"
         }
        }
       }
      }
     },
     "metadata": {},
     "output_type": "display_data"
    }
   ],
   "source": [
    "# TODO: Create an interactive scatter plot with tooltips\n"
   ]
  },
  {
   "cell_type": "markdown",
   "metadata": {},
   "source": [
    "\n",
    "### **3. Heatmap: Correlations Between Key Variables**\n",
    "#### **Tasks**\n",
    "1. Compute the **correlation matrix** for numerical variables in the dataset.\n",
    "2. Create an **interactive heatmap** to visualize correlations. *Use `imshow` for plotting the heatmap*\n",
    "3. Identify the strongest and weakest correlations from the heatmap.\n",
    "\n"
   ]
  },
  {
   "cell_type": "code",
   "execution_count": null,
   "metadata": {},
   "outputs": [
    {
     "data": {
      "application/vnd.plotly.v1+json": {
       "config": {
        "plotlyServerURL": "https://plot.ly"
       },
       "data": [
        {
         "coloraxis": "coloraxis",
         "hovertemplate": "x: %{x}<br>y: %{y}<br>color: %{z}<extra></extra>",
         "name": "0",
         "type": "heatmap",
         "x": [
          "Q-E",
          "ZN-E",
          "PH-E",
          "DBO-E",
          "DQO-E",
          "SS-E",
          "SSV-E",
          "SED-E",
          "COND-E",
          "PH-P",
          "DBO-P",
          "SS-P",
          "SSV-P",
          "SED-P",
          "COND-P",
          "PH-D",
          "DBO-D",
          "DQO-D",
          "SS-D",
          "SSV-D",
          "SED-D",
          "COND-D",
          "RD-DBO-P",
          "RD-SS-P",
          "RD-SED-P",
          "RD-DBO-S",
          "RD-DQO-S",
          "RD-DBO-G",
          "RD-DQO-G",
          "RD-SS-G",
          "RD-SED-G",
          "PH-S",
          "DBO-S",
          "DQO-S",
          "SS-S",
          "SSV-S",
          "SED-S",
          "COND-S"
         ],
         "xaxis": "x",
         "y": [
          "Q-E",
          "ZN-E",
          "PH-E",
          "DBO-E",
          "DQO-E",
          "SS-E",
          "SSV-E",
          "SED-E",
          "COND-E",
          "PH-P",
          "DBO-P",
          "SS-P",
          "SSV-P",
          "SED-P",
          "COND-P",
          "PH-D",
          "DBO-D",
          "DQO-D",
          "SS-D",
          "SSV-D",
          "SED-D",
          "COND-D",
          "RD-DBO-P",
          "RD-SS-P",
          "RD-SED-P",
          "RD-DBO-S",
          "RD-DQO-S",
          "RD-DBO-G",
          "RD-DQO-G",
          "RD-SS-G",
          "RD-SED-G",
          "PH-S",
          "DBO-S",
          "DQO-S",
          "SS-S",
          "SSV-S",
          "SED-S",
          "COND-S"
         ],
         "yaxis": "y",
         "z": [
          [
           1,
           0.036530017709525554,
           0.1422534183847826,
           -0.24216737211736974,
           -0.3367016137346933,
           -0.010182356748431869,
           -0.32736795446078315,
           -0.12483062567107348,
           -0.08269215307178472,
           0.15805656129504128,
           -0.21998806728436654,
           -0.027452796447497305,
           -0.30528065550264694,
           -0.13804438034493866,
           -0.07195243217926743,
           0.1291669665622104,
           -0.19232132681302924,
           -0.22625546234960767,
           -0.06183542339953511,
           -0.3418137892490006,
           -0.08041326192303015,
           -0.09451056712885283,
           -0.06003013810062096,
           -0.027790861560121494,
           -0.05568379612549263,
           -0.030239633112197625,
           -0.07745776497021582,
           -0.09592926574572279,
           -0.1945878166285726,
           -0.021379421779284594,
           0.0009995745490700414,
           0.0401728633855487,
           0.0009289452536055079,
           -0.07097999161905734,
           -0.021058378452734082,
           -0.12198175235284656,
           -0.0016158667337129622,
           -0.07133739740992995
          ],
          [
           0.036530017709525554,
           1,
           -0.010420577910488968,
           -0.008535413587557073,
           0.08193288914753488,
           0.09066743694261256,
           -0.09588796047796407,
           0.0826875154740208,
           0.05582213451476016,
           0.0000668474804284645,
           0.03526226533025569,
           0.03128711326973081,
           -0.06579413060069501,
           0.06386056186259315,
           0.05324395405640242,
           0.030550911968860645,
           0.10462887014507194,
           0.07654557988182575,
           0.09444631553544684,
           -0.02252225266853975,
           0.07041332261932202,
           0.06333763341010792,
           -0.062282291355693103,
           0.04901334822728356,
           0.010190603360557158,
           0.06609970722769629,
           0.021657447724153994,
           0.03140760485212734,
           0.03893972812698147,
           0.1363042991360351,
           0.03258642259708701,
           -0.095350231781016,
           -0.014820622516405552,
           0.010347097336143566,
           -0.06081236488534856,
           0.08958720547049326,
           -0.044220603313743764,
           0.07268737044813413
          ],
          [
           0.1422534183847826,
           -0.010420577910488968,
           1,
           0.21196197078540546,
           0.18123920093929832,
           -0.04722995943746901,
           0.18776746080168796,
           0.057356368119959054,
           0.27285093232128094,
           0.9029085369629181,
           0.22308932665626344,
           -0.03084976476868443,
           0.18982189265003324,
           0.05326030096319936,
           0.2840035465631256,
           0.8220780135677439,
           0.30275483622772154,
           0.2629642175803886,
           0.13614211482432306,
           0.13231352870967888,
           0.19330949464274375,
           0.26559600725045734,
           -0.03595172809629869,
           -0.1548421268784426,
           -0.1380489600558978,
           0.19529499326055877,
           0.21968544468723394,
           0.11811349019870353,
           0.14513186385257756,
           0.06269763087096604,
           0.039305878664541716,
           0.3314286367392306,
           -0.03214680584181391,
           -0.048152637881255164,
           -0.08639278910687007,
           0.09907846105126494,
           -0.030085094034578694,
           0.23597838700330506
          ],
          [
           -0.24216737211736974,
           -0.008535413587557073,
           0.21196197078540546,
           1,
           0.562012152725474,
           0.13617966332933065,
           0.2575638643560255,
           0.2812704870595872,
           0.22165968845537212,
           0.20154748210889475,
           0.7324201245715698,
           0.13049540785561448,
           0.21691771353021605,
           0.262013133759941,
           0.23921706974162485,
           0.20867140432462042,
           0.6328407528722098,
           0.5023701372242736,
           0.32728627661634113,
           0.17148798354498426,
           0.27581531141845317,
           0.26570996974136546,
           0.19691821379123625,
           -0.018955633890162304,
           -0.058444784186161974,
           0.16560683538190868,
           0.10527098136658232,
           0.3088657099526934,
           0.16561657667325355,
           0.017359503089223502,
           -0.04215291217837011,
           0.002294538167727038,
           0.14059123342174137,
           0.21873695354477124,
           0.10829792699803917,
           0.024955415112775374,
           0.056113048525513416,
           0.21658260288392717
          ],
          [
           -0.3367016137346933,
           0.08193288914753488,
           0.18123920093929832,
           0.562012152725474,
           1,
           0.2869487386403382,
           0.2615877166407251,
           0.4396800534177773,
           0.3105081977548102,
           0.1746540800416769,
           0.5459685496905293,
           0.2364234685544006,
           0.21825809277660305,
           0.38728142151399947,
           0.3156806725660389,
           0.18867251307720118,
           0.5340117467600591,
           0.6508359918136363,
           0.3379294129896802,
           0.1724023932334534,
           0.26513869277082786,
           0.335129377137199,
           0.09612063151354659,
           0.12559802349506005,
           0.04565091490020636,
           0.06902115252956709,
           0.08446764309032534,
           0.11473917449245088,
           0.3164317743129112,
           0.10828066786690428,
           0.005571170483396906,
           -0.02050647695315371,
           0.10829015083362455,
           0.31559196592228267,
           0.07978934830693515,
           0.07397202261758908,
           0.023570399253071198,
           0.28020773388169634
          ],
          [
           -0.010182356748431869,
           0.09066743694261256,
           -0.04722995943746901,
           0.13617966332933065,
           0.2869487386403382,
           1,
           -0.5490502162542475,
           0.7042968273444515,
           0.08314980212559972,
           -0.10082911336050154,
           0.12199326580038013,
           0.8773386101164801,
           -0.5036279187957254,
           0.6802872110344185,
           0.07975039396072611,
           -0.07180029101673266,
           0.00023179103641309277,
           -0.027511772247407557,
           0.20382286701524172,
           -0.2724983269034327,
           0.06670213852268082,
           0.07931068531014822,
           0.18699299527958063,
           0.47899909915597155,
           0.15642821356080588,
           -0.006954764674192545,
           -0.0410448585218335,
           0.07897341168721715,
           0.1570302474542823,
           0.2586272244691259,
           0.00618637232320075,
           0.04179173126314424,
           0.015178871596932661,
           0.03386074638886783,
           0.006588255063175322,
           -0.12090695244475388,
           0.01762090530133376,
           0.07797319447563825
          ],
          [
           -0.32736795446078315,
           -0.09588796047796407,
           0.18776746080168796,
           0.2575638643560255,
           0.2615877166407251,
           -0.5490502162542475,
           1,
           -0.14198543114788062,
           0.16939667639687736,
           0.2241474683475743,
           0.2563845171986639,
           -0.5051326196493333,
           0.8714552108671273,
           -0.16111731593866904,
           0.1667986164221946,
           0.1947610232952483,
           0.3928533595484778,
           0.45128100349511946,
           -0.07516285921587494,
           0.6811476370571704,
           0.10103324606527765,
           0.19613359225544832,
           -0.15715655465302944,
           -0.4072887429431291,
           -0.07472681696287578,
           0.09454961280295258,
           0.16786475358018338,
           0.016416544694334297,
           0.06789761063971311,
           -0.19996767531557963,
           0.02878371263090053,
           -0.08553878434539058,
           0.012188036378128786,
           0.11060872508585524,
           -0.0010818410962315588,
           0.36087142061574573,
           -0.01829272331903647,
           0.16190771146239333
          ],
          [
           -0.12483062567107348,
           0.0826875154740208,
           0.057356368119959054,
           0.2812704870595872,
           0.4396800534177773,
           0.7042968273444515,
           -0.14198543114788062,
           1,
           0.19227933470599748,
           0.05034840614692628,
           0.2612765787113276,
           0.6398843039830929,
           -0.15113887344673613,
           0.8468317034393105,
           0.18701486778109183,
           0.07974810276490729,
           0.21910269085965764,
           0.21399041406280098,
           0.18729384003864818,
           0.02714877223381401,
           0.15572521022212796,
           0.19302079958544888,
           0.08762893442318394,
           0.33213192477717385,
           0.1423851318383674,
           0.0392617334615303,
           0.09993270309107843,
           0.08843786849531665,
           0.22827216216606974,
           0.20015869693221164,
           0.04727806266361167,
           -0.006131511774486957,
           0.03499258517832558,
           0.06419279654165057,
           -0.004932792535105015,
           0.029753627770964526,
           0.01217654836204101,
           0.1601651118409218
          ],
          [
           -0.08269215307178472,
           0.05582213451476016,
           0.27285093232128094,
           0.22165968845537212,
           0.3105081977548102,
           0.08314980212559972,
           0.16939667639687736,
           0.19227933470599748,
           1,
           0.24497406956826653,
           0.21499412400215281,
           0.09123949938240962,
           0.15997808900738583,
           0.181545002632218,
           0.9731474356589868,
           0.23033840321252405,
           0.29768204164621387,
           0.3857949630159077,
           0.11443490681399585,
           0.12473701321264226,
           0.11606928756225897,
           0.9401651404354858,
           -0.033729784898811,
           0.058941122981591786,
           0.04558363876706659,
           0.13113985810552634,
           0.0843197590930468,
           0.0990016822739461,
           0.049562510251275796,
           0.027349387067120163,
           0.05541389237818073,
           0.06373473058772922,
           0.01636009007002085,
           0.1605745908182468,
           0.03650937971190763,
           -0.002220897043627562,
           -0.037450949588611476,
           0.9065676352159991
          ],
          [
           0.15805656129504128,
           0.0000668474804284645,
           0.9029085369629181,
           0.20154748210889475,
           0.1746540800416769,
           -0.10082911336050154,
           0.2241474683475743,
           0.05034840614692628,
           0.24497406956826653,
           1,
           0.20872990900333308,
           -0.09257713493621408,
           0.19587149692170877,
           0.026009406680562095,
           0.2587894632099097,
           0.8945216094570153,
           0.2800056838044044,
           0.2767313772002676,
           0.13376768795195357,
           0.1387439690266954,
           0.2084509373709637,
           0.24695112949543244,
           -0.042683731806788576,
           -0.19338216170552486,
           -0.16433845390343768,
           0.16125322259526392,
           0.19906687634233095,
           0.07465398308689719,
           0.11233084397977956,
           0.02990391304105685,
           0.03326413616517181,
           0.3824074237644589,
           -0.020136587289661705,
           -0.02921325745166299,
           -0.08299899354813359,
           0.125519496202664,
           -0.0149295880903723,
           0.2099047166587332
          ],
          [
           -0.21998806728436654,
           0.03526226533025569,
           0.22308932665626344,
           0.7324201245715698,
           0.5459685496905293,
           0.12199326580038013,
           0.2563845171986639,
           0.2612765787113276,
           0.21499412400215281,
           0.20872990900333308,
           1,
           0.2132963446515163,
           0.18742154435738428,
           0.35505404482745695,
           0.2276565280045738,
           0.22768417594397972,
           0.6587898891754461,
           0.5184690859868021,
           0.3651498748911608,
           0.13696620696822057,
           0.23022712788898136,
           0.2534844799869385,
           0.4872603198069385,
           0.05234905102351152,
           0.06106547922288467,
           0.20658137882289151,
           0.12759574264972032,
           0.22243831232913297,
           0.15174485243048366,
           0.04838977865693121,
           -0.019953549899236055,
           -0.006901582201042063,
           0.07472228272088166,
           0.19290145404097697,
           0.042074627323309695,
           0.06770998730243169,
           0.02565103820065039,
           0.20065189564385358
          ],
          [
           -0.027452796447497305,
           0.03128711326973081,
           -0.03084976476868443,
           0.13049540785561448,
           0.2364234685544006,
           0.8773386101164801,
           -0.5051326196493333,
           0.6398843039830929,
           0.09123949938240962,
           -0.09257713493621408,
           0.2132963446515163,
           1,
           -0.5486547794132309,
           0.8050468670725429,
           0.09034902662023095,
           -0.053878505130392884,
           0.04526440347843777,
           -0.0035778785255680882,
           0.2884482260885658,
           -0.3143352997718207,
           0.07120076830576726,
           0.10175497513003895,
           0.2493732041941766,
           0.5973497481771948,
           0.20935556456496088,
           0.004309288716811156,
           -0.03082653938058517,
           0.06901103777593966,
           0.13568040153653232,
           0.2511285219239094,
           0.03946282976252298,
           0.04030209774645317,
           0.005664394020882142,
           0.023193039685273767,
           -0.02404711974497568,
           -0.12024841664906273,
           -0.01798872692963776,
           0.08887905265536405
          ],
          [
           -0.30528065550264694,
           -0.06579413060069501,
           0.18982189265003324,
           0.21691771353021605,
           0.21825809277660305,
           -0.5036279187957254,
           0.8714552108671273,
           -0.15113887344673613,
           0.15997808900738583,
           0.19587149692170877,
           0.18742154435738428,
           -0.5486547794132309,
           1,
           -0.22519504734654586,
           0.15663094000655567,
           0.14555870555829106,
           0.3571710353735722,
           0.4310471526808969,
           -0.09961814294995389,
           0.6931870137439518,
           0.10826773292161758,
           0.17571549812794066,
           -0.19920419344329654,
           -0.497387587881918,
           -0.12665863227348692,
           0.08194857752595505,
           0.12477504239624869,
           -0.006404684473433652,
           0.004281644659152176,
           -0.22521235886667604,
           0.02545078647664889,
           -0.11293754531121215,
           0.003693587389307067,
           0.13206443357864955,
           0.03086404545185573,
           0.3433278638015379,
           -0.023852300463067577,
           0.15898090452187982
          ],
          [
           -0.13804438034493866,
           0.06386056186259315,
           0.05326030096319936,
           0.262013133759941,
           0.38728142151399947,
           0.6802872110344185,
           -0.16111731593866904,
           0.8468317034393105,
           0.181545002632218,
           0.026009406680562095,
           0.35505404482745695,
           0.8050468670725429,
           -0.22519504734654586,
           1,
           0.182605095829716,
           0.04933437559402504,
           0.263702448639731,
           0.24553525917241234,
           0.28796371419073613,
           -0.03863879898255284,
           0.1412888280241215,
           0.19930499680184,
           0.16359881105853438,
           0.4454200507628742,
           0.23320616362150567,
           0.03076370632533011,
           0.05628820171766076,
           0.04798634246982291,
           0.15575261230854387,
           0.15816168984206846,
           0.033185504408111834,
           -0.032752104217079775,
           0.0565921621603748,
           0.10438093278671597,
           0.0260757344876412,
           0.029942889532532595,
           0.00003186483405353821,
           0.15821641956513657
          ],
          [
           -0.07195243217926743,
           0.05324395405640242,
           0.2840035465631256,
           0.23921706974162485,
           0.3156806725660389,
           0.07975039396072611,
           0.1667986164221946,
           0.18701486778109183,
           0.9731474356589868,
           0.2587894632099097,
           0.2276565280045738,
           0.09034902662023095,
           0.15663094000655567,
           0.182605095829716,
           1,
           0.24326630825909312,
           0.30963796334075533,
           0.41274114210986523,
           0.13377945310829617,
           0.11953821830481161,
           0.13779980249401497,
           0.9475646681531578,
           -0.03930218468034675,
           0.04899969331104401,
           0.020675011476308458,
           0.13788902783840234,
           0.08931784557079049,
           0.10802830316050102,
           0.03769267530227627,
           0.019514397104469457,
           0.05933220417589119,
           0.07248627837862182,
           0.00916257523196094,
           0.1730027567775054,
           0.041346829539706746,
           -0.0058926223244103485,
           -0.04189549221528214,
           0.918052481914447
          ],
          [
           0.1291669665622104,
           0.030550911968860645,
           0.8220780135677439,
           0.20867140432462042,
           0.18867251307720118,
           -0.07180029101673266,
           0.1947610232952483,
           0.07974810276490729,
           0.23033840321252405,
           0.8945216094570153,
           0.22768417594397972,
           -0.053878505130392884,
           0.14555870555829106,
           0.04933437559402504,
           0.24326630825909312,
           1,
           0.24677268290392715,
           0.24386723800574822,
           0.13692385319581432,
           0.09930219560041133,
           0.20761335419033236,
           0.23468588576546526,
           0.013363927947895397,
           -0.13268434415617053,
           -0.15362203429428087,
           0.2014661327513878,
           0.23455348791363964,
           0.15559466766851515,
           0.17035983404529328,
           0.12610784970239594,
           0.10899723662975891,
           0.49564794310446464,
           -0.08142048462265064,
           -0.07997054315961655,
           -0.1613336250417687,
           0.08089995805291036,
           -0.09735964894552969,
           0.19709682519784605
          ],
          [
           -0.19232132681302924,
           0.10462887014507194,
           0.30275483622772154,
           0.6328407528722098,
           0.5340117467600591,
           0.00023179103641309277,
           0.3928533595484778,
           0.21910269085965764,
           0.29768204164621387,
           0.2800056838044044,
           0.6587898891754461,
           0.04526440347843777,
           0.3571710353735722,
           0.263702448639731,
           0.30963796334075533,
           0.24677268290392715,
           1,
           0.7779142648704805,
           0.43644566653938655,
           0.2676799766796578,
           0.31582027144186914,
           0.3450668214590937,
           -0.27098774754487975,
           -0.17949009556197443,
           -0.1065458264208965,
           0.26197144312658227,
           0.21905387062765183,
           0.07290875109148501,
           0.06321941668035329,
           -0.09641241418087054,
           -0.06718588965924274,
           -0.12264055504045615,
           0.18011478402049527,
           0.2949382068889119,
           0.17000988049608742,
           0.16063810275446336,
           0.08734364593055996,
           0.30457439935589103
          ],
          [
           -0.22625546234960767,
           0.07654557988182575,
           0.2629642175803886,
           0.5023701372242736,
           0.6508359918136363,
           -0.027511772247407557,
           0.45128100349511946,
           0.21399041406280098,
           0.3857949630159077,
           0.2767313772002676,
           0.5184690859868021,
           -0.0035778785255680882,
           0.4310471526808969,
           0.24553525917241234,
           0.41274114210986523,
           0.24386723800574822,
           0.7779142648704805,
           1,
           0.4150311278578549,
           0.28852519142963373,
           0.40105846285863705,
           0.445744896146755,
           -0.23979902113774795,
           -0.19946197816894387,
           -0.1573790101811324,
           0.10693154346187428,
           0.21022108153538674,
           -0.017825723310073115,
           -0.004333167776259699,
           -0.12083336017515378,
           -0.0736586464972313,
           -0.15298956425408736,
           0.21455657115666163,
           0.4663567300823231,
           0.20569889812458805,
           0.19082336588565196,
           0.09815768934440441,
           0.3855727963582081
          ],
          [
           -0.06183542339953511,
           0.09444631553544684,
           0.13614211482432306,
           0.32728627661634113,
           0.3379294129896802,
           0.20382286701524172,
           -0.07516285921587494,
           0.18729384003864818,
           0.11443490681399585,
           0.13376768795195357,
           0.3651498748911608,
           0.2884482260885658,
           -0.09961814294995389,
           0.28796371419073613,
           0.13377945310829617,
           0.13692385319581432,
           0.43644566653938655,
           0.4150311278578549,
           1,
           -0.39737634194410715,
           0.574925094473606,
           0.13318247586619048,
           0.030011227263688472,
           -0.2923475274073989,
           -0.3675114962243664,
           0.04609786161745705,
           0.14612601925483915,
           0.03411622613029387,
           0.0587964434533183,
           0.04438334015213897,
           -0.043135125440207304,
           0.03065516155923657,
           0.12065628929861826,
           0.15522389338304585,
           0.12058842353975024,
           -0.05642020971448654,
           0.040475549344766486,
           0.129284390377082
          ],
          [
           -0.3418137892490006,
           -0.02252225266853975,
           0.13231352870967888,
           0.17148798354498426,
           0.1724023932334534,
           -0.2724983269034327,
           0.6811476370571704,
           0.02714877223381401,
           0.12473701321264226,
           0.1387439690266954,
           0.13696620696822057,
           -0.3143352997718207,
           0.6931870137439518,
           -0.03863879898255284,
           0.11953821830481161,
           0.09930219560041133,
           0.2676799766796578,
           0.28852519142963373,
           -0.39737634194410715,
           1,
           -0.07410756646417299,
           0.15061041169800785,
           -0.18257186876819018,
           -0.09948998428603956,
           0.11914578391387987,
           0.09702679188156824,
           0.09342668371065707,
           0.008241510335902136,
           0.041570493467749284,
           -0.12997751347962228,
           0.04168220115079688,
           -0.12002040641459266,
           -0.014150747747172801,
           0.06784176485758546,
           -0.01279950644744382,
           0.4626599912726468,
           -0.028175460334883794,
           0.11816364880541258
          ],
          [
           -0.08041326192303015,
           0.07041332261932202,
           0.19330949464274375,
           0.27581531141845317,
           0.26513869277082786,
           0.06670213852268082,
           0.10103324606527765,
           0.15572521022212796,
           0.11606928756225897,
           0.2084509373709637,
           0.23022712788898136,
           0.07120076830576726,
           0.10826773292161758,
           0.1412888280241215,
           0.13779980249401497,
           0.20761335419033236,
           0.31582027144186914,
           0.40105846285863705,
           0.574925094473606,
           -0.07410756646417299,
           1,
           0.1369493018570019,
           -0.09927863635254097,
           -0.3473073613951597,
           -0.7787728945595344,
           -0.027393056676463804,
           0.16109046247908815,
           -0.017805991197210557,
           0.05288907282706744,
           0.010462627036493739,
           -0.04165232029516985,
           0.029578554079608743,
           0.09373101116956312,
           0.10417154095835829,
           0.03462176456181807,
           0.1149361860889354,
           0.03339621397297626,
           0.13819574640185955
          ],
          [
           -0.09451056712885283,
           0.06333763341010792,
           0.26559600725045734,
           0.26570996974136546,
           0.335129377137199,
           0.07931068531014822,
           0.19613359225544832,
           0.19302079958544888,
           0.9401651404354858,
           0.24695112949543244,
           0.2534844799869385,
           0.10175497513003895,
           0.17571549812794066,
           0.19930499680184,
           0.9475646681531578,
           0.23468588576546526,
           0.3450668214590937,
           0.445744896146755,
           0.13318247586619048,
           0.15061041169800785,
           0.1369493018570019,
           1,
           -0.045671453347068715,
           0.06234683336191016,
           0.028955526706459758,
           0.1424830904507713,
           0.0961928100103137,
           0.10573684551236685,
           0.03869452422578855,
           0.010944349762627264,
           0.04231450030939249,
           0.04556837866855117,
           0.029757365123006526,
           0.19170149924526816,
           0.05438442801332646,
           0.007649502333265516,
           -0.019984259535317253,
           0.9510625997369956
          ],
          [
           -0.06003013810062096,
           -0.062282291355693103,
           -0.03595172809629869,
           0.19691821379123625,
           0.09612063151354659,
           0.18699299527958063,
           -0.15715655465302944,
           0.08762893442318394,
           -0.033729784898811,
           -0.042683731806788576,
           0.4872603198069385,
           0.2493732041941766,
           -0.19920419344329654,
           0.16359881105853438,
           -0.03930218468034675,
           0.013363927947895397,
           -0.27098774754487975,
           -0.23979902113774795,
           0.030011227263688472,
           -0.18257186876819018,
           -0.09927863635254097,
           -0.045671453347068715,
           1,
           0.3031897484942992,
           0.2267910971489374,
           -0.029771877929081196,
           -0.10144730459190866,
           0.2029970204172626,
           0.12316122017469419,
           0.1727333221524944,
           0.0807475977984081,
           0.13534185742223157,
           -0.1117380587394351,
           -0.10089548769562016,
           -0.11287868302176421,
           -0.10249847585930139,
           -0.09361744705934394,
           -0.07517725963650644
          ],
          [
           -0.027790861560121494,
           0.04901334822728356,
           -0.1548421268784426,
           -0.018955633890162304,
           0.12559802349506005,
           0.47899909915597155,
           -0.4072887429431291,
           0.33213192477717385,
           0.058941122981591786,
           -0.19338216170552486,
           0.05234905102351152,
           0.5973497481771948,
           -0.497387587881918,
           0.4454200507628742,
           0.04899969331104401,
           -0.13268434415617053,
           -0.17949009556197443,
           -0.19946197816894387,
           -0.2923475274073989,
           -0.09948998428603956,
           -0.3473073613951597,
           0.06234683336191016,
           0.3031897484942992,
           1,
           0.6105785172759671,
           -0.02521594698137714,
           -0.11710542427650776,
           0.065434925891386,
           0.1455057509377686,
           0.2668230349756938,
           0.11210329391864295,
           0.04261860987928766,
           -0.041945150120707264,
           -0.03488790098229927,
           -0.07991567734559207,
           -0.13035119890215424,
           -0.07992257518883589,
           0.041802125333862974
          ],
          [
           -0.05568379612549263,
           0.010190603360557158,
           -0.1380489600558978,
           -0.058444784186161974,
           0.04565091490020636,
           0.15642821356080588,
           -0.07472681696287578,
           0.1423851318383674,
           0.04558363876706659,
           -0.16433845390343768,
           0.06106547922288467,
           0.20935556456496088,
           -0.12665863227348692,
           0.23320616362150567,
           0.020675011476308458,
           -0.15362203429428087,
           -0.1065458264208965,
           -0.1573790101811324,
           -0.3675114962243664,
           0.11914578391387987,
           -0.7787728945595344,
           0.028955526706459758,
           0.2267910971489374,
           0.6105785172759671,
           1,
           0.033818168387534424,
           -0.13698872965590753,
           0.029978351184349203,
           0.03499959923196258,
           0.05162667513953605,
           0.0715511192974295,
           -0.04389288242047141,
           -0.02030729669412962,
           0.014159573903886837,
           0.01046187452853716,
           -0.06787834331481665,
           -0.043290070906249624,
           0.012228022400037388
          ],
          [
           -0.030239633112197625,
           0.06609970722769629,
           0.19529499326055877,
           0.16560683538190868,
           0.06902115252956709,
           -0.006954764674192545,
           0.09454961280295258,
           0.0392617334615303,
           0.13113985810552634,
           0.16125322259526392,
           0.20658137882289151,
           0.004309288716811156,
           0.08194857752595505,
           0.03076370632533011,
           0.13788902783840234,
           0.2014661327513878,
           0.26197144312658227,
           0.10693154346187428,
           0.04609786161745705,
           0.09702679188156824,
           -0.027393056676463804,
           0.1424830904507713,
           -0.029771877929081196,
           -0.02521594698137714,
           0.033818168387534424,
           1,
           0.500632345904667,
           0.8740881871709159,
           0.49984756490534055,
           0.5151681010956018,
           0.3758324358212269,
           0.056450306215691866,
           -0.790814037999372,
           -0.46441628194107465,
           -0.613680695019332,
           0.04470049076920474,
           -0.4059514339817653,
           0.10267454915627523
          ],
          [
           -0.07745776497021582,
           0.021657447724153994,
           0.21968544468723394,
           0.10527098136658232,
           0.08446764309032534,
           -0.0410448585218335,
           0.16786475358018338,
           0.09993270309107843,
           0.0843197590930468,
           0.19906687634233095,
           0.12759574264972032,
           -0.03082653938058517,
           0.12477504239624869,
           0.05628820171766076,
           0.08931784557079049,
           0.23455348791363964,
           0.21905387062765183,
           0.21022108153538674,
           0.14612601925483915,
           0.09342668371065707,
           0.16109046247908815,
           0.0961928100103137,
           -0.10144730459190866,
           -0.11710542427650776,
           -0.13698872965590753,
           0.500632345904667,
           1,
           0.4378279462542582,
           0.8001975660032399,
           0.42025616045985537,
           0.23462437696185254,
           0.06550201525962418,
           -0.3827726235556571,
           -0.7114193876174187,
           -0.46719168685313855,
           0.10284011222163406,
           -0.23259336430151362,
           0.05642571421096505
          ],
          [
           -0.09592926574572279,
           0.03140760485212734,
           0.11811349019870353,
           0.3088657099526934,
           0.11473917449245088,
           0.07897341168721715,
           0.016416544694334297,
           0.08843786849531665,
           0.0990016822739461,
           0.07465398308689719,
           0.22243831232913297,
           0.06901103777593966,
           -0.006404684473433652,
           0.04798634246982291,
           0.10802830316050102,
           0.15559466766851515,
           0.07290875109148501,
           -0.017825723310073115,
           0.03411622613029387,
           0.008241510335902136,
           -0.017805991197210557,
           0.10573684551236685,
           0.2029970204172626,
           0.065434925891386,
           0.029978351184349203,
           0.8740881871709159,
           0.4378279462542582,
           1,
           0.5734101736362321,
           0.6523468314718481,
           0.44139928083329205,
           0.12645414458576212,
           -0.831796123963732,
           -0.4844313360329493,
           -0.6724720174972764,
           -0.024504967130537292,
           -0.4610394588060937,
           0.06723015482068577
          ],
          [
           -0.1945878166285726,
           0.03893972812698147,
           0.14513186385257756,
           0.16561657667325355,
           0.3164317743129112,
           0.1570302474542823,
           0.06789761063971311,
           0.22827216216606974,
           0.049562510251275796,
           0.11233084397977956,
           0.15174485243048366,
           0.13568040153653232,
           0.004281644659152176,
           0.15575261230854387,
           0.03769267530227627,
           0.17035983404529328,
           0.06321941668035329,
           -0.004333167776259699,
           0.0587964434533183,
           0.041570493467749284,
           0.05288907282706744,
           0.03869452422578855,
           0.12316122017469419,
           0.1455057509377686,
           0.03499959923196258,
           0.49984756490534055,
           0.8001975660032399,
           0.5734101736362321,
           1,
           0.6057435648315977,
           0.31713380907764316,
           0.123738756053255,
           -0.5025620476403997,
           -0.7368684464628474,
           -0.5785006331828838,
           0.039043609442692244,
           -0.3008948539227091,
           -0.010074892843685995
          ],
          [
           -0.021379421779284594,
           0.1363042991360351,
           0.06269763087096604,
           0.017359503089223502,
           0.10828066786690428,
           0.2586272244691259,
           -0.19996767531557963,
           0.20015869693221164,
           0.027349387067120163,
           0.02990391304105685,
           0.04838977865693121,
           0.2511285219239094,
           -0.22521235886667604,
           0.15816168984206846,
           0.019514397104469457,
           0.12610784970239594,
           -0.09641241418087054,
           -0.12083336017515378,
           0.04438334015213897,
           -0.12997751347962228,
           0.010462627036493739,
           0.010944349762627264,
           0.1727333221524944,
           0.2668230349756938,
           0.05162667513953605,
           0.5151681010956018,
           0.42025616045985537,
           0.6523468314718481,
           0.6057435648315977,
           1,
           0.5525107747562005,
           0.20450156357854177,
           -0.6801261654720561,
           -0.554805353416906,
           -0.8687483450153473,
           0.0004399702904743994,
           -0.4903325281629946,
           -0.014805078836033164
          ],
          [
           0.0009995745490700414,
           0.03258642259708701,
           0.039305878664541716,
           -0.04215291217837011,
           0.005571170483396906,
           0.00618637232320075,
           0.02878371263090053,
           0.04727806266361167,
           0.05541389237818073,
           0.03326413616517181,
           -0.019953549899236055,
           0.03946282976252298,
           0.02545078647664889,
           0.033185504408111834,
           0.05933220417589119,
           0.10899723662975891,
           -0.06718588965924274,
           -0.0736586464972313,
           -0.043135125440207304,
           0.04168220115079688,
           -0.04165232029516985,
           0.04231450030939249,
           0.0807475977984081,
           0.11210329391864295,
           0.0715511192974295,
           0.3758324358212269,
           0.23462437696185254,
           0.44139928083329205,
           0.31713380907764316,
           0.5525107747562005,
           1,
           0.10996305965491351,
           -0.7086676293867767,
           -0.4327661244865192,
           -0.662589577306824,
           0.02915328797269432,
           -0.9602742552977365,
           0.03222759757532728
          ],
          [
           0.0401728633855487,
           -0.095350231781016,
           0.3314286367392306,
           0.002294538167727038,
           -0.02050647695315371,
           0.04179173126314424,
           -0.08553878434539058,
           -0.006131511774486957,
           0.06373473058772922,
           0.3824074237644589,
           -0.006901582201042063,
           0.04030209774645317,
           -0.11293754531121215,
           -0.032752104217079775,
           0.07248627837862182,
           0.49564794310446464,
           -0.12264055504045615,
           -0.15298956425408736,
           0.03065516155923657,
           -0.12002040641459266,
           0.029578554079608743,
           0.04556837866855117,
           0.13534185742223157,
           0.04261860987928766,
           -0.04389288242047141,
           0.056450306215691866,
           0.06550201525962418,
           0.12645414458576212,
           0.123738756053255,
           0.20450156357854177,
           0.10996305965491351,
           1,
           -0.1603547965651992,
           -0.20723279632894068,
           -0.20755135297099406,
           -0.10245027851790645,
           -0.10423414404360444,
           0.04747071254745959
          ],
          [
           0.0009289452536055079,
           -0.014820622516405552,
           -0.03214680584181391,
           0.14059123342174137,
           0.10829015083362455,
           0.015178871596932661,
           0.012188036378128786,
           0.03499258517832558,
           0.01636009007002085,
           -0.020136587289661705,
           0.07472228272088166,
           0.005664394020882142,
           0.003693587389307067,
           0.0565921621603748,
           0.00916257523196094,
           -0.08142048462265064,
           0.18011478402049527,
           0.21455657115666163,
           0.12065628929861826,
           -0.014150747747172801,
           0.09373101116956312,
           0.029757365123006526,
           -0.1117380587394351,
           -0.041945150120707264,
           -0.02030729669412962,
           -0.790814037999372,
           -0.3827726235556571,
           -0.831796123963732,
           -0.5025620476403997,
           -0.6801261654720561,
           -0.7086676293867767,
           -0.1603547965651992,
           1,
           0.6438231196866377,
           0.8675087954864353,
           0.01175499994370703,
           0.6644988125964391,
           0.03683948404159825
          ],
          [
           -0.07097999161905734,
           0.010347097336143566,
           -0.048152637881255164,
           0.21873695354477124,
           0.31559196592228267,
           0.03386074638886783,
           0.11060872508585524,
           0.06419279654165057,
           0.1605745908182468,
           -0.02921325745166299,
           0.19290145404097697,
           0.023193039685273767,
           0.13206443357864955,
           0.10438093278671597,
           0.1730027567775054,
           -0.07997054315961655,
           0.2949382068889119,
           0.4663567300823231,
           0.15522389338304585,
           0.06784176485758546,
           0.10417154095835829,
           0.19170149924526816,
           -0.10089548769562016,
           -0.03488790098229927,
           0.014159573903886837,
           -0.46441628194107465,
           -0.7114193876174187,
           -0.4844313360329493,
           -0.7368684464628474,
           -0.554805353416906,
           -0.4327661244865192,
           -0.20723279632894068,
           0.6438231196866377,
           1,
           0.684183297004552,
           0.018072149844335108,
           0.438777704255656,
           0.19559592202252843
          ],
          [
           -0.021058378452734082,
           -0.06081236488534856,
           -0.08639278910687007,
           0.10829792699803917,
           0.07978934830693515,
           0.006588255063175322,
           -0.0010818410962315588,
           -0.004932792535105015,
           0.03650937971190763,
           -0.08299899354813359,
           0.042074627323309695,
           -0.02404711974497568,
           0.03086404545185573,
           0.0260757344876412,
           0.041346829539706746,
           -0.1613336250417687,
           0.17000988049608742,
           0.20569889812458805,
           0.12058842353975024,
           -0.01279950644744382,
           0.03462176456181807,
           0.05438442801332646,
           -0.11287868302176421,
           -0.07991567734559207,
           0.01046187452853716,
           -0.613680695019332,
           -0.46719168685313855,
           -0.6724720174972764,
           -0.5785006331828838,
           -0.8687483450153473,
           -0.662589577306824,
           -0.20755135297099406,
           0.8675087954864353,
           0.684183297004552,
           1,
           -0.06135845249943089,
           0.617831388275736,
           0.07628325291099969
          ],
          [
           -0.12198175235284656,
           0.08958720547049326,
           0.09907846105126494,
           0.024955415112775374,
           0.07397202261758908,
           -0.12090695244475388,
           0.36087142061574573,
           0.029753627770964526,
           -0.002220897043627562,
           0.125519496202664,
           0.06770998730243169,
           -0.12024841664906273,
           0.3433278638015379,
           0.029942889532532595,
           -0.0058926223244103485,
           0.08089995805291036,
           0.16063810275446336,
           0.19082336588565196,
           -0.05642020971448654,
           0.4626599912726468,
           0.1149361860889354,
           0.007649502333265516,
           -0.10249847585930139,
           -0.13035119890215424,
           -0.06787834331481665,
           0.04470049076920474,
           0.10284011222163406,
           -0.024504967130537292,
           0.039043609442692244,
           0.0004399702904743994,
           0.02915328797269432,
           -0.10245027851790645,
           0.01175499994370703,
           0.018072149844335108,
           -0.06135845249943089,
           1,
           -0.026646284222302398,
           0.0021160084323045445
          ],
          [
           -0.0016158667337129622,
           -0.044220603313743764,
           -0.030085094034578694,
           0.056113048525513416,
           0.023570399253071198,
           0.01762090530133376,
           -0.01829272331903647,
           0.01217654836204101,
           -0.037450949588611476,
           -0.0149295880903723,
           0.02565103820065039,
           -0.01798872692963776,
           -0.023852300463067577,
           0.00003186483405353821,
           -0.04189549221528214,
           -0.09735964894552969,
           0.08734364593055996,
           0.09815768934440441,
           0.040475549344766486,
           -0.028175460334883794,
           0.03339621397297626,
           -0.019984259535317253,
           -0.09361744705934394,
           -0.07992257518883589,
           -0.043290070906249624,
           -0.4059514339817653,
           -0.23259336430151362,
           -0.4610394588060937,
           -0.3008948539227091,
           -0.4903325281629946,
           -0.9602742552977365,
           -0.10423414404360444,
           0.6644988125964391,
           0.438777704255656,
           0.617831388275736,
           -0.026646284222302398,
           1,
           -0.01492656583159375
          ],
          [
           -0.07133739740992995,
           0.07268737044813413,
           0.23597838700330506,
           0.21658260288392717,
           0.28020773388169634,
           0.07797319447563825,
           0.16190771146239333,
           0.1601651118409218,
           0.9065676352159991,
           0.2099047166587332,
           0.20065189564385358,
           0.08887905265536405,
           0.15898090452187982,
           0.15821641956513657,
           0.918052481914447,
           0.19709682519784605,
           0.30457439935589103,
           0.3855727963582081,
           0.129284390377082,
           0.11816364880541258,
           0.13819574640185955,
           0.9510625997369956,
           -0.07517725963650644,
           0.041802125333862974,
           0.012228022400037388,
           0.10267454915627523,
           0.05642571421096505,
           0.06723015482068577,
           -0.010074892843685995,
           -0.014805078836033164,
           0.03222759757532728,
           0.04747071254745959,
           0.03683948404159825,
           0.19559592202252843,
           0.07628325291099969,
           0.0021160084323045445,
           -0.01492656583159375,
           1
          ]
         ]
        }
       ],
       "layout": {
        "coloraxis": {
         "colorscale": [
          [
           0,
           "#0d0887"
          ],
          [
           0.1111111111111111,
           "#46039f"
          ],
          [
           0.2222222222222222,
           "#7201a8"
          ],
          [
           0.3333333333333333,
           "#9c179e"
          ],
          [
           0.4444444444444444,
           "#bd3786"
          ],
          [
           0.5555555555555556,
           "#d8576b"
          ],
          [
           0.6666666666666666,
           "#ed7953"
          ],
          [
           0.7777777777777778,
           "#fb9f3a"
          ],
          [
           0.8888888888888888,
           "#fdca26"
          ],
          [
           1,
           "#f0f921"
          ]
         ]
        },
        "template": {
         "data": {
          "bar": [
           {
            "error_x": {
             "color": "#2a3f5f"
            },
            "error_y": {
             "color": "#2a3f5f"
            },
            "marker": {
             "line": {
              "color": "#E5ECF6",
              "width": 0.5
             },
             "pattern": {
              "fillmode": "overlay",
              "size": 10,
              "solidity": 0.2
             }
            },
            "type": "bar"
           }
          ],
          "barpolar": [
           {
            "marker": {
             "line": {
              "color": "#E5ECF6",
              "width": 0.5
             },
             "pattern": {
              "fillmode": "overlay",
              "size": 10,
              "solidity": 0.2
             }
            },
            "type": "barpolar"
           }
          ],
          "carpet": [
           {
            "aaxis": {
             "endlinecolor": "#2a3f5f",
             "gridcolor": "white",
             "linecolor": "white",
             "minorgridcolor": "white",
             "startlinecolor": "#2a3f5f"
            },
            "baxis": {
             "endlinecolor": "#2a3f5f",
             "gridcolor": "white",
             "linecolor": "white",
             "minorgridcolor": "white",
             "startlinecolor": "#2a3f5f"
            },
            "type": "carpet"
           }
          ],
          "choropleth": [
           {
            "colorbar": {
             "outlinewidth": 0,
             "ticks": ""
            },
            "type": "choropleth"
           }
          ],
          "contour": [
           {
            "colorbar": {
             "outlinewidth": 0,
             "ticks": ""
            },
            "colorscale": [
             [
              0,
              "#0d0887"
             ],
             [
              0.1111111111111111,
              "#46039f"
             ],
             [
              0.2222222222222222,
              "#7201a8"
             ],
             [
              0.3333333333333333,
              "#9c179e"
             ],
             [
              0.4444444444444444,
              "#bd3786"
             ],
             [
              0.5555555555555556,
              "#d8576b"
             ],
             [
              0.6666666666666666,
              "#ed7953"
             ],
             [
              0.7777777777777778,
              "#fb9f3a"
             ],
             [
              0.8888888888888888,
              "#fdca26"
             ],
             [
              1,
              "#f0f921"
             ]
            ],
            "type": "contour"
           }
          ],
          "contourcarpet": [
           {
            "colorbar": {
             "outlinewidth": 0,
             "ticks": ""
            },
            "type": "contourcarpet"
           }
          ],
          "heatmap": [
           {
            "colorbar": {
             "outlinewidth": 0,
             "ticks": ""
            },
            "colorscale": [
             [
              0,
              "#0d0887"
             ],
             [
              0.1111111111111111,
              "#46039f"
             ],
             [
              0.2222222222222222,
              "#7201a8"
             ],
             [
              0.3333333333333333,
              "#9c179e"
             ],
             [
              0.4444444444444444,
              "#bd3786"
             ],
             [
              0.5555555555555556,
              "#d8576b"
             ],
             [
              0.6666666666666666,
              "#ed7953"
             ],
             [
              0.7777777777777778,
              "#fb9f3a"
             ],
             [
              0.8888888888888888,
              "#fdca26"
             ],
             [
              1,
              "#f0f921"
             ]
            ],
            "type": "heatmap"
           }
          ],
          "heatmapgl": [
           {
            "colorbar": {
             "outlinewidth": 0,
             "ticks": ""
            },
            "colorscale": [
             [
              0,
              "#0d0887"
             ],
             [
              0.1111111111111111,
              "#46039f"
             ],
             [
              0.2222222222222222,
              "#7201a8"
             ],
             [
              0.3333333333333333,
              "#9c179e"
             ],
             [
              0.4444444444444444,
              "#bd3786"
             ],
             [
              0.5555555555555556,
              "#d8576b"
             ],
             [
              0.6666666666666666,
              "#ed7953"
             ],
             [
              0.7777777777777778,
              "#fb9f3a"
             ],
             [
              0.8888888888888888,
              "#fdca26"
             ],
             [
              1,
              "#f0f921"
             ]
            ],
            "type": "heatmapgl"
           }
          ],
          "histogram": [
           {
            "marker": {
             "pattern": {
              "fillmode": "overlay",
              "size": 10,
              "solidity": 0.2
             }
            },
            "type": "histogram"
           }
          ],
          "histogram2d": [
           {
            "colorbar": {
             "outlinewidth": 0,
             "ticks": ""
            },
            "colorscale": [
             [
              0,
              "#0d0887"
             ],
             [
              0.1111111111111111,
              "#46039f"
             ],
             [
              0.2222222222222222,
              "#7201a8"
             ],
             [
              0.3333333333333333,
              "#9c179e"
             ],
             [
              0.4444444444444444,
              "#bd3786"
             ],
             [
              0.5555555555555556,
              "#d8576b"
             ],
             [
              0.6666666666666666,
              "#ed7953"
             ],
             [
              0.7777777777777778,
              "#fb9f3a"
             ],
             [
              0.8888888888888888,
              "#fdca26"
             ],
             [
              1,
              "#f0f921"
             ]
            ],
            "type": "histogram2d"
           }
          ],
          "histogram2dcontour": [
           {
            "colorbar": {
             "outlinewidth": 0,
             "ticks": ""
            },
            "colorscale": [
             [
              0,
              "#0d0887"
             ],
             [
              0.1111111111111111,
              "#46039f"
             ],
             [
              0.2222222222222222,
              "#7201a8"
             ],
             [
              0.3333333333333333,
              "#9c179e"
             ],
             [
              0.4444444444444444,
              "#bd3786"
             ],
             [
              0.5555555555555556,
              "#d8576b"
             ],
             [
              0.6666666666666666,
              "#ed7953"
             ],
             [
              0.7777777777777778,
              "#fb9f3a"
             ],
             [
              0.8888888888888888,
              "#fdca26"
             ],
             [
              1,
              "#f0f921"
             ]
            ],
            "type": "histogram2dcontour"
           }
          ],
          "mesh3d": [
           {
            "colorbar": {
             "outlinewidth": 0,
             "ticks": ""
            },
            "type": "mesh3d"
           }
          ],
          "parcoords": [
           {
            "line": {
             "colorbar": {
              "outlinewidth": 0,
              "ticks": ""
             }
            },
            "type": "parcoords"
           }
          ],
          "pie": [
           {
            "automargin": true,
            "type": "pie"
           }
          ],
          "scatter": [
           {
            "fillpattern": {
             "fillmode": "overlay",
             "size": 10,
             "solidity": 0.2
            },
            "type": "scatter"
           }
          ],
          "scatter3d": [
           {
            "line": {
             "colorbar": {
              "outlinewidth": 0,
              "ticks": ""
             }
            },
            "marker": {
             "colorbar": {
              "outlinewidth": 0,
              "ticks": ""
             }
            },
            "type": "scatter3d"
           }
          ],
          "scattercarpet": [
           {
            "marker": {
             "colorbar": {
              "outlinewidth": 0,
              "ticks": ""
             }
            },
            "type": "scattercarpet"
           }
          ],
          "scattergeo": [
           {
            "marker": {
             "colorbar": {
              "outlinewidth": 0,
              "ticks": ""
             }
            },
            "type": "scattergeo"
           }
          ],
          "scattergl": [
           {
            "marker": {
             "colorbar": {
              "outlinewidth": 0,
              "ticks": ""
             }
            },
            "type": "scattergl"
           }
          ],
          "scattermapbox": [
           {
            "marker": {
             "colorbar": {
              "outlinewidth": 0,
              "ticks": ""
             }
            },
            "type": "scattermapbox"
           }
          ],
          "scatterpolar": [
           {
            "marker": {
             "colorbar": {
              "outlinewidth": 0,
              "ticks": ""
             }
            },
            "type": "scatterpolar"
           }
          ],
          "scatterpolargl": [
           {
            "marker": {
             "colorbar": {
              "outlinewidth": 0,
              "ticks": ""
             }
            },
            "type": "scatterpolargl"
           }
          ],
          "scatterternary": [
           {
            "marker": {
             "colorbar": {
              "outlinewidth": 0,
              "ticks": ""
             }
            },
            "type": "scatterternary"
           }
          ],
          "surface": [
           {
            "colorbar": {
             "outlinewidth": 0,
             "ticks": ""
            },
            "colorscale": [
             [
              0,
              "#0d0887"
             ],
             [
              0.1111111111111111,
              "#46039f"
             ],
             [
              0.2222222222222222,
              "#7201a8"
             ],
             [
              0.3333333333333333,
              "#9c179e"
             ],
             [
              0.4444444444444444,
              "#bd3786"
             ],
             [
              0.5555555555555556,
              "#d8576b"
             ],
             [
              0.6666666666666666,
              "#ed7953"
             ],
             [
              0.7777777777777778,
              "#fb9f3a"
             ],
             [
              0.8888888888888888,
              "#fdca26"
             ],
             [
              1,
              "#f0f921"
             ]
            ],
            "type": "surface"
           }
          ],
          "table": [
           {
            "cells": {
             "fill": {
              "color": "#EBF0F8"
             },
             "line": {
              "color": "white"
             }
            },
            "header": {
             "fill": {
              "color": "#C8D4E3"
             },
             "line": {
              "color": "white"
             }
            },
            "type": "table"
           }
          ]
         },
         "layout": {
          "annotationdefaults": {
           "arrowcolor": "#2a3f5f",
           "arrowhead": 0,
           "arrowwidth": 1
          },
          "autotypenumbers": "strict",
          "coloraxis": {
           "colorbar": {
            "outlinewidth": 0,
            "ticks": ""
           }
          },
          "colorscale": {
           "diverging": [
            [
             0,
             "#8e0152"
            ],
            [
             0.1,
             "#c51b7d"
            ],
            [
             0.2,
             "#de77ae"
            ],
            [
             0.3,
             "#f1b6da"
            ],
            [
             0.4,
             "#fde0ef"
            ],
            [
             0.5,
             "#f7f7f7"
            ],
            [
             0.6,
             "#e6f5d0"
            ],
            [
             0.7,
             "#b8e186"
            ],
            [
             0.8,
             "#7fbc41"
            ],
            [
             0.9,
             "#4d9221"
            ],
            [
             1,
             "#276419"
            ]
           ],
           "sequential": [
            [
             0,
             "#0d0887"
            ],
            [
             0.1111111111111111,
             "#46039f"
            ],
            [
             0.2222222222222222,
             "#7201a8"
            ],
            [
             0.3333333333333333,
             "#9c179e"
            ],
            [
             0.4444444444444444,
             "#bd3786"
            ],
            [
             0.5555555555555556,
             "#d8576b"
            ],
            [
             0.6666666666666666,
             "#ed7953"
            ],
            [
             0.7777777777777778,
             "#fb9f3a"
            ],
            [
             0.8888888888888888,
             "#fdca26"
            ],
            [
             1,
             "#f0f921"
            ]
           ],
           "sequentialminus": [
            [
             0,
             "#0d0887"
            ],
            [
             0.1111111111111111,
             "#46039f"
            ],
            [
             0.2222222222222222,
             "#7201a8"
            ],
            [
             0.3333333333333333,
             "#9c179e"
            ],
            [
             0.4444444444444444,
             "#bd3786"
            ],
            [
             0.5555555555555556,
             "#d8576b"
            ],
            [
             0.6666666666666666,
             "#ed7953"
            ],
            [
             0.7777777777777778,
             "#fb9f3a"
            ],
            [
             0.8888888888888888,
             "#fdca26"
            ],
            [
             1,
             "#f0f921"
            ]
           ]
          },
          "colorway": [
           "#636efa",
           "#EF553B",
           "#00cc96",
           "#ab63fa",
           "#FFA15A",
           "#19d3f3",
           "#FF6692",
           "#B6E880",
           "#FF97FF",
           "#FECB52"
          ],
          "font": {
           "color": "#2a3f5f"
          },
          "geo": {
           "bgcolor": "white",
           "lakecolor": "white",
           "landcolor": "#E5ECF6",
           "showlakes": true,
           "showland": true,
           "subunitcolor": "white"
          },
          "hoverlabel": {
           "align": "left"
          },
          "hovermode": "closest",
          "mapbox": {
           "style": "light"
          },
          "paper_bgcolor": "white",
          "plot_bgcolor": "#E5ECF6",
          "polar": {
           "angularaxis": {
            "gridcolor": "white",
            "linecolor": "white",
            "ticks": ""
           },
           "bgcolor": "#E5ECF6",
           "radialaxis": {
            "gridcolor": "white",
            "linecolor": "white",
            "ticks": ""
           }
          },
          "scene": {
           "xaxis": {
            "backgroundcolor": "#E5ECF6",
            "gridcolor": "white",
            "gridwidth": 2,
            "linecolor": "white",
            "showbackground": true,
            "ticks": "",
            "zerolinecolor": "white"
           },
           "yaxis": {
            "backgroundcolor": "#E5ECF6",
            "gridcolor": "white",
            "gridwidth": 2,
            "linecolor": "white",
            "showbackground": true,
            "ticks": "",
            "zerolinecolor": "white"
           },
           "zaxis": {
            "backgroundcolor": "#E5ECF6",
            "gridcolor": "white",
            "gridwidth": 2,
            "linecolor": "white",
            "showbackground": true,
            "ticks": "",
            "zerolinecolor": "white"
           }
          },
          "shapedefaults": {
           "line": {
            "color": "#2a3f5f"
           }
          },
          "ternary": {
           "aaxis": {
            "gridcolor": "white",
            "linecolor": "white",
            "ticks": ""
           },
           "baxis": {
            "gridcolor": "white",
            "linecolor": "white",
            "ticks": ""
           },
           "bgcolor": "#E5ECF6",
           "caxis": {
            "gridcolor": "white",
            "linecolor": "white",
            "ticks": ""
           }
          },
          "title": {
           "x": 0.05
          },
          "xaxis": {
           "automargin": true,
           "gridcolor": "white",
           "linecolor": "white",
           "ticks": "",
           "title": {
            "standoff": 15
           },
           "zerolinecolor": "white",
           "zerolinewidth": 2
          },
          "yaxis": {
           "automargin": true,
           "gridcolor": "white",
           "linecolor": "white",
           "ticks": "",
           "title": {
            "standoff": 15
           },
           "zerolinecolor": "white",
           "zerolinewidth": 2
          }
         }
        },
        "title": {
         "text": "Heatmap of Correlations Between Variables"
        },
        "xaxis": {
         "anchor": "y",
         "constrain": "domain",
         "domain": [
          0,
          1
         ],
         "scaleanchor": "y"
        },
        "yaxis": {
         "anchor": "x",
         "autorange": "reversed",
         "constrain": "domain",
         "domain": [
          0,
          1
         ]
        }
       }
      }
     },
     "metadata": {},
     "output_type": "display_data"
    }
   ],
   "source": [
    "# TODO: Create a heatmap of correlations\n",
    "correlation_matrix = df.select_dtypes(include='number').corr()\n"
   ]
  },
  {
   "cell_type": "markdown",
   "metadata": {},
   "source": [
    "\n",
    "---\n",
    "\n",
    "## **Assignment**\n",
    "\n",
    "### **Build the Same Dashboard Using `Dash` and `Microsoft Power BI`**\n",
    "Create an interactive dashboard to explore the wastewater treatment data. Include:\n",
    "- A dropdown menu to select a variable for analysis (e.g., \\( BOD\\_E \\), \\( Q\\_E \\)).\n",
    "- A line chart to visualize trends over time.\n"
   ]
  }
 ],
 "metadata": {
  "kernelspec": {
   "display_name": "Python 3",
   "language": "python",
   "name": "python3"
  },
  "language_info": {
   "codemirror_mode": {
    "name": "ipython",
    "version": 3
   },
   "file_extension": ".py",
   "mimetype": "text/x-python",
   "name": "python",
   "nbconvert_exporter": "python",
   "pygments_lexer": "ipython3",
   "version": "3.11.4"
  }
 },
 "nbformat": 4,
 "nbformat_minor": 2
}
