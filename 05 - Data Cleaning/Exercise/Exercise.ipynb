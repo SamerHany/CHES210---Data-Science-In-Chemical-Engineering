{
 "cells": [
  {
   "cell_type": "markdown",
   "metadata": {},
   "source": [
    "## Description\n",
    "The dataset (downloaded from UCI machine learning repository88) comes from a wastewater treatment plant that uses activated sludge process to remove organic matter and suspended\n",
    "solids from municipal wastewater. \n",
    "\n",
    "In this process (Figure A7), the suspended solids are first physically settled (primary treatment) and then biologically treated to oxidize the biodegradable organic matter (secondary treatment). \n",
    "\n",
    "Data from on-line sensors at different stages of the process for 40 variables over 527 days of operation are provided. Seven out of the 38 variables characterize the effluent water quality. \n",
    "\n",
    "<div style=\"text-align:center; margin-top:2rem;\">\n",
    "\n",
    "![water treatment](water-treatment.png)\n",
    "\n",
    "</div>\n",
    "\n",
    "\n",
    "## Sensor Data:\n",
    "\n",
    "- **Inffluent:**\n",
    "\n",
    "    1. DATE        (date)\n",
    "\n",
    "    2. Q-E         (input flow to plant)\n",
    "\n",
    "    3. ZN-E        (input Zinc to plant)\n",
    "\n",
    "    4. PH-E        (input pH to plant)\n",
    "\n",
    "    5. DBO-E       (input Biological demand of oxygen to plant)\n",
    "\n",
    "    6. DQO-E       (input chemical demand of oxygen to plant)\n",
    "\n",
    "    7. SS-E        (input suspended solids to plant)\n",
    "\n",
    "    8. SSV-E       (input volatile supended solids to plant)\n",
    "\n",
    "    9. SED-E       (input sediments to plant)\n",
    "\n",
    "    10. COND-E     (input conductivity to plant)\n",
    "\n",
    "- **Input to *Primary* Settler**\n",
    "\n",
    "    11. PH-P       (input pH to primary settler)\n",
    "\n",
    "    12. DBO-P      (input Biological demand of oxygen to primary settler)\n",
    "\n",
    "    13. SS-P       (input suspended solids to primary settler)\n",
    "\n",
    "    14. SSV-P      (input volatile supended solids to primary settler)\n",
    "\n",
    "    15. SED-P      (input sediments to primary settler)\n",
    "\n",
    "    16. COND-P     (input conductivity to primary settler)\n",
    "\n",
    "- **Input to *Secondary* Settler**\n",
    "\n",
    "    17. PH-D       (input pH to secondary settler)\n",
    "\n",
    "    18. DBO-D      (input Biological demand of oxygen to secondary settler)\n",
    "\n",
    "    19. DQO-D      (input chemical demand of oxygen to secondary settler)\n",
    "\n",
    "    20. SS-D       (input suspended solids to secondary settler)\n",
    "\n",
    "    21. SSV-D      (input volatile supended solids to secondary settler)\n",
    "\n",
    "    22. SED-D      (input sediments to secondary settler)\n",
    "\n",
    "    23. COND-D     (input conductivity to secondary settler)\n",
    "\n",
    "- **Output from *Secondary* Settler**\n",
    "\n",
    "    24. PH-S       (output pH)\n",
    "\n",
    "    25. DBO-S      (output Biological demand of oxygen)\n",
    "\n",
    "    26. DQO-S      (output chemical demand of oxygen)\n",
    "\n",
    "    27. SS-S       (output suspended solids)\n",
    "\n",
    "    28. SSV-S      (output volatile supended solids)\n",
    "\n",
    "    29. SED-S      (output sediments)\n",
    "\n",
    "    30. COND-S     (output conductivity)\n",
    "\n",
    "- **Performance Indicators**\n",
    "\n",
    "    31. RD-DBO-P   (performance input Biological demand of oxygen in primary settler)\n",
    "\n",
    "    32. RD-SS-P    (performance input suspended solids to primary settler)\n",
    "\n",
    "    33. RD-SED-P   (performance input sediments to primary settler)\n",
    "\n",
    "    34. RD-DBO-S   (performance input Biological demand of oxygen to secondary settler)\n",
    "\n",
    "    35. RD-DQO-S   (performance input chemical demand of oxygen to secondary settler)\n",
    "\n",
    "    36. RD-DBO-G   (global performance input Biological demand of oxygen)\n",
    "\n",
    "    37. RD-DQO-G   (global performance input chemical demand of oxygen)\n",
    "\n",
    "    38. RD-SS-G    (global performance input suspended solids)\n",
    "\n",
    "    39. RD-SED-G   (global performance input sediments)"
   ]
  },
  {
   "cell_type": "markdown",
   "metadata": {},
   "source": [
    "\n",
    "---\n",
    "\n",
    "## Domain-Specific Data Cleaning Rules:\n",
    "\n",
    "#### **Biological Oxygen Demand (BOD) vs. Chemical Oxygen Demand (COD)**\n",
    "   - **Rule**: Biological Oxygen Demand (DBO) should always be lower than or equal to Chemical Oxygen Demand (DQO).\n",
    "   - **Reason**: BOD measures only the oxygen demand from biodegradable organic matter, while COD measures both biodegradable and non-biodegradable organics.\n",
    "   - **Action**: If BOD > COD, flag the record for further review or correction, as this suggests a data error.\n",
    "\n",
    "#### **Consistency in pH Values**\n",
    "   - **Rule**: pH values should range between 4.5 and 9.5 throughout the treatment stages.\n",
    "   - **Reason**: In a wastewater treatment plant, extreme pH values (e.g., below 4.5 or above 9.5) are unusual unless the system is under significant chemical stress, which is rare in regular operation. The typical operational pH range for most biological processes is around 6.5–8.5.\n",
    "   - **Action**: Flag pH values outside the 4.5–9.5 range for verification, as they could be due to sensor errors, chemical spills, or incorrect entries.\n",
    "\n",
    "#### **Suspended Solids (SS) and Volatile Suspended Solids (VSS) Relationship**\n",
    "   - **Rule**: Volatile Suspended Solids (VSS) should be less than or equal to Total Suspended Solids (SS).\n",
    "   - **Reason**: VSS represents the organic portion of total solids, so it should logically be a subset of SS.\n",
    "   - **Action**: If SSV > SS, flag the data for potential sensor miscalibration or measurement errors.\n",
    "\n",
    "#### **Flow Rate Consistency**\n",
    "   - **Rule**: Input flow rate (Q-E) should remain relatively stable, with normal fluctuations due to daily or seasonal variations.\n",
    "   - **Reason**: Abrupt changes (e.g., >30% deviation) could indicate sensor malfunctions, weather events, or operational disruptions.\n",
    "   - **Action**: Flag flow rate changes exceeding 30% of the average daily flow for further inspection.\n",
    "\n",
    "#### **Effluent Water Quality Limits**\n",
    "   - **Rule**: Effluent parameters should meet regulatory limits (e.g., pH 6.5–8.5, BOD < 20 mg/L, SS < 30 mg/L).\n",
    "   - **Reason**: Regulatory limits ensure safe discharge, and exceeding them could indicate treatment failures or data errors.\n",
    "   - **Action**: Flag any effluent parameter that exceeds regulatory limits for potential issues in treatment performance or sensor errors.\n",
    "\n",
    "#### **Global Performance Indicators (RD-DBO-G, RD-DQO-G, RD-SS-G, RD-SED-G)**\n",
    "   - **Rule**: Performance metrics should not exceed 100% or fall below 0%.\n",
    "   - **Reason**: Performance indicators represent the percentage reduction of contaminants, and logically, reductions cannot exceed 100% or be negative (indicating an increase in contaminants).\n",
    "   - **Action**: Flag any performance metrics that are out of range (below 0% or above 100%) for further review.\n",
    "\n",
    "#### **Suspended Solids (SS) and Sediments (SED)**\n",
    "   - **Rule**: Suspended solids and sediments should decrease sequentially from the input stage (SS-E, SED-E) to the output stage (SS-S, SED-S).\n",
    "   - **Reason**: A well-functioning wastewater treatment plant is expected to progressively remove suspended solids and sediments at each treatment stage (primary, secondary, and final). Increases in SS or SED between stages may indicate anomalies (process malfunction) or data issues.\n",
    "   - **Action**: Check for increasing values of SS and SED between stages. For example, SS-E > SS-S should hold true, and similarly, SS-P > SS-D > SS-S should also hold for each stage. Flag violations for further investigation.\n",
    "\n",
    "#### **Conductivity Levels**\n",
    "   - **Rule**: Conductivity should generally decrease from input to output, except in cases of chemical addition.\n",
    "   - **Reason**: Treatment typically reduces ionic content, so a rise in conductivity in later stages suggests process issues.\n",
    "   - **Action**: Flag unexpected increases in conductivity from primary to secondary treatment or in the effluent for further investigation."
   ]
  },
  {
   "cell_type": "markdown",
   "metadata": {},
   "source": [
    "\n",
    "---\n",
    "\n",
    "## Handling Missing Data\n",
    "   - **Rule**: Missing data should not exceed 5% of total observations for critical variables.\n",
    "   - **Reason**: Excessive missing data affects process control decisions and model accuracy.\n",
    "   - **Action**: If more than 5% of data is missing, consider imputing it using appropriate methods like forward fill, backward fill, or interpolation.\n",
    "\n"
   ]
  },
  {
   "cell_type": "markdown",
   "metadata": {},
   "source": [
    "\n",
    "---\n",
    "\n",
    "## Feature Extraction & Feature Engineering\n",
    "\n",
    "Engineered features, guided by domain knowledge, will enhance the **predictive power** of your models and improve their ability to **capture relationships** critical to the treatment process. Each feature provides more context about how the treatment process operates, allowing for better decision-making and optimization.\n",
    "\n",
    "#### **Handling Date and Time**\n",
    "- **Extract Key Temporal Features**:\n",
    "    - **Day of the Week (from DATE)**: Convert the DATE variable to a day-of-week categorical variable to capture potential weekly patterns in plant operation (e.g., reduced loads on weekends).\n",
    "    - **Week Number**: Extract the week number from the DATE to analyze potential seasonal variations, such as higher flows during rainy seasons.\n",
    "    - **Month**: Add a month column to explore monthly trends in effluent quality, flow rate, or treatment performance.\n",
    "- **New Features**: \n",
    "    - Weekday (binary: 1 for Monday–Friday, 0 for Saturday and Sunday)\n",
    "    - Week number (integer from 1 to 52)\n",
    "    - Month (integer from 1 to 12)\n",
    "- **Reason**: Temporal features can help capture potential seasonal variations or differences in operational patterns across days and weeks.\n",
    "\n",
    "\n",
    "#### **Interaction Terms**\n",
    "   - **Calculate Organic and Solid Load Ratios**:\n",
    "     - **Organic Load (kg/day)**: Input flow rate (Q-E) × input Biological Oxygen Demand (DBO-E).\n",
    "     - **Solid Load (kg/day)**: Input flow rate (Q-E) × input suspended solids (SS-E).\n",
    "   - **New Features**:\n",
    "     - Organic Load Ratio (DBO-E relative to Q-E)\n",
    "     - Solid Load Ratio (SS-E relative to Q-E)\n",
    "   - **Reason**: These load-based variables help understand how much organic and solid load enters the plant relative to flow, offering insights into potential overloads or underloads at different times.\n",
    "\n",
    "#### **Performance Ratios and Differences**\n",
    "   - **Calculate Removal Efficiencies**:\n",
    "     - Calculate the efficiency of each treatment stage based on BOD, COD, and suspended solids reduction:\n",
    "       - **BOD Removal Efficiency in Primary Settler** = (DBO-E - DBO-P) / DBO-E × 100%.\n",
    "       - **BOD Removal Efficiency in Secondary Settler** = (DBO-P - DBO-D) / DBO-P × 100%.\n",
    "     - Similarly, calculate efficiencies for COD and SS at each stage.\n",
    "   - **New Features**:\n",
    "     - BOD Removal Efficiency in Primary Settler (calculated)\n",
    "     - BOD Removal Efficiency in Secondary Settler (calculated)\n",
    "     - COD and SS Removal Efficiencies for both stages (calculated)\n",
    "   - **Reason**: These efficiency measures allow the model to understand treatment performance at each stage, helping diagnose bottlenecks or stages with poor performance.\n",
    "\n",
    "#### **Efficiency Metrics for Compliance**\n",
    "   - **Binary Output for Compliance**:\n",
    "     - **Rule**: Create a binary feature indicating whether the effluent meets regulatory discharge standards for output variables like Biological Oxygen Demand (DBO-S), Chemical Oxygen Demand (DQO-S), and suspended solids (SS-S).\n",
    "     - **New Feature**:\n",
    "       - **Compliance Status**: 1 if all effluent parameters meet discharge standards (e.g., DBO-S < 20 mg/L, DQO-S < 100 mg/L, SS-S < 30 mg/L), 0 otherwise.\n",
    "     - **Reason**: This feature allows the model to easily identify which operational conditions result in compliance or non-compliance, aiding in regulatory monitoring and optimization of treatment processes.\n"
   ]
  },
  {
   "cell_type": "markdown",
   "metadata": {},
   "source": [
    "\n",
    "---\n",
    "\n",
    "## Exercise"
   ]
  },
  {
   "cell_type": "code",
   "execution_count": 1,
   "metadata": {},
   "outputs": [],
   "source": [
    "# import packages\n",
    "import pandas as pd\n",
    "import numpy as np"
   ]
  },
  {
   "cell_type": "code",
   "execution_count": null,
   "metadata": {},
   "outputs": [],
   "source": [
    "# Load the dataset\n",
    "df = pd.read_csv('data.csv')\n",
    "\n",
    "# Display the first few rows of the dataset\n",
    "df.head()"
   ]
  },
  {
   "cell_type": "markdown",
   "metadata": {},
   "source": [
    "## Data Cleaning\n",
    "\n",
    "### Standard Checks"
   ]
  },
  {
   "cell_type": "markdown",
   "metadata": {},
   "source": [
    "1. **Remove duplicates**\n"
   ]
  },
  {
   "cell_type": "code",
   "execution_count": 3,
   "metadata": {},
   "outputs": [],
   "source": [
    "# Count duplicate rows\n",
    "# TODO"
   ]
  },
  {
   "cell_type": "code",
   "execution_count": 4,
   "metadata": {},
   "outputs": [],
   "source": [
    "# Remove duplicate rows\n",
    "# TODO"
   ]
  },
  {
   "cell_type": "markdown",
   "metadata": {},
   "source": [
    "2. **Handle missing values**\n"
   ]
  },
  {
   "cell_type": "code",
   "execution_count": 5,
   "metadata": {},
   "outputs": [],
   "source": [
    "# Count missing values for each column\n",
    "# TODO"
   ]
  },
  {
   "cell_type": "code",
   "execution_count": 6,
   "metadata": {},
   "outputs": [],
   "source": [
    "# handle missing values as you see fit\n",
    "#! BONUS ALERT. Bonus if you use domain knowledge for imputation instead of simple average or interpolation for at least [3] different columns.\n",
    "# TODO\n"
   ]
  },
  {
   "cell_type": "markdown",
   "metadata": {},
   "source": [
    "\n",
    "3. **Standardize the date column**\n"
   ]
  },
  {
   "cell_type": "code",
   "execution_count": 7,
   "metadata": {},
   "outputs": [],
   "source": [
    "# Convert DATE to datetime format\n",
    "# TODO\n"
   ]
  },
  {
   "cell_type": "markdown",
   "metadata": {},
   "source": [
    "### Domain-specific Checks"
   ]
  },
  {
   "cell_type": "markdown",
   "metadata": {},
   "source": [
    "1. **Ensure BOD is less than or equal to COD**\n"
   ]
  },
  {
   "cell_type": "code",
   "execution_count": 8,
   "metadata": {},
   "outputs": [],
   "source": [
    "# Ensure BOD (DBO-E) is less than or equal to COD (DQO-E) at each stage\n",
    "# TODO: Flag records where DBO-E > DQO-E\n",
    "\n"
   ]
  },
  {
   "cell_type": "markdown",
   "metadata": {},
   "source": [
    "\n",
    "2. **Ensure pH is within the range 4.5 to 9.5**\n"
   ]
  },
  {
   "cell_type": "code",
   "execution_count": 9,
   "metadata": {},
   "outputs": [],
   "source": [
    "# Ensure pH values are within the acceptable range (6.0 to 9.0)\n",
    "# TODO: Flag records where PH-E is outside this range\n",
    "\n"
   ]
  },
  {
   "cell_type": "markdown",
   "metadata": {},
   "source": [
    "\n",
    "3. **Ensure Volatile Suspended Solids (SSV) are less than or equal to Total Suspended Solids (SS)**\n"
   ]
  },
  {
   "cell_type": "code",
   "execution_count": 10,
   "metadata": {},
   "outputs": [],
   "source": [
    "# Ensure SSV-E is less than or equal to SS-E at each stage\n",
    "# TODO: Flag records where SSV-E > SS-E\n",
    "\n"
   ]
  },
  {
   "cell_type": "markdown",
   "metadata": {},
   "source": [
    "\n",
    "4. **Check for negative or out-of-range global performance indicators**\n"
   ]
  },
  {
   "cell_type": "code",
   "execution_count": 11,
   "metadata": {},
   "outputs": [],
   "source": [
    "# Ensure global performance indicators (RD-SS-G) are between 0% and 100%\n",
    "# TODO: Flag records where global reduced SS (RD-SS-G) is out of range\n",
    "\n"
   ]
  },
  {
   "cell_type": "code",
   "execution_count": 12,
   "metadata": {},
   "outputs": [],
   "source": [
    "# show the info of the dataset after cleaning\n",
    "# TODO"
   ]
  },
  {
   "cell_type": "code",
   "execution_count": 13,
   "metadata": {},
   "outputs": [],
   "source": [
    "# save the cleaned dataset to CSV\n",
    "# TODO"
   ]
  },
  {
   "cell_type": "markdown",
   "metadata": {},
   "source": [
    "## Feature Engineering\n",
    "\n",
    "1. **Extract day-of-week, week number, and month from the date**\n"
   ]
  },
  {
   "cell_type": "code",
   "execution_count": null,
   "metadata": {},
   "outputs": [],
   "source": [
    "# Convert DATE to datetime format\n",
    "df['DATE'] = pd.to_datetime(df['DATE'], format='%Y-%m-%d')\n",
    "\n",
    "# Extract day-of-week, week number, and month from the date\n",
    "# TODO: Create new features for Day_of_Week, Week_Number, and Month\n"
   ]
  },
  {
   "cell_type": "markdown",
   "metadata": {},
   "source": [
    "\n",
    "2. **Create binary compliance indicator**\n"
   ]
  },
  {
   "cell_type": "code",
   "execution_count": null,
   "metadata": {},
   "outputs": [],
   "source": [
    "# Create a binary feature for regulatory compliance\n",
    "# TODO: Create Compliance_Status based on regulatory discharge limits\n"
   ]
  },
  {
   "cell_type": "markdown",
   "metadata": {},
   "source": [
    "\n",
    "3. **Calculate BOD removal efficiency in primary and secondary settlers**\n"
   ]
  },
  {
   "cell_type": "code",
   "execution_count": null,
   "metadata": {},
   "outputs": [],
   "source": [
    "# Calculate BOD removal efficiency in primary and secondary settlers\n",
    "# TODO: Create features for BOD_Efficiency_Primary and BOD_Efficiency_Secondary\n"
   ]
  },
  {
   "cell_type": "markdown",
   "metadata": {},
   "source": [
    "\n",
    "4. **Calculate input-output ratios for BOD and suspended solids**\n"
   ]
  },
  {
   "cell_type": "code",
   "execution_count": null,
   "metadata": {},
   "outputs": [],
   "source": [
    "# Calculate BOD and suspended solids input-output ratios\n",
    "# TODO: Create features for BOD_Input_Output_Ratio and SS_Input_Output_Ratio"
   ]
  }
 ],
 "metadata": {
  "kernelspec": {
   "display_name": "Python 3",
   "language": "python",
   "name": "python3"
  },
  "language_info": {
   "codemirror_mode": {
    "name": "ipython",
    "version": 3
   },
   "file_extension": ".py",
   "mimetype": "text/x-python",
   "name": "python",
   "nbconvert_exporter": "python",
   "pygments_lexer": "ipython3",
   "version": "3.11.4"
  }
 },
 "nbformat": 4,
 "nbformat_minor": 2
}
