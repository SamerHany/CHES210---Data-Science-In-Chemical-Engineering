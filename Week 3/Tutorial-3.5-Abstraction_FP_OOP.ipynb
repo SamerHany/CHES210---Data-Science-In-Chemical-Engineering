{
 "cells": [
  {
   "cell_type": "markdown",
   "metadata": {},
   "source": [
    "# Tutorial 3.5: Introduction to Python (Contd.)\n",
    "\n",
    "\n",
    "## Objectives\n",
    "\n",
    "After this tutorial you will be able to:\n",
    "\n",
    "*   Know what code abstraction is\n",
    "*   Know what the Functional Programming (FP) approach is and use it to write your code\n",
    "*   Know what the Object-Oriented Programming (OOP) approach is and use it to write your code"
   ]
  },
  {
   "cell_type": "markdown",
   "metadata": {},
   "source": [
    "<h2 id=\"index\">Table of Contents</h2>\n",
    "\n",
    "<ol>\n",
    "    <li><a href=\"#abs\">Abstraction</a></li>\n",
    "    <br>\n",
    "    <li><a href=\"#fp\">Functional Programming (FP)</a></li>\n",
    "    <br>\n",
    "    <li><a href=\"#oop\">Object-Oriented Programming</a></li>\n",
    "    <br>\n",
    "    <li><a href=\"#ex\">A more advanced example</a></li>\n",
    "    <br>\n",
    "</ol>\n"
   ]
  },
  {
   "cell_type": "markdown",
   "metadata": {},
   "source": [
    "<hr id=\"asb\">\n",
    "\n",
    "<h2>1. Abstraction</h2>\n",
    "\n",
    "A process of handling complexity by hiding unnecessary information from the user. \n",
    "\n",
    "**Advantages:**\n",
    "- simplify code usage by the user\n",
    "- reduce code duplication and allow for code reusability\n",
    "- improve code readability and maintainability\n",
    "\n",
    "Let's take the simple example of creating and comparing the area of 2 rectangles:"
   ]
  },
  {
   "cell_type": "code",
   "execution_count": 1,
   "metadata": {},
   "outputs": [
    {
     "name": "stdout",
     "output_type": "stream",
     "text": [
      "area of rectangle 1:  50\n",
      "area of rectangle 2:  54\n"
     ]
    }
   ],
   "source": [
    "# create rectangle 1\n",
    "rect1 = {\n",
    "    'length': 10,\n",
    "    'width': 5,\n",
    "}\n",
    "\n",
    "# create rectangle 2\n",
    "rect2 = {\n",
    "    'length': 9,\n",
    "    'width': 6,\n",
    "}\n",
    "\n",
    "# calculate rectangle 1 area\n",
    "rect1_area = rect1['length'] * rect1['width']\n",
    "\n",
    "# calculate rectangle 2 area\n",
    "rect2_area = rect2['length'] * rect2['width']\n",
    "\n",
    "# compare areas of rectangles\n",
    "print('area of rectangle 1: ', rect1_area)\n",
    "print('area of rectangle 2: ', rect2_area)"
   ]
  },
  {
   "cell_type": "markdown",
   "metadata": {},
   "source": [
    "We can use the abstraction approach to abstract the calculations of how the area is calculated.  \n",
    "This way we don't have to repeat programming the calculations and we can simply re-use the same calculation multiple times while only progamming it once."
   ]
  },
  {
   "cell_type": "markdown",
   "metadata": {},
   "source": [
    "<hr id=\"fp\">\n",
    "\n",
    "<h2>2. Functional Programming (FP)</h2>\n",
    "\n",
    "Functional programming is a programming approach where we focus on writing code as a series of small, independent functions. Each function takes some input, performs a specific task, and produces an output without changing or modifying any data outside of the function.  It's like having a set of tools, each designed for a specific job.  \n",
    "  \n",
    "We can use a function to abstract how the area of the rectangle is calculated as follows:"
   ]
  },
  {
   "cell_type": "code",
   "execution_count": 2,
   "metadata": {},
   "outputs": [],
   "source": [
    "# a function to calculate the area of a rectangle\n",
    "def calculate_rect_area(rectangle):\n",
    "    return rectangle['length'] * rectangle['width']"
   ]
  },
  {
   "cell_type": "markdown",
   "metadata": {},
   "source": [
    "Now we can re-write the same code from before taking advantage of the above function as follows:"
   ]
  },
  {
   "cell_type": "code",
   "execution_count": 3,
   "metadata": {},
   "outputs": [
    {
     "name": "stdout",
     "output_type": "stream",
     "text": [
      "area of rectangle 1:  50\n",
      "area of rectangle 2:  54\n"
     ]
    }
   ],
   "source": [
    "# create rectangle 1\n",
    "rect1 = {\n",
    "    'length': 10,\n",
    "    'width': 5,\n",
    "}\n",
    "\n",
    "# create rectangle 2\n",
    "rect2 = {\n",
    "    'length': 9,\n",
    "    'width': 6,\n",
    "}\n",
    "\n",
    "# calculate rectangle 1 area\n",
    "rect1_area = calculate_rect_area(rect1)\n",
    "\n",
    "# calculate rectangle 2 area\n",
    "rect2_area = calculate_rect_area(rect2)\n",
    "\n",
    "# compare areas of rectangles\n",
    "print('area of rectangle 1: ', rect1_area)\n",
    "print('area of rectangle 2: ', rect2_area)"
   ]
  },
  {
   "cell_type": "markdown",
   "metadata": {},
   "source": [
    "<hr id=\"oop\">\n",
    "\n",
    "<h2>3. Object-Oriented Progamming (OOP)</h2>\n",
    "\n",
    "Object-oriented programming is a programming approach where we organize our code around objects. An object is like a container that holds both data and the operations or behaviors that can be performed on that data. We can think of objects as real-world entities (like a person, a car, or a bank account) that have certain characteristics (data) and can do certain things (methods).  \n",
    "  \n",
    "Objects are created from blueprints called `classes`, which define their characteristics and behaviors.  \n",
    "  \n",
    "We can abstract the above example using OOP by first creating the `class` (blueprint/template) that defines the data/attributes/properties and the behaviour/methods as follows:"
   ]
  },
  {
   "cell_type": "code",
   "execution_count": 4,
   "metadata": {},
   "outputs": [],
   "source": [
    "# create rectangle class\n",
    "class Rectangle:\n",
    "    # a constructor that defines the properties of a rectangle object\n",
    "    def __init__(self, length, width):\n",
    "        self.length = length\n",
    "        self.width = width\n",
    "\n",
    "    # a method to calculate the area of a rectangle\n",
    "    def calculate_area(self):\n",
    "        return self.length * self.width"
   ]
  },
  {
   "cell_type": "markdown",
   "metadata": {},
   "source": [
    "Now we can re-write the same code from before taking advantage of the above class as follows:"
   ]
  },
  {
   "cell_type": "code",
   "execution_count": 5,
   "metadata": {},
   "outputs": [
    {
     "name": "stdout",
     "output_type": "stream",
     "text": [
      "area of rectangle 1:  50\n",
      "area of rectangle 2:  54\n",
      "length of rectangle 1:  10\n",
      "length of rectangle 2:  9\n"
     ]
    }
   ],
   "source": [
    "# create rectangle 1 object\n",
    "rect1 = Rectangle(10, 5)\n",
    "\n",
    "# create rectangle 2 object\n",
    "rect2 = Rectangle(9, 6)\n",
    "\n",
    "# to access a method of an object, we use the dot notation and call the required method/function (i.e. using parenthesis)\n",
    "# calculate rectangle 1 area\n",
    "rect1_area = rect1.calculate_area()  # calculate_rect_area(rect1)\n",
    "\n",
    "# calculate rectangle 2 area\n",
    "rect2_area = rect2.calculate_area()\n",
    "\n",
    "# compare areas of rectangles\n",
    "print('area of rectangle 1: ', rect1_area)\n",
    "print('area of rectangle 2: ', rect2_area)\n",
    "\n",
    "\n",
    "# to access a property of an object, we use the dot notation WITHOUT parenthesis\n",
    "print('length of rectangle 1: ', rect1.length)\n",
    "print('length of rectangle 2: ', rect2.length)"
   ]
  },
  {
   "cell_type": "markdown",
   "metadata": {},
   "source": [
    "<hr id=\"ex\">\n",
    "\n",
    "<h2>4. A more advanced example</h2>\n",
    "\n",
    "A typical (more advanced) example that is usually used to contrast FP & OOP is creating and manipulating customer's bank accounts.\n",
    "\n",
    "<h3>Using FP approach:</h3>\n",
    "\n",
    "1. Program the functions responsible for the logic and data manipulation:"
   ]
  },
  {
   "cell_type": "code",
   "execution_count": 7,
   "metadata": {},
   "outputs": [],
   "source": [
    "# creats a new customer\n",
    "def create_customer(name):\n",
    "    return {'name': name, 'accounts': []}\n",
    "\n",
    "\n",
    "# creates a new account\n",
    "def create_account(account_number, balance):\n",
    "    return {'account_number': account_number, 'balance': balance}\n",
    "\n",
    "\n",
    "# adds an account to a customer\n",
    "def add_account(customer, account):\n",
    "    customer['accounts'].append(account)\n",
    "\n",
    "\n",
    "# finds a customer's account by account number\n",
    "def find_account(customer, account_number):\n",
    "    for account in customer['accounts']:\n",
    "        if account['account_number'] == account_number:\n",
    "            return account\n",
    "    return None\n",
    "\n",
    "\n",
    "# deposits money into an account\n",
    "def deposit(account, amount):\n",
    "    account['balance'] += amount\n",
    "\n",
    "\n",
    "# withdraws money from an account\n",
    "def withdraw(account, amount):\n",
    "    if amount <= account['balance']:\n",
    "        account['balance'] -= amount\n",
    "    else:\n",
    "        print(\"Insufficient funds\")\n"
   ]
  },
  {
   "cell_type": "markdown",
   "metadata": {},
   "source": [
    "2. Program the main code"
   ]
  },
  {
   "cell_type": "code",
   "execution_count": 8,
   "metadata": {},
   "outputs": [
    {
     "name": "stdout",
     "output_type": "stream",
     "text": [
      "Customer: John\n",
      "Account Number: A001\n",
      "Balance: 1300\n",
      "\n",
      "Customer: Alice\n",
      "Account Number: A002\n",
      "Balance: 1600\n",
      "\n"
     ]
    }
   ],
   "source": [
    "## Create customers and accounts\n",
    "# Create customer 1\n",
    "customer1 = create_customer(\"John\")\n",
    "account1 = create_account(\"A001\", 1000)\n",
    "add_account(customer1, account1)\n",
    "deposit(account1, 500)\n",
    "withdraw(account1, 200)\n",
    "\n",
    "# Create customer 2\n",
    "customer2 = create_customer(\"Alice\")\n",
    "account2 = create_account(\"A002\", 2000)\n",
    "add_account(customer2, account2)\n",
    "deposit(account2, 100)\n",
    "withdraw(account2, 500)\n",
    "\n",
    "\n",
    "# Print customer account details\n",
    "for customer in [customer1, customer2]:\n",
    "    print(\"Customer:\", customer['name'])\n",
    "    for account in customer['accounts']:\n",
    "        print(\"Account Number:\", account['account_number'])\n",
    "        print(\"Balance:\", account['balance'])\n",
    "    print()"
   ]
  },
  {
   "cell_type": "markdown",
   "metadata": {},
   "source": [
    "<h3>Using OOP approach:</h3>\n",
    "\n",
    "1. Program the classes representing a customer and an account with their data (properties) and behaviours (methods)"
   ]
  },
  {
   "cell_type": "code",
   "execution_count": 10,
   "metadata": {},
   "outputs": [],
   "source": [
    "# Create a customer class\n",
    "class Customer:\n",
    "    def __init__(self, name):\n",
    "        self.name = name\n",
    "        self.accounts = []\n",
    "\n",
    "    def create_account(self, account_number, balance):\n",
    "        account = Account(account_number, balance)\n",
    "        self.accounts.append(account)\n",
    "\n",
    "    def deposit(self, account_number, amount):\n",
    "        account = self.find_account(account_number)\n",
    "        if account:\n",
    "            account.deposit(amount)\n",
    "\n",
    "    def withdraw(self, account_number, amount):\n",
    "        account = self.find_account(account_number)\n",
    "        if account:\n",
    "            account.withdraw(amount)\n",
    "\n",
    "    def find_account(self, account_number):\n",
    "        for account in self.accounts:\n",
    "            if account.account_number == account_number:\n",
    "                return account\n",
    "        return None\n",
    "\n",
    "\n",
    "# Create an account class\n",
    "class Account:\n",
    "    def __init__(self, account_number, balance):\n",
    "        self.account_number = account_number\n",
    "        self.balance = balance\n",
    "\n",
    "    def deposit(self, amount):\n",
    "        self.balance += amount\n",
    "\n",
    "    def withdraw(self, amount):\n",
    "        if amount <= self.balance:\n",
    "            self.balance -= amount\n",
    "        else:\n",
    "            print(\"Insufficient funds\")\n"
   ]
  },
  {
   "cell_type": "markdown",
   "metadata": {},
   "source": [
    "2. Program the main code"
   ]
  },
  {
   "cell_type": "code",
   "execution_count": 12,
   "metadata": {},
   "outputs": [
    {
     "name": "stdout",
     "output_type": "stream",
     "text": [
      "Insufficient funds\n",
      "Customer: John\n",
      "Account Number: A001\n",
      "Balance: 1300\n",
      "\n",
      "Customer: Alice\n",
      "Account Number: A002\n",
      "Balance: 2100\n",
      "\n"
     ]
    }
   ],
   "source": [
    "# Create customers and accounts\n",
    "# Create customer 1\n",
    "customer1 = Customer(\"John\")\n",
    "customer1.create_account(\"A001\", 1000)\n",
    "customer1.deposit(\"A001\", 500)\n",
    "customer1.withdraw(\"A001\", 200)\n",
    "\n",
    "# Create customer 2\n",
    "customer2 = Customer(\"Alice\")\n",
    "customer2.create_account(\"A002\", 2000)\n",
    "customer2.deposit(\"A002\", 100)\n",
    "customer2.withdraw(\"A002\", 3000)\n",
    "\n",
    "\n",
    "# Print customer account details\n",
    "for customer in [customer1, customer2]:\n",
    "    print(\"Customer:\", customer.name)\n",
    "    for account in customer.accounts:\n",
    "        print(\"Account Number:\", account.account_number)\n",
    "        print(\"Balance:\", account.balance)\n",
    "    print()"
   ]
  },
  {
   "cell_type": "markdown",
   "metadata": {},
   "source": [
    "<hr style=\"margin-top: 4rem;\">\n",
    "<h2>Author</h2>\n",
    "\n",
    "<a href=\"https://github.com/SamerHany\">Samer Hany</a>"
   ]
  },
  {
   "cell_type": "markdown",
   "metadata": {},
   "source": [
    "<h2>References</h2>\n",
    "<a href=\"https://www.w3schools.com/python/default.asp\">w3schools.com</a>"
   ]
  }
 ],
 "metadata": {
  "kernelspec": {
   "display_name": "Python 3 (ipykernel)",
   "language": "python",
   "name": "python3"
  },
  "language_info": {
   "codemirror_mode": {
    "name": "ipython",
    "version": 3
   },
   "file_extension": ".py",
   "mimetype": "text/x-python",
   "name": "python",
   "nbconvert_exporter": "python",
   "pygments_lexer": "ipython3",
   "version": "3.12.0"
  }
 },
 "nbformat": 4,
 "nbformat_minor": 4
}
