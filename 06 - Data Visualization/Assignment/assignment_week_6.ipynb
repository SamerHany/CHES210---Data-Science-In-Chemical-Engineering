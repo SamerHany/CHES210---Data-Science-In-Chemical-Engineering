{
 "cells": [
  {
   "cell_type": "markdown",
   "metadata": {},
   "source": [
    "# Data Cleaning and Data Visualization\n",
    "\n",
    "## Background\n",
    "The provided experimental data is recorded for the bio-chemcial reaction of producing gluconic acid from glucose for the purpose of building a reaction model.  \n",
    "The measurements include the concentration of the reactants and product for different batches with different conditions.  \n",
    "\n",
    "## Dataset\n",
    "The data is provided in 2 files that correspond to the day the expirements were conducted.\n",
    "\n",
    "## Objective\n",
    "The main objective of this case study is clean and analyze the collected data before moving to the model development stage.\n",
    "\n",
    "## Tasks\n",
    "- Combine the 2 provided files into 1 dataset\n",
    "- Identify and handle missing data points, outliers, or inconsistencies\n",
    "- Validate data against physical and practical constraints\n",
    "- Use appropriate data visualization methods to study the distribution of each parameter\n",
    "- Use appropriate data visualization methods to study the effect of each parameter on the reaction product\n",
    "\n"
   ]
  },
  {
   "cell_type": "markdown",
   "metadata": {},
   "source": [
    "<hr>\n",
    "\n",
    "## Provide your answers below \n",
    "*Include explanation and insights for each step in `markdown` cells around your code\n",
    "\n",
    "<hr>"
   ]
  }
 ],
 "metadata": {
  "kernelspec": {
   "display_name": "Python 3",
   "language": "python",
   "name": "python3"
  },
  "language_info": {
   "codemirror_mode": {
    "name": "ipython",
    "version": 3
   },
   "file_extension": ".py",
   "mimetype": "text/x-python",
   "name": "python",
   "nbconvert_exporter": "python",
   "pygments_lexer": "ipython3",
   "version": "3.12.0"
  }
 },
 "nbformat": 4,
 "nbformat_minor": 2
}
