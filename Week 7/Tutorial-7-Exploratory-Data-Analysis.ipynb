{
 "cells": [
  {
   "cell_type": "markdown",
   "metadata": {},
   "source": [
    "# Tutorial 7: Exploratory Data Analysis (EDA)\n",
    "\n",
    "## Objectives\n",
    "\n",
    "After this tutorial you will be able to:\n",
    "\n",
    "*   Understand the importance of EDA\n",
    "*   Apply EDA techniques to different data types\n",
    "*   Assess relationships between variables\n",
    "*   Coummunicate findings effectively\n",
    "*   Apply EDA to real-world datasets"
   ]
  },
  {
   "cell_type": "markdown",
   "metadata": {},
   "source": [
    "<h2>Table of Contents</h2>\n",
    "\n",
    "<ol>\n",
    "    <li>\n",
    "        <a href=\"#import-1\">Import dataset</a>\n",
    "    </li>\n",
    "    <br>\n",
    "    <li>\n",
    "        <a href=\"#desc\">Descriptive Analysis</a>\n",
    "    </li>\n",
    "    <br>\n",
    "    <li>\n",
    "        <a href=\"#corr\">Correlation Statistics</a>\n",
    "    </li>\n",
    "    <br>\n",
    "</ol>\n"
   ]
  },
  {
   "cell_type": "markdown",
   "metadata": {},
   "source": [
    "<hr id=\"import\">\n",
    "\n",
    "<h2>1. Import the dataset</h2>"
   ]
  },
  {
   "cell_type": "markdown",
   "metadata": {},
   "source": [
    "Import the `Pandas` library"
   ]
  },
  {
   "cell_type": "code",
   "execution_count": null,
   "metadata": {},
   "outputs": [],
   "source": [
    "import pandas as pd\n",
    "import numpy as np\n",
    "import matplotlib.pyplot as plt\n",
    "import seaborn as sns\n",
    "from scipy import stats"
   ]
  },
  {
   "cell_type": "markdown",
   "metadata": {},
   "source": [
    "Read the data from `csv` into a `Pandas DataFrame`"
   ]
  },
  {
   "cell_type": "code",
   "execution_count": null,
   "metadata": {},
   "outputs": [],
   "source": [
    "df = pd.read_csv('CO2_Emissions_Canada.csv')\n",
    "df.head()"
   ]
  },
  {
   "cell_type": "code",
   "execution_count": null,
   "metadata": {},
   "outputs": [],
   "source": [
    "df.tail()"
   ]
  },
  {
   "cell_type": "markdown",
   "metadata": {},
   "source": [
    "Get information about the columns of the `DataFrame`"
   ]
  },
  {
   "cell_type": "code",
   "execution_count": null,
   "metadata": {},
   "outputs": [],
   "source": [
    "df.info()"
   ]
  },
  {
   "cell_type": "markdown",
   "metadata": {},
   "source": [
    "<hr id=\"desc\">\n",
    "\n",
    "<h2>2. Descriptive Analysis</h2>"
   ]
  },
  {
   "cell_type": "markdown",
   "metadata": {},
   "source": [
    "Summarizing numerical data: measures of central tendency (mean, median, mode) and dispersion (range, variance, standard deviation)"
   ]
  },
  {
   "cell_type": "code",
   "execution_count": null,
   "metadata": {},
   "outputs": [],
   "source": [
    "print('Mean engine size:', df['Engine Size [L]'].mean())\n",
    "print('Median engine size:', df['Engine Size [L]'].median())\n",
    "print('Mode engine size:', df['Engine Size [L]'].mode())\n",
    "print('Range of engine size:', df['Engine Size [L]'].max() - df['Engine Size [L]'].min())\n",
    "print('Variance of engine size:', df['Engine Size [L]'].var())\n",
    "print('Standard deviation of engine size:', df['Engine Size [L]'].std())"
   ]
  },
  {
   "cell_type": "markdown",
   "metadata": {},
   "source": [
    "There is an easier way to describe the different parameters using `Pandas` method `DataFrame.describe()`"
   ]
  },
  {
   "cell_type": "code",
   "execution_count": null,
   "metadata": {},
   "outputs": [],
   "source": [
    "df.describe()"
   ]
  },
  {
   "cell_type": "code",
   "execution_count": null,
   "metadata": {},
   "outputs": [],
   "source": [
    "# create a boxplot for engine size\n",
    "df.plot(kind='box', y='Engine Size [L]', title='Boxplot of Engine Size [L]', ylabel='Engine Size [L]')"
   ]
  },
  {
   "cell_type": "markdown",
   "metadata": {},
   "source": [
    "Summarizing categorical data: frequency tables and mode.  \n",
    "We can use the `describe()` method for string parameters as follows:"
   ]
  },
  {
   "cell_type": "code",
   "execution_count": null,
   "metadata": {},
   "outputs": [],
   "source": [
    "df.describe(include='object')"
   ]
  },
  {
   "cell_type": "markdown",
   "metadata": {},
   "source": [
    "We can also create **frequency tables** for each parameter using the `value_counts()` method"
   ]
  },
  {
   "cell_type": "code",
   "execution_count": null,
   "metadata": {},
   "outputs": [],
   "source": [
    "df['Fuel Type'].value_counts()"
   ]
  },
  {
   "cell_type": "code",
   "execution_count": null,
   "metadata": {},
   "outputs": [],
   "source": [
    "# create a countplot for fuel type\n",
    "sns.countplot(x='Fuel Type', data=df)\n",
    "plt.title('Fuel Type Counts')"
   ]
  },
  {
   "cell_type": "markdown",
   "metadata": {},
   "source": [
    "<hr id=\"corr\">\n",
    "\n",
    "<h2>3. Correlation Statistics</h2>"
   ]
  },
  {
   "cell_type": "markdown",
   "metadata": {},
   "source": [
    "<h3> Pearson Correlation Coefficient (Pearson's r)</h3>\n",
    "\n",
    "\n",
    "The Pearson correlation coefficient, also known as Pearson's r, is a statistical measure of the **linear correlation** between two variables. It is a number between -1 and 1.\n",
    "\n",
    "**Pearson's r**\n",
    "- A value close to 1 indicates positive correlation\n",
    "- A value close to -1 indicates negative correlation\n",
    "- A value close to 0 indicates no correlation\n",
    "\n",
    "**P-value**  \n",
    "The P-value is the probability value that the correlation between these two variables is statistically significant.   \n",
    "It is typical to choose a significance level of 0.05, which means that we are 95% confident that the correlation between the variables is significant.  \n",
    "  \n",
    "| P-value   | Correlation Significance  |\n",
    "| ---       | ---                       |\n",
    "| `p < 0.001:`  | strong evidence       |\n",
    "| `p < 0.05:`   | moderate evidence     |\n",
    "| `p < 0.1:`    | weak evidence         |\n",
    "| `p > 0.1:`    | no evidence           |\n",
    "\n",
    "We can calculate the Pearson correlation in `Pandas` using the `DataFrame.corr()` method between numerical values"
   ]
  },
  {
   "cell_type": "code",
   "execution_count": null,
   "metadata": {},
   "outputs": [],
   "source": [
    "df[['Engine Size [L]', 'CO2 Emissions [g/km]']].corr()"
   ]
  },
  {
   "cell_type": "markdown",
   "metadata": {},
   "source": [
    "We can also calculate the Pearson correlation using the `scipy.stats` module"
   ]
  },
  {
   "cell_type": "code",
   "execution_count": null,
   "metadata": {},
   "outputs": [],
   "source": [
    "# calculate correlation between two columns\n",
    "stats.pearsonr(df['Engine Size [L]'], df['CO2 Emissions [g/km]'])"
   ]
  },
  {
   "cell_type": "markdown",
   "metadata": {},
   "source": [
    "We can also calculate a correlation matrix between **ALL** numerical variables in a dataframe as follows:"
   ]
  },
  {
   "cell_type": "code",
   "execution_count": null,
   "metadata": {},
   "outputs": [],
   "source": [
    "# calculate the correlation matrix\n",
    "df.corr(numeric_only=True)"
   ]
  },
  {
   "cell_type": "markdown",
   "metadata": {},
   "source": [
    "An appropriate way to visualize a correlation matrix is through a heatmap"
   ]
  },
  {
   "cell_type": "code",
   "execution_count": null,
   "metadata": {},
   "outputs": [],
   "source": [
    "# plot the correlation matrix\n",
    "df_corr = df.corr(numeric_only=True)\n",
    "sns.heatmap(df_corr, annot=True, cmap='coolwarm')"
   ]
  },
  {
   "cell_type": "markdown",
   "metadata": {},
   "source": [
    "An appropriate way to visualize the correlation between 2 parameters is through a scatter plot"
   ]
  },
  {
   "cell_type": "code",
   "execution_count": null,
   "metadata": {},
   "outputs": [],
   "source": [
    "# plot the scatter plot between Years of Experience and Accident Level Num\n",
    "df.plot(kind='scatter', x='Engine Size [L]', y='CO2 Emissions [g/km]', figsize=(10, 6))\n",
    "plt.title('Engine size vs CO2 emissions')"
   ]
  },
  {
   "cell_type": "code",
   "execution_count": null,
   "metadata": {},
   "outputs": [],
   "source": [
    "# create a scatter matrix\n",
    "pd.plotting.scatter_matrix(df, figsize=(20, 20))"
   ]
  },
  {
   "cell_type": "markdown",
   "metadata": {},
   "source": [
    "<h3>Chi-Square (<i>x</i><sup>2</sup>) Test</h3>\n",
    "\n",
    "The chi-square test is a statistical hypothesis test that is used to determine whether there is a significant association between two **categorical variables**.  \n",
    "The chi-square test is based on the comparison of **observed** and **expected** frequencies in a contingency table.  \n",
    "\n",
    "A high chi-square value indicates that there is a strong association between the two categorical variables being tested."
   ]
  },
  {
   "cell_type": "code",
   "execution_count": null,
   "metadata": {},
   "outputs": [],
   "source": [
    "# create the pivot/crosstab contingenncy table\n",
    "pivot = pd.crosstab(df['Vehicle Class'], df['Fuel Type'])\n",
    "pivot"
   ]
  },
  {
   "cell_type": "code",
   "execution_count": null,
   "metadata": {},
   "outputs": [],
   "source": [
    "# perform the chi-square test\n",
    "stats.chi2_contingency(pivot)"
   ]
  },
  {
   "cell_type": "code",
   "execution_count": null,
   "metadata": {},
   "outputs": [],
   "source": [
    "# create a heatmap\n",
    "sns.heatmap(pivot, annot=True, fmt='d', cmap='coolwarm')\n",
    "\n",
    "# title\n",
    "plt.title('Vehicle Class vs Fuel Type')"
   ]
  },
  {
   "cell_type": "markdown",
   "metadata": {},
   "source": [
    "<h3>ANOVA: Analysis of Variance</h3>\n",
    "\n",
    "The Analysis of Variance  (ANOVA) is a statistical method used to determine whether there are significant differences between the means of two or more groups. It is a powerful tool for analyzing data from experiments and observational studies.  \n",
    "\n",
    "A high `F-score` suggests that the independent variable has a significant effect on the dependent variable (outcome).  \n",
    "And the `P-value` determines whether the `F-score` is statistically significant or not."
   ]
  },
  {
   "cell_type": "code",
   "execution_count": null,
   "metadata": {},
   "outputs": [],
   "source": [
    "# calculate ANOVA for Industry Sector and Accident Level Num\n",
    "# group the data by fuel type and corresponding CO2 emissions\n",
    "df_anova = df[['Fuel Type', 'CO2 Emissions [g/km]']].groupby(['Fuel Type'])\n",
    "df_anova.head()"
   ]
  },
  {
   "cell_type": "code",
   "execution_count": null,
   "metadata": {},
   "outputs": [],
   "source": [
    "# perform the ANOVA test\n",
    "anova_results = stats.f_oneway(\n",
    "    df_anova.get_group('X')['CO2 Emissions [g/km]'],\n",
    "    df_anova.get_group('Z')['CO2 Emissions [g/km]'],\n",
    "    df_anova.get_group('D')['CO2 Emissions [g/km]'],\n",
    "    df_anova.get_group('E')['CO2 Emissions [g/km]'],\n",
    "    df_anova.get_group('N')['CO2 Emissions [g/km]']\n",
    ")\n",
    "anova_results"
   ]
  },
  {
   "cell_type": "code",
   "execution_count": null,
   "metadata": {},
   "outputs": [],
   "source": [
    "# box plot\n",
    "sns.boxplot(y=df['CO2 Emissions [g/km]'], hue=df['Fuel Type'])\n",
    "\n",
    "# show grid lines\n",
    "plt.grid(axis='y')"
   ]
  },
  {
   "cell_type": "markdown",
   "metadata": {},
   "source": [
    "<hr style=\"margin-top: 4rem;\">\n",
    "<h2>Author</h2>\n",
    "\n",
    "<a href=\"https://github.com/SamerHany\">Samer Hany</a>"
   ]
  },
  {
   "cell_type": "markdown",
   "metadata": {},
   "source": [
    "<h2>References</h2>\n",
    "<a href=\"https://www.w3schools.com/python/default.asp\">w3schools.com</a>\n",
    "<br>\n",
    "<a href=\"https://www.kaggle.com/datasets/mrmorj/car-fuel-emissions\">CO2 emissions dataset (kaggle.com)</a>"
   ]
  }
 ],
 "metadata": {
  "kernelspec": {
   "display_name": "Python 3 (ipykernel)",
   "language": "python",
   "name": "python3"
  },
  "language_info": {
   "codemirror_mode": {
    "name": "ipython",
    "version": 3
   },
   "file_extension": ".py",
   "mimetype": "text/x-python",
   "name": "python",
   "nbconvert_exporter": "python",
   "pygments_lexer": "ipython3",
   "version": "3.12.0"
  }
 },
 "nbformat": 4,
 "nbformat_minor": 4
}
