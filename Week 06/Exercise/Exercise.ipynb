{
 "cells": [
  {
   "cell_type": "markdown",
   "metadata": {},
   "source": [
    "## Description\n",
    "The dataset (downloaded from UCI machine learning repository88) comes from a wastewater treatment plant that uses activated sludge process to remove organic matter and suspended\n",
    "solids from municipal wastewater. \n",
    "\n",
    "In this process (Figure A7), the suspended solids are first physically settled (primary treatment) and then biologically treated to oxidize the biodegradable organic matter (secondary treatment). \n",
    "\n",
    "Data from on-line sensors at different stages of the process for 40 variables over 527 days of operation are provided. Seven out of the 38 variables characterize the effluent water quality. \n",
    "\n",
    "<div style=\"text-align:center; margin-top:2rem;\">\n",
    "\n",
    "![water treatment](water-treatment.png)\n",
    "\n",
    "</div>\n",
    "\n",
    "\n",
    "## Sensor Data:\n",
    "\n",
    "- **Influent:**\n",
    "\n",
    "    1. DATE        (date)\n",
    "\n",
    "    2. Q-E         (input flow to plant)\n",
    "\n",
    "    3. ZN-E        (input Zinc to plant)\n",
    "\n",
    "    4. PH-E        (input pH to plant)\n",
    "\n",
    "    5. DBO-E       (input Biological demand of oxygen to plant)\n",
    "\n",
    "    6. DQO-E       (input chemical demand of oxygen to plant)\n",
    "\n",
    "    7. SS-E        (input suspended solids to plant)\n",
    "\n",
    "    8. SSV-E       (input volatile supended solids to plant)\n",
    "\n",
    "    9. SED-E       (input sediments to plant)\n",
    "\n",
    "    10. COND-E     (input conductivity to plant)\n",
    "\n",
    "- **Input to *Primary* Settler**\n",
    "\n",
    "    11. PH-P       (input pH to primary settler)\n",
    "\n",
    "    12. DBO-P      (input Biological demand of oxygen to primary settler)\n",
    "\n",
    "    13. SS-P       (input suspended solids to primary settler)\n",
    "\n",
    "    14. SSV-P      (input volatile supended solids to primary settler)\n",
    "\n",
    "    15. SED-P      (input sediments to primary settler)\n",
    "\n",
    "    16. COND-P     (input conductivity to primary settler)\n",
    "\n",
    "- **Input to *Secondary* Settler**\n",
    "\n",
    "    17. PH-D       (input pH to secondary settler)\n",
    "\n",
    "    18. DBO-D      (input Biological demand of oxygen to secondary settler)\n",
    "\n",
    "    19. DQO-D      (input chemical demand of oxygen to secondary settler)\n",
    "\n",
    "    20. SS-D       (input suspended solids to secondary settler)\n",
    "\n",
    "    21. SSV-D      (input volatile supended solids to secondary settler)\n",
    "\n",
    "    22. SED-D      (input sediments to secondary settler)\n",
    "\n",
    "    23. COND-D     (input conductivity to secondary settler)\n",
    "\n",
    "- **Output from *Secondary* Settler (Effluent)**\n",
    "\n",
    "    24. PH-S       (output pH)\n",
    "\n",
    "    25. DBO-S      (output Biological demand of oxygen)\n",
    "\n",
    "    26. DQO-S      (output chemical demand of oxygen)\n",
    "\n",
    "    27. SS-S       (output suspended solids)\n",
    "\n",
    "    28. SSV-S      (output volatile supended solids)\n",
    "\n",
    "    29. SED-S      (output sediments)\n",
    "\n",
    "    30. COND-S     (output conductivity)\n",
    "\n",
    "- **Performance Indicators**\n",
    "\n",
    "    31. RD-DBO-P   (performance input Biological demand of oxygen in primary settler)\n",
    "\n",
    "    32. RD-SS-P    (performance input suspended solids to primary settler)\n",
    "\n",
    "    33. RD-SED-P   (performance input sediments to primary settler)\n",
    "\n",
    "    34. RD-DBO-S   (performance input Biological demand of oxygen to secondary settler)\n",
    "\n",
    "    35. RD-DQO-S   (performance input chemical demand of oxygen to secondary settler)\n",
    "\n",
    "    36. RD-DBO-G   (global performance input Biological demand of oxygen)\n",
    "\n",
    "    37. RD-DQO-G   (global performance input chemical demand of oxygen)\n",
    "\n",
    "    38. RD-SS-G    (global performance input suspended solids)\n",
    "\n",
    "    39. RD-SED-G   (global performance input sediments)"
   ]
  },
  {
   "cell_type": "markdown",
   "metadata": {},
   "source": [
    "\n",
    "---\n",
    "\n",
    "## Data Visualization for Wastewater Treatment Process\n",
    "\n",
    "### Overview\n",
    "Data visualization plays a crucial role in analyzing the performance of wastewater treatment plants. Different types of charts can help explore distributions, relationships, trends, and compliance rates, providing clear insights into the treatment process.\n",
    "\n",
    "#### Types of Visualizations and Their Purposes\n",
    "\n",
    "1. **Univariate Analysis**\n",
    "   - **Histogram**: Shows the frequency distribution of a single variable, helping to understand its spread and identify any skewness or peaks in the data.\n",
    "   - **Box Plot**: Visualizes the spread and identifies potential outliers, indicating the variability of the process across different treatment stages.\n",
    "\n",
    "2. **Bivariate Analysis**\n",
    "   - **Scatter Plot**: Helps examine relationships between two variables, such as input flow and effluent BOD, to reveal potential correlations or patterns.\n",
    "   - **Joint Plot**: Combines scatter plots and density plots, showing the correlation between two variables along with their marginal distributions.\n",
    "\n",
    "3. **Multivariate Analysis**\n",
    "   - **Heatmap**: Visualizes correlations among multiple variables, providing insights into which variables are strongly or weakly related to each other.\n",
    "   - **Pair Plot**: Shows pairwise relationships between variables, helping to understand how multiple variables interact simultaneously.\n",
    "\n",
    "4. **Time Series Analysis**\n",
    "   - **Line Plot**: Displays trends over time, helping to identify seasonal variations, trends, or anomalies in treatment performance.\n",
    "\n",
    "5. **Performance Evaluation**\n",
    "   - **Bar Plot of Compliance Rates**: Shows the percentage of time the effluent met discharge standards, providing insights into overall compliance."
   ]
  },
  {
   "cell_type": "markdown",
   "metadata": {},
   "source": [
    "\n",
    "---\n",
    "\n",
    "## Exercise"
   ]
  },
  {
   "cell_type": "code",
   "execution_count": null,
   "metadata": {},
   "outputs": [],
   "source": [
    "# import packages\n",
    "import pandas as pd\n",
    "import matplotlib.pyplot as plt\n",
    "import seaborn as sns\n",
    "import numpy as np"
   ]
  },
  {
   "cell_type": "code",
   "execution_count": null,
   "metadata": {},
   "outputs": [],
   "source": [
    "# Load the dataset\n",
    "df = pd.read_csv('data.csv')\n",
    "\n",
    "# Display the first few rows of the dataset\n",
    "df.head()"
   ]
  },
  {
   "cell_type": "markdown",
   "metadata": {},
   "source": [
    "1. **Histogram** for **BOD-E**:\n",
    "   - **Purpose**: Visualizes the frequency distribution of input BOD levels to understand the spread and skewness.\n",
    "   - **Insights**: Identifies potential peaks, skewness, and unusual values in input BOD.\n"
   ]
  },
  {
   "cell_type": "code",
   "execution_count": null,
   "metadata": {},
   "outputs": [],
   "source": [
    "# 1. Univariate Analysis: Histogram for BOD-E\n",
    "# Reason: To understand the distribution of input BOD and identify skewness or extreme values.\n",
    "plt.figure(figsize=(10, 6))\n",
    "\n",
    "# TODO\n"
   ]
  },
  {
   "cell_type": "markdown",
   "metadata": {},
   "source": [
    "2. **Box Plot** for **Effluent pH**:\n",
    "   - **Purpose**: Shows the spread of effluent pH and detects outliers.\n",
    "   - **Insights**: Reveals variability in effluent pH, helping to identify unusual values that might indicate operational issues."
   ]
  },
  {
   "cell_type": "code",
   "execution_count": null,
   "metadata": {},
   "outputs": [],
   "source": [
    "# 2. Univariate Analysis: Box Plot for Effluent pH\n",
    "# Reason: To visualize the spread and detect potential outliers in effluent pH values.\n",
    "plt.figure(figsize=(10, 6))\n",
    "\n",
    "# TODO"
   ]
  },
  {
   "cell_type": "markdown",
   "metadata": {},
   "source": [
    "3. **Scatter Plot** for **Flow Rate vs. Effluent BOD**:\n",
    "   - **Purpose**: Analyzes the potential relationship between flow rate and effluent BOD.\n",
    "   - **Insights**: Highlights whether higher flow rates are associated with higher effluent BOD.\n"
   ]
  },
  {
   "cell_type": "code",
   "execution_count": null,
   "metadata": {},
   "outputs": [],
   "source": [
    "# 3. Bivariate Analysis: Scatter Plot for Flow Rate vs. Effluent BOD\n",
    "# Reason: To identify potential relationships or correlations between input flow and effluent BOD.\n",
    "plt.figure(figsize=(10, 6))\n",
    "\n",
    "# TODO"
   ]
  },
  {
   "cell_type": "markdown",
   "metadata": {},
   "source": [
    "\n",
    "4. **Joint Plot** for **Input COND vs. Output BOD**:\n",
    "   - **Purpose**: Combines scatter and density plots to show the relationship and distribution of COND and BOD.\n",
    "   - **Insights**: Reveals potential correlation and common value ranges for both variables.\n"
   ]
  },
  {
   "cell_type": "code",
   "execution_count": null,
   "metadata": {},
   "outputs": [],
   "source": [
    "# 4. Bivariate Analysis: Joint Plot for Input BOD and pH\n",
    "# Reason: To see the relationship between input BOD and pH, including marginal distributions.\n",
    "plt.figure(figsize=(12, 6))\n",
    "\n",
    "# TODO\n"
   ]
  },
  {
   "cell_type": "markdown",
   "metadata": {},
   "source": [
    "\n",
    "5. **Heatmap** of the Correlation Matrix:\n",
    "   - **Purpose**: Visualizes correlations among multiple variables.\n",
    "   - **Insights**: Helps identify which variables are strongly related, aiding in feature selection.\n"
   ]
  },
  {
   "cell_type": "code",
   "execution_count": null,
   "metadata": {},
   "outputs": [],
   "source": [
    "# 5. Multivariate Analysis: Heatmap of Correlation Matrix\n",
    "# Reason: To visualize the correlation among multiple variables and identify strong or weak relationships.\n",
    "df_corr = df[['Q-E', 'PH-E', 'DBO-E', 'DQO-E', 'SS-E', 'SSV-E', 'SED-E', 'COND-E', 'PH-S', 'DBO-S', 'DQO-S', 'SS-S', 'SSV-S', 'SED-S', 'COND-S']]\n",
    "plt.figure(figsize=(12, 6))\n",
    "\n",
    "# TODO\n"
   ]
  },
  {
   "cell_type": "markdown",
   "metadata": {},
   "source": [
    "\n",
    "6. **Pair Plot** of Key Variables:\n",
    "   - **Purpose**: Explores pairwise relationships among input parameters and effluent BOD.\n",
    "   - **Insights**: Provides a broad view of how variables interact with each other.\n"
   ]
  },
  {
   "cell_type": "code",
   "execution_count": null,
   "metadata": {},
   "outputs": [],
   "source": [
    "# 6. Multivariate Analysis: Pair Plot of Key Variables\n",
    "# Reason: To explore pairwise relationships among variables like input BOD, pH, and effluent BOD.\n",
    "df_pair = df[['DBO-E', 'SSV-E', 'SED-E', 'COND-E', 'DBO-S']]\n",
    "plt.figure(figsize=(12, 6))\n",
    "\n",
    "# TODO"
   ]
  },
  {
   "cell_type": "markdown",
   "metadata": {},
   "source": [
    "\n",
    "7. **Line Plot** for **Effluent BOD Over Time**:\n",
    "   - **Purpose**: Analyzes trends and variations in effluent BOD over time.\n",
    "   - **Insights**: Identifies periods of higher or lower BOD, seasonal effects, or anomalies.\n"
   ]
  },
  {
   "cell_type": "code",
   "execution_count": null,
   "metadata": {},
   "outputs": [],
   "source": [
    "# 7. Time Series Analysis: Line Plot for Effluent BOD Over Time\n",
    "# Reason: To observe trends or variations in effluent BOD over time, identifying potential anomalies or seasonal patterns.\n",
    "plt.figure(figsize=(12, 6))\n",
    "\n",
    "# TODO\n"
   ]
  }
 ],
 "metadata": {
  "kernelspec": {
   "display_name": "Python 3",
   "language": "python",
   "name": "python3"
  },
  "language_info": {
   "codemirror_mode": {
    "name": "ipython",
    "version": 3
   },
   "file_extension": ".py",
   "mimetype": "text/x-python",
   "name": "python",
   "nbconvert_exporter": "python",
   "pygments_lexer": "ipython3",
   "version": "3.11.4"
  }
 },
 "nbformat": 4,
 "nbformat_minor": 2
}
