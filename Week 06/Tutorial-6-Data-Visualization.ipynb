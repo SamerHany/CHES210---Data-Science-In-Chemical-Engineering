{
 "cells": [
  {
   "cell_type": "markdown",
   "metadata": {},
   "source": [
    "# Tutorial 6: Data Visualization\n",
    "\n",
    "## Objectives\n",
    "\n",
    "After this tutorial you will be able to:\n",
    "\n",
    "*   Understand basic concepts of data visualization\n",
    "*   Use Pandas, Matplotlib, and Seaborn to create different types of plots\n",
    "*   Customize plots to make them more informative and visually appealing\n",
    "*   Apply data visualization techniques to visualize and explore datasets"
   ]
  },
  {
   "cell_type": "markdown",
   "metadata": {},
   "source": [
    "<h2>Table of Contents</h2>\n",
    "\n",
    "<ol>\n",
    "    <li>\n",
    "        <a href=\"#import-1\">Import dataset 1 (Categorical)</a>\n",
    "    </li>\n",
    "    <br>\n",
    "    <li>\n",
    "        <a href=\"#heatmap\">Cross Tabulation and Heatmap Plot</a>\n",
    "    </li>\n",
    "    <br>\n",
    "    <li>\n",
    "        <a href=\"#line\">Line Plot</a>\n",
    "    </li>\n",
    "    <br>\n",
    "    <li>\n",
    "        <a href=\"#bar\">Bar Plot</a>\n",
    "    </li>\n",
    "    <br>\n",
    "    <li>\n",
    "        <a href=\"#pie\">Pie Plot</a>\n",
    "    </li>\n",
    "    <br>\n",
    "    <li>\n",
    "        <a href=\"#import-2\">Import dataset (Numerical)</a>\n",
    "    </li>\n",
    "    <br>\n",
    "    <li>\n",
    "        <a href=\"#histogram\">Histograms</a>\n",
    "    </li>\n",
    "    <br>\n",
    "    <li>\n",
    "        <a href=\"#box\">Box Plot</a>\n",
    "    </li>\n",
    "    <br>\n",
    "    <li>\n",
    "        <a href=\"#scatter\">Scatter Plot</a>\n",
    "    </li>\n",
    "    <br>\n",
    "</ol>\n"
   ]
  },
  {
   "cell_type": "markdown",
   "metadata": {},
   "source": [
    "<hr id=\"import\">\n",
    "\n",
    "<h2>1. Import dataset 1</h2>"
   ]
  },
  {
   "cell_type": "markdown",
   "metadata": {},
   "source": [
    "Import the `Pandas` library"
   ]
  },
  {
   "cell_type": "code",
   "execution_count": null,
   "metadata": {},
   "outputs": [],
   "source": [
    "import pandas as pd\n",
    "import numpy as np\n",
    "import matplotlib.pyplot as plt\n",
    "import seaborn as sns"
   ]
  },
  {
   "cell_type": "markdown",
   "metadata": {},
   "source": [
    "Read the data from `csv` into a `Pandas DataFrame`"
   ]
  },
  {
   "cell_type": "code",
   "execution_count": null,
   "metadata": {},
   "outputs": [],
   "source": [
    "df = pd.read_csv('IHMStefanini_industrial_safety_and_health_database.csv')\n",
    "df.head()"
   ]
  },
  {
   "cell_type": "markdown",
   "metadata": {},
   "source": [
    "Get information about the columns of the `DataFrame`"
   ]
  },
  {
   "cell_type": "code",
   "execution_count": null,
   "metadata": {},
   "outputs": [],
   "source": [
    "df.info()"
   ]
  },
  {
   "cell_type": "markdown",
   "metadata": {},
   "source": [
    "Standardize data"
   ]
  },
  {
   "cell_type": "code",
   "execution_count": null,
   "metadata": {},
   "outputs": [],
   "source": [
    "# convert column to datetime\n",
    "df['Date'] = pd.to_datetime(df['Date'])\n",
    "df.info()"
   ]
  },
  {
   "cell_type": "code",
   "execution_count": null,
   "metadata": {},
   "outputs": [],
   "source": [
    "# create a new column for unique months (YYYY-MM) 2020-10\n",
    "df['Month'] = df['Date'].dt.year.astype(str) + '-' + df['Date'].dt.month.astype(str).str.zfill(2)\n",
    "df.head()"
   ]
  },
  {
   "cell_type": "code",
   "execution_count": null,
   "metadata": {},
   "outputs": [],
   "source": [
    "df.tail()"
   ]
  },
  {
   "cell_type": "markdown",
   "metadata": {},
   "source": [
    "<hr id=\"heatmap\">\n",
    "\n",
    "<h2>2. Cross Tabulation and Heatmap Plot</h2>"
   ]
  },
  {
   "cell_type": "markdown",
   "metadata": {},
   "source": [
    "Heatmaps show the magnitude of a variable across two dimensions with colors."
   ]
  },
  {
   "cell_type": "code",
   "execution_count": null,
   "metadata": {},
   "outputs": [],
   "source": [
    "# group by month and count the number of accidents\n",
    "df_country_level = df.groupby(['Country', 'Accident Level'], as_index=False)['Date'].count()\n",
    "df_country_level\n"
   ]
  },
  {
   "cell_type": "markdown",
   "metadata": {},
   "source": [
    "A more convenient and compact way to see the distribution of a parameter accross 2 different groups or categories of data is a `pivot table` or a `heatmap plot`"
   ]
  },
  {
   "cell_type": "code",
   "execution_count": null,
   "metadata": {},
   "outputs": [],
   "source": [
    "# create a pivot table showing the number of accidents by country and by accident level\n",
    "pivot = pd.crosstab(df['Country'], df['Accident Level'])\n",
    "pivot"
   ]
  },
  {
   "cell_type": "markdown",
   "metadata": {},
   "source": [
    "To create any plot using the `matplotlib` library, we simply use the `pyplot` module (assigned an alias of `plt` in this file) and use the corresponding plot type method.\n",
    "\n",
    "Common plot types:\n",
    "\n",
    "| PLOT TYPE         |  pyplot method        |\n",
    "| ---               |  ---                  |\n",
    "| line (default)    |  `plot(x, y)`         |\n",
    "| scatter           |  `scatter(x, y)`      |\n",
    "| bar               |  `bar(x, height)`     |\n",
    "| pie               |  `pie(x, labels)`     |\n",
    "| histogram         |  `hist(x)`            |\n",
    "| box               |  `box(x)`             |\n",
    "| heatmap           |  `pcolor(matrix)`     |"
   ]
  },
  {
   "cell_type": "code",
   "execution_count": null,
   "metadata": {},
   "outputs": [],
   "source": [
    "# plot heatmap\n",
    "plt.pcolor(pivot)"
   ]
  },
  {
   "cell_type": "markdown",
   "metadata": {},
   "source": [
    "That's how easy it is to create a plot with `matplotlib`!  \n",
    "  \n",
    "But we can add a few adjustments to make it much clearer (e.g. title, axes labels, etc.)  \n",
    "There are a lot of available methods to add different elements to the active plot.  \n",
    "Once a plot is created, all we need to do is call the required method from the `pyplot (plt)` module, and that method will be applied to the active plot."
   ]
  },
  {
   "cell_type": "code",
   "execution_count": null,
   "metadata": {},
   "outputs": [],
   "source": [
    "# create a blank figure with a size of 8x6 inches\n",
    "plt.figure(figsize=(8, 6))\n",
    "\n",
    "# create heatmap plot\n",
    "plt.pcolor(pivot, cmap='RdBu')\n",
    "\n",
    "# add a colorbar\n",
    "plt.colorbar()\n",
    "\n",
    "# # add a plot title\n",
    "plt.title('Heatmap of number of accidents by country and accident level', y=1.1)\n",
    "\n",
    "# # add Y-axis title\n",
    "plt.ylabel('Country')\n",
    "\n",
    "# # updated Y-axis ticks/labels\n",
    "plt.yticks(ticks=np.arange(len(pivot)) + 0.5, labels=pivot.index)\n",
    "\n",
    "# # add X-axis title\n",
    "plt.xlabel('Accident Level')\n",
    "\n",
    "# # update X-axis ticks/labels\n",
    "plt.xticks(np.arange(len(pivot.columns)) + 0.5, pivot.columns)\n",
    "\n",
    "# # show plot (this is only required in Python script files, but it is called by default in Jupyter Notebooks)\n",
    "plt.show()"
   ]
  },
  {
   "cell_type": "markdown",
   "metadata": {},
   "source": [
    "Now this looks much better and clearer!  \n",
    "We can also use `seaborn` to plot a similar heat map with just one command!"
   ]
  },
  {
   "cell_type": "code",
   "execution_count": null,
   "metadata": {},
   "outputs": [],
   "source": [
    "sns.heatmap(pivot, cmap='RdBu', annot=True, fmt='d')\n",
    "plt.title('Heatmap of number of accidents by country and accident level', y=1.1)"
   ]
  },
  {
   "cell_type": "markdown",
   "metadata": {},
   "source": [
    "<hr id=\"line\">\n",
    "\n",
    "<h2>3. Line Plot</h2>"
   ]
  },
  {
   "cell_type": "markdown",
   "metadata": {},
   "source": [
    "Line plots show trends and changes over time."
   ]
  },
  {
   "cell_type": "code",
   "execution_count": null,
   "metadata": {},
   "outputs": [],
   "source": [
    "# groupd by month\n",
    "df_months = df.groupby('Month', as_index=False)['Accident Level'].count()\n",
    "df_months"
   ]
  },
  {
   "cell_type": "markdown",
   "metadata": {},
   "source": [
    "We can plot the `line` chart using the `pyplot (plt)` module"
   ]
  },
  {
   "cell_type": "code",
   "execution_count": null,
   "metadata": {},
   "outputs": [],
   "source": [
    "plt.plot(df_months['Month'], df_months['Accident Level'])"
   ]
  },
  {
   "cell_type": "markdown",
   "metadata": {},
   "source": [
    "Or, a very big advantage of the `Pandas` library is that it integrates with `matplotlib` and has plotting capabilities built into the `DataFrame` objects.  \n",
    "To plot data from a `DataFrame`, all we need to do is call the `plot()` method on the `DataFrame` and specify the `kind` parameter as the required plot type.  \n",
    "\n",
    "For example, here are the equivalent `Pandas` methods to the `plt` methods mentioned above:\n",
    "\n",
    "| PLOT TYPE         |  pyplot method        | DataFrame method                  |\n",
    "| ---               |  ---                  | ---                               |\n",
    "| line (default)    |  `plot(x, y)`         | `plot(kind='line', x, y)`         |\n",
    "| scatter           |  `scatter(x, y)`      | `plot(kind='scatter', x, y)`      |\n",
    "| bar               |  `bar(x, height)`     | `plot(kind='bar', x, y)`          |\n",
    "| pie               |  `pie(x, labels)`     | `plot(kind='pie', x, y)`          |\n",
    "| histogram         |  `hist(x)`            | `plot(kind='hist', x)`            |\n",
    "| box               |  `box(x)`             | `plot(kind='box', x)`             |"
   ]
  },
  {
   "cell_type": "code",
   "execution_count": null,
   "metadata": {},
   "outputs": [],
   "source": [
    "# line plot with adjustments\n",
    "\n",
    "# we can also spepcify the figure size in the DataFrame plot method\n",
    "df_months.plot(\n",
    "    kind='line', \n",
    "    figsize=(15, 5), \n",
    "    x='Month', \n",
    "    y='Accident Level', \n",
    "    title='Number of accidents per month', \n",
    "    ylabel='Number of accidents', \n",
    "    legend=False,\n",
    "    color='red',                # line color\n",
    "    linestyle='dotted',         # line style\n",
    "    marker='o',                 # marker type\n",
    "    markersize=5,               # marker size\n",
    "    markerfacecolor='blue',     # marker fill color\n",
    "    markeredgecolor='blue',     # marker border color\n",
    ")\n",
    "\n",
    "# X-axis ticks/labels\n",
    "plt.xticks(ticks=range(len(df_months)), labels=df_months['Month'], rotation=45)\n",
    "\n",
    "# set X margins to 0 (spacing between X-axis and the first/last datapoint)\n",
    "plt.margins(x=0)\n",
    "\n",
    "# # show grid lines\n",
    "plt.grid()"
   ]
  },
  {
   "cell_type": "markdown",
   "metadata": {},
   "source": [
    "<hr id=\"bar\">\n",
    "\n",
    "<h2>4. Bar Plot</h2>"
   ]
  },
  {
   "cell_type": "markdown",
   "metadata": {},
   "source": [
    "Bar plots compare the values between different categories or groups."
   ]
  },
  {
   "cell_type": "code",
   "execution_count": null,
   "metadata": {},
   "outputs": [],
   "source": [
    "# get accident level counts\n",
    "df_accident_level = df.groupby('Accident Level')['Accident Level'].count()\n",
    "df_accident_level"
   ]
  },
  {
   "cell_type": "code",
   "execution_count": null,
   "metadata": {},
   "outputs": [],
   "source": [
    "# bar plot\n",
    "\n",
    "# since the DataFrame only contains one column, we can use the plot method without specifying x and y\n",
    "df_accident_level.plot(kind='bar', ylabel='Number of accidents', title='Number of accidents per level')\n",
    "\n",
    "# X-axis ticks/labels\n",
    "plt.xticks(rotation=0)\n",
    "\n",
    "# show grid lines\n",
    "plt.grid(axis='y')"
   ]
  },
  {
   "cell_type": "markdown",
   "metadata": {},
   "source": [
    "We can use `seaborn.countplot()` to produce the same plot as above without having to group by accident level."
   ]
  },
  {
   "cell_type": "code",
   "execution_count": null,
   "metadata": {},
   "outputs": [],
   "source": [
    "# bar plot with counts of unique values\n",
    "order_list = ['I', 'II', 'III', 'IV', 'V']\n",
    "sns.countplot(data=df, x='Accident Level', order=order_list)\n",
    "\n",
    "# show grid lines\n",
    "plt.grid(axis='y')"
   ]
  },
  {
   "cell_type": "markdown",
   "metadata": {},
   "source": [
    "<hr id=\"pie\">\n",
    "\n",
    "<h2>5. Pie Plot</h2>"
   ]
  },
  {
   "cell_type": "markdown",
   "metadata": {},
   "source": [
    "Pie plots show proportion distribution of categories or groups."
   ]
  },
  {
   "cell_type": "code",
   "execution_count": null,
   "metadata": {},
   "outputs": [],
   "source": [
    "# pie plot\n",
    "df_industry_sector = df.groupby('Industry Sector')['Industry Sector'].count()\n",
    "df_industry_sector"
   ]
  },
  {
   "cell_type": "code",
   "execution_count": null,
   "metadata": {},
   "outputs": [],
   "source": [
    "# pie plot\n",
    "df_industry_sector.plot(kind='pie')"
   ]
  },
  {
   "cell_type": "code",
   "execution_count": null,
   "metadata": {},
   "outputs": [],
   "source": [
    "# adjust plot\n",
    "df_industry_sector.plot(\n",
    "    kind='pie', \n",
    "    figsize=(10, 6), \n",
    "    title='Number of accidents per industry sector',\n",
    "    ylabel='',              # remove Y-axis label\n",
    "    labels=None,            # disable automatic labels (we will add them in the legend in the next step)\n",
    "    autopct='%1.1f%%',      # format of the percentage values\n",
    "    startangle=90,          # start angle of the first pie slice\n",
    "    explode=[0, 0, 0.1]     # a list of values specifying the fraction of the radius with which to offset each pie slice (here we exploe the \"Others\" slice)\n",
    ")\n",
    "\n",
    "# add legend\n",
    "plt.legend(labels=df_industry_sector.index, loc='lower right')"
   ]
  },
  {
   "cell_type": "markdown",
   "metadata": {},
   "source": [
    "<hr id=\"import-2\">\n",
    "\n",
    "<h2>6. Import dataset 2</h2>"
   ]
  },
  {
   "cell_type": "markdown",
   "metadata": {},
   "source": [
    "Read the data from `csv` into a `Pandas DataFrame`\n",
    "\n",
    "<h4>Understanding the Data</h4>\n",
    "\n",
    "**Model**\t\n",
    "- 4WD/4X4 = Four-wheel drive\n",
    "- AWD = All-wheel drive\n",
    "- FFV = Flexible-fuel vehicle\n",
    "- SWB = Short wheelbase\n",
    "- LWB = Long wheelbase\n",
    "- EWB = Extended wheelbase  \n",
    "\n",
    "**Transmission**\t\n",
    "- A = automatic\n",
    "- AM = automated manual\n",
    "- AS = automatic with select shift\n",
    "- AV = continuously variable\n",
    "- M = manual\n",
    "- 3 - 10 = Number of gears  \n",
    "\n",
    "**Fuel type**\t\n",
    "- X = regular gasoline\n",
    "- Z = premium gasoline\n",
    "- D = diesel\n",
    "- E = ethanol (E85)\n",
    "- N = natural gas  \n",
    "\n",
    "**Fuel consumption**\t\n",
    "- City and highway fuel consumption ratings are shown in litres per 100 kilometres (L/100 km) \n",
    "- the combined rating (55% city, 45% hwy) is shown in L/100 km and in miles per imperial gallon (mpg)  \n",
    "\n",
    "**CO2 emissions**\t\n",
    "the tailpipe emissions of carbon dioxide (in grams per kilometre) for combined city and highway driving"
   ]
  },
  {
   "cell_type": "code",
   "execution_count": null,
   "metadata": {},
   "outputs": [],
   "source": [
    "df = pd.read_csv('CO2_Emissions_Canada.csv')\n",
    "df.head()"
   ]
  },
  {
   "cell_type": "code",
   "execution_count": null,
   "metadata": {},
   "outputs": [],
   "source": [
    "df.info()"
   ]
  },
  {
   "cell_type": "markdown",
   "metadata": {},
   "source": [
    "<hr id=\"histogram\">\n",
    "\n",
    "<h2>7. Histograms</h2>"
   ]
  },
  {
   "cell_type": "markdown",
   "metadata": {},
   "source": [
    "Histograms show the data distribution similar to a distribution curve but in discrete intervals called `bins`."
   ]
  },
  {
   "cell_type": "code",
   "execution_count": null,
   "metadata": {},
   "outputs": [],
   "source": [
    "# histogram\n",
    "df['Engine Size [L]'].plot(kind='hist')"
   ]
  },
  {
   "cell_type": "markdown",
   "metadata": {},
   "source": [
    "As we see in the default plot, the X-ticks do not align with the bins.  \n",
    "We can specify the number of bins and the ticks for the histogram with the help of the `numpy` function `histogram(list_of_values, number_of_bins)`.  \n",
    "And the function returns a list with the frequencies, and another list with the bin edges (ticks)."
   ]
  },
  {
   "cell_type": "code",
   "execution_count": null,
   "metadata": {},
   "outputs": [],
   "source": [
    "# use numpy to get the histogram data\n",
    "freq, bin_edges = np.histogram(df['Engine Size [L]'], 10)\n",
    "print(freq)\n",
    "print(bin_edges)"
   ]
  },
  {
   "cell_type": "code",
   "execution_count": null,
   "metadata": {},
   "outputs": [],
   "source": [
    "# plot histogram\n",
    "df['Engine Size [L]'].plot(kind='hist', bins=10, title='Histogram of engine size', xlabel='Engine size [L]')\n",
    "\n",
    "# X-axis ticks/labels\n",
    "plt.xticks(bin_edges, rotation=90)\n",
    "\n",
    "# show grid lines\n",
    "plt.grid()"
   ]
  },
  {
   "cell_type": "markdown",
   "metadata": {},
   "source": [
    "<hr id=\"box\">\n",
    "\n",
    "<h2>8. Box Plot</h2>"
   ]
  },
  {
   "cell_type": "markdown",
   "metadata": {},
   "source": [
    "A box (also called box-and-whisker) plot also shows the distribution of a single variable and identifies the outliers.\n",
    "\n",
    "It also shows the following stats:\n",
    "- minimum (Q0, excluding outliers)\n",
    "- first quartile (Q1)\n",
    "- median (Q2)\n",
    "- third quartile (Q3)\n",
    "- maximum (Q4, excluding outliers)\n",
    "- interquartile range (IQR = Q3 - Q1)\n",
    "- max outliers (> Q3 + 1.5*IQR)\n",
    "- min outliers (< Q1 - 1.5*IQR)"
   ]
  },
  {
   "cell_type": "code",
   "execution_count": null,
   "metadata": {},
   "outputs": [],
   "source": [
    "# box plot\n",
    "df['CO2 Emissions [g/km]'].plot(kind='box', title='Box plot of CO2 emissions', ylabel='CO2 Emissions [g/km]')\n",
    "\n",
    "# show grid lines\n",
    "plt.grid()"
   ]
  },
  {
   "cell_type": "markdown",
   "metadata": {},
   "source": [
    "We can see how the values are distributed in different groups in another categorical column by using `seaborn.boxplot()`, and using the `hue` parameter"
   ]
  },
  {
   "cell_type": "code",
   "execution_count": null,
   "metadata": {},
   "outputs": [],
   "source": [
    "# box plot\n",
    "sns.boxplot(y=df['CO2 Emissions [g/km]'], hue=df['Fuel Type'])\n",
    "\n",
    "# show grid lines\n",
    "plt.grid(axis='y')"
   ]
  },
  {
   "cell_type": "markdown",
   "metadata": {},
   "source": [
    "We can also plot multiple box plots on the same graph as follows:"
   ]
  },
  {
   "cell_type": "code",
   "execution_count": null,
   "metadata": {},
   "outputs": [],
   "source": [
    "# multiple box plots\n",
    "df[['Fuel Consumption City [L/100 km]', 'Fuel Consumption Hwy [L/100 km]', 'Fuel Consumption Comb [L/100 km]']].plot(\n",
    "    kind='box',\n",
    "    title='Box plot of fuel consumption for different driving conditions',\n",
    "    ylabel='Fuel Consumption [L/100 km]',\n",
    "    xlabel='Fuel Consumption'\n",
    ")\n",
    "\n",
    "# X-axis ticks/labels\n",
    "plt.xticks(ticks=[1, 2, 3], labels=['City', 'Highway', 'Combined'])\n",
    "\n",
    "# show grid lines\n",
    "plt.grid()"
   ]
  },
  {
   "cell_type": "markdown",
   "metadata": {},
   "source": [
    "<hr id=\"scatter\">\n",
    "\n",
    "<h2>9. Scatter Plot</h2>"
   ]
  },
  {
   "cell_type": "markdown",
   "metadata": {},
   "source": [
    "Scatter plots show the relationships between variables"
   ]
  },
  {
   "cell_type": "code",
   "execution_count": null,
   "metadata": {},
   "outputs": [],
   "source": [
    "# scatter plot\n",
    "df.plot(kind='scatter', x='Engine Size [L]', y='CO2 Emissions [g/km]', title='Scatter plot of engine size vs. CO2 emissions', figsize=(15, 5))\n",
    "\n",
    "# show grid lines\n",
    "plt.grid()"
   ]
  },
  {
   "cell_type": "markdown",
   "metadata": {},
   "source": [
    "Calcualute the trend line using `numpy.polyfit()`"
   ]
  },
  {
   "cell_type": "code",
   "execution_count": null,
   "metadata": {},
   "outputs": [],
   "source": [
    "# trend line\n",
    "fit = np.polyfit(df['Engine Size [L]'], df['CO2 Emissions [g/km]'], 1)\n",
    "fit"
   ]
  },
  {
   "cell_type": "markdown",
   "metadata": {},
   "source": [
    "<h4>Regression Plot</h4>\n",
    "\n",
    "It's basically a scatter plot with a linear regression trendline."
   ]
  },
  {
   "cell_type": "code",
   "execution_count": null,
   "metadata": {},
   "outputs": [],
   "source": [
    "# scatter plot\n",
    "df.plot(kind='scatter', x='Engine Size [L]', y='CO2 Emissions [g/km]', title='Scatter plot of engine size vs. CO2 emissions', figsize=(15, 5))\n",
    "\n",
    "# plot trend line\n",
    "y = fit[0] * df['Engine Size [L]'] + fit[1]\n",
    "plt.plot(df['Engine Size [L]'], y, color='red')\n",
    "\n",
    "# anotate trend line equation\n",
    "plt.annotate('y = {0:.2f}x + {1:.2f}'.format(fit[0], fit[1]), xy=(5, 200), color='red')\n",
    "\n",
    "# show grid lines\n",
    "plt.grid()"
   ]
  },
  {
   "cell_type": "markdown",
   "metadata": {},
   "source": [
    "We can also use `seaborn.regplot()` to create the above regression plot with trendline without having to perform the fitting step."
   ]
  },
  {
   "cell_type": "code",
   "execution_count": null,
   "metadata": {},
   "outputs": [],
   "source": [
    "plt.figure(figsize=(15, 5))\n",
    "sns.regplot(x='Engine Size [L]', y='CO2 Emissions [g/km]', data=df)\n",
    "plt.title('Scatter plot of engine size vs. CO2 emissions')\n"
   ]
  },
  {
   "cell_type": "markdown",
   "metadata": {},
   "source": [
    "<h4>Bubble Plot</h4>\n",
    "\n",
    "It's basically a scatter plot with an additional dimension (i.e. size of points)"
   ]
  },
  {
   "cell_type": "code",
   "execution_count": null,
   "metadata": {},
   "outputs": [],
   "source": [
    "# scatter plot\n",
    "plt.figure(figsize=(15, 5))\n",
    "sns.scatterplot(data=df, x='Engine Size [L]', y='CO2 Emissions [g/km]', size='Cylinders', alpha=0.5, sizes=(20, 400), color='green')\n",
    "\n",
    "# title\n",
    "plt.title('Scatter plot of engine size vs. CO2 emissions')\n",
    "\n",
    "# show grid lines\n",
    "plt.grid()"
   ]
  },
  {
   "cell_type": "markdown",
   "metadata": {},
   "source": [
    "<hr style=\"margin-top: 4rem;\">\n",
    "<h2>Author</h2>\n",
    "\n",
    "<a href=\"https://github.com/SamerHany\">Samer Hany</a>"
   ]
  },
  {
   "cell_type": "markdown",
   "metadata": {},
   "source": [
    "<h2>References</h2>\n",
    "<a href=\"https://www.w3schools.com/python/default.asp\">w3schools.com</a>\n",
    "<br>\n",
    "<a href=\"https://www.kaggle.com/datasets/ihmstefanini/industrial-safety-and-health-analytics-database\">industrial safety dataset (kaggle.com)</a>\n",
    "<br>\n",
    "<a href=\"https://www.kaggle.com/datasets/mrmorj/car-fuel-emissions\">CO2 emissions dataset (kaggle.com)</a>"
   ]
  }
 ],
 "metadata": {
  "kernelspec": {
   "display_name": "Python 3 (ipykernel)",
   "language": "python",
   "name": "python3"
  },
  "language_info": {
   "codemirror_mode": {
    "name": "ipython",
    "version": 3
   },
   "file_extension": ".py",
   "mimetype": "text/x-python",
   "name": "python",
   "nbconvert_exporter": "python",
   "pygments_lexer": "ipython3",
   "version": "3.12.0"
  }
 },
 "nbformat": 4,
 "nbformat_minor": 4
}
