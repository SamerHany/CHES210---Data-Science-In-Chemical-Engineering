{
 "cells": [
  {
   "cell_type": "markdown",
   "metadata": {},
   "source": [
    "# Tutorial 4: NumPy, Pandas & Data Gathering\n",
    "\n",
    "\n",
    "## Objectives\n",
    "\n",
    "After this tutorial you will be able to:\n",
    "\n",
    "*   understand the basics of NumPy and Pandas libraries\n",
    "*   use NumPy arrays for efficient data manipulation\n",
    "*   use Pandas DataFrames for structured data manipulation\n",
    "*   load data from different sources into NumPy arrays and Pandas DataFrames\n",
    "*   perform data manipulation tasks such as filtering, sorting, and aggregating data\n"
   ]
  },
  {
   "cell_type": "markdown",
   "metadata": {},
   "source": [
    "<h2>Table of Contents</h2>\n",
    "\n",
    "<ol>\n",
    "    <li>\n",
    "        <details>\n",
    "            <summary><a href=\"#numpy\">NumPy</a></summary>\n",
    "            <ul>\n",
    "                <li><a href=\"#numpy-create\">Create and initialize NumPy arrays</a></li>\n",
    "                <li><a href=\"#numpy-perform\">Perform basic arithmetic operations on NumPy arrays</a></li>\n",
    "                <li><a href=\"#numpy-index\">Index and slice NumPy arrays</a></li>\n",
    "                <li><a href=\"#numpy-shape\">Change the shape of NumPy arrays</a></li>\n",
    "            </ul>\n",
    "        </details>\n",
    "    </li>\n",
    "    <br>\n",
    "    <li>\n",
    "        <details>\n",
    "            <summary><a href=\"#pandas\">Pandas</a></summary>\n",
    "            <ul>\n",
    "                <li><a href=\"#pandas-create\">Create and initialize Pandas DataFrames</a></li>\n",
    "                <li><a href=\"#pandas-index\">Index and slice Pandas DataFrames</a></li>\n",
    "                <li><a href=\"#pandas-select\">Select columns from Pandas DataFrames</a></li>\n",
    "                <li><a href=\"#pandas-filter\">Filter and sort Pandas DataFrames</a></li>\n",
    "                <li><a href=\"#pandas-aggregate\">Aggregate data in Pandas DataFrames</a></li>\n",
    "            </ul>\n",
    "        </details>\n",
    "    </li>\n",
    "    <br>\n",
    "    <li>\n",
    "        <details>\n",
    "            <summary><a href=\"#data\">Loading and Manipulating Data</a></summary>\n",
    "            <ul>\n",
    "                <li><a href=\"#data-csv\">Load data from CSV files into Pandas DataFrames</a></li>\n",
    "                <li><a href=\"#data-json\">Load data from JSON files into Pandas DataFrames</a></li>\n",
    "                <li><a href=\"#data-sql\">Load data from SQL database into Pandas DataFrames</a></li>\n",
    "            </ul>\n",
    "        </details>\n",
    "    </li>\n",
    "    <br>    \n",
    "</ol>\n"
   ]
  },
  {
   "cell_type": "markdown",
   "metadata": {},
   "source": [
    "<hr id=\"numpy\">\n",
    "\n",
    "<h2>1. NumPy</h2>\n",
    "\n",
    "Numpy is a library used for working with arrays.  \n",
    "It also has useful functions for linear agebra and matrices."
   ]
  },
  {
   "cell_type": "markdown",
   "metadata": {},
   "source": [
    "<h5 id=\"numpy-create\">Create and initialize NumPy arrays</h5>\n",
    "\n",
    "import the NumPy library"
   ]
  },
  {
   "cell_type": "code",
   "execution_count": null,
   "metadata": {},
   "outputs": [],
   "source": [
    "# np is the most popular alias for numpy\n",
    "import numpy as np"
   ]
  },
  {
   "cell_type": "markdown",
   "metadata": {},
   "source": [
    "Create a 1D NumPy array"
   ]
  },
  {
   "cell_type": "code",
   "execution_count": null,
   "metadata": {},
   "outputs": [],
   "source": [
    "list = [1, 2, 3, 4, 5]\n",
    "array_1d = np.array(list)\n",
    "array_1d"
   ]
  },
  {
   "cell_type": "markdown",
   "metadata": {},
   "source": [
    "Create a 2D NumPy array"
   ]
  },
  {
   "cell_type": "code",
   "execution_count": null,
   "metadata": {},
   "outputs": [],
   "source": [
    "array_2d = np.array(\n",
    "    [\n",
    "        [1, 2, 3], \n",
    "        [4, 5, 6], \n",
    "        [7, 8, 9]\n",
    "    ]\n",
    ")\n",
    "array_2d"
   ]
  },
  {
   "cell_type": "markdown",
   "metadata": {},
   "source": [
    "To get the number of dimensions or an array, use the attribute `ndim`."
   ]
  },
  {
   "cell_type": "code",
   "execution_count": null,
   "metadata": {},
   "outputs": [],
   "source": [
    "# Show the numpy array dimensions\n",
    "print(array_1d.ndim)\n",
    "print(array_2d.ndim)"
   ]
  },
  {
   "cell_type": "markdown",
   "metadata": {},
   "source": [
    "To get the size of each dimension, use the attribute `shape`.`\n"
   ]
  },
  {
   "cell_type": "code",
   "execution_count": null,
   "metadata": {},
   "outputs": [],
   "source": [
    "print(array_1d.shape)\n",
    "print(array_2d.shape)"
   ]
  },
  {
   "cell_type": "markdown",
   "metadata": {},
   "source": [
    "To get the total number of elements in the array, use the attribute `size`.\n"
   ]
  },
  {
   "cell_type": "code",
   "execution_count": null,
   "metadata": {},
   "outputs": [],
   "source": [
    "# Show the numpy array size\n",
    "print(array_1d.size)\n",
    "print(array_2d.size)"
   ]
  },
  {
   "cell_type": "markdown",
   "metadata": {},
   "source": [
    "<h5 id=\"numpy-perform\">Perform basic arithmetic operations on NumPy arrays</h5>"
   ]
  },
  {
   "cell_type": "code",
   "execution_count": null,
   "metadata": {},
   "outputs": [],
   "source": [
    "# create 2 new arrays\n",
    "A = np.array([1, 2, 3])\n",
    "B = np.array([4, 5, 6])\n",
    "\n",
    "# element-wise operations\n",
    "# Addition\n",
    "print('Addition: ', A + B)\n",
    "\n",
    "# Subtraction\n",
    "print('Subtraction: ', A - B)\n",
    "\n",
    "# Multiplication\n",
    "print('Multiplication: ', A * B)\n",
    "\n",
    "# Division\n",
    "print('Division: ', A / B)"
   ]
  },
  {
   "cell_type": "code",
   "execution_count": null,
   "metadata": {},
   "outputs": [],
   "source": [
    "# matrix operation\n",
    "# Dot product A.B\n",
    "print('Dot product: ', A.dot(B))\n",
    "\n",
    "# 2D matrices\n",
    "X = np.array([\n",
    "    [1, 2],\n",
    "    [3, 4],\n",
    "    [5, 6],\n",
    "]) # 3x2\n",
    "\n",
    "Y = np.array([\n",
    "    [7, 8, 9],\n",
    "    [0, 1, 2],\n",
    "]) # 2x3\n",
    "\n",
    "# X x Y\n",
    "print('Matrix multiplication: ', X.dot(Y))"
   ]
  },
  {
   "cell_type": "markdown",
   "metadata": {},
   "source": [
    "<h5 id=\"numpy-index\">Index and slice NumPy arrays</h5>"
   ]
  },
  {
   "cell_type": "markdown",
   "metadata": {},
   "source": [
    "accessing elements in a 2d array"
   ]
  },
  {
   "cell_type": "code",
   "execution_count": null,
   "metadata": {},
   "outputs": [],
   "source": [
    "# for reference\n",
    "array_2d"
   ]
  },
  {
   "cell_type": "code",
   "execution_count": null,
   "metadata": {},
   "outputs": [],
   "source": [
    "# first row and first column\n",
    "array_2d[0, 0]"
   ]
  },
  {
   "cell_type": "code",
   "execution_count": null,
   "metadata": {},
   "outputs": [],
   "source": [
    "# second row and third column\n",
    "print(array_2d[1][2])"
   ]
  },
  {
   "cell_type": "code",
   "execution_count": null,
   "metadata": {},
   "outputs": [],
   "source": [
    "# third row and last column\n",
    "print(array_2d[2, -1])"
   ]
  },
  {
   "cell_type": "markdown",
   "metadata": {},
   "source": [
    "slicing a 2d array"
   ]
  },
  {
   "cell_type": "code",
   "execution_count": null,
   "metadata": {},
   "outputs": [],
   "source": [
    "# first row (all columns)\n",
    "print(array_2d[0, :])"
   ]
  },
  {
   "cell_type": "code",
   "execution_count": null,
   "metadata": {},
   "outputs": [],
   "source": [
    "# first column (all rows)\n",
    "print(array_2d[:, 0])"
   ]
  },
  {
   "cell_type": "code",
   "execution_count": null,
   "metadata": {},
   "outputs": [],
   "source": [
    "# first two rows and second and third columns\n",
    "print(array_2d[0:2, 1:3])"
   ]
  },
  {
   "cell_type": "markdown",
   "metadata": {},
   "source": [
    "<h5 id=\"numpy-shape\">Change the shape of NumPy arrays</h5>"
   ]
  },
  {
   "cell_type": "code",
   "execution_count": null,
   "metadata": {},
   "outputs": [],
   "source": [
    "array = np.array([1, 2, 3, 4, 5, 6])\n",
    "\n",
    "# Reshape the array into a 2D array\n",
    "array_2d = array.reshape((2, 3))\n",
    "print(array_2d)"
   ]
  },
  {
   "cell_type": "code",
   "execution_count": null,
   "metadata": {},
   "outputs": [],
   "source": [
    "# Transpose the array\n",
    "print(array_2d.T)"
   ]
  },
  {
   "cell_type": "markdown",
   "metadata": {},
   "source": [
    "<hr id=\"pandas\">\n",
    "\n",
    "<h2>2. Pandas</h2>\n",
    "\n",
    "Pandas is a Python library for data manipulation and analysis. It is a powerful and versatile tool that can be used to work with a wide variety of data types, including tabular data, time series data, and categorical data.\n",
    "\n",
    "Pandas provide 2 data structures for working with data:\n",
    "1. Series: a one-dimensional array of indexed data.  \n",
    "2. DataFrame: a two-dimensional data structure, with data arranged in rows and columns in a tabular manner."
   ]
  },
  {
   "cell_type": "markdown",
   "metadata": {},
   "source": [
    "<h5 id=\"pandas-create\">Create and initialize Pandas Series and DataFrames</h5>\n",
    "\n",
    "import the Pandas library"
   ]
  },
  {
   "cell_type": "code",
   "execution_count": null,
   "metadata": {},
   "outputs": [],
   "source": [
    "# pd is the most popular alias for pandas\n",
    "import pandas as pd"
   ]
  },
  {
   "cell_type": "markdown",
   "metadata": {},
   "source": [
    "We can create a pandas Series from a list of values and specify a custom list of indices"
   ]
  },
  {
   "cell_type": "code",
   "execution_count": null,
   "metadata": {},
   "outputs": [],
   "source": [
    "# create data and corresponding indices\n",
    "temp_data = [25, 27, 26, 27]\n",
    "indices = ['2023-10-01', '2023-10-02', '2023-10-03', '2023-10-04']\n",
    "\n",
    "# createa Pandas Sries from the data\n",
    "series = pd.Series(temp_data, index=indices)\n",
    "series"
   ]
  },
  {
   "cell_type": "code",
   "execution_count": null,
   "metadata": {},
   "outputs": [],
   "source": [
    "# access the value corresponding to day/index = \"2023-10-03\"\n",
    "series['2023-10-03']"
   ]
  },
  {
   "cell_type": "markdown",
   "metadata": {},
   "source": [
    "We can create a pandas DataFrame from a **list of dictionaries** where each dictionary has:\n",
    "- the column headers as *dict keys*\n",
    "- the row values as *dict values*."
   ]
  },
  {
   "cell_type": "code",
   "execution_count": null,
   "metadata": {},
   "outputs": [],
   "source": [
    "# Create a DataFrame from a list of dictionaries\n",
    "data = [\n",
    "    {'name': 'John Doe',    'age': 30,  'occupation': 'Engineer'}, \n",
    "    {'name': 'Jane Doe',    'age': 25,  'occupation': 'Data scientist'},\n",
    "    {'name': 'Mary Smith',  'age': 27,  'occupation': 'Software developer'},\n",
    "    {'name': 'Mark Smith',  'age': 28,  'occupation': 'Data analyst'}\n",
    "]\n",
    "df = pd.DataFrame(data)\n",
    "df"
   ]
  },
  {
   "cell_type": "markdown",
   "metadata": {},
   "source": [
    "We can create a pandas DataFrame from a **dictionary of lists** where:\n",
    "- the keys are the column headers\n",
    "- the lists are the column values"
   ]
  },
  {
   "cell_type": "code",
   "execution_count": null,
   "metadata": {},
   "outputs": [],
   "source": [
    "data = {\n",
    "    'name': ['John Doe', 'Jane Doe', 'Mary Smith', 'Mark Smith'], \n",
    "    'age': [30, 25, 27, 28], \n",
    "    'occupation': ['Engineer', 'Data scientist', 'Software devleoper', 'Data analyst']\n",
    "}\n",
    "df2 = pd.DataFrame(data)\n",
    "df2"
   ]
  },
  {
   "cell_type": "markdown",
   "metadata": {},
   "source": [
    "We can create a pandas DataFrame from a **NumPy 2D array**, and a **columns list** (column headers)."
   ]
  },
  {
   "cell_type": "code",
   "execution_count": null,
   "metadata": {},
   "outputs": [],
   "source": [
    "# Create a DataFrame from a NumPy array\n",
    "array = np.array([\n",
    "    [1, 2, 3], \n",
    "    [4, 5, 6], \n",
    "    [7, 8, 9]\n",
    "])\n",
    "df3 = pd.DataFrame(array, columns=['A', 'B', 'C'])\n",
    "df3"
   ]
  },
  {
   "cell_type": "markdown",
   "metadata": {},
   "source": [
    "<h5 id=\"pandas-index\">Index and slice Pandas DataFrames</h5>"
   ]
  },
  {
   "cell_type": "markdown",
   "metadata": {},
   "source": [
    "We have 2 ways to index and slice Pandas DataFrames:\n",
    "1. `iloc()`: an **index-based** selecting method similar to lists and NumPy arrays "
   ]
  },
  {
   "cell_type": "code",
   "execution_count": null,
   "metadata": {},
   "outputs": [],
   "source": [
    "# print the DataFrame for reference\n",
    "df"
   ]
  },
  {
   "cell_type": "code",
   "execution_count": null,
   "metadata": {},
   "outputs": [],
   "source": [
    "# access the 1st row and 1st column\n",
    "print(df.iloc[0, 0])"
   ]
  },
  {
   "cell_type": "code",
   "execution_count": null,
   "metadata": {},
   "outputs": [],
   "source": [
    "# access the 2nd row and 3rd column\n",
    "print(df.iloc[1, 2])"
   ]
  },
  {
   "cell_type": "code",
   "execution_count": null,
   "metadata": {},
   "outputs": [],
   "source": [
    "# slice the 1st 2 rows and 1st 2 columns\n",
    "print(df.iloc[0:2, 0:2])"
   ]
  },
  {
   "cell_type": "markdown",
   "metadata": {},
   "source": [
    "2. `loc()`: a **label-based** selecting method\n",
    "When using this method for slicing, the upper limit is included."
   ]
  },
  {
   "cell_type": "code",
   "execution_count": null,
   "metadata": {},
   "outputs": [],
   "source": [
    "# print the DataFrame for reference\n",
    "df"
   ]
  },
  {
   "cell_type": "code",
   "execution_count": null,
   "metadata": {},
   "outputs": [],
   "source": [
    "# access the 1st row age\n",
    "print(df.loc[0, 'age'])"
   ]
  },
  {
   "cell_type": "markdown",
   "metadata": {},
   "source": [
    "We can also set the DataFrame index to a certain column instead of the default numerical index of (0, 1, 2, ...)"
   ]
  },
  {
   "cell_type": "code",
   "execution_count": null,
   "metadata": {},
   "outputs": [],
   "source": [
    "# set index to name\n",
    "df.set_index('name', inplace=True)\n",
    "print(df)"
   ]
  },
  {
   "cell_type": "markdown",
   "metadata": {},
   "source": [
    "In that case, we can use the `loc()` method with the row/index name and the column/header name."
   ]
  },
  {
   "cell_type": "code",
   "execution_count": null,
   "metadata": {},
   "outputs": [],
   "source": [
    "# access the 1st row age\n",
    "print('\\n1st row age: ', df.loc['John Doe', 'age'])"
   ]
  },
  {
   "cell_type": "code",
   "execution_count": null,
   "metadata": {},
   "outputs": [],
   "source": [
    "# slice the 1st 2 rows and 1st 2 columns\n",
    "print('\\n1st 2 rows and 1st 2 columns: ')\n",
    "print(df.loc['John Doe':'Jane Doe', 'age':'occupation'])"
   ]
  },
  {
   "cell_type": "markdown",
   "metadata": {},
   "source": [
    "<h5 id=\"pandas-select\">Select columns from Pandas DataFrames</h5>"
   ]
  },
  {
   "cell_type": "code",
   "execution_count": null,
   "metadata": {},
   "outputs": [],
   "source": [
    "# reset and print the DataFrame for reference\n",
    "df = pd.DataFrame(data)\n",
    "df"
   ]
  },
  {
   "cell_type": "code",
   "execution_count": null,
   "metadata": {},
   "outputs": [],
   "source": [
    "# Select the 'name' column as a series\n",
    "name_column = df['name']\n",
    "print(name_column)\n",
    "type(name_column)"
   ]
  },
  {
   "cell_type": "code",
   "execution_count": null,
   "metadata": {},
   "outputs": [],
   "source": [
    "# select the 'name' column as a DataFrame\n",
    "name_column = df[['name']]\n",
    "print(type(name_column))\n",
    "name_column"
   ]
  },
  {
   "cell_type": "code",
   "execution_count": null,
   "metadata": {},
   "outputs": [],
   "source": [
    "# rename the 'occupation' column to 'job'\n",
    "updated_columns = {\n",
    "    'occupation': 'job',\n",
    "}\n",
    "df.rename(columns=updated_columns, inplace=True)\n",
    "df"
   ]
  },
  {
   "cell_type": "code",
   "execution_count": null,
   "metadata": {},
   "outputs": [],
   "source": [
    "# Select multiple columns as a DataFrame\n",
    "multiple_columns = df[['name', 'age']]\n",
    "multiple_columns"
   ]
  },
  {
   "cell_type": "markdown",
   "metadata": {},
   "source": [
    "<h5 id=\"pandas-filter\">Filter and sort Pandas DataFrames</h5>"
   ]
  },
  {
   "cell_type": "code",
   "execution_count": null,
   "metadata": {},
   "outputs": [],
   "source": [
    "# print the DataFrame for reference\n",
    "df"
   ]
  },
  {
   "cell_type": "code",
   "execution_count": null,
   "metadata": {},
   "outputs": [],
   "source": [
    "# filter rows based on a condition\n",
    "filtered = df['age'] > 25\n",
    "print(filtered)\n",
    "df[filtered]"
   ]
  },
  {
   "cell_type": "code",
   "execution_count": null,
   "metadata": {},
   "outputs": [],
   "source": [
    "# sort the DataFrame by age in ascending order\n",
    "df.sort_values(by='age', ascending=True, inplace=True)\n",
    "df"
   ]
  },
  {
   "cell_type": "markdown",
   "metadata": {},
   "source": [
    "<h5 id=\"pandas-aggregate\">Aggregate data in Pandas DataFrames</h5>"
   ]
  },
  {
   "cell_type": "code",
   "execution_count": null,
   "metadata": {},
   "outputs": [],
   "source": [
    "# Create a sales data DataFrame\n",
    "df = pd.DataFrame({\n",
    "    'category': ['Tech', 'Tech', 'Cons', 'Tech', 'Cons'],\n",
    "    'product': ['A', 'A', 'B', 'C', 'B'],\n",
    "    'price': [10, 12, 15, 20, 25]\n",
    "})\n",
    "df"
   ]
  },
  {
   "cell_type": "code",
   "execution_count": null,
   "metadata": {},
   "outputs": [],
   "source": [
    "# Group the DataFrame by product\n",
    "grouped_df = df.groupby(['category', 'product'])['price'].sum()\n",
    "grouped_df"
   ]
  },
  {
   "cell_type": "markdown",
   "metadata": {},
   "source": [
    "<hr id=\"data\">\n",
    "\n",
    "<h2>3. Loading and Manipulating Data</h2>\n",
    "\n",
    "Pandas provides useful built-in functions for loading data from different sources."
   ]
  },
  {
   "cell_type": "markdown",
   "metadata": {},
   "source": [
    "<h5 id=\"data-csv\">Load data from CSV files into Pandas DataFrames</h5>"
   ]
  },
  {
   "cell_type": "code",
   "execution_count": null,
   "metadata": {},
   "outputs": [],
   "source": [
    "# load data from a CSV file\n",
    "df = pd.read_csv('harry_potter.csv', delimiter=';')\n",
    "df.set_index('Id', inplace=True)\n",
    "df.head()   # shows the first 5 rows"
   ]
  },
  {
   "cell_type": "markdown",
   "metadata": {},
   "source": [
    "<h5 id=\"data-json\">Load data from JSON files into Pandas DataFrames</h5>\n"
   ]
  },
  {
   "cell_type": "code",
   "execution_count": null,
   "metadata": {},
   "outputs": [],
   "source": [
    "# import data from a JSON file\n",
    "df = pd.read_json('pokemon.json')\n",
    "df.set_index('id', inplace=True)\n",
    "df.head()"
   ]
  },
  {
   "cell_type": "code",
   "execution_count": null,
   "metadata": {},
   "outputs": [],
   "source": [
    "# normalize the JSON data into a separate DataFrame\n",
    "stats = pd.json_normalize(df['stats'])\n",
    "updated_cols = {x : f'stats.{x}' for x in stats.columns}\n",
    "stats.rename(columns=updated_cols, inplace=True)\n",
    "stats.head()"
   ]
  },
  {
   "cell_type": "code",
   "execution_count": null,
   "metadata": {},
   "outputs": [],
   "source": [
    "# drop the 'stats' column from the original DataFrame\n",
    "# and add the normalized DataFrame instead\n",
    "df.drop('stats', axis=1, inplace=True)\n",
    "df = pd.concat([df, stats], axis=1)\n",
    "df.head()"
   ]
  },
  {
   "cell_type": "markdown",
   "metadata": {},
   "source": [
    "<h5 id=\"data-sql\">Load data from SQL database into Pandas DataFrames</h5>\n"
   ]
  },
  {
   "cell_type": "code",
   "execution_count": null,
   "metadata": {},
   "outputs": [],
   "source": [
    "# import SQLite library\n",
    "import sqlite3      # make sure you have sqlite3 installed first using \"pip install sqlite3\"\n",
    "\n",
    "# connect to the database\n",
    "conn = sqlite3.connect('employee_data.db')"
   ]
  },
  {
   "cell_type": "code",
   "execution_count": null,
   "metadata": {},
   "outputs": [],
   "source": [
    "# see the tables in the database\n",
    "df_tables = pd.read_sql('SELECT name FROM sqlite_master WHERE type=\"table\"', conn)\n",
    "df_tables"
   ]
  },
  {
   "cell_type": "code",
   "execution_count": null,
   "metadata": {},
   "outputs": [],
   "source": [
    "# read employee details table\n",
    "df_employees = pd.read_sql('SELECT * FROM employees', conn)\n",
    "df_employees.head()"
   ]
  },
  {
   "cell_type": "code",
   "execution_count": null,
   "metadata": {},
   "outputs": [],
   "source": [
    "# read department details table\n",
    "df_departments = pd.read_sql('SELECT * FROM departments', conn)\n",
    "df_departments.head()"
   ]
  },
  {
   "cell_type": "code",
   "execution_count": null,
   "metadata": {},
   "outputs": [],
   "source": [
    "# read employee details table with department name using the \"LEFT JOIN\" clause\n",
    "df_full = pd.read_sql('SELECT employees.emp_idno, employees.emp_fname, employees.emp_lname, departments.dpt_name FROM employees LEFT JOIN departments ON employees.emp_dept = departments.dpt_code', conn)\n",
    "df_full.head()"
   ]
  },
  {
   "cell_type": "code",
   "execution_count": null,
   "metadata": {},
   "outputs": [],
   "source": [
    "# close database connection\n",
    "conn.close()"
   ]
  },
  {
   "cell_type": "markdown",
   "metadata": {},
   "source": [
    "<hr style=\"margin-top: 4rem;\">\n",
    "<h2>Author</h2>\n",
    "\n",
    "<a href=\"https://github.com/SamerHany\">Samer Hany</a>"
   ]
  },
  {
   "cell_type": "markdown",
   "metadata": {},
   "source": [
    "<h2>References</h2>\n",
    "<a href=\"https://www.w3schools.com/python/default.asp\">w3schools.com</a>\n",
    "<br>\n",
    "<a href=\"https://www.kaggle.com\">kaggle.com</a>"
   ]
  }
 ],
 "metadata": {
  "kernelspec": {
   "display_name": "Python 3 (ipykernel)",
   "language": "python",
   "name": "python3"
  },
  "language_info": {
   "codemirror_mode": {
    "name": "ipython",
    "version": 3
   },
   "file_extension": ".py",
   "mimetype": "text/x-python",
   "name": "python",
   "nbconvert_exporter": "python",
   "pygments_lexer": "ipython3",
   "version": "3.11.4"
  }
 },
 "nbformat": 4,
 "nbformat_minor": 4
}
