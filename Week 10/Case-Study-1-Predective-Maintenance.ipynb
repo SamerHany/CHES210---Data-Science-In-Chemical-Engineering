{
 "cells": [
  {
   "cell_type": "markdown",
   "metadata": {},
   "source": [
    "# Case Study 1: Predective Maintenance\n",
    "\n",
    "## Objectives\n",
    "\n",
    "After this tutorial you will be able to:\n",
    "\n",
    "*   Link all the steps of a typical data science project\n",
    "*   Predict maintenance time for a device based on historical data"
   ]
  },
  {
   "cell_type": "markdown",
   "metadata": {},
   "source": [
    "<h2>Table of Contents</h2>\n",
    "\n",
    "<ol>\n",
    "    <li>\n",
    "        <a href=\"#problem\">Problem Definition</a>\n",
    "    </li>\n",
    "    <br>\n",
    "    <li>\n",
    "        <a href=\"#import\">Data Collection</a>\n",
    "    </li>\n",
    "    <br>\n",
    "    <li>\n",
    "        <a href=\"#clean\">Data Cleaning and Preparation</a>\n",
    "    </li>\n",
    "    <br>\n",
    "    <li>\n",
    "        <a href=\"#eda\">Exploratory Data Analysis</a>\n",
    "    </li>\n",
    "    <br>\n",
    "    <li>\n",
    "        <a href=\"#model\">Model Development and Evaluation</a>\n",
    "    </li>\n",
    "    <br>\n",
    "    <li>\n",
    "        <a href=\"#deploy\">Deployment and Communication</a>\n",
    "    </li>\n",
    "    <br>\n",
    "</ol>\n"
   ]
  },
  {
   "cell_type": "markdown",
   "metadata": {},
   "source": [
    "<hr id=\"problem\">\n",
    "\n",
    "<h2>1. Problem Definition</h2>\n",
    "\n",
    "<h3>Background:</h3>\n",
    "\n",
    "Operation data was provided by a refinery. The data reflect information about heat exchangers in a cold train serving a crude distillation unit in the refinery.  \n",
    "The network consists of 7 countercurrent heat exchangers where raw crude is in the tube side of each exchanger.  \n",
    "\n",
    "<div style=\"text-align: center;\">\n",
    "    <img src=\"hex_network.png\" height=\"500px\">\n",
    "</div>\n",
    "\n",
    "<h3>Data</h3>\n",
    "\n",
    "The data provided consists of monthly files with daily data for each heat exchanger. We will only work on exchanger `E-003` in this lab.  \n",
    "Each file contains the following details:\n",
    "- Date\n",
    "- Flow rate (raw crude), bph\n",
    "- Inlet temp (raw crude), F\n",
    "- Outlet temp (raw crude), F\n",
    "- Flow rate (VTB), bph\n",
    "- Inlet temp (VTB), F\n",
    "- Outlet temp (VTB), F\n",
    "\n",
    "Process parameters:\n",
    "- U (service), Btu/h.ft^2.F: 27.7\n",
    "- Exchanger Area, ft^2: 3,561\n",
    "- Cp (raw crude), Btu/lb.F: 2.6\n",
    "- Cp (VTB), Btu/lb.F: 4\n",
    "- Density (raw crude), lb/ft^3: 56.85\n",
    "- Density (VTB), lb/ft^3: 65\n",
    "\n",
    "\n",
    "<h3>Goal:</h3>\n",
    "\n",
    "Making recommendations on heat exchanger cleaning schedule given that cleaning is necessary when `U (actual)` drops below `70% of U (service)`.\n"
   ]
  },
  {
   "cell_type": "markdown",
   "metadata": {},
   "source": [
    "<hr id=\"import\">\n",
    "\n",
    "<h2>2. Data Collection</h2>"
   ]
  },
  {
   "cell_type": "markdown",
   "metadata": {},
   "source": [
    "Import the `Pandas` library"
   ]
  },
  {
   "cell_type": "code",
   "execution_count": 1,
   "metadata": {},
   "outputs": [],
   "source": [
    "import os\n",
    "import pandas as pd\n",
    "import numpy as np\n",
    "import matplotlib.pyplot as plt"
   ]
  },
  {
   "cell_type": "markdown",
   "metadata": {},
   "source": [
    "Read the data from `data.csv` into a `Pandas DataFrame`"
   ]
  },
  {
   "cell_type": "code",
   "execution_count": 2,
   "metadata": {},
   "outputs": [
    {
     "data": {
      "text/html": [
       "<div>\n",
       "<style scoped>\n",
       "    .dataframe tbody tr th:only-of-type {\n",
       "        vertical-align: middle;\n",
       "    }\n",
       "\n",
       "    .dataframe tbody tr th {\n",
       "        vertical-align: top;\n",
       "    }\n",
       "\n",
       "    .dataframe thead th {\n",
       "        text-align: right;\n",
       "    }\n",
       "</style>\n",
       "<table border=\"1\" class=\"dataframe\">\n",
       "  <thead>\n",
       "    <tr style=\"text-align: right;\">\n",
       "      <th></th>\n",
       "      <th>Date</th>\n",
       "      <th>Tube Flow Rate, bph</th>\n",
       "      <th>Tube Temp In, F</th>\n",
       "      <th>Tube Temp Out, F</th>\n",
       "      <th>Shell Flow Rate, bph</th>\n",
       "      <th>Shell Temp In, F</th>\n",
       "      <th>Shell Temp Out, F</th>\n",
       "    </tr>\n",
       "  </thead>\n",
       "  <tbody>\n",
       "    <tr>\n",
       "      <th>0</th>\n",
       "      <td>2021-01-01</td>\n",
       "      <td>1607.726079</td>\n",
       "      <td>68.0</td>\n",
       "      <td>90.0</td>\n",
       "      <td>2872.547153</td>\n",
       "      <td>376.0</td>\n",
       "      <td>369.0</td>\n",
       "    </tr>\n",
       "    <tr>\n",
       "      <th>1</th>\n",
       "      <td>2021-01-02</td>\n",
       "      <td>1699.271821</td>\n",
       "      <td>90.0</td>\n",
       "      <td>109.0</td>\n",
       "      <td>2294.335572</td>\n",
       "      <td>383.0</td>\n",
       "      <td>375.0</td>\n",
       "    </tr>\n",
       "    <tr>\n",
       "      <th>2</th>\n",
       "      <td>2021-01-03</td>\n",
       "      <td>1499.373830</td>\n",
       "      <td>96.0</td>\n",
       "      <td>118.0</td>\n",
       "      <td>2083.629832</td>\n",
       "      <td>416.0</td>\n",
       "      <td>407.0</td>\n",
       "    </tr>\n",
       "    <tr>\n",
       "      <th>3</th>\n",
       "      <td>2021-01-04</td>\n",
       "      <td>2895.661064</td>\n",
       "      <td>80.0</td>\n",
       "      <td>92.0</td>\n",
       "      <td>2194.911086</td>\n",
       "      <td>425.0</td>\n",
       "      <td>416.0</td>\n",
       "    </tr>\n",
       "    <tr>\n",
       "      <th>4</th>\n",
       "      <td>2021-01-05</td>\n",
       "      <td>3539.864482</td>\n",
       "      <td>88.0</td>\n",
       "      <td>98.0</td>\n",
       "      <td>2874.875654</td>\n",
       "      <td>388.0</td>\n",
       "      <td>381.0</td>\n",
       "    </tr>\n",
       "  </tbody>\n",
       "</table>\n",
       "</div>"
      ],
      "text/plain": [
       "         Date  Tube Flow Rate, bph  Tube Temp In, F  Tube Temp Out, F  \\\n",
       "0  2021-01-01          1607.726079             68.0              90.0   \n",
       "1  2021-01-02          1699.271821             90.0             109.0   \n",
       "2  2021-01-03          1499.373830             96.0             118.0   \n",
       "3  2021-01-04          2895.661064             80.0              92.0   \n",
       "4  2021-01-05          3539.864482             88.0              98.0   \n",
       "\n",
       "   Shell Flow Rate, bph  Shell Temp In, F  Shell Temp Out, F  \n",
       "0           2872.547153             376.0              369.0  \n",
       "1           2294.335572             383.0              375.0  \n",
       "2           2083.629832             416.0              407.0  \n",
       "3           2194.911086             425.0              416.0  \n",
       "4           2874.875654             388.0              381.0  "
      ]
     },
     "execution_count": 2,
     "metadata": {},
     "output_type": "execute_result"
    }
   ],
   "source": [
    "# load all csv files in hex_data folder and concatenate them into one dataframe\n",
    "folder = 'E003_data'\n",
    "files = os.listdir(folder)\n",
    "df = pd.DataFrame()\n",
    "for file in files:\n",
    "    df = pd.concat([df, pd.read_csv(folder + '/' + file)], axis=0, ignore_index=True)\n",
    "\n",
    "df.head()\n"
   ]
  },
  {
   "cell_type": "markdown",
   "metadata": {},
   "source": [
    "<hr id=\"clean\">\n",
    "\n",
    "<h2>3. Data Cleaning and Preparation</h2>"
   ]
  },
  {
   "cell_type": "markdown",
   "metadata": {},
   "source": [
    "<h5 id=\"clean-missing\">Handle missing values</h5>\n",
    "\n",
    "Identify missing values"
   ]
  },
  {
   "cell_type": "code",
   "execution_count": 3,
   "metadata": {},
   "outputs": [
    {
     "name": "stdout",
     "output_type": "stream",
     "text": [
      "<class 'pandas.core.frame.DataFrame'>\n",
      "RangeIndex: 1071 entries, 0 to 1070\n",
      "Data columns (total 7 columns):\n",
      " #   Column                Non-Null Count  Dtype  \n",
      "---  ------                --------------  -----  \n",
      " 0   Date                  1071 non-null   object \n",
      " 1   Tube Flow Rate, bph   1070 non-null   float64\n",
      " 2   Tube Temp In, F       1069 non-null   float64\n",
      " 3   Tube Temp Out, F      1068 non-null   float64\n",
      " 4   Shell Flow Rate, bph  1069 non-null   float64\n",
      " 5   Shell Temp In, F      1069 non-null   float64\n",
      " 6   Shell Temp Out, F     1068 non-null   float64\n",
      "dtypes: float64(6), object(1)\n",
      "memory usage: 58.7+ KB\n"
     ]
    }
   ],
   "source": [
    "# get more info about the data\n",
    "df.info()"
   ]
  },
  {
   "cell_type": "code",
   "execution_count": 4,
   "metadata": {},
   "outputs": [
    {
     "data": {
      "text/plain": [
       "Date                    0\n",
       "Tube Flow Rate, bph     1\n",
       "Tube Temp In, F         2\n",
       "Tube Temp Out, F        3\n",
       "Shell Flow Rate, bph    2\n",
       "Shell Temp In, F        2\n",
       "Shell Temp Out, F       3\n",
       "dtype: int64"
      ]
     },
     "execution_count": 4,
     "metadata": {},
     "output_type": "execute_result"
    }
   ],
   "source": [
    "# find the number of missing values in each column\n",
    "df.isna().sum()"
   ]
  },
  {
   "cell_type": "markdown",
   "metadata": {},
   "source": [
    "Drop rows with \"NaN\" from certain columns"
   ]
  },
  {
   "cell_type": "code",
   "execution_count": 5,
   "metadata": {},
   "outputs": [
    {
     "data": {
      "text/html": [
       "<div>\n",
       "<style scoped>\n",
       "    .dataframe tbody tr th:only-of-type {\n",
       "        vertical-align: middle;\n",
       "    }\n",
       "\n",
       "    .dataframe tbody tr th {\n",
       "        vertical-align: top;\n",
       "    }\n",
       "\n",
       "    .dataframe thead th {\n",
       "        text-align: right;\n",
       "    }\n",
       "</style>\n",
       "<table border=\"1\" class=\"dataframe\">\n",
       "  <thead>\n",
       "    <tr style=\"text-align: right;\">\n",
       "      <th></th>\n",
       "      <th>Date</th>\n",
       "      <th>Tube Flow Rate, bph</th>\n",
       "      <th>Tube Temp In, F</th>\n",
       "      <th>Tube Temp Out, F</th>\n",
       "      <th>Shell Flow Rate, bph</th>\n",
       "      <th>Shell Temp In, F</th>\n",
       "      <th>Shell Temp Out, F</th>\n",
       "    </tr>\n",
       "  </thead>\n",
       "  <tbody>\n",
       "    <tr>\n",
       "      <th>0</th>\n",
       "      <td>2021-01-01</td>\n",
       "      <td>1607.726079</td>\n",
       "      <td>68.0</td>\n",
       "      <td>90.0</td>\n",
       "      <td>2872.547153</td>\n",
       "      <td>376.0</td>\n",
       "      <td>369.0</td>\n",
       "    </tr>\n",
       "    <tr>\n",
       "      <th>1</th>\n",
       "      <td>2021-01-02</td>\n",
       "      <td>1699.271821</td>\n",
       "      <td>90.0</td>\n",
       "      <td>109.0</td>\n",
       "      <td>2294.335572</td>\n",
       "      <td>383.0</td>\n",
       "      <td>375.0</td>\n",
       "    </tr>\n",
       "    <tr>\n",
       "      <th>2</th>\n",
       "      <td>2021-01-03</td>\n",
       "      <td>1499.373830</td>\n",
       "      <td>96.0</td>\n",
       "      <td>118.0</td>\n",
       "      <td>2083.629832</td>\n",
       "      <td>416.0</td>\n",
       "      <td>407.0</td>\n",
       "    </tr>\n",
       "    <tr>\n",
       "      <th>3</th>\n",
       "      <td>2021-01-04</td>\n",
       "      <td>2895.661064</td>\n",
       "      <td>80.0</td>\n",
       "      <td>92.0</td>\n",
       "      <td>2194.911086</td>\n",
       "      <td>425.0</td>\n",
       "      <td>416.0</td>\n",
       "    </tr>\n",
       "    <tr>\n",
       "      <th>4</th>\n",
       "      <td>2021-01-05</td>\n",
       "      <td>3539.864482</td>\n",
       "      <td>88.0</td>\n",
       "      <td>98.0</td>\n",
       "      <td>2874.875654</td>\n",
       "      <td>388.0</td>\n",
       "      <td>381.0</td>\n",
       "    </tr>\n",
       "  </tbody>\n",
       "</table>\n",
       "</div>"
      ],
      "text/plain": [
       "         Date  Tube Flow Rate, bph  Tube Temp In, F  Tube Temp Out, F  \\\n",
       "0  2021-01-01          1607.726079             68.0              90.0   \n",
       "1  2021-01-02          1699.271821             90.0             109.0   \n",
       "2  2021-01-03          1499.373830             96.0             118.0   \n",
       "3  2021-01-04          2895.661064             80.0              92.0   \n",
       "4  2021-01-05          3539.864482             88.0              98.0   \n",
       "\n",
       "   Shell Flow Rate, bph  Shell Temp In, F  Shell Temp Out, F  \n",
       "0           2872.547153             376.0              369.0  \n",
       "1           2294.335572             383.0              375.0  \n",
       "2           2083.629832             416.0              407.0  \n",
       "3           2194.911086             425.0              416.0  \n",
       "4           2874.875654             388.0              381.0  "
      ]
     },
     "execution_count": 5,
     "metadata": {},
     "output_type": "execute_result"
    }
   ],
   "source": [
    "# drop the rows with missing values\n",
    "df.dropna(inplace=True)\n",
    "df.head()"
   ]
  },
  {
   "cell_type": "markdown",
   "metadata": {},
   "source": [
    "<h5 id=\"clean-duplicates\">Remove duplicates</h5>"
   ]
  },
  {
   "cell_type": "code",
   "execution_count": 6,
   "metadata": {},
   "outputs": [
    {
     "data": {
      "text/plain": [
       "3"
      ]
     },
     "execution_count": 6,
     "metadata": {},
     "output_type": "execute_result"
    }
   ],
   "source": [
    "# find the number of duplicate rows\n",
    "df.duplicated().sum()"
   ]
  },
  {
   "cell_type": "code",
   "execution_count": 7,
   "metadata": {},
   "outputs": [
    {
     "data": {
      "text/html": [
       "<div>\n",
       "<style scoped>\n",
       "    .dataframe tbody tr th:only-of-type {\n",
       "        vertical-align: middle;\n",
       "    }\n",
       "\n",
       "    .dataframe tbody tr th {\n",
       "        vertical-align: top;\n",
       "    }\n",
       "\n",
       "    .dataframe thead th {\n",
       "        text-align: right;\n",
       "    }\n",
       "</style>\n",
       "<table border=\"1\" class=\"dataframe\">\n",
       "  <thead>\n",
       "    <tr style=\"text-align: right;\">\n",
       "      <th></th>\n",
       "      <th>Date</th>\n",
       "      <th>Tube Flow Rate, bph</th>\n",
       "      <th>Tube Temp In, F</th>\n",
       "      <th>Tube Temp Out, F</th>\n",
       "      <th>Shell Flow Rate, bph</th>\n",
       "      <th>Shell Temp In, F</th>\n",
       "      <th>Shell Temp Out, F</th>\n",
       "    </tr>\n",
       "  </thead>\n",
       "  <tbody>\n",
       "    <tr>\n",
       "      <th>0</th>\n",
       "      <td>2021-01-01</td>\n",
       "      <td>1607.726079</td>\n",
       "      <td>68.0</td>\n",
       "      <td>90.0</td>\n",
       "      <td>2872.547153</td>\n",
       "      <td>376.0</td>\n",
       "      <td>369.0</td>\n",
       "    </tr>\n",
       "    <tr>\n",
       "      <th>1</th>\n",
       "      <td>2021-01-02</td>\n",
       "      <td>1699.271821</td>\n",
       "      <td>90.0</td>\n",
       "      <td>109.0</td>\n",
       "      <td>2294.335572</td>\n",
       "      <td>383.0</td>\n",
       "      <td>375.0</td>\n",
       "    </tr>\n",
       "    <tr>\n",
       "      <th>2</th>\n",
       "      <td>2021-01-03</td>\n",
       "      <td>1499.373830</td>\n",
       "      <td>96.0</td>\n",
       "      <td>118.0</td>\n",
       "      <td>2083.629832</td>\n",
       "      <td>416.0</td>\n",
       "      <td>407.0</td>\n",
       "    </tr>\n",
       "    <tr>\n",
       "      <th>3</th>\n",
       "      <td>2021-01-04</td>\n",
       "      <td>2895.661064</td>\n",
       "      <td>80.0</td>\n",
       "      <td>92.0</td>\n",
       "      <td>2194.911086</td>\n",
       "      <td>425.0</td>\n",
       "      <td>416.0</td>\n",
       "    </tr>\n",
       "    <tr>\n",
       "      <th>4</th>\n",
       "      <td>2021-01-05</td>\n",
       "      <td>3539.864482</td>\n",
       "      <td>88.0</td>\n",
       "      <td>98.0</td>\n",
       "      <td>2874.875654</td>\n",
       "      <td>388.0</td>\n",
       "      <td>381.0</td>\n",
       "    </tr>\n",
       "    <tr>\n",
       "      <th>...</th>\n",
       "      <td>...</td>\n",
       "      <td>...</td>\n",
       "      <td>...</td>\n",
       "      <td>...</td>\n",
       "      <td>...</td>\n",
       "      <td>...</td>\n",
       "      <td>...</td>\n",
       "    </tr>\n",
       "    <tr>\n",
       "      <th>1066</th>\n",
       "      <td>2023-11-30</td>\n",
       "      <td>1177.558188</td>\n",
       "      <td>75.0</td>\n",
       "      <td>97.0</td>\n",
       "      <td>1840.965032</td>\n",
       "      <td>372.0</td>\n",
       "      <td>364.0</td>\n",
       "    </tr>\n",
       "    <tr>\n",
       "      <th>1067</th>\n",
       "      <td>2023-11-27</td>\n",
       "      <td>1528.450586</td>\n",
       "      <td>88.0</td>\n",
       "      <td>114.0</td>\n",
       "      <td>3056.901172</td>\n",
       "      <td>413.0</td>\n",
       "      <td>411.0</td>\n",
       "    </tr>\n",
       "    <tr>\n",
       "      <th>1068</th>\n",
       "      <td>2023-11-28</td>\n",
       "      <td>1107.331654</td>\n",
       "      <td>112.0</td>\n",
       "      <td>122.0</td>\n",
       "      <td>2214.663308</td>\n",
       "      <td>369.0</td>\n",
       "      <td>360.0</td>\n",
       "    </tr>\n",
       "    <tr>\n",
       "      <th>1069</th>\n",
       "      <td>2023-11-29</td>\n",
       "      <td>1256.092199</td>\n",
       "      <td>89.0</td>\n",
       "      <td>103.0</td>\n",
       "      <td>2512.184398</td>\n",
       "      <td>375.0</td>\n",
       "      <td>368.0</td>\n",
       "    </tr>\n",
       "    <tr>\n",
       "      <th>1070</th>\n",
       "      <td>2023-11-30</td>\n",
       "      <td>1307.188235</td>\n",
       "      <td>75.0</td>\n",
       "      <td>97.0</td>\n",
       "      <td>2614.376470</td>\n",
       "      <td>372.0</td>\n",
       "      <td>368.0</td>\n",
       "    </tr>\n",
       "  </tbody>\n",
       "</table>\n",
       "<p>1055 rows × 7 columns</p>\n",
       "</div>"
      ],
      "text/plain": [
       "            Date  Tube Flow Rate, bph  Tube Temp In, F  Tube Temp Out, F  \\\n",
       "0     2021-01-01          1607.726079             68.0              90.0   \n",
       "1     2021-01-02          1699.271821             90.0             109.0   \n",
       "2     2021-01-03          1499.373830             96.0             118.0   \n",
       "3     2021-01-04          2895.661064             80.0              92.0   \n",
       "4     2021-01-05          3539.864482             88.0              98.0   \n",
       "...          ...                  ...              ...               ...   \n",
       "1066  2023-11-30          1177.558188             75.0              97.0   \n",
       "1067  2023-11-27          1528.450586             88.0             114.0   \n",
       "1068  2023-11-28          1107.331654            112.0             122.0   \n",
       "1069  2023-11-29          1256.092199             89.0             103.0   \n",
       "1070  2023-11-30          1307.188235             75.0              97.0   \n",
       "\n",
       "      Shell Flow Rate, bph  Shell Temp In, F  Shell Temp Out, F  \n",
       "0              2872.547153             376.0              369.0  \n",
       "1              2294.335572             383.0              375.0  \n",
       "2              2083.629832             416.0              407.0  \n",
       "3              2194.911086             425.0              416.0  \n",
       "4              2874.875654             388.0              381.0  \n",
       "...                    ...               ...                ...  \n",
       "1066           1840.965032             372.0              364.0  \n",
       "1067           3056.901172             413.0              411.0  \n",
       "1068           2214.663308             369.0              360.0  \n",
       "1069           2512.184398             375.0              368.0  \n",
       "1070           2614.376470             372.0              368.0  \n",
       "\n",
       "[1055 rows x 7 columns]"
      ]
     },
     "execution_count": 7,
     "metadata": {},
     "output_type": "execute_result"
    }
   ],
   "source": [
    "# drop the duplicate rows\n",
    "df.drop_duplicates(inplace=True)\n",
    "df"
   ]
  },
  {
   "cell_type": "markdown",
   "metadata": {},
   "source": [
    "<h5 id=\"clean-standardize\">Standardize data</h5>"
   ]
  },
  {
   "cell_type": "code",
   "execution_count": 8,
   "metadata": {},
   "outputs": [],
   "source": [
    "# convert column to datetime\n",
    "df['Date'] = pd.to_datetime(df['Date'])\n",
    "\n",
    "# convert the rest of the columns to float\n",
    "df.iloc[:, 1:] = df.iloc[:, 1:].astype(float)"
   ]
  },
  {
   "cell_type": "markdown",
   "metadata": {},
   "source": [
    "<h5>Validate cleaned data</h5>"
   ]
  },
  {
   "cell_type": "code",
   "execution_count": 9,
   "metadata": {},
   "outputs": [
    {
     "name": "stdout",
     "output_type": "stream",
     "text": [
      "<class 'pandas.core.frame.DataFrame'>\n",
      "Index: 1055 entries, 0 to 1070\n",
      "Data columns (total 7 columns):\n",
      " #   Column                Non-Null Count  Dtype         \n",
      "---  ------                --------------  -----         \n",
      " 0   Date                  1055 non-null   datetime64[ns]\n",
      " 1   Tube Flow Rate, bph   1055 non-null   float64       \n",
      " 2   Tube Temp In, F       1055 non-null   float64       \n",
      " 3   Tube Temp Out, F      1055 non-null   float64       \n",
      " 4   Shell Flow Rate, bph  1055 non-null   float64       \n",
      " 5   Shell Temp In, F      1055 non-null   float64       \n",
      " 6   Shell Temp Out, F     1055 non-null   float64       \n",
      "dtypes: datetime64[ns](1), float64(6)\n",
      "memory usage: 65.9 KB\n"
     ]
    }
   ],
   "source": [
    "# check data types\n",
    "df.info()"
   ]
  },
  {
   "cell_type": "code",
   "execution_count": 10,
   "metadata": {},
   "outputs": [
    {
     "data": {
      "text/plain": [
       "0"
      ]
     },
     "execution_count": 10,
     "metadata": {},
     "output_type": "execute_result"
    }
   ],
   "source": [
    "# check for duplicates\n",
    "df.duplicated().sum()"
   ]
  },
  {
   "cell_type": "markdown",
   "metadata": {},
   "source": [
    "<h5>Create extra required features</h5>\n",
    "\n",
    "-  `year-month`\n",
    "-  `LMTD`\n",
    "-  `U (actual)`"
   ]
  },
  {
   "cell_type": "code",
   "execution_count": 11,
   "metadata": {},
   "outputs": [
    {
     "data": {
      "text/html": [
       "<div>\n",
       "<style scoped>\n",
       "    .dataframe tbody tr th:only-of-type {\n",
       "        vertical-align: middle;\n",
       "    }\n",
       "\n",
       "    .dataframe tbody tr th {\n",
       "        vertical-align: top;\n",
       "    }\n",
       "\n",
       "    .dataframe thead th {\n",
       "        text-align: right;\n",
       "    }\n",
       "</style>\n",
       "<table border=\"1\" class=\"dataframe\">\n",
       "  <thead>\n",
       "    <tr style=\"text-align: right;\">\n",
       "      <th></th>\n",
       "      <th>Date</th>\n",
       "      <th>Tube Flow Rate, bph</th>\n",
       "      <th>Tube Temp In, F</th>\n",
       "      <th>Tube Temp Out, F</th>\n",
       "      <th>Shell Flow Rate, bph</th>\n",
       "      <th>Shell Temp In, F</th>\n",
       "      <th>Shell Temp Out, F</th>\n",
       "      <th>year-month</th>\n",
       "      <th>LMTD</th>\n",
       "      <th>U (actual)</th>\n",
       "    </tr>\n",
       "  </thead>\n",
       "  <tbody>\n",
       "    <tr>\n",
       "      <th>0</th>\n",
       "      <td>2021-01-01</td>\n",
       "      <td>1607.726079</td>\n",
       "      <td>68.0</td>\n",
       "      <td>90.0</td>\n",
       "      <td>2872.547153</td>\n",
       "      <td>376.0</td>\n",
       "      <td>369.0</td>\n",
       "      <td>2021-01</td>\n",
       "      <td>293.436105</td>\n",
       "      <td>28.093302</td>\n",
       "    </tr>\n",
       "    <tr>\n",
       "      <th>1</th>\n",
       "      <td>2021-01-02</td>\n",
       "      <td>1699.271821</td>\n",
       "      <td>90.0</td>\n",
       "      <td>109.0</td>\n",
       "      <td>2294.335572</td>\n",
       "      <td>383.0</td>\n",
       "      <td>375.0</td>\n",
       "      <td>2021-01</td>\n",
       "      <td>279.463920</td>\n",
       "      <td>26.926029</td>\n",
       "    </tr>\n",
       "    <tr>\n",
       "      <th>2</th>\n",
       "      <td>2021-01-03</td>\n",
       "      <td>1499.373830</td>\n",
       "      <td>96.0</td>\n",
       "      <td>118.0</td>\n",
       "      <td>2083.629832</td>\n",
       "      <td>416.0</td>\n",
       "      <td>407.0</td>\n",
       "      <td>2021-01</td>\n",
       "      <td>304.453744</td>\n",
       "      <td>25.251832</td>\n",
       "    </tr>\n",
       "    <tr>\n",
       "      <th>3</th>\n",
       "      <td>2021-01-04</td>\n",
       "      <td>2895.661064</td>\n",
       "      <td>80.0</td>\n",
       "      <td>92.0</td>\n",
       "      <td>2194.911086</td>\n",
       "      <td>425.0</td>\n",
       "      <td>416.0</td>\n",
       "      <td>2021-01</td>\n",
       "      <td>334.497758</td>\n",
       "      <td>24.211259</td>\n",
       "    </tr>\n",
       "    <tr>\n",
       "      <th>4</th>\n",
       "      <td>2021-01-05</td>\n",
       "      <td>3539.864482</td>\n",
       "      <td>88.0</td>\n",
       "      <td>98.0</td>\n",
       "      <td>2874.875654</td>\n",
       "      <td>388.0</td>\n",
       "      <td>381.0</td>\n",
       "      <td>2021-01</td>\n",
       "      <td>291.497427</td>\n",
       "      <td>28.303068</td>\n",
       "    </tr>\n",
       "  </tbody>\n",
       "</table>\n",
       "</div>"
      ],
      "text/plain": [
       "        Date  Tube Flow Rate, bph  Tube Temp In, F  Tube Temp Out, F  \\\n",
       "0 2021-01-01          1607.726079             68.0              90.0   \n",
       "1 2021-01-02          1699.271821             90.0             109.0   \n",
       "2 2021-01-03          1499.373830             96.0             118.0   \n",
       "3 2021-01-04          2895.661064             80.0              92.0   \n",
       "4 2021-01-05          3539.864482             88.0              98.0   \n",
       "\n",
       "   Shell Flow Rate, bph  Shell Temp In, F  Shell Temp Out, F year-month  \\\n",
       "0           2872.547153             376.0              369.0    2021-01   \n",
       "1           2294.335572             383.0              375.0    2021-01   \n",
       "2           2083.629832             416.0              407.0    2021-01   \n",
       "3           2194.911086             425.0              416.0    2021-01   \n",
       "4           2874.875654             388.0              381.0    2021-01   \n",
       "\n",
       "         LMTD  U (actual)  \n",
       "0  293.436105   28.093302  \n",
       "1  279.463920   26.926029  \n",
       "2  304.453744   25.251832  \n",
       "3  334.497758   24.211259  \n",
       "4  291.497427   28.303068  "
      ]
     },
     "execution_count": 11,
     "metadata": {},
     "output_type": "execute_result"
    }
   ],
   "source": [
    "# create a new column for \"year-month\" (yyyy-mm)\n",
    "df['year-month'] = df['Date'].dt.strftime('%Y-%m')\n",
    "\n",
    "# create a new column for \"LMTD\"\n",
    "df['LMTD'] = ((df['Shell Temp In, F'] - df['Tube Temp Out, F']) - (df['Shell Temp Out, F'] - df['Tube Temp In, F'])) / np.log((df['Shell Temp In, F'] - df['Tube Temp Out, F']) / (df['Shell Temp Out, F'] - df['Tube Temp In, F']))\n",
    "\n",
    "# create a new column for \"U (actual)\" = Q / (A * LMTD) = V * rho * Cp * dT / (A * LMTD)\n",
    "df['U (actual)'] = df['Tube Flow Rate, bph'] * 5.615 * 56.85 * 2.6 * (df['Tube Temp Out, F'] - df['Tube Temp In, F']) / (3561 * df['LMTD'])\n",
    "\n",
    "df.head()"
   ]
  },
  {
   "cell_type": "markdown",
   "metadata": {},
   "source": [
    "<hr id=\"eda\">\n",
    "\n",
    "<h2>4. Exploratory Data Analysis</h2>"
   ]
  },
  {
   "cell_type": "markdown",
   "metadata": {},
   "source": [
    "<h5>Descriptive Analysis</h5>"
   ]
  },
  {
   "cell_type": "code",
   "execution_count": 12,
   "metadata": {},
   "outputs": [
    {
     "data": {
      "text/html": [
       "<div>\n",
       "<style scoped>\n",
       "    .dataframe tbody tr th:only-of-type {\n",
       "        vertical-align: middle;\n",
       "    }\n",
       "\n",
       "    .dataframe tbody tr th {\n",
       "        vertical-align: top;\n",
       "    }\n",
       "\n",
       "    .dataframe thead th {\n",
       "        text-align: right;\n",
       "    }\n",
       "</style>\n",
       "<table border=\"1\" class=\"dataframe\">\n",
       "  <thead>\n",
       "    <tr style=\"text-align: right;\">\n",
       "      <th></th>\n",
       "      <th>Date</th>\n",
       "      <th>Tube Flow Rate, bph</th>\n",
       "      <th>Tube Temp In, F</th>\n",
       "      <th>Tube Temp Out, F</th>\n",
       "      <th>Shell Flow Rate, bph</th>\n",
       "      <th>Shell Temp In, F</th>\n",
       "      <th>Shell Temp Out, F</th>\n",
       "      <th>LMTD</th>\n",
       "      <th>U (actual)</th>\n",
       "    </tr>\n",
       "  </thead>\n",
       "  <tbody>\n",
       "    <tr>\n",
       "      <th>count</th>\n",
       "      <td>1055</td>\n",
       "      <td>1055.000000</td>\n",
       "      <td>1055.000000</td>\n",
       "      <td>1055.000000</td>\n",
       "      <td>1055.000000</td>\n",
       "      <td>1055.000000</td>\n",
       "      <td>1055.000000</td>\n",
       "      <td>1055.000000</td>\n",
       "      <td>1055.000000</td>\n",
       "    </tr>\n",
       "    <tr>\n",
       "      <th>mean</th>\n",
       "      <td>2022-06-17 22:38:06.255924480</td>\n",
       "      <td>1944.237145</td>\n",
       "      <td>87.303318</td>\n",
       "      <td>104.667299</td>\n",
       "      <td>2303.328135</td>\n",
       "      <td>396.054028</td>\n",
       "      <td>388.277725</td>\n",
       "      <td>296.144209</td>\n",
       "      <td>24.146632</td>\n",
       "    </tr>\n",
       "    <tr>\n",
       "      <th>min</th>\n",
       "      <td>2021-01-01 00:00:00</td>\n",
       "      <td>864.211243</td>\n",
       "      <td>40.000000</td>\n",
       "      <td>80.000000</td>\n",
       "      <td>1395.872047</td>\n",
       "      <td>310.000000</td>\n",
       "      <td>300.000000</td>\n",
       "      <td>201.499586</td>\n",
       "      <td>-16.255192</td>\n",
       "    </tr>\n",
       "    <tr>\n",
       "      <th>25%</th>\n",
       "      <td>2021-09-23 12:00:00</td>\n",
       "      <td>1418.001747</td>\n",
       "      <td>78.000000</td>\n",
       "      <td>96.000000</td>\n",
       "      <td>2024.665390</td>\n",
       "      <td>380.000000</td>\n",
       "      <td>372.000000</td>\n",
       "      <td>279.475848</td>\n",
       "      <td>22.507430</td>\n",
       "    </tr>\n",
       "    <tr>\n",
       "      <th>50%</th>\n",
       "      <td>2022-06-18 00:00:00</td>\n",
       "      <td>1765.041748</td>\n",
       "      <td>88.000000</td>\n",
       "      <td>105.000000</td>\n",
       "      <td>2281.302502</td>\n",
       "      <td>396.000000</td>\n",
       "      <td>389.000000</td>\n",
       "      <td>295.497462</td>\n",
       "      <td>24.122573</td>\n",
       "    </tr>\n",
       "    <tr>\n",
       "      <th>75%</th>\n",
       "      <td>2023-03-11 12:00:00</td>\n",
       "      <td>2337.571924</td>\n",
       "      <td>96.000000</td>\n",
       "      <td>114.000000</td>\n",
       "      <td>2598.816932</td>\n",
       "      <td>413.000000</td>\n",
       "      <td>405.000000</td>\n",
       "      <td>312.997338</td>\n",
       "      <td>25.866595</td>\n",
       "    </tr>\n",
       "    <tr>\n",
       "      <th>max</th>\n",
       "      <td>2023-11-30 00:00:00</td>\n",
       "      <td>4690.760258</td>\n",
       "      <td>140.000000</td>\n",
       "      <td>160.000000</td>\n",
       "      <td>3457.653031</td>\n",
       "      <td>490.000000</td>\n",
       "      <td>423.000000</td>\n",
       "      <td>349.431081</td>\n",
       "      <td>67.776602</td>\n",
       "    </tr>\n",
       "    <tr>\n",
       "      <th>std</th>\n",
       "      <td>NaN</td>\n",
       "      <td>674.850147</td>\n",
       "      <td>11.780928</td>\n",
       "      <td>10.531791</td>\n",
       "      <td>366.732594</td>\n",
       "      <td>19.681764</td>\n",
       "      <td>19.425223</td>\n",
       "      <td>22.517124</td>\n",
       "      <td>3.249439</td>\n",
       "    </tr>\n",
       "  </tbody>\n",
       "</table>\n",
       "</div>"
      ],
      "text/plain": [
       "                                Date  Tube Flow Rate, bph  Tube Temp In, F  \\\n",
       "count                           1055          1055.000000      1055.000000   \n",
       "mean   2022-06-17 22:38:06.255924480          1944.237145        87.303318   \n",
       "min              2021-01-01 00:00:00           864.211243        40.000000   \n",
       "25%              2021-09-23 12:00:00          1418.001747        78.000000   \n",
       "50%              2022-06-18 00:00:00          1765.041748        88.000000   \n",
       "75%              2023-03-11 12:00:00          2337.571924        96.000000   \n",
       "max              2023-11-30 00:00:00          4690.760258       140.000000   \n",
       "std                              NaN           674.850147        11.780928   \n",
       "\n",
       "       Tube Temp Out, F  Shell Flow Rate, bph  Shell Temp In, F  \\\n",
       "count       1055.000000           1055.000000       1055.000000   \n",
       "mean         104.667299           2303.328135        396.054028   \n",
       "min           80.000000           1395.872047        310.000000   \n",
       "25%           96.000000           2024.665390        380.000000   \n",
       "50%          105.000000           2281.302502        396.000000   \n",
       "75%          114.000000           2598.816932        413.000000   \n",
       "max          160.000000           3457.653031        490.000000   \n",
       "std           10.531791            366.732594         19.681764   \n",
       "\n",
       "       Shell Temp Out, F         LMTD   U (actual)  \n",
       "count        1055.000000  1055.000000  1055.000000  \n",
       "mean          388.277725   296.144209    24.146632  \n",
       "min           300.000000   201.499586   -16.255192  \n",
       "25%           372.000000   279.475848    22.507430  \n",
       "50%           389.000000   295.497462    24.122573  \n",
       "75%           405.000000   312.997338    25.866595  \n",
       "max           423.000000   349.431081    67.776602  \n",
       "std            19.425223    22.517124     3.249439  "
      ]
     },
     "execution_count": 12,
     "metadata": {},
     "output_type": "execute_result"
    }
   ],
   "source": [
    "df_desc = df.describe()\n",
    "df_desc"
   ]
  },
  {
   "cell_type": "markdown",
   "metadata": {},
   "source": [
    "<h5>Visualize Parameters and identify outliers</h5>"
   ]
  },
  {
   "cell_type": "markdown",
   "metadata": {},
   "source": [
    "### Shell side"
   ]
  },
  {
   "cell_type": "markdown",
   "metadata": {},
   "source": [
    "Box plot"
   ]
  },
  {
   "cell_type": "code",
   "execution_count": 13,
   "metadata": {},
   "outputs": [
    {
     "data": {
      "image/png": "[encoded data removed]",
      "text/plain": [
       "<Figure size 1200x600 with 1 Axes>"
      ]
     },
     "metadata": {},
     "output_type": "display_data"
    }
   ],
   "source": [
    "# box plot\n",
    "df[['Shell Temp In, F', 'Shell Temp Out, F']].plot(kind='box', figsize=(12, 6), title='Shell Temperature Boxplot', ylabel='Temperature (F)')\n",
    "plt.show()"
   ]
  },
  {
   "cell_type": "markdown",
   "metadata": {},
   "source": [
    "Remove outliers"
   ]
  },
  {
   "cell_type": "code",
   "execution_count": 14,
   "metadata": {},
   "outputs": [],
   "source": [
    "# remove outliers for \"Shell Temp In, F\" column\n",
    "iqr = df_desc.loc['75%', 'Shell Temp In, F'] - df_desc.loc['25%', 'Shell Temp In, F']\n",
    "upper_bound = df_desc.loc['75%', 'Shell Temp In, F'] + 1.5 * iqr\n",
    "lower_bound = df_desc.loc['25%', 'Shell Temp In, F'] - 1.5 * iqr\n",
    "df = df[(df['Shell Temp In, F'] < upper_bound) & (df['Shell Temp In, F'] > lower_bound)]\n",
    "\n",
    "# remove outliers for \"Shell Temp Out, F\" column\n",
    "iqr = df_desc.loc['75%', 'Shell Temp Out, F'] - df_desc.loc['25%', 'Shell Temp Out, F']\n",
    "upper_bound = df_desc.loc['75%', 'Shell Temp Out, F'] + 1.5 * iqr\n",
    "lower_bound = df_desc.loc['25%', 'Shell Temp Out, F'] - 1.5 * iqr\n",
    "df = df[(df['Shell Temp Out, F'] < upper_bound) & (df['Shell Temp Out, F'] > lower_bound)]"
   ]
  },
  {
   "cell_type": "markdown",
   "metadata": {},
   "source": [
    "Remove impractical entries"
   ]
  },
  {
   "cell_type": "code",
   "execution_count": 15,
   "metadata": {},
   "outputs": [
    {
     "data": {
      "text/html": [
       "<div>\n",
       "<style scoped>\n",
       "    .dataframe tbody tr th:only-of-type {\n",
       "        vertical-align: middle;\n",
       "    }\n",
       "\n",
       "    .dataframe tbody tr th {\n",
       "        vertical-align: top;\n",
       "    }\n",
       "\n",
       "    .dataframe thead th {\n",
       "        text-align: right;\n",
       "    }\n",
       "</style>\n",
       "<table border=\"1\" class=\"dataframe\">\n",
       "  <thead>\n",
       "    <tr style=\"text-align: right;\">\n",
       "      <th></th>\n",
       "      <th>Date</th>\n",
       "      <th>Tube Flow Rate, bph</th>\n",
       "      <th>Tube Temp In, F</th>\n",
       "      <th>Tube Temp Out, F</th>\n",
       "      <th>Shell Flow Rate, bph</th>\n",
       "      <th>Shell Temp In, F</th>\n",
       "      <th>Shell Temp Out, F</th>\n",
       "      <th>year-month</th>\n",
       "      <th>LMTD</th>\n",
       "      <th>U (actual)</th>\n",
       "    </tr>\n",
       "  </thead>\n",
       "  <tbody>\n",
       "    <tr>\n",
       "      <th>179</th>\n",
       "      <td>2021-06-28</td>\n",
       "      <td>3636.575007</td>\n",
       "      <td>95.0</td>\n",
       "      <td>105.0</td>\n",
       "      <td>2297.103213</td>\n",
       "      <td>408.0</td>\n",
       "      <td>420.0</td>\n",
       "      <td>2021-06</td>\n",
       "      <td>313.871508</td>\n",
       "      <td>27.003637</td>\n",
       "    </tr>\n",
       "    <tr>\n",
       "      <th>577</th>\n",
       "      <td>2022-07-30</td>\n",
       "      <td>2835.343932</td>\n",
       "      <td>95.0</td>\n",
       "      <td>105.0</td>\n",
       "      <td>1790.992250</td>\n",
       "      <td>367.0</td>\n",
       "      <td>390.0</td>\n",
       "      <td>2022-07</td>\n",
       "      <td>278.173842</td>\n",
       "      <td>23.755877</td>\n",
       "    </tr>\n",
       "  </tbody>\n",
       "</table>\n",
       "</div>"
      ],
      "text/plain": [
       "          Date  Tube Flow Rate, bph  Tube Temp In, F  Tube Temp Out, F  \\\n",
       "179 2021-06-28          3636.575007             95.0             105.0   \n",
       "577 2022-07-30          2835.343932             95.0             105.0   \n",
       "\n",
       "     Shell Flow Rate, bph  Shell Temp In, F  Shell Temp Out, F year-month  \\\n",
       "179           2297.103213             408.0              420.0    2021-06   \n",
       "577           1790.992250             367.0              390.0    2022-07   \n",
       "\n",
       "           LMTD  U (actual)  \n",
       "179  313.871508   27.003637  \n",
       "577  278.173842   23.755877  "
      ]
     },
     "execution_count": 15,
     "metadata": {},
     "output_type": "execute_result"
    }
   ],
   "source": [
    "# find entries with \"Shell Temp In, F\" < \"Shell Temp Out, F\"\n",
    "df[df['Shell Temp In, F'] < df['Shell Temp Out, F']]"
   ]
  },
  {
   "cell_type": "code",
   "execution_count": 16,
   "metadata": {},
   "outputs": [
    {
     "data": {
      "text/html": [
       "<div>\n",
       "<style scoped>\n",
       "    .dataframe tbody tr th:only-of-type {\n",
       "        vertical-align: middle;\n",
       "    }\n",
       "\n",
       "    .dataframe tbody tr th {\n",
       "        vertical-align: top;\n",
       "    }\n",
       "\n",
       "    .dataframe thead th {\n",
       "        text-align: right;\n",
       "    }\n",
       "</style>\n",
       "<table border=\"1\" class=\"dataframe\">\n",
       "  <thead>\n",
       "    <tr style=\"text-align: right;\">\n",
       "      <th></th>\n",
       "      <th>Date</th>\n",
       "      <th>Tube Flow Rate, bph</th>\n",
       "      <th>Tube Temp In, F</th>\n",
       "      <th>Tube Temp Out, F</th>\n",
       "      <th>Shell Flow Rate, bph</th>\n",
       "      <th>Shell Temp In, F</th>\n",
       "      <th>Shell Temp Out, F</th>\n",
       "      <th>LMTD</th>\n",
       "      <th>U (actual)</th>\n",
       "    </tr>\n",
       "  </thead>\n",
       "  <tbody>\n",
       "    <tr>\n",
       "      <th>count</th>\n",
       "      <td>1050</td>\n",
       "      <td>1050.000000</td>\n",
       "      <td>1050.000000</td>\n",
       "      <td>1050.000000</td>\n",
       "      <td>1050.000000</td>\n",
       "      <td>1050.000000</td>\n",
       "      <td>1050.000000</td>\n",
       "      <td>1050.000000</td>\n",
       "      <td>1050.000000</td>\n",
       "    </tr>\n",
       "    <tr>\n",
       "      <th>mean</th>\n",
       "      <td>2022-06-19 12:53:29.142857216</td>\n",
       "      <td>1941.955319</td>\n",
       "      <td>87.267619</td>\n",
       "      <td>104.642857</td>\n",
       "      <td>2303.454447</td>\n",
       "      <td>396.088571</td>\n",
       "      <td>388.382857</td>\n",
       "      <td>296.245589</td>\n",
       "      <td>24.130721</td>\n",
       "    </tr>\n",
       "    <tr>\n",
       "      <th>min</th>\n",
       "      <td>2021-01-01 00:00:00</td>\n",
       "      <td>864.211243</td>\n",
       "      <td>40.000000</td>\n",
       "      <td>80.000000</td>\n",
       "      <td>1395.872047</td>\n",
       "      <td>359.000000</td>\n",
       "      <td>351.000000</td>\n",
       "      <td>238.499651</td>\n",
       "      <td>-16.255192</td>\n",
       "    </tr>\n",
       "    <tr>\n",
       "      <th>25%</th>\n",
       "      <td>2021-09-26 06:00:00</td>\n",
       "      <td>1417.872118</td>\n",
       "      <td>78.000000</td>\n",
       "      <td>96.000000</td>\n",
       "      <td>2024.375036</td>\n",
       "      <td>380.000000</td>\n",
       "      <td>372.000000</td>\n",
       "      <td>279.492546</td>\n",
       "      <td>22.499237</td>\n",
       "    </tr>\n",
       "    <tr>\n",
       "      <th>50%</th>\n",
       "      <td>2022-06-19 12:00:00</td>\n",
       "      <td>1764.466964</td>\n",
       "      <td>88.000000</td>\n",
       "      <td>105.000000</td>\n",
       "      <td>2281.243739</td>\n",
       "      <td>396.000000</td>\n",
       "      <td>389.000000</td>\n",
       "      <td>295.712688</td>\n",
       "      <td>24.121286</td>\n",
       "    </tr>\n",
       "    <tr>\n",
       "      <th>75%</th>\n",
       "      <td>2023-03-12 18:00:00</td>\n",
       "      <td>2335.221950</td>\n",
       "      <td>96.000000</td>\n",
       "      <td>114.000000</td>\n",
       "      <td>2598.951858</td>\n",
       "      <td>413.000000</td>\n",
       "      <td>405.000000</td>\n",
       "      <td>312.994409</td>\n",
       "      <td>25.853235</td>\n",
       "    </tr>\n",
       "    <tr>\n",
       "      <th>max</th>\n",
       "      <td>2023-11-30 00:00:00</td>\n",
       "      <td>4690.760258</td>\n",
       "      <td>140.000000</td>\n",
       "      <td>160.000000</td>\n",
       "      <td>3457.653031</td>\n",
       "      <td>431.000000</td>\n",
       "      <td>423.000000</td>\n",
       "      <td>349.431081</td>\n",
       "      <td>67.776602</td>\n",
       "    </tr>\n",
       "    <tr>\n",
       "      <th>std</th>\n",
       "      <td>NaN</td>\n",
       "      <td>673.069774</td>\n",
       "      <td>11.796810</td>\n",
       "      <td>10.546238</td>\n",
       "      <td>366.878071</td>\n",
       "      <td>19.290039</td>\n",
       "      <td>19.089326</td>\n",
       "      <td>22.234814</td>\n",
       "      <td>3.237119</td>\n",
       "    </tr>\n",
       "  </tbody>\n",
       "</table>\n",
       "</div>"
      ],
      "text/plain": [
       "                                Date  Tube Flow Rate, bph  Tube Temp In, F  \\\n",
       "count                           1050          1050.000000      1050.000000   \n",
       "mean   2022-06-19 12:53:29.142857216          1941.955319        87.267619   \n",
       "min              2021-01-01 00:00:00           864.211243        40.000000   \n",
       "25%              2021-09-26 06:00:00          1417.872118        78.000000   \n",
       "50%              2022-06-19 12:00:00          1764.466964        88.000000   \n",
       "75%              2023-03-12 18:00:00          2335.221950        96.000000   \n",
       "max              2023-11-30 00:00:00          4690.760258       140.000000   \n",
       "std                              NaN           673.069774        11.796810   \n",
       "\n",
       "       Tube Temp Out, F  Shell Flow Rate, bph  Shell Temp In, F  \\\n",
       "count       1050.000000           1050.000000       1050.000000   \n",
       "mean         104.642857           2303.454447        396.088571   \n",
       "min           80.000000           1395.872047        359.000000   \n",
       "25%           96.000000           2024.375036        380.000000   \n",
       "50%          105.000000           2281.243739        396.000000   \n",
       "75%          114.000000           2598.951858        413.000000   \n",
       "max          160.000000           3457.653031        431.000000   \n",
       "std           10.546238            366.878071         19.290039   \n",
       "\n",
       "       Shell Temp Out, F         LMTD   U (actual)  \n",
       "count        1050.000000  1050.000000  1050.000000  \n",
       "mean          388.382857   296.245589    24.130721  \n",
       "min           351.000000   238.499651   -16.255192  \n",
       "25%           372.000000   279.492546    22.499237  \n",
       "50%           389.000000   295.712688    24.121286  \n",
       "75%           405.000000   312.994409    25.853235  \n",
       "max           423.000000   349.431081    67.776602  \n",
       "std            19.089326    22.234814     3.237119  "
      ]
     },
     "execution_count": 16,
     "metadata": {},
     "output_type": "execute_result"
    }
   ],
   "source": [
    "# remove the found entries\n",
    "df = df[df['Shell Temp In, F'] > df['Shell Temp Out, F']]\n",
    "df.describe()"
   ]
  },
  {
   "cell_type": "markdown",
   "metadata": {},
   "source": [
    "Tube Side\n"
   ]
  },
  {
   "cell_type": "code",
   "execution_count": 17,
   "metadata": {},
   "outputs": [
    {
     "data": {
      "image/png": "[encoded data removed]",
      "text/plain": [
       "<Figure size 1200x600 with 1 Axes>"
      ]
     },
     "metadata": {},
     "output_type": "display_data"
    }
   ],
   "source": [
    "df[['Tube Temp In, F', 'Tube Temp Out, F']].plot(kind='box', figsize=(12, 6), title='Tube Temperature Boxplot', ylabel='Temperature (F)')\n",
    "plt.show()"
   ]
  },
  {
   "cell_type": "markdown",
   "metadata": {},
   "source": [
    "Flow Rates"
   ]
  },
  {
   "cell_type": "code",
   "execution_count": 18,
   "metadata": {},
   "outputs": [
    {
     "data": {
      "image/png": "[encoded data removed]",
      "text/plain": [
       "<Figure size 1200x600 with 1 Axes>"
      ]
     },
     "metadata": {},
     "output_type": "display_data"
    }
   ],
   "source": [
    "df[['Shell Flow Rate, bph', 'Tube Flow Rate, bph']].plot(kind='box', figsize=(12, 6), title='Flow Rates Boxplot', ylabel='Flow Rate (bph)')\n",
    "plt.show()"
   ]
  },
  {
   "cell_type": "markdown",
   "metadata": {},
   "source": [
    "<h5>Visualize trend of U over time</h5>"
   ]
  },
  {
   "cell_type": "code",
   "execution_count": 19,
   "metadata": {},
   "outputs": [
    {
     "data": {
      "image/png": "[encoded data removed]",
      "text/plain": [
       "<Figure size 1200x600 with 1 Axes>"
      ]
     },
     "metadata": {},
     "output_type": "display_data"
    }
   ],
   "source": [
    "df.plot(kind='scatter', x='Date', y='U (actual)', figsize=(12, 6), title='U (actual) over time')\n",
    "plt.show()"
   ]
  },
  {
   "cell_type": "markdown",
   "metadata": {},
   "source": [
    "To decrease the noise, let's examine the average monthly values."
   ]
  },
  {
   "cell_type": "code",
   "execution_count": 20,
   "metadata": {},
   "outputs": [
    {
     "data": {
      "text/html": [
       "<div>\n",
       "<style scoped>\n",
       "    .dataframe tbody tr th:only-of-type {\n",
       "        vertical-align: middle;\n",
       "    }\n",
       "\n",
       "    .dataframe tbody tr th {\n",
       "        vertical-align: top;\n",
       "    }\n",
       "\n",
       "    .dataframe thead th {\n",
       "        text-align: right;\n",
       "    }\n",
       "</style>\n",
       "<table border=\"1\" class=\"dataframe\">\n",
       "  <thead>\n",
       "    <tr style=\"text-align: right;\">\n",
       "      <th></th>\n",
       "      <th>year-month</th>\n",
       "      <th>U (actual)</th>\n",
       "    </tr>\n",
       "  </thead>\n",
       "  <tbody>\n",
       "    <tr>\n",
       "      <th>0</th>\n",
       "      <td>2021-01</td>\n",
       "      <td>26.882875</td>\n",
       "    </tr>\n",
       "    <tr>\n",
       "      <th>1</th>\n",
       "      <td>2021-02</td>\n",
       "      <td>26.535819</td>\n",
       "    </tr>\n",
       "    <tr>\n",
       "      <th>2</th>\n",
       "      <td>2021-03</td>\n",
       "      <td>26.839704</td>\n",
       "    </tr>\n",
       "    <tr>\n",
       "      <th>3</th>\n",
       "      <td>2021-04</td>\n",
       "      <td>25.902595</td>\n",
       "    </tr>\n",
       "    <tr>\n",
       "      <th>4</th>\n",
       "      <td>2021-05</td>\n",
       "      <td>26.667200</td>\n",
       "    </tr>\n",
       "    <tr>\n",
       "      <th>5</th>\n",
       "      <td>2021-06</td>\n",
       "      <td>25.939044</td>\n",
       "    </tr>\n",
       "    <tr>\n",
       "      <th>6</th>\n",
       "      <td>2021-07</td>\n",
       "      <td>25.900940</td>\n",
       "    </tr>\n",
       "    <tr>\n",
       "      <th>7</th>\n",
       "      <td>2021-08</td>\n",
       "      <td>26.240308</td>\n",
       "    </tr>\n",
       "    <tr>\n",
       "      <th>8</th>\n",
       "      <td>2021-09</td>\n",
       "      <td>25.261704</td>\n",
       "    </tr>\n",
       "    <tr>\n",
       "      <th>9</th>\n",
       "      <td>2021-10</td>\n",
       "      <td>25.611380</td>\n",
       "    </tr>\n",
       "    <tr>\n",
       "      <th>10</th>\n",
       "      <td>2021-11</td>\n",
       "      <td>24.650839</td>\n",
       "    </tr>\n",
       "    <tr>\n",
       "      <th>11</th>\n",
       "      <td>2021-12</td>\n",
       "      <td>24.983145</td>\n",
       "    </tr>\n",
       "    <tr>\n",
       "      <th>12</th>\n",
       "      <td>2022-01</td>\n",
       "      <td>24.942366</td>\n",
       "    </tr>\n",
       "    <tr>\n",
       "      <th>13</th>\n",
       "      <td>2022-02</td>\n",
       "      <td>24.342168</td>\n",
       "    </tr>\n",
       "    <tr>\n",
       "      <th>14</th>\n",
       "      <td>2022-03</td>\n",
       "      <td>24.913468</td>\n",
       "    </tr>\n",
       "    <tr>\n",
       "      <th>15</th>\n",
       "      <td>2022-04</td>\n",
       "      <td>24.290228</td>\n",
       "    </tr>\n",
       "    <tr>\n",
       "      <th>16</th>\n",
       "      <td>2022-05</td>\n",
       "      <td>24.684984</td>\n",
       "    </tr>\n",
       "    <tr>\n",
       "      <th>17</th>\n",
       "      <td>2022-06</td>\n",
       "      <td>23.676426</td>\n",
       "    </tr>\n",
       "    <tr>\n",
       "      <th>18</th>\n",
       "      <td>2022-07</td>\n",
       "      <td>24.596129</td>\n",
       "    </tr>\n",
       "    <tr>\n",
       "      <th>19</th>\n",
       "      <td>2022-08</td>\n",
       "      <td>23.988192</td>\n",
       "    </tr>\n",
       "    <tr>\n",
       "      <th>20</th>\n",
       "      <td>2022-09</td>\n",
       "      <td>23.903527</td>\n",
       "    </tr>\n",
       "    <tr>\n",
       "      <th>21</th>\n",
       "      <td>2022-10</td>\n",
       "      <td>23.709025</td>\n",
       "    </tr>\n",
       "    <tr>\n",
       "      <th>22</th>\n",
       "      <td>2022-11</td>\n",
       "      <td>23.302186</td>\n",
       "    </tr>\n",
       "    <tr>\n",
       "      <th>23</th>\n",
       "      <td>2022-12</td>\n",
       "      <td>23.906274</td>\n",
       "    </tr>\n",
       "    <tr>\n",
       "      <th>24</th>\n",
       "      <td>2023-01</td>\n",
       "      <td>23.174856</td>\n",
       "    </tr>\n",
       "    <tr>\n",
       "      <th>25</th>\n",
       "      <td>2023-02</td>\n",
       "      <td>22.201191</td>\n",
       "    </tr>\n",
       "    <tr>\n",
       "      <th>26</th>\n",
       "      <td>2023-03</td>\n",
       "      <td>24.372818</td>\n",
       "    </tr>\n",
       "    <tr>\n",
       "      <th>27</th>\n",
       "      <td>2023-04</td>\n",
       "      <td>23.398747</td>\n",
       "    </tr>\n",
       "    <tr>\n",
       "      <th>28</th>\n",
       "      <td>2023-05</td>\n",
       "      <td>22.654816</td>\n",
       "    </tr>\n",
       "    <tr>\n",
       "      <th>29</th>\n",
       "      <td>2023-06</td>\n",
       "      <td>21.075808</td>\n",
       "    </tr>\n",
       "    <tr>\n",
       "      <th>30</th>\n",
       "      <td>2023-07</td>\n",
       "      <td>21.915111</td>\n",
       "    </tr>\n",
       "    <tr>\n",
       "      <th>31</th>\n",
       "      <td>2023-08</td>\n",
       "      <td>22.195430</td>\n",
       "    </tr>\n",
       "    <tr>\n",
       "      <th>32</th>\n",
       "      <td>2023-09</td>\n",
       "      <td>21.324387</td>\n",
       "    </tr>\n",
       "    <tr>\n",
       "      <th>33</th>\n",
       "      <td>2023-10</td>\n",
       "      <td>20.445373</td>\n",
       "    </tr>\n",
       "    <tr>\n",
       "      <th>34</th>\n",
       "      <td>2023-11</td>\n",
       "      <td>20.753783</td>\n",
       "    </tr>\n",
       "  </tbody>\n",
       "</table>\n",
       "</div>"
      ],
      "text/plain": [
       "   year-month  U (actual)\n",
       "0     2021-01   26.882875\n",
       "1     2021-02   26.535819\n",
       "2     2021-03   26.839704\n",
       "3     2021-04   25.902595\n",
       "4     2021-05   26.667200\n",
       "5     2021-06   25.939044\n",
       "6     2021-07   25.900940\n",
       "7     2021-08   26.240308\n",
       "8     2021-09   25.261704\n",
       "9     2021-10   25.611380\n",
       "10    2021-11   24.650839\n",
       "11    2021-12   24.983145\n",
       "12    2022-01   24.942366\n",
       "13    2022-02   24.342168\n",
       "14    2022-03   24.913468\n",
       "15    2022-04   24.290228\n",
       "16    2022-05   24.684984\n",
       "17    2022-06   23.676426\n",
       "18    2022-07   24.596129\n",
       "19    2022-08   23.988192\n",
       "20    2022-09   23.903527\n",
       "21    2022-10   23.709025\n",
       "22    2022-11   23.302186\n",
       "23    2022-12   23.906274\n",
       "24    2023-01   23.174856\n",
       "25    2023-02   22.201191\n",
       "26    2023-03   24.372818\n",
       "27    2023-04   23.398747\n",
       "28    2023-05   22.654816\n",
       "29    2023-06   21.075808\n",
       "30    2023-07   21.915111\n",
       "31    2023-08   22.195430\n",
       "32    2023-09   21.324387\n",
       "33    2023-10   20.445373\n",
       "34    2023-11   20.753783"
      ]
     },
     "execution_count": 20,
     "metadata": {},
     "output_type": "execute_result"
    }
   ],
   "source": [
    "df_monthly = df.groupby('year-month', as_index=False)['U (actual)'].mean()\n",
    "df_monthly\n"
   ]
  },
  {
   "cell_type": "code",
   "execution_count": 21,
   "metadata": {},
   "outputs": [
    {
     "data": {
      "image/png": "[encoded data removed]",
      "text/plain": [
       "<Figure size 1200x600 with 1 Axes>"
      ]
     },
     "metadata": {},
     "output_type": "display_data"
    }
   ],
   "source": [
    "df_monthly.plot(kind='scatter', x='year-month', y='U (actual)', figsize=(12, 6), title='U (actual) over time')\n",
    "plt.xlabel('Month')\n",
    "plt.xticks(rotation=90)\n",
    "plt.grid()\n",
    "plt.show()"
   ]
  },
  {
   "cell_type": "markdown",
   "metadata": {},
   "source": [
    "<hr id=\"model\">\n",
    "\n",
    "<h2>5. Model Development and Evaluation</h2>"
   ]
  },
  {
   "cell_type": "markdown",
   "metadata": {},
   "source": [
    "Let's first try linear regression to fit `U (actual) vs Date`"
   ]
  },
  {
   "cell_type": "code",
   "execution_count": 22,
   "metadata": {},
   "outputs": [
    {
     "name": "stdout",
     "output_type": "stream",
     "text": [
      "Coefficients: \n",
      " [-0.16444653]\n",
      "Intercept: \n",
      " 26.91017590332744\n"
     ]
    }
   ],
   "source": [
    "from sklearn.linear_model import LinearRegression\n",
    "from sklearn.model_selection import train_test_split\n",
    "from sklearn.metrics import mean_squared_error, r2_score\n",
    "\n",
    "# create a linear regression model\n",
    "lr = LinearRegression()\n",
    "\n",
    "# split the data into training and testing sets\n",
    "X = df_monthly.index.values.reshape(-1, 1)\n",
    "Y = df_monthly['U (actual)']\n",
    "X_train, X_test, y_train, y_test = train_test_split(X, Y, test_size=0.2)\n",
    "\n",
    "# fit the model to the training data\n",
    "lr.fit(X_train, y_train)\n",
    "\n",
    "# make predictions using the testing set\n",
    "y_pred = lr.predict(X_test)\n",
    "\n",
    "# print the coefficients\n",
    "print('Coefficients: \\n', lr.coef_)\n",
    "print('Intercept: \\n', lr.intercept_)"
   ]
  },
  {
   "cell_type": "markdown",
   "metadata": {},
   "source": [
    "Evaluate the linear model using the following metrics:\n",
    "- Mean Squared Error (MSE)\n",
    "- Coefficient of Determination (R2)"
   ]
  },
  {
   "cell_type": "code",
   "execution_count": 23,
   "metadata": {},
   "outputs": [
    {
     "name": "stdout",
     "output_type": "stream",
     "text": [
      "Mean squared error (MSE): 0.11\n",
      "Coefficient of determination (R2): 0.87\n"
     ]
    }
   ],
   "source": [
    "# evaluate the model\n",
    "print('Mean squared error (MSE): {:.2f}'.format(mean_squared_error(y_test, y_pred)))\n",
    "print('Coefficient of determination (R2): {:.2f}'.format(r2_score(y_test, y_pred)))"
   ]
  },
  {
   "cell_type": "markdown",
   "metadata": {},
   "source": [
    "Calculate the month when `U (actual)` will fall under `70% of U (service)`"
   ]
  },
  {
   "cell_type": "code",
   "execution_count": 24,
   "metadata": {},
   "outputs": [
    {
     "name": "stdout",
     "output_type": "stream",
     "text": [
      "U (dirty): 19.39\n"
     ]
    },
    {
     "data": {
      "text/plain": [
       "45.7302191274802"
      ]
     },
     "execution_count": 24,
     "metadata": {},
     "output_type": "execute_result"
    }
   ],
   "source": [
    "u_dirty = 0.7 * 27.7\n",
    "print('U (dirty): {:.2f}'.format(u_dirty))\n",
    "month = (u_dirty - lr.intercept_) / lr.coef_[0]\n",
    "month"
   ]
  },
  {
   "cell_type": "code",
   "execution_count": 25,
   "metadata": {},
   "outputs": [
    {
     "data": {
      "text/html": [
       "<div>\n",
       "<style scoped>\n",
       "    .dataframe tbody tr th:only-of-type {\n",
       "        vertical-align: middle;\n",
       "    }\n",
       "\n",
       "    .dataframe tbody tr th {\n",
       "        vertical-align: top;\n",
       "    }\n",
       "\n",
       "    .dataframe thead th {\n",
       "        text-align: right;\n",
       "    }\n",
       "</style>\n",
       "<table border=\"1\" class=\"dataframe\">\n",
       "  <thead>\n",
       "    <tr style=\"text-align: right;\">\n",
       "      <th></th>\n",
       "      <th>year-month</th>\n",
       "      <th>U (actual)</th>\n",
       "      <th>U (predicted)</th>\n",
       "    </tr>\n",
       "  </thead>\n",
       "  <tbody>\n",
       "    <tr>\n",
       "      <th>44</th>\n",
       "      <td>2024-09</td>\n",
       "      <td>NaN</td>\n",
       "      <td>19.674529</td>\n",
       "    </tr>\n",
       "    <tr>\n",
       "      <th>45</th>\n",
       "      <td>2024-10</td>\n",
       "      <td>NaN</td>\n",
       "      <td>19.510082</td>\n",
       "    </tr>\n",
       "    <tr>\n",
       "      <th>46</th>\n",
       "      <td>2024-11</td>\n",
       "      <td>NaN</td>\n",
       "      <td>19.345635</td>\n",
       "    </tr>\n",
       "    <tr>\n",
       "      <th>47</th>\n",
       "      <td>2024-12</td>\n",
       "      <td>NaN</td>\n",
       "      <td>19.181189</td>\n",
       "    </tr>\n",
       "    <tr>\n",
       "      <th>48</th>\n",
       "      <td>2025-01</td>\n",
       "      <td>NaN</td>\n",
       "      <td>19.016742</td>\n",
       "    </tr>\n",
       "  </tbody>\n",
       "</table>\n",
       "</div>"
      ],
      "text/plain": [
       "   year-month  U (actual)  U (predicted)\n",
       "44    2024-09         NaN      19.674529\n",
       "45    2024-10         NaN      19.510082\n",
       "46    2024-11         NaN      19.345635\n",
       "47    2024-12         NaN      19.181189\n",
       "48    2025-01         NaN      19.016742"
      ]
     },
     "execution_count": 25,
     "metadata": {},
     "output_type": "execute_result"
    }
   ],
   "source": [
    "# add a new column for \"U (predicted)\"\n",
    "df_monthly['U (predicted)'] = lr.predict(X)\n",
    "\n",
    "# add new rows for future months\n",
    "for i in range(len(df_monthly), month.astype(int) + 4):\n",
    "    # increment month by 1\n",
    "    if i % 12 == 0:\n",
    "        m = 1\n",
    "        y = int(df_monthly.loc[i - 1, 'year-month'][:4]) + 1\n",
    "    else:\n",
    "        m = int(df_monthly.loc[i - 1, 'year-month'][5:]) + 1\n",
    "        y = int(df_monthly.loc[i - 1, 'year-month'][:4])\n",
    "    year_month = str(y) + '-' + str(m).zfill(2)\n",
    "\n",
    "    df_monthly.loc[i] = {\n",
    "        'year-month': year_month, \n",
    "        'U (actual)': np.nan, \n",
    "        'U (predicted)': lr.predict([[i]])[0]\n",
    "    }\n",
    "\n",
    "df_monthly.tail()"
   ]
  },
  {
   "cell_type": "markdown",
   "metadata": {},
   "source": [
    "<hr id=\"deploy\">\n",
    "\n",
    "<h2>6. Deployment and Communication</h2>"
   ]
  },
  {
   "cell_type": "markdown",
   "metadata": {},
   "source": [
    "Generate a scatter plot with a trend line showing when the heat exchanger will require maintenance"
   ]
  },
  {
   "cell_type": "code",
   "execution_count": 26,
   "metadata": {},
   "outputs": [
    {
     "data": {
      "image/png": "[encoded data removed]",
      "text/plain": [
       "<Figure size 1200x600 with 1 Axes>"
      ]
     },
     "metadata": {},
     "output_type": "display_data"
    }
   ],
   "source": [
    "# plot the actual and predicted U values\n",
    "df_monthly.plot(kind='scatter', x='year-month', y='U (actual)', figsize=(12, 6), title='U (actual) over time')\n",
    "plt.plot(df_monthly['year-month'], df_monthly['U (predicted)'], color='orange')\n",
    "plt.plot(df_monthly['year-month'], [u_dirty] * len(df_monthly), color='red', linestyle='dashed')\n",
    "plt.scatter(month, u_dirty, color='red', marker='o', s=400, facecolors='none')\n",
    "plt.xlabel('Month')\n",
    "plt.xticks(rotation=90)\n",
    "plt.legend(['U (actual)', 'U (predicted)', 'U (dirty)'])\n",
    "plt.grid()\n",
    "plt.show()\n"
   ]
  },
  {
   "cell_type": "markdown",
   "metadata": {},
   "source": [
    "<h3>Conclusion?</h3>"
   ]
  },
  {
   "cell_type": "markdown",
   "metadata": {},
   "source": []
  },
  {
   "cell_type": "markdown",
   "metadata": {},
   "source": [
    "<hr style=\"margin-top: 4rem;\">\n",
    "<h2>Author</h2>\n",
    "\n",
    "<a href=\"https://github.com/SamerHany\">Samer Hany</a>"
   ]
  },
  {
   "cell_type": "markdown",
   "metadata": {},
   "source": [
    "<h2>References</h2>\n",
    "<a href=\"https://www.w3schools.com/python/default.asp\">w3schools.com</a>"
   ]
  }
 ],
 "metadata": {
  "kernelspec": {
   "display_name": "Python 3 (ipykernel)",
   "language": "python",
   "name": "python3"
  },
  "language_info": {
   "codemirror_mode": {
    "name": "ipython",
    "version": 3
   },
   "file_extension": ".py",
   "mimetype": "text/x-python",
   "name": "python",
   "nbconvert_exporter": "python",
   "pygments_lexer": "ipython3",
   "version": "3.12.0"
  }
 },
 "nbformat": 4,
 "nbformat_minor": 4
}
