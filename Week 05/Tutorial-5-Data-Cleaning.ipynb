{
 "cells": [
  {
   "cell_type": "markdown",
   "metadata": {},
   "source": [
    "# Tutorial 5: Data Cleaning\n",
    "*Also called: data pre-processing, data wrangling*\n",
    "\n",
    "## Objectives\n",
    "\n",
    "After this tutorial you will be able to:\n",
    "\n",
    "*   Identify and handle missing values\n",
    "*   Remove duplicates\n",
    "*   Standardize data\n",
    "*   Validate the cleaned data to ensure that it is accurate and complete."
   ]
  },
  {
   "cell_type": "markdown",
   "metadata": {},
   "source": [
    "<h2>Table of Contents</h2>\n",
    "\n",
    "<ol>\n",
    "    <li>\n",
    "        <a href=\"#import\">Import the dataset</a>\n",
    "    </li>\n",
    "    <br>\n",
    "    <li>\n",
    "        <details>\n",
    "            <summary><a href=\"#clean\">Identify and handle common data cleaning problems</a></summary>\n",
    "            <ul>\n",
    "                <li><a href=\"#clean-missing\">Handle missing values</a></li>\n",
    "                <li><a href=\"#clean-duplicates\">Remove duplicates</a></li>\n",
    "                <li><a href=\"#clean-standardize\">Standardize data</a></li>\n",
    "            </ul>\n",
    "        </details>\n",
    "    </li>\n",
    "    <br>\n",
    "    <li>\n",
    "        <a href=\"#validate\">Validate cleaned data</a>\n",
    "    </li>\n",
    "    <br>    \n",
    "    <li>\n",
    "        <a href=\"#outlier\">Outlier Detection</a>\n",
    "    </li>\n",
    "    <br>    \n",
    "    <li>\n",
    "        <a href=\"#feature\">Feature Extraction & Engineering</a>\n",
    "    </li>\n",
    "    <br>    \n",
    "</ol>\n"
   ]
  },
  {
   "cell_type": "markdown",
   "metadata": {},
   "source": [
    "<hr id=\"import\">\n",
    "\n",
    "<h2>1. Import the dataset</h2>"
   ]
  },
  {
   "cell_type": "markdown",
   "metadata": {},
   "source": [
    "Import the `Pandas` library"
   ]
  },
  {
   "cell_type": "code",
   "execution_count": 1,
   "metadata": {},
   "outputs": [],
   "source": [
    "import pandas as pd\n",
    "import numpy as np\n",
    "from scipy import stats\n",
    "from datetime import datetime"
   ]
  },
  {
   "cell_type": "markdown",
   "metadata": {},
   "source": [
    "Read the data from `reaction_data.csv` into a `Pandas DataFrame`"
   ]
  },
  {
   "cell_type": "code",
   "execution_count": 2,
   "metadata": {},
   "outputs": [
    {
     "data": {
      "text/html": [
       "<div>\n",
       "<style scoped>\n",
       "    .dataframe tbody tr th:only-of-type {\n",
       "        vertical-align: middle;\n",
       "    }\n",
       "\n",
       "    .dataframe tbody tr th {\n",
       "        vertical-align: top;\n",
       "    }\n",
       "\n",
       "    .dataframe thead th {\n",
       "        text-align: right;\n",
       "    }\n",
       "</style>\n",
       "<table border=\"1\" class=\"dataframe\">\n",
       "  <thead>\n",
       "    <tr style=\"text-align: right;\">\n",
       "      <th></th>\n",
       "      <th>Timestamp</th>\n",
       "      <th>Reactor Type</th>\n",
       "      <th>Temperature [C]</th>\n",
       "      <th>Pressure [bar]</th>\n",
       "      <th>Flow Rate [l/min]</th>\n",
       "    </tr>\n",
       "  </thead>\n",
       "  <tbody>\n",
       "    <tr>\n",
       "      <th>0</th>\n",
       "      <td>2023-10-21 10:00:00</td>\n",
       "      <td>CSTR</td>\n",
       "      <td>75.0</td>\n",
       "      <td>10.0</td>\n",
       "      <td>50.0</td>\n",
       "    </tr>\n",
       "    <tr>\n",
       "      <th>1</th>\n",
       "      <td>2023-10-21 10:00:00</td>\n",
       "      <td>CSTR</td>\n",
       "      <td>75.0</td>\n",
       "      <td>10.0</td>\n",
       "      <td>50.0</td>\n",
       "    </tr>\n",
       "    <tr>\n",
       "      <th>2</th>\n",
       "      <td>2023-10-21 10:00:05</td>\n",
       "      <td>CSTR</td>\n",
       "      <td>76.0</td>\n",
       "      <td>10.1</td>\n",
       "      <td>51.0</td>\n",
       "    </tr>\n",
       "    <tr>\n",
       "      <th>3</th>\n",
       "      <td>2023-10-21 10:00:10</td>\n",
       "      <td>PFR</td>\n",
       "      <td>77.0</td>\n",
       "      <td>10.0</td>\n",
       "      <td>NaN</td>\n",
       "    </tr>\n",
       "    <tr>\n",
       "      <th>4</th>\n",
       "      <td>2023-10-21 10:00:15</td>\n",
       "      <td>PFR</td>\n",
       "      <td>NaN</td>\n",
       "      <td>17.0</td>\n",
       "      <td>60.0</td>\n",
       "    </tr>\n",
       "    <tr>\n",
       "      <th>5</th>\n",
       "      <td>2023-10-21 10:00:20</td>\n",
       "      <td>Tubular</td>\n",
       "      <td>78.0</td>\n",
       "      <td>17.0</td>\n",
       "      <td>60.0</td>\n",
       "    </tr>\n",
       "    <tr>\n",
       "      <th>6</th>\n",
       "      <td>2023-10-21 10:00:25</td>\n",
       "      <td>NaN</td>\n",
       "      <td>79.0</td>\n",
       "      <td>NaN</td>\n",
       "      <td>61.0</td>\n",
       "    </tr>\n",
       "    <tr>\n",
       "      <th>7</th>\n",
       "      <td>2023-10-21 10:00:30</td>\n",
       "      <td>MFR</td>\n",
       "      <td>80.0</td>\n",
       "      <td>18.0</td>\n",
       "      <td>62.0</td>\n",
       "    </tr>\n",
       "  </tbody>\n",
       "</table>\n",
       "</div>"
      ],
      "text/plain": [
       "             Timestamp Reactor Type  Temperature [C]  Pressure [bar]  \\\n",
       "0  2023-10-21 10:00:00         CSTR             75.0            10.0   \n",
       "1  2023-10-21 10:00:00         CSTR             75.0            10.0   \n",
       "2  2023-10-21 10:00:05         CSTR             76.0            10.1   \n",
       "3  2023-10-21 10:00:10          PFR             77.0            10.0   \n",
       "4  2023-10-21 10:00:15          PFR              NaN            17.0   \n",
       "5  2023-10-21 10:00:20      Tubular             78.0            17.0   \n",
       "6  2023-10-21 10:00:25          NaN             79.0             NaN   \n",
       "7  2023-10-21 10:00:30          MFR             80.0            18.0   \n",
       "\n",
       "   Flow Rate [l/min]  \n",
       "0               50.0  \n",
       "1               50.0  \n",
       "2               51.0  \n",
       "3                NaN  \n",
       "4               60.0  \n",
       "5               60.0  \n",
       "6               61.0  \n",
       "7               62.0  "
      ]
     },
     "execution_count": 2,
     "metadata": {},
     "output_type": "execute_result"
    }
   ],
   "source": [
    "df = pd.read_csv('reaction_data.csv')\n",
    "df"
   ]
  },
  {
   "cell_type": "markdown",
   "metadata": {},
   "source": [
    "<hr id=\"clean\">\n",
    "\n",
    "<h2>2. Identify and handle common data cleaning problems</h2>"
   ]
  },
  {
   "cell_type": "markdown",
   "metadata": {},
   "source": [
    "<h5 id=\"clean-missing\">Handle missing values</h5>\n",
    "\n",
    "Identify missing values"
   ]
  },
  {
   "cell_type": "code",
   "execution_count": 3,
   "metadata": {},
   "outputs": [
    {
     "name": "stdout",
     "output_type": "stream",
     "text": [
      "<class 'pandas.core.frame.DataFrame'>\n",
      "RangeIndex: 8 entries, 0 to 7\n",
      "Data columns (total 5 columns):\n",
      " #   Column             Non-Null Count  Dtype  \n",
      "---  ------             --------------  -----  \n",
      " 0   Timestamp          8 non-null      object \n",
      " 1   Reactor Type       7 non-null      object \n",
      " 2   Temperature [C]    7 non-null      float64\n",
      " 3   Pressure [bar]     7 non-null      float64\n",
      " 4   Flow Rate [l/min]  7 non-null      float64\n",
      "dtypes: float64(3), object(2)\n",
      "memory usage: 452.0+ bytes\n"
     ]
    }
   ],
   "source": [
    "# get more info about the data\n",
    "df.info()"
   ]
  },
  {
   "cell_type": "code",
   "execution_count": 4,
   "metadata": {},
   "outputs": [
    {
     "data": {
      "text/plain": [
       "Timestamp            0\n",
       "Reactor Type         1\n",
       "Temperature [C]      1\n",
       "Pressure [bar]       1\n",
       "Flow Rate [l/min]    1\n",
       "dtype: int64"
      ]
     },
     "execution_count": 4,
     "metadata": {},
     "output_type": "execute_result"
    }
   ],
   "source": [
    "# find the number of missing values in each column\n",
    "df.isna().sum()"
   ]
  },
  {
   "cell_type": "markdown",
   "metadata": {},
   "source": [
    "Drop rows with \"NaN\" from certain columns"
   ]
  },
  {
   "cell_type": "code",
   "execution_count": 5,
   "metadata": {},
   "outputs": [
    {
     "data": {
      "text/html": [
       "<div>\n",
       "<style scoped>\n",
       "    .dataframe tbody tr th:only-of-type {\n",
       "        vertical-align: middle;\n",
       "    }\n",
       "\n",
       "    .dataframe tbody tr th {\n",
       "        vertical-align: top;\n",
       "    }\n",
       "\n",
       "    .dataframe thead th {\n",
       "        text-align: right;\n",
       "    }\n",
       "</style>\n",
       "<table border=\"1\" class=\"dataframe\">\n",
       "  <thead>\n",
       "    <tr style=\"text-align: right;\">\n",
       "      <th></th>\n",
       "      <th>Timestamp</th>\n",
       "      <th>Reactor Type</th>\n",
       "      <th>Temperature [C]</th>\n",
       "      <th>Pressure [bar]</th>\n",
       "      <th>Flow Rate [l/min]</th>\n",
       "    </tr>\n",
       "  </thead>\n",
       "  <tbody>\n",
       "    <tr>\n",
       "      <th>0</th>\n",
       "      <td>2023-10-21 10:00:00</td>\n",
       "      <td>CSTR</td>\n",
       "      <td>75.0</td>\n",
       "      <td>10.0</td>\n",
       "      <td>50.0</td>\n",
       "    </tr>\n",
       "    <tr>\n",
       "      <th>1</th>\n",
       "      <td>2023-10-21 10:00:00</td>\n",
       "      <td>CSTR</td>\n",
       "      <td>75.0</td>\n",
       "      <td>10.0</td>\n",
       "      <td>50.0</td>\n",
       "    </tr>\n",
       "    <tr>\n",
       "      <th>2</th>\n",
       "      <td>2023-10-21 10:00:05</td>\n",
       "      <td>CSTR</td>\n",
       "      <td>76.0</td>\n",
       "      <td>10.1</td>\n",
       "      <td>51.0</td>\n",
       "    </tr>\n",
       "    <tr>\n",
       "      <th>4</th>\n",
       "      <td>2023-10-21 10:00:15</td>\n",
       "      <td>PFR</td>\n",
       "      <td>NaN</td>\n",
       "      <td>17.0</td>\n",
       "      <td>60.0</td>\n",
       "    </tr>\n",
       "    <tr>\n",
       "      <th>5</th>\n",
       "      <td>2023-10-21 10:00:20</td>\n",
       "      <td>Tubular</td>\n",
       "      <td>78.0</td>\n",
       "      <td>17.0</td>\n",
       "      <td>60.0</td>\n",
       "    </tr>\n",
       "    <tr>\n",
       "      <th>6</th>\n",
       "      <td>2023-10-21 10:00:25</td>\n",
       "      <td>NaN</td>\n",
       "      <td>79.0</td>\n",
       "      <td>NaN</td>\n",
       "      <td>61.0</td>\n",
       "    </tr>\n",
       "    <tr>\n",
       "      <th>7</th>\n",
       "      <td>2023-10-21 10:00:30</td>\n",
       "      <td>MFR</td>\n",
       "      <td>80.0</td>\n",
       "      <td>18.0</td>\n",
       "      <td>62.0</td>\n",
       "    </tr>\n",
       "  </tbody>\n",
       "</table>\n",
       "</div>"
      ],
      "text/plain": [
       "             Timestamp Reactor Type  Temperature [C]  Pressure [bar]  \\\n",
       "0  2023-10-21 10:00:00         CSTR             75.0            10.0   \n",
       "1  2023-10-21 10:00:00         CSTR             75.0            10.0   \n",
       "2  2023-10-21 10:00:05         CSTR             76.0            10.1   \n",
       "4  2023-10-21 10:00:15          PFR              NaN            17.0   \n",
       "5  2023-10-21 10:00:20      Tubular             78.0            17.0   \n",
       "6  2023-10-21 10:00:25          NaN             79.0             NaN   \n",
       "7  2023-10-21 10:00:30          MFR             80.0            18.0   \n",
       "\n",
       "   Flow Rate [l/min]  \n",
       "0               50.0  \n",
       "1               50.0  \n",
       "2               51.0  \n",
       "4               60.0  \n",
       "5               60.0  \n",
       "6               61.0  \n",
       "7               62.0  "
      ]
     },
     "execution_count": 5,
     "metadata": {},
     "output_type": "execute_result"
    }
   ],
   "source": [
    "# drop the rows with missing values\n",
    "df.dropna(subset=['Flow Rate [l/min]'], inplace=True)\n",
    "df"
   ]
  },
  {
   "cell_type": "markdown",
   "metadata": {},
   "source": [
    "Replace \"NaN\" by the mean for numeric data"
   ]
  },
  {
   "cell_type": "code",
   "execution_count": 6,
   "metadata": {},
   "outputs": [
    {
     "name": "stdout",
     "output_type": "stream",
     "text": [
      "77.16666666666667\n"
     ]
    },
    {
     "data": {
      "text/html": [
       "<div>\n",
       "<style scoped>\n",
       "    .dataframe tbody tr th:only-of-type {\n",
       "        vertical-align: middle;\n",
       "    }\n",
       "\n",
       "    .dataframe tbody tr th {\n",
       "        vertical-align: top;\n",
       "    }\n",
       "\n",
       "    .dataframe thead th {\n",
       "        text-align: right;\n",
       "    }\n",
       "</style>\n",
       "<table border=\"1\" class=\"dataframe\">\n",
       "  <thead>\n",
       "    <tr style=\"text-align: right;\">\n",
       "      <th></th>\n",
       "      <th>Timestamp</th>\n",
       "      <th>Reactor Type</th>\n",
       "      <th>Temperature [C]</th>\n",
       "      <th>Pressure [bar]</th>\n",
       "      <th>Flow Rate [l/min]</th>\n",
       "    </tr>\n",
       "  </thead>\n",
       "  <tbody>\n",
       "    <tr>\n",
       "      <th>0</th>\n",
       "      <td>2023-10-21 10:00:00</td>\n",
       "      <td>CSTR</td>\n",
       "      <td>75.000000</td>\n",
       "      <td>10.0</td>\n",
       "      <td>50.0</td>\n",
       "    </tr>\n",
       "    <tr>\n",
       "      <th>1</th>\n",
       "      <td>2023-10-21 10:00:00</td>\n",
       "      <td>CSTR</td>\n",
       "      <td>75.000000</td>\n",
       "      <td>10.0</td>\n",
       "      <td>50.0</td>\n",
       "    </tr>\n",
       "    <tr>\n",
       "      <th>2</th>\n",
       "      <td>2023-10-21 10:00:05</td>\n",
       "      <td>CSTR</td>\n",
       "      <td>76.000000</td>\n",
       "      <td>10.1</td>\n",
       "      <td>51.0</td>\n",
       "    </tr>\n",
       "    <tr>\n",
       "      <th>4</th>\n",
       "      <td>2023-10-21 10:00:15</td>\n",
       "      <td>PFR</td>\n",
       "      <td>77.166667</td>\n",
       "      <td>17.0</td>\n",
       "      <td>60.0</td>\n",
       "    </tr>\n",
       "    <tr>\n",
       "      <th>5</th>\n",
       "      <td>2023-10-21 10:00:20</td>\n",
       "      <td>Tubular</td>\n",
       "      <td>78.000000</td>\n",
       "      <td>17.0</td>\n",
       "      <td>60.0</td>\n",
       "    </tr>\n",
       "    <tr>\n",
       "      <th>6</th>\n",
       "      <td>2023-10-21 10:00:25</td>\n",
       "      <td>NaN</td>\n",
       "      <td>79.000000</td>\n",
       "      <td>NaN</td>\n",
       "      <td>61.0</td>\n",
       "    </tr>\n",
       "    <tr>\n",
       "      <th>7</th>\n",
       "      <td>2023-10-21 10:00:30</td>\n",
       "      <td>MFR</td>\n",
       "      <td>80.000000</td>\n",
       "      <td>18.0</td>\n",
       "      <td>62.0</td>\n",
       "    </tr>\n",
       "  </tbody>\n",
       "</table>\n",
       "</div>"
      ],
      "text/plain": [
       "             Timestamp Reactor Type  Temperature [C]  Pressure [bar]  \\\n",
       "0  2023-10-21 10:00:00         CSTR        75.000000            10.0   \n",
       "1  2023-10-21 10:00:00         CSTR        75.000000            10.0   \n",
       "2  2023-10-21 10:00:05         CSTR        76.000000            10.1   \n",
       "4  2023-10-21 10:00:15          PFR        77.166667            17.0   \n",
       "5  2023-10-21 10:00:20      Tubular        78.000000            17.0   \n",
       "6  2023-10-21 10:00:25          NaN        79.000000             NaN   \n",
       "7  2023-10-21 10:00:30          MFR        80.000000            18.0   \n",
       "\n",
       "   Flow Rate [l/min]  \n",
       "0               50.0  \n",
       "1               50.0  \n",
       "2               51.0  \n",
       "4               60.0  \n",
       "5               60.0  \n",
       "6               61.0  \n",
       "7               62.0  "
      ]
     },
     "execution_count": 6,
     "metadata": {},
     "output_type": "execute_result"
    }
   ],
   "source": [
    "# replace the missing values with the mean of the column\n",
    "avg_temp = df['Temperature [C]'].mean()\n",
    "print(avg_temp)\n",
    "df['Temperature [C]'].fillna(avg_temp, inplace=True)\n",
    "\n",
    "df"
   ]
  },
  {
   "cell_type": "code",
   "execution_count": 7,
   "metadata": {},
   "outputs": [
    {
     "data": {
      "text/html": [
       "<div>\n",
       "<style scoped>\n",
       "    .dataframe tbody tr th:only-of-type {\n",
       "        vertical-align: middle;\n",
       "    }\n",
       "\n",
       "    .dataframe tbody tr th {\n",
       "        vertical-align: top;\n",
       "    }\n",
       "\n",
       "    .dataframe thead th {\n",
       "        text-align: right;\n",
       "    }\n",
       "</style>\n",
       "<table border=\"1\" class=\"dataframe\">\n",
       "  <thead>\n",
       "    <tr style=\"text-align: right;\">\n",
       "      <th></th>\n",
       "      <th>Timestamp</th>\n",
       "      <th>Reactor Type</th>\n",
       "      <th>Temperature [C]</th>\n",
       "      <th>Pressure [bar]</th>\n",
       "      <th>Flow Rate [l/min]</th>\n",
       "    </tr>\n",
       "  </thead>\n",
       "  <tbody>\n",
       "    <tr>\n",
       "      <th>0</th>\n",
       "      <td>2023-10-21 10:00:00</td>\n",
       "      <td>CSTR</td>\n",
       "      <td>75.000000</td>\n",
       "      <td>10.0</td>\n",
       "      <td>50.0</td>\n",
       "    </tr>\n",
       "    <tr>\n",
       "      <th>1</th>\n",
       "      <td>2023-10-21 10:00:00</td>\n",
       "      <td>CSTR</td>\n",
       "      <td>75.000000</td>\n",
       "      <td>10.0</td>\n",
       "      <td>50.0</td>\n",
       "    </tr>\n",
       "    <tr>\n",
       "      <th>2</th>\n",
       "      <td>2023-10-21 10:00:05</td>\n",
       "      <td>CSTR</td>\n",
       "      <td>76.000000</td>\n",
       "      <td>10.1</td>\n",
       "      <td>51.0</td>\n",
       "    </tr>\n",
       "    <tr>\n",
       "      <th>4</th>\n",
       "      <td>2023-10-21 10:00:15</td>\n",
       "      <td>PFR</td>\n",
       "      <td>77.166667</td>\n",
       "      <td>17.0</td>\n",
       "      <td>60.0</td>\n",
       "    </tr>\n",
       "    <tr>\n",
       "      <th>5</th>\n",
       "      <td>2023-10-21 10:00:20</td>\n",
       "      <td>Tubular</td>\n",
       "      <td>78.000000</td>\n",
       "      <td>17.0</td>\n",
       "      <td>60.0</td>\n",
       "    </tr>\n",
       "    <tr>\n",
       "      <th>6</th>\n",
       "      <td>2023-10-21 10:00:25</td>\n",
       "      <td>NaN</td>\n",
       "      <td>79.000000</td>\n",
       "      <td>17.5</td>\n",
       "      <td>61.0</td>\n",
       "    </tr>\n",
       "    <tr>\n",
       "      <th>7</th>\n",
       "      <td>2023-10-21 10:00:30</td>\n",
       "      <td>MFR</td>\n",
       "      <td>80.000000</td>\n",
       "      <td>18.0</td>\n",
       "      <td>62.0</td>\n",
       "    </tr>\n",
       "  </tbody>\n",
       "</table>\n",
       "</div>"
      ],
      "text/plain": [
       "             Timestamp Reactor Type  Temperature [C]  Pressure [bar]  \\\n",
       "0  2023-10-21 10:00:00         CSTR        75.000000            10.0   \n",
       "1  2023-10-21 10:00:00         CSTR        75.000000            10.0   \n",
       "2  2023-10-21 10:00:05         CSTR        76.000000            10.1   \n",
       "4  2023-10-21 10:00:15          PFR        77.166667            17.0   \n",
       "5  2023-10-21 10:00:20      Tubular        78.000000            17.0   \n",
       "6  2023-10-21 10:00:25          NaN        79.000000            17.5   \n",
       "7  2023-10-21 10:00:30          MFR        80.000000            18.0   \n",
       "\n",
       "   Flow Rate [l/min]  \n",
       "0               50.0  \n",
       "1               50.0  \n",
       "2               51.0  \n",
       "4               60.0  \n",
       "5               60.0  \n",
       "6               61.0  \n",
       "7               62.0  "
      ]
     },
     "execution_count": 7,
     "metadata": {},
     "output_type": "execute_result"
    }
   ],
   "source": [
    "\n",
    "# impute missing values using interpolation\n",
    "df['Pressure [bar]'].interpolate(method='linear', inplace=True)\n",
    "\n",
    "df\n"
   ]
  },
  {
   "cell_type": "markdown",
   "metadata": {},
   "source": [
    "Replace \"NaN\" by the mode (for categorical data)"
   ]
  },
  {
   "cell_type": "code",
   "execution_count": 8,
   "metadata": {},
   "outputs": [
    {
     "data": {
      "text/plain": [
       "Reactor Type\n",
       "CSTR       3\n",
       "PFR        1\n",
       "Tubular    1\n",
       "MFR        1\n",
       "Name: count, dtype: int64"
      ]
     },
     "execution_count": 8,
     "metadata": {},
     "output_type": "execute_result"
    }
   ],
   "source": [
    "# find the unique values in the column\n",
    "df['Reactor Type'].value_counts()"
   ]
  },
  {
   "cell_type": "code",
   "execution_count": 9,
   "metadata": {},
   "outputs": [
    {
     "data": {
      "text/plain": [
       "'CSTR'"
      ]
     },
     "execution_count": 9,
     "metadata": {},
     "output_type": "execute_result"
    }
   ],
   "source": [
    "# replace the missing values with the most frequent value\n",
    "mode_type = df['Reactor Type'].mode()[0]\n",
    "mode_type"
   ]
  },
  {
   "cell_type": "code",
   "execution_count": 10,
   "metadata": {},
   "outputs": [
    {
     "data": {
      "text/html": [
       "<div>\n",
       "<style scoped>\n",
       "    .dataframe tbody tr th:only-of-type {\n",
       "        vertical-align: middle;\n",
       "    }\n",
       "\n",
       "    .dataframe tbody tr th {\n",
       "        vertical-align: top;\n",
       "    }\n",
       "\n",
       "    .dataframe thead th {\n",
       "        text-align: right;\n",
       "    }\n",
       "</style>\n",
       "<table border=\"1\" class=\"dataframe\">\n",
       "  <thead>\n",
       "    <tr style=\"text-align: right;\">\n",
       "      <th></th>\n",
       "      <th>Timestamp</th>\n",
       "      <th>Reactor Type</th>\n",
       "      <th>Temperature [C]</th>\n",
       "      <th>Pressure [bar]</th>\n",
       "      <th>Flow Rate [l/min]</th>\n",
       "    </tr>\n",
       "  </thead>\n",
       "  <tbody>\n",
       "    <tr>\n",
       "      <th>0</th>\n",
       "      <td>2023-10-21 10:00:00</td>\n",
       "      <td>CSTR</td>\n",
       "      <td>75.000000</td>\n",
       "      <td>10.0</td>\n",
       "      <td>50.0</td>\n",
       "    </tr>\n",
       "    <tr>\n",
       "      <th>1</th>\n",
       "      <td>2023-10-21 10:00:00</td>\n",
       "      <td>CSTR</td>\n",
       "      <td>75.000000</td>\n",
       "      <td>10.0</td>\n",
       "      <td>50.0</td>\n",
       "    </tr>\n",
       "    <tr>\n",
       "      <th>2</th>\n",
       "      <td>2023-10-21 10:00:05</td>\n",
       "      <td>CSTR</td>\n",
       "      <td>76.000000</td>\n",
       "      <td>10.1</td>\n",
       "      <td>51.0</td>\n",
       "    </tr>\n",
       "    <tr>\n",
       "      <th>4</th>\n",
       "      <td>2023-10-21 10:00:15</td>\n",
       "      <td>PFR</td>\n",
       "      <td>77.166667</td>\n",
       "      <td>17.0</td>\n",
       "      <td>60.0</td>\n",
       "    </tr>\n",
       "    <tr>\n",
       "      <th>5</th>\n",
       "      <td>2023-10-21 10:00:20</td>\n",
       "      <td>Tubular</td>\n",
       "      <td>78.000000</td>\n",
       "      <td>17.0</td>\n",
       "      <td>60.0</td>\n",
       "    </tr>\n",
       "    <tr>\n",
       "      <th>6</th>\n",
       "      <td>2023-10-21 10:00:25</td>\n",
       "      <td>CSTR</td>\n",
       "      <td>79.000000</td>\n",
       "      <td>17.5</td>\n",
       "      <td>61.0</td>\n",
       "    </tr>\n",
       "    <tr>\n",
       "      <th>7</th>\n",
       "      <td>2023-10-21 10:00:30</td>\n",
       "      <td>MFR</td>\n",
       "      <td>80.000000</td>\n",
       "      <td>18.0</td>\n",
       "      <td>62.0</td>\n",
       "    </tr>\n",
       "  </tbody>\n",
       "</table>\n",
       "</div>"
      ],
      "text/plain": [
       "             Timestamp Reactor Type  Temperature [C]  Pressure [bar]  \\\n",
       "0  2023-10-21 10:00:00         CSTR        75.000000            10.0   \n",
       "1  2023-10-21 10:00:00         CSTR        75.000000            10.0   \n",
       "2  2023-10-21 10:00:05         CSTR        76.000000            10.1   \n",
       "4  2023-10-21 10:00:15          PFR        77.166667            17.0   \n",
       "5  2023-10-21 10:00:20      Tubular        78.000000            17.0   \n",
       "6  2023-10-21 10:00:25         CSTR        79.000000            17.5   \n",
       "7  2023-10-21 10:00:30          MFR        80.000000            18.0   \n",
       "\n",
       "   Flow Rate [l/min]  \n",
       "0               50.0  \n",
       "1               50.0  \n",
       "2               51.0  \n",
       "4               60.0  \n",
       "5               60.0  \n",
       "6               61.0  \n",
       "7               62.0  "
      ]
     },
     "execution_count": 10,
     "metadata": {},
     "output_type": "execute_result"
    }
   ],
   "source": [
    "df['Reactor Type'].fillna(mode_type, inplace=True)\n",
    "df"
   ]
  },
  {
   "cell_type": "markdown",
   "metadata": {},
   "source": [
    "<h5 id=\"clean-duplicates\">Remove duplicates</h5>"
   ]
  },
  {
   "cell_type": "code",
   "execution_count": 11,
   "metadata": {},
   "outputs": [
    {
     "data": {
      "text/plain": [
       "1"
      ]
     },
     "execution_count": 11,
     "metadata": {},
     "output_type": "execute_result"
    }
   ],
   "source": [
    "# find the number of duplicate rows\n",
    "df.duplicated().sum()"
   ]
  },
  {
   "cell_type": "code",
   "execution_count": 12,
   "metadata": {},
   "outputs": [
    {
     "data": {
      "text/html": [
       "<div>\n",
       "<style scoped>\n",
       "    .dataframe tbody tr th:only-of-type {\n",
       "        vertical-align: middle;\n",
       "    }\n",
       "\n",
       "    .dataframe tbody tr th {\n",
       "        vertical-align: top;\n",
       "    }\n",
       "\n",
       "    .dataframe thead th {\n",
       "        text-align: right;\n",
       "    }\n",
       "</style>\n",
       "<table border=\"1\" class=\"dataframe\">\n",
       "  <thead>\n",
       "    <tr style=\"text-align: right;\">\n",
       "      <th></th>\n",
       "      <th>Timestamp</th>\n",
       "      <th>Reactor Type</th>\n",
       "      <th>Temperature [C]</th>\n",
       "      <th>Pressure [bar]</th>\n",
       "      <th>Flow Rate [l/min]</th>\n",
       "    </tr>\n",
       "  </thead>\n",
       "  <tbody>\n",
       "    <tr>\n",
       "      <th>0</th>\n",
       "      <td>2023-10-21 10:00:00</td>\n",
       "      <td>CSTR</td>\n",
       "      <td>75.000000</td>\n",
       "      <td>10.0</td>\n",
       "      <td>50.0</td>\n",
       "    </tr>\n",
       "    <tr>\n",
       "      <th>2</th>\n",
       "      <td>2023-10-21 10:00:05</td>\n",
       "      <td>CSTR</td>\n",
       "      <td>76.000000</td>\n",
       "      <td>10.1</td>\n",
       "      <td>51.0</td>\n",
       "    </tr>\n",
       "    <tr>\n",
       "      <th>4</th>\n",
       "      <td>2023-10-21 10:00:15</td>\n",
       "      <td>PFR</td>\n",
       "      <td>77.166667</td>\n",
       "      <td>17.0</td>\n",
       "      <td>60.0</td>\n",
       "    </tr>\n",
       "    <tr>\n",
       "      <th>5</th>\n",
       "      <td>2023-10-21 10:00:20</td>\n",
       "      <td>Tubular</td>\n",
       "      <td>78.000000</td>\n",
       "      <td>17.0</td>\n",
       "      <td>60.0</td>\n",
       "    </tr>\n",
       "    <tr>\n",
       "      <th>6</th>\n",
       "      <td>2023-10-21 10:00:25</td>\n",
       "      <td>CSTR</td>\n",
       "      <td>79.000000</td>\n",
       "      <td>17.5</td>\n",
       "      <td>61.0</td>\n",
       "    </tr>\n",
       "    <tr>\n",
       "      <th>7</th>\n",
       "      <td>2023-10-21 10:00:30</td>\n",
       "      <td>MFR</td>\n",
       "      <td>80.000000</td>\n",
       "      <td>18.0</td>\n",
       "      <td>62.0</td>\n",
       "    </tr>\n",
       "  </tbody>\n",
       "</table>\n",
       "</div>"
      ],
      "text/plain": [
       "             Timestamp Reactor Type  Temperature [C]  Pressure [bar]  \\\n",
       "0  2023-10-21 10:00:00         CSTR        75.000000            10.0   \n",
       "2  2023-10-21 10:00:05         CSTR        76.000000            10.1   \n",
       "4  2023-10-21 10:00:15          PFR        77.166667            17.0   \n",
       "5  2023-10-21 10:00:20      Tubular        78.000000            17.0   \n",
       "6  2023-10-21 10:00:25         CSTR        79.000000            17.5   \n",
       "7  2023-10-21 10:00:30          MFR        80.000000            18.0   \n",
       "\n",
       "   Flow Rate [l/min]  \n",
       "0               50.0  \n",
       "2               51.0  \n",
       "4               60.0  \n",
       "5               60.0  \n",
       "6               61.0  \n",
       "7               62.0  "
      ]
     },
     "execution_count": 12,
     "metadata": {},
     "output_type": "execute_result"
    }
   ],
   "source": [
    "# drop the duplicate rows\n",
    "df.drop_duplicates(inplace=True)\n",
    "df"
   ]
  },
  {
   "cell_type": "markdown",
   "metadata": {},
   "source": [
    "<h5 id=\"clean-standardize\">Standardize data</h5>"
   ]
  },
  {
   "cell_type": "code",
   "execution_count": 13,
   "metadata": {},
   "outputs": [
    {
     "name": "stdout",
     "output_type": "stream",
     "text": [
      "<class 'pandas.core.frame.DataFrame'>\n",
      "Index: 6 entries, 0 to 7\n",
      "Data columns (total 5 columns):\n",
      " #   Column             Non-Null Count  Dtype         \n",
      "---  ------             --------------  -----         \n",
      " 0   Timestamp          6 non-null      datetime64[ns]\n",
      " 1   Reactor Type       6 non-null      object        \n",
      " 2   Temperature [C]    6 non-null      float64       \n",
      " 3   Pressure [bar]     6 non-null      float64       \n",
      " 4   Flow Rate [l/min]  6 non-null      float64       \n",
      "dtypes: datetime64[ns](1), float64(3), object(1)\n",
      "memory usage: 288.0+ bytes\n"
     ]
    }
   ],
   "source": [
    "# convert column to float\n",
    "df['Temperature [C]'] = df['Temperature [C]'].astype('float64')\n",
    "\n",
    "# convert multilple columns to float\n",
    "df[['Pressure [bar]', 'Flow Rate [l/min]']] = df[['Pressure [bar]', 'Flow Rate [l/min]']].astype('float64')\n",
    "\n",
    "# convert column to datetime\n",
    "df['Timestamp'] = pd.to_datetime(df['Timestamp'])\n",
    "\n",
    "df.info()"
   ]
  },
  {
   "cell_type": "code",
   "execution_count": 14,
   "metadata": {},
   "outputs": [
    {
     "data": {
      "text/html": [
       "<div>\n",
       "<style scoped>\n",
       "    .dataframe tbody tr th:only-of-type {\n",
       "        vertical-align: middle;\n",
       "    }\n",
       "\n",
       "    .dataframe tbody tr th {\n",
       "        vertical-align: top;\n",
       "    }\n",
       "\n",
       "    .dataframe thead th {\n",
       "        text-align: right;\n",
       "    }\n",
       "</style>\n",
       "<table border=\"1\" class=\"dataframe\">\n",
       "  <thead>\n",
       "    <tr style=\"text-align: right;\">\n",
       "      <th></th>\n",
       "      <th>Timestamp</th>\n",
       "      <th>Reactor Type</th>\n",
       "      <th>Temperature [C]</th>\n",
       "      <th>Pressure [bar]</th>\n",
       "      <th>Flow Rate [l/min]</th>\n",
       "    </tr>\n",
       "  </thead>\n",
       "  <tbody>\n",
       "    <tr>\n",
       "      <th>0</th>\n",
       "      <td>2023-10-21 10:00:00</td>\n",
       "      <td>CSTR</td>\n",
       "      <td>75.000000</td>\n",
       "      <td>10.0</td>\n",
       "      <td>50.0</td>\n",
       "    </tr>\n",
       "    <tr>\n",
       "      <th>2</th>\n",
       "      <td>2023-10-21 10:00:05</td>\n",
       "      <td>CSTR</td>\n",
       "      <td>76.000000</td>\n",
       "      <td>10.1</td>\n",
       "      <td>51.0</td>\n",
       "    </tr>\n",
       "    <tr>\n",
       "      <th>4</th>\n",
       "      <td>2023-10-21 10:00:15</td>\n",
       "      <td>PFR</td>\n",
       "      <td>77.166667</td>\n",
       "      <td>17.0</td>\n",
       "      <td>60.0</td>\n",
       "    </tr>\n",
       "    <tr>\n",
       "      <th>5</th>\n",
       "      <td>2023-10-21 10:00:20</td>\n",
       "      <td>PFR</td>\n",
       "      <td>78.000000</td>\n",
       "      <td>17.0</td>\n",
       "      <td>60.0</td>\n",
       "    </tr>\n",
       "    <tr>\n",
       "      <th>6</th>\n",
       "      <td>2023-10-21 10:00:25</td>\n",
       "      <td>CSTR</td>\n",
       "      <td>79.000000</td>\n",
       "      <td>17.5</td>\n",
       "      <td>61.0</td>\n",
       "    </tr>\n",
       "    <tr>\n",
       "      <th>7</th>\n",
       "      <td>2023-10-21 10:00:30</td>\n",
       "      <td>CSTR</td>\n",
       "      <td>80.000000</td>\n",
       "      <td>18.0</td>\n",
       "      <td>62.0</td>\n",
       "    </tr>\n",
       "  </tbody>\n",
       "</table>\n",
       "</div>"
      ],
      "text/plain": [
       "            Timestamp Reactor Type  Temperature [C]  Pressure [bar]  \\\n",
       "0 2023-10-21 10:00:00         CSTR        75.000000            10.0   \n",
       "2 2023-10-21 10:00:05         CSTR        76.000000            10.1   \n",
       "4 2023-10-21 10:00:15          PFR        77.166667            17.0   \n",
       "5 2023-10-21 10:00:20          PFR        78.000000            17.0   \n",
       "6 2023-10-21 10:00:25         CSTR        79.000000            17.5   \n",
       "7 2023-10-21 10:00:30         CSTR        80.000000            18.0   \n",
       "\n",
       "   Flow Rate [l/min]  \n",
       "0               50.0  \n",
       "2               51.0  \n",
       "4               60.0  \n",
       "5               60.0  \n",
       "6               61.0  \n",
       "7               62.0  "
      ]
     },
     "execution_count": 14,
     "metadata": {},
     "output_type": "execute_result"
    }
   ],
   "source": [
    "# standardize the values in a column\n",
    "df['Reactor Type'] = df['Reactor Type'].replace('Tubular', 'PFR')\n",
    "df['Reactor Type'] = df['Reactor Type'].replace('MFR', 'CSTR')\n",
    "\n",
    "# we can also use a dictionary to replace multiple values at once\n",
    "df['Reactor Type'] = df['Reactor Type'].replace({\n",
    "    'Tubular': 'PFR',\n",
    "    'MFR': 'CSTR',\n",
    "})\n",
    "df"
   ]
  },
  {
   "cell_type": "code",
   "execution_count": 15,
   "metadata": {},
   "outputs": [
    {
     "data": {
      "text/html": [
       "<div>\n",
       "<style scoped>\n",
       "    .dataframe tbody tr th:only-of-type {\n",
       "        vertical-align: middle;\n",
       "    }\n",
       "\n",
       "    .dataframe tbody tr th {\n",
       "        vertical-align: top;\n",
       "    }\n",
       "\n",
       "    .dataframe thead th {\n",
       "        text-align: right;\n",
       "    }\n",
       "</style>\n",
       "<table border=\"1\" class=\"dataframe\">\n",
       "  <thead>\n",
       "    <tr style=\"text-align: right;\">\n",
       "      <th></th>\n",
       "      <th>Timestamp</th>\n",
       "      <th>Reactor Type</th>\n",
       "      <th>Temperature [K]</th>\n",
       "      <th>Pressure [bar]</th>\n",
       "      <th>Flow Rate [l/min]</th>\n",
       "    </tr>\n",
       "  </thead>\n",
       "  <tbody>\n",
       "    <tr>\n",
       "      <th>0</th>\n",
       "      <td>2023-10-21 10:00:00</td>\n",
       "      <td>CSTR</td>\n",
       "      <td>348.000000</td>\n",
       "      <td>10.0</td>\n",
       "      <td>50.0</td>\n",
       "    </tr>\n",
       "    <tr>\n",
       "      <th>2</th>\n",
       "      <td>2023-10-21 10:00:05</td>\n",
       "      <td>CSTR</td>\n",
       "      <td>349.000000</td>\n",
       "      <td>10.1</td>\n",
       "      <td>51.0</td>\n",
       "    </tr>\n",
       "    <tr>\n",
       "      <th>4</th>\n",
       "      <td>2023-10-21 10:00:15</td>\n",
       "      <td>PFR</td>\n",
       "      <td>350.166667</td>\n",
       "      <td>17.0</td>\n",
       "      <td>60.0</td>\n",
       "    </tr>\n",
       "    <tr>\n",
       "      <th>5</th>\n",
       "      <td>2023-10-21 10:00:20</td>\n",
       "      <td>PFR</td>\n",
       "      <td>351.000000</td>\n",
       "      <td>17.0</td>\n",
       "      <td>60.0</td>\n",
       "    </tr>\n",
       "    <tr>\n",
       "      <th>6</th>\n",
       "      <td>2023-10-21 10:00:25</td>\n",
       "      <td>CSTR</td>\n",
       "      <td>352.000000</td>\n",
       "      <td>17.5</td>\n",
       "      <td>61.0</td>\n",
       "    </tr>\n",
       "    <tr>\n",
       "      <th>7</th>\n",
       "      <td>2023-10-21 10:00:30</td>\n",
       "      <td>CSTR</td>\n",
       "      <td>353.000000</td>\n",
       "      <td>18.0</td>\n",
       "      <td>62.0</td>\n",
       "    </tr>\n",
       "  </tbody>\n",
       "</table>\n",
       "</div>"
      ],
      "text/plain": [
       "            Timestamp Reactor Type  Temperature [K]  Pressure [bar]  \\\n",
       "0 2023-10-21 10:00:00         CSTR       348.000000            10.0   \n",
       "2 2023-10-21 10:00:05         CSTR       349.000000            10.1   \n",
       "4 2023-10-21 10:00:15          PFR       350.166667            17.0   \n",
       "5 2023-10-21 10:00:20          PFR       351.000000            17.0   \n",
       "6 2023-10-21 10:00:25         CSTR       352.000000            17.5   \n",
       "7 2023-10-21 10:00:30         CSTR       353.000000            18.0   \n",
       "\n",
       "   Flow Rate [l/min]  \n",
       "0               50.0  \n",
       "2               51.0  \n",
       "4               60.0  \n",
       "5               60.0  \n",
       "6               61.0  \n",
       "7               62.0  "
      ]
     },
     "execution_count": 15,
     "metadata": {},
     "output_type": "execute_result"
    }
   ],
   "source": [
    "# apply a function to a column       \n",
    "df['Temperature [C]'] = df['Temperature [C]'].apply(lambda x: x + 273)\n",
    "df.rename(columns={'Temperature [C]': 'Temperature [K]'}, inplace=True)\n",
    "df"
   ]
  },
  {
   "cell_type": "markdown",
   "metadata": {},
   "source": [
    "<hr id=\"validate\">\n",
    "\n",
    "<h2>3. Validate cleaned data</h2>"
   ]
  },
  {
   "cell_type": "code",
   "execution_count": 16,
   "metadata": {},
   "outputs": [
    {
     "data": {
      "text/plain": [
       "Timestamp            datetime64[ns]\n",
       "Reactor Type                 object\n",
       "Temperature [K]             float64\n",
       "Pressure [bar]              float64\n",
       "Flow Rate [l/min]           float64\n",
       "dtype: object"
      ]
     },
     "execution_count": 16,
     "metadata": {},
     "output_type": "execute_result"
    }
   ],
   "source": [
    "# check data types\n",
    "df.dtypes"
   ]
  },
  {
   "cell_type": "code",
   "execution_count": 17,
   "metadata": {},
   "outputs": [
    {
     "data": {
      "text/plain": [
       "Timestamp            0\n",
       "Reactor Type         0\n",
       "Temperature [K]      0\n",
       "Pressure [bar]       0\n",
       "Flow Rate [l/min]    0\n",
       "dtype: int64"
      ]
     },
     "execution_count": 17,
     "metadata": {},
     "output_type": "execute_result"
    }
   ],
   "source": [
    "# check for missing values\n",
    "df.isna().sum()"
   ]
  },
  {
   "cell_type": "markdown",
   "metadata": {},
   "source": [
    "**OR** we can use the `info()` method to check the 2 steps above at the same time"
   ]
  },
  {
   "cell_type": "code",
   "execution_count": 18,
   "metadata": {},
   "outputs": [
    {
     "name": "stdout",
     "output_type": "stream",
     "text": [
      "<class 'pandas.core.frame.DataFrame'>\n",
      "Index: 6 entries, 0 to 7\n",
      "Data columns (total 5 columns):\n",
      " #   Column             Non-Null Count  Dtype         \n",
      "---  ------             --------------  -----         \n",
      " 0   Timestamp          6 non-null      datetime64[ns]\n",
      " 1   Reactor Type       6 non-null      object        \n",
      " 2   Temperature [K]    6 non-null      float64       \n",
      " 3   Pressure [bar]     6 non-null      float64       \n",
      " 4   Flow Rate [l/min]  6 non-null      float64       \n",
      "dtypes: datetime64[ns](1), float64(3), object(1)\n",
      "memory usage: 288.0+ bytes\n"
     ]
    }
   ],
   "source": [
    "df.info()"
   ]
  },
  {
   "cell_type": "code",
   "execution_count": 19,
   "metadata": {},
   "outputs": [
    {
     "data": {
      "text/plain": [
       "0"
      ]
     },
     "execution_count": 19,
     "metadata": {},
     "output_type": "execute_result"
    }
   ],
   "source": [
    "# check for duplicates\n",
    "df.duplicated().sum()"
   ]
  },
  {
   "cell_type": "code",
   "execution_count": 20,
   "metadata": {},
   "outputs": [],
   "source": [
    "# save the cleaned data for future use\n",
    "df.to_csv('cleaned_data.csv', index=False)"
   ]
  },
  {
   "cell_type": "markdown",
   "metadata": {},
   "source": [
    "<hr id=\"outlier\">\n",
    "\n",
    "<h2>4. Outlier Detection</h2>"
   ]
  },
  {
   "cell_type": "markdown",
   "metadata": {},
   "source": [
    "<i style=\"color:yellow;\">*For the following sections, load the <code>concrete_data.csv</code> dataset.</i>"
   ]
  },
  {
   "cell_type": "code",
   "execution_count": 21,
   "metadata": {},
   "outputs": [
    {
     "name": "stdout",
     "output_type": "stream",
     "text": [
      "<class 'pandas.core.frame.DataFrame'>\n",
      "RangeIndex: 1030 entries, 0 to 1029\n",
      "Data columns (total 9 columns):\n",
      " #   Column                               Non-Null Count  Dtype  \n",
      "---  ------                               --------------  -----  \n",
      " 0   Date                                 1030 non-null   object \n",
      " 1   Cement (kg/m^3)                      1030 non-null   float64\n",
      " 2   Blast Furnace Slag (kg/m^3)          1030 non-null   float64\n",
      " 3   Fly Ash (kg/m^3)                     1030 non-null   float64\n",
      " 4   Water (kg/m^3)                       1030 non-null   float64\n",
      " 5   Superplasticizer (kg/m^3)            1030 non-null   float64\n",
      " 6   Coarse Aggregate (kg/m^3)            1030 non-null   float64\n",
      " 7   Fine Aggregate (kg/m^3)              1030 non-null   float64\n",
      " 8   Concrete compressive strength (MPa)  1030 non-null   float64\n",
      "dtypes: float64(8), object(1)\n",
      "memory usage: 72.6+ KB\n"
     ]
    }
   ],
   "source": [
    "df = pd.read_csv('concrete_data.csv')\n",
    "df.info()"
   ]
  },
  {
   "cell_type": "markdown",
   "metadata": {},
   "source": [
    "\n",
    "##### 1. **IQR Method**\n"
   ]
  },
  {
   "cell_type": "code",
   "execution_count": 22,
   "metadata": {},
   "outputs": [],
   "source": [
    "# Define a function to detect outliers using the IQR method\n",
    "def detect_outliers_iqr(data):\n",
    "    Q1 = data.quantile(0.25)\n",
    "    Q3 = data.quantile(0.75)\n",
    "    IQR = Q3 - Q1\n",
    "    # limit the lower limit to min value in the data\n",
    "    lower_bound = max(Q1 - 1.5 * IQR, data.min())\n",
    "    upper_bound = min(Q3 + 1.5 * IQR, data.max())\n",
    "    return [lower_bound, upper_bound]\n"
   ]
  },
  {
   "cell_type": "code",
   "execution_count": 23,
   "metadata": {},
   "outputs": [
    {
     "name": "stdout",
     "output_type": "stream",
     "text": [
      "Concrete compressive strength: 2.33 79.77250000000001\n"
     ]
    },
    {
     "data": {
      "text/html": [
       "<div>\n",
       "<style scoped>\n",
       "    .dataframe tbody tr th:only-of-type {\n",
       "        vertical-align: middle;\n",
       "    }\n",
       "\n",
       "    .dataframe tbody tr th {\n",
       "        vertical-align: top;\n",
       "    }\n",
       "\n",
       "    .dataframe thead th {\n",
       "        text-align: right;\n",
       "    }\n",
       "</style>\n",
       "<table border=\"1\" class=\"dataframe\">\n",
       "  <thead>\n",
       "    <tr style=\"text-align: right;\">\n",
       "      <th></th>\n",
       "      <th>Date</th>\n",
       "      <th>Cement (kg/m^3)</th>\n",
       "      <th>Blast Furnace Slag (kg/m^3)</th>\n",
       "      <th>Fly Ash (kg/m^3)</th>\n",
       "      <th>Water (kg/m^3)</th>\n",
       "      <th>Superplasticizer (kg/m^3)</th>\n",
       "      <th>Coarse Aggregate (kg/m^3)</th>\n",
       "      <th>Fine Aggregate (kg/m^3)</th>\n",
       "      <th>Concrete compressive strength (MPa)</th>\n",
       "    </tr>\n",
       "  </thead>\n",
       "  <tbody>\n",
       "    <tr>\n",
       "      <th>0</th>\n",
       "      <td>9/29/2024</td>\n",
       "      <td>540.0</td>\n",
       "      <td>0.0</td>\n",
       "      <td>0.0</td>\n",
       "      <td>162.0</td>\n",
       "      <td>2.5</td>\n",
       "      <td>1040.0</td>\n",
       "      <td>676.0</td>\n",
       "      <td>79.99</td>\n",
       "    </tr>\n",
       "    <tr>\n",
       "      <th>153</th>\n",
       "      <td>9/1/2024</td>\n",
       "      <td>323.7</td>\n",
       "      <td>282.8</td>\n",
       "      <td>0.0</td>\n",
       "      <td>183.8</td>\n",
       "      <td>10.3</td>\n",
       "      <td>942.7</td>\n",
       "      <td>659.9</td>\n",
       "      <td>80.20</td>\n",
       "    </tr>\n",
       "    <tr>\n",
       "      <th>181</th>\n",
       "      <td>7/28/2024</td>\n",
       "      <td>389.9</td>\n",
       "      <td>189.0</td>\n",
       "      <td>0.0</td>\n",
       "      <td>145.9</td>\n",
       "      <td>22.0</td>\n",
       "      <td>944.7</td>\n",
       "      <td>755.8</td>\n",
       "      <td>82.60</td>\n",
       "    </tr>\n",
       "    <tr>\n",
       "      <th>381</th>\n",
       "      <td>9/29/2024</td>\n",
       "      <td>315.0</td>\n",
       "      <td>137.0</td>\n",
       "      <td>0.0</td>\n",
       "      <td>145.0</td>\n",
       "      <td>5.9</td>\n",
       "      <td>1130.0</td>\n",
       "      <td>745.0</td>\n",
       "      <td>81.75</td>\n",
       "    </tr>\n",
       "  </tbody>\n",
       "</table>\n",
       "</div>"
      ],
      "text/plain": [
       "          Date  Cement (kg/m^3)  Blast Furnace Slag (kg/m^3)  \\\n",
       "0    9/29/2024            540.0                          0.0   \n",
       "153   9/1/2024            323.7                        282.8   \n",
       "181  7/28/2024            389.9                        189.0   \n",
       "381  9/29/2024            315.0                        137.0   \n",
       "\n",
       "     Fly Ash (kg/m^3)  Water (kg/m^3)  Superplasticizer (kg/m^3)  \\\n",
       "0                 0.0           162.0                        2.5   \n",
       "153               0.0           183.8                       10.3   \n",
       "181               0.0           145.9                       22.0   \n",
       "381               0.0           145.0                        5.9   \n",
       "\n",
       "     Coarse Aggregate (kg/m^3)  Fine Aggregate (kg/m^3)  \\\n",
       "0                       1040.0                    676.0   \n",
       "153                      942.7                    659.9   \n",
       "181                      944.7                    755.8   \n",
       "381                     1130.0                    745.0   \n",
       "\n",
       "     Concrete compressive strength (MPa)  \n",
       "0                                  79.99  \n",
       "153                                80.20  \n",
       "181                                82.60  \n",
       "381                                81.75  "
      ]
     },
     "execution_count": 23,
     "metadata": {},
     "output_type": "execute_result"
    }
   ],
   "source": [
    "\n",
    "# Apply the IQR method to the 'Concrete compressive strength (MPa)' column\n",
    "lower_strength, upper_strength = detect_outliers_iqr(df['Concrete compressive strength (MPa)'])\n",
    "print('Concrete compressive strength:', lower_strength, upper_strength)\n",
    "\n",
    "# count the number of outliers\n",
    "outliers = df[(df['Concrete compressive strength (MPa)'] < lower_strength) | (df['Concrete compressive strength (MPa)'] > upper_strength)]\n",
    "outliers"
   ]
  },
  {
   "cell_type": "code",
   "execution_count": 24,
   "metadata": {},
   "outputs": [
    {
     "name": "stdout",
     "output_type": "stream",
     "text": [
      "Cement: 102.0 540.0\n"
     ]
    },
    {
     "data": {
      "text/html": [
       "<div>\n",
       "<style scoped>\n",
       "    .dataframe tbody tr th:only-of-type {\n",
       "        vertical-align: middle;\n",
       "    }\n",
       "\n",
       "    .dataframe tbody tr th {\n",
       "        vertical-align: top;\n",
       "    }\n",
       "\n",
       "    .dataframe thead th {\n",
       "        text-align: right;\n",
       "    }\n",
       "</style>\n",
       "<table border=\"1\" class=\"dataframe\">\n",
       "  <thead>\n",
       "    <tr style=\"text-align: right;\">\n",
       "      <th></th>\n",
       "      <th>Date</th>\n",
       "      <th>Cement (kg/m^3)</th>\n",
       "      <th>Blast Furnace Slag (kg/m^3)</th>\n",
       "      <th>Fly Ash (kg/m^3)</th>\n",
       "      <th>Water (kg/m^3)</th>\n",
       "      <th>Superplasticizer (kg/m^3)</th>\n",
       "      <th>Coarse Aggregate (kg/m^3)</th>\n",
       "      <th>Fine Aggregate (kg/m^3)</th>\n",
       "      <th>Concrete compressive strength (MPa)</th>\n",
       "    </tr>\n",
       "  </thead>\n",
       "  <tbody>\n",
       "  </tbody>\n",
       "</table>\n",
       "</div>"
      ],
      "text/plain": [
       "Empty DataFrame\n",
       "Columns: [Date, Cement (kg/m^3), Blast Furnace Slag (kg/m^3), Fly Ash (kg/m^3), Water (kg/m^3), Superplasticizer (kg/m^3), Coarse Aggregate (kg/m^3), Fine Aggregate (kg/m^3), Concrete compressive strength (MPa)]\n",
       "Index: []"
      ]
     },
     "execution_count": 24,
     "metadata": {},
     "output_type": "execute_result"
    }
   ],
   "source": [
    "\n",
    "# Apply the IQR method to the 'Cement' column\n",
    "lower_cement, upper_cement = detect_outliers_iqr(df['Cement (kg/m^3)'])\n",
    "print('Cement:', lower_cement, upper_cement)\n",
    "\n",
    "# count the number of outliers\n",
    "# expected to be empty since there are no outliers in the 'Cement' column\n",
    "outliers = df[(df['Cement (kg/m^3)'] < lower_cement) | (df['Cement (kg/m^3)'] > upper_cement)]\n",
    "outliers\n"
   ]
  },
  {
   "cell_type": "markdown",
   "metadata": {},
   "source": [
    "\n",
    "##### 2. **Z-Score Method**\n"
   ]
  },
  {
   "cell_type": "code",
   "execution_count": 25,
   "metadata": {},
   "outputs": [
    {
     "data": {
      "text/html": [
       "<div>\n",
       "<style scoped>\n",
       "    .dataframe tbody tr th:only-of-type {\n",
       "        vertical-align: middle;\n",
       "    }\n",
       "\n",
       "    .dataframe tbody tr th {\n",
       "        vertical-align: top;\n",
       "    }\n",
       "\n",
       "    .dataframe thead th {\n",
       "        text-align: right;\n",
       "    }\n",
       "</style>\n",
       "<table border=\"1\" class=\"dataframe\">\n",
       "  <thead>\n",
       "    <tr style=\"text-align: right;\">\n",
       "      <th></th>\n",
       "      <th>Date</th>\n",
       "      <th>Cement (kg/m^3)</th>\n",
       "      <th>Blast Furnace Slag (kg/m^3)</th>\n",
       "      <th>Fly Ash (kg/m^3)</th>\n",
       "      <th>Water (kg/m^3)</th>\n",
       "      <th>Superplasticizer (kg/m^3)</th>\n",
       "      <th>Coarse Aggregate (kg/m^3)</th>\n",
       "      <th>Fine Aggregate (kg/m^3)</th>\n",
       "      <th>Concrete compressive strength (MPa)</th>\n",
       "    </tr>\n",
       "  </thead>\n",
       "  <tbody>\n",
       "    <tr>\n",
       "      <th>76</th>\n",
       "      <td>10/24/2024</td>\n",
       "      <td>469.0</td>\n",
       "      <td>117.2</td>\n",
       "      <td>0.0</td>\n",
       "      <td>137.8</td>\n",
       "      <td>32.2</td>\n",
       "      <td>852.1</td>\n",
       "      <td>840.5</td>\n",
       "      <td>40.2</td>\n",
       "    </tr>\n",
       "    <tr>\n",
       "      <th>79</th>\n",
       "      <td>10/24/2024</td>\n",
       "      <td>531.3</td>\n",
       "      <td>0.0</td>\n",
       "      <td>0.0</td>\n",
       "      <td>141.8</td>\n",
       "      <td>28.2</td>\n",
       "      <td>852.1</td>\n",
       "      <td>893.7</td>\n",
       "      <td>41.3</td>\n",
       "    </tr>\n",
       "    <tr>\n",
       "      <th>99</th>\n",
       "      <td>10/20/2024</td>\n",
       "      <td>469.0</td>\n",
       "      <td>117.2</td>\n",
       "      <td>0.0</td>\n",
       "      <td>137.8</td>\n",
       "      <td>32.2</td>\n",
       "      <td>852.1</td>\n",
       "      <td>840.5</td>\n",
       "      <td>54.9</td>\n",
       "    </tr>\n",
       "    <tr>\n",
       "      <th>102</th>\n",
       "      <td>10/20/2024</td>\n",
       "      <td>531.3</td>\n",
       "      <td>0.0</td>\n",
       "      <td>0.0</td>\n",
       "      <td>141.8</td>\n",
       "      <td>28.2</td>\n",
       "      <td>852.1</td>\n",
       "      <td>893.7</td>\n",
       "      <td>46.9</td>\n",
       "    </tr>\n",
       "    <tr>\n",
       "      <th>122</th>\n",
       "      <td>9/29/2024</td>\n",
       "      <td>469.0</td>\n",
       "      <td>117.2</td>\n",
       "      <td>0.0</td>\n",
       "      <td>137.8</td>\n",
       "      <td>32.2</td>\n",
       "      <td>852.1</td>\n",
       "      <td>840.5</td>\n",
       "      <td>66.9</td>\n",
       "    </tr>\n",
       "    <tr>\n",
       "      <th>125</th>\n",
       "      <td>9/29/2024</td>\n",
       "      <td>531.3</td>\n",
       "      <td>0.0</td>\n",
       "      <td>0.0</td>\n",
       "      <td>141.8</td>\n",
       "      <td>28.2</td>\n",
       "      <td>852.1</td>\n",
       "      <td>893.7</td>\n",
       "      <td>56.4</td>\n",
       "    </tr>\n",
       "    <tr>\n",
       "      <th>145</th>\n",
       "      <td>9/1/2024</td>\n",
       "      <td>469.0</td>\n",
       "      <td>117.2</td>\n",
       "      <td>0.0</td>\n",
       "      <td>137.8</td>\n",
       "      <td>32.2</td>\n",
       "      <td>852.1</td>\n",
       "      <td>840.5</td>\n",
       "      <td>69.3</td>\n",
       "    </tr>\n",
       "    <tr>\n",
       "      <th>148</th>\n",
       "      <td>9/1/2024</td>\n",
       "      <td>531.3</td>\n",
       "      <td>0.0</td>\n",
       "      <td>0.0</td>\n",
       "      <td>141.8</td>\n",
       "      <td>28.2</td>\n",
       "      <td>852.1</td>\n",
       "      <td>893.7</td>\n",
       "      <td>58.8</td>\n",
       "    </tr>\n",
       "    <tr>\n",
       "      <th>168</th>\n",
       "      <td>7/28/2024</td>\n",
       "      <td>469.0</td>\n",
       "      <td>117.2</td>\n",
       "      <td>0.0</td>\n",
       "      <td>137.8</td>\n",
       "      <td>32.2</td>\n",
       "      <td>852.1</td>\n",
       "      <td>840.5</td>\n",
       "      <td>70.7</td>\n",
       "    </tr>\n",
       "    <tr>\n",
       "      <th>171</th>\n",
       "      <td>7/28/2024</td>\n",
       "      <td>531.3</td>\n",
       "      <td>0.0</td>\n",
       "      <td>0.0</td>\n",
       "      <td>141.8</td>\n",
       "      <td>28.2</td>\n",
       "      <td>852.1</td>\n",
       "      <td>893.7</td>\n",
       "      <td>59.2</td>\n",
       "    </tr>\n",
       "  </tbody>\n",
       "</table>\n",
       "</div>"
      ],
      "text/plain": [
       "           Date  Cement (kg/m^3)  Blast Furnace Slag (kg/m^3)  \\\n",
       "76   10/24/2024            469.0                        117.2   \n",
       "79   10/24/2024            531.3                          0.0   \n",
       "99   10/20/2024            469.0                        117.2   \n",
       "102  10/20/2024            531.3                          0.0   \n",
       "122   9/29/2024            469.0                        117.2   \n",
       "125   9/29/2024            531.3                          0.0   \n",
       "145    9/1/2024            469.0                        117.2   \n",
       "148    9/1/2024            531.3                          0.0   \n",
       "168   7/28/2024            469.0                        117.2   \n",
       "171   7/28/2024            531.3                          0.0   \n",
       "\n",
       "     Fly Ash (kg/m^3)  Water (kg/m^3)  Superplasticizer (kg/m^3)  \\\n",
       "76                0.0           137.8                       32.2   \n",
       "79                0.0           141.8                       28.2   \n",
       "99                0.0           137.8                       32.2   \n",
       "102               0.0           141.8                       28.2   \n",
       "122               0.0           137.8                       32.2   \n",
       "125               0.0           141.8                       28.2   \n",
       "145               0.0           137.8                       32.2   \n",
       "148               0.0           141.8                       28.2   \n",
       "168               0.0           137.8                       32.2   \n",
       "171               0.0           141.8                       28.2   \n",
       "\n",
       "     Coarse Aggregate (kg/m^3)  Fine Aggregate (kg/m^3)  \\\n",
       "76                       852.1                    840.5   \n",
       "79                       852.1                    893.7   \n",
       "99                       852.1                    840.5   \n",
       "102                      852.1                    893.7   \n",
       "122                      852.1                    840.5   \n",
       "125                      852.1                    893.7   \n",
       "145                      852.1                    840.5   \n",
       "148                      852.1                    893.7   \n",
       "168                      852.1                    840.5   \n",
       "171                      852.1                    893.7   \n",
       "\n",
       "     Concrete compressive strength (MPa)  \n",
       "76                                  40.2  \n",
       "79                                  41.3  \n",
       "99                                  54.9  \n",
       "102                                 46.9  \n",
       "122                                 66.9  \n",
       "125                                 56.4  \n",
       "145                                 69.3  \n",
       "148                                 58.8  \n",
       "168                                 70.7  \n",
       "171                                 59.2  "
      ]
     },
     "execution_count": 25,
     "metadata": {},
     "output_type": "execute_result"
    }
   ],
   "source": [
    "# Define a function to return the Z-Score\n",
    "def detect_outliers_zscore(data):\n",
    "    z = np.abs(stats.zscore(data))\n",
    "    return z\n",
    "\n",
    "# Apply the Z-Score method to the 'Superplasticizer (kg/m^3)' column\n",
    "superplasticizer_zscore = detect_outliers_zscore(df['Superplasticizer (kg/m^3)'])\n",
    "superplasticizer_outliers = df[superplasticizer_zscore > 3]\n",
    "superplasticizer_outliers"
   ]
  },
  {
   "cell_type": "markdown",
   "metadata": {},
   "source": [
    "<hr id=\"feature\">\n",
    "\n",
    "<h2>5. Feature Extraction & Engineering</h2>"
   ]
  },
  {
   "cell_type": "markdown",
   "metadata": {},
   "source": [
    "\n",
    "##### 1. **Water-to-Cement Ratio**\n"
   ]
  },
  {
   "cell_type": "code",
   "execution_count": 26,
   "metadata": {},
   "outputs": [
    {
     "name": "stdout",
     "output_type": "stream",
     "text": [
      "\n",
      "Water-to-Cement Ratio:\n"
     ]
    },
    {
     "data": {
      "text/html": [
       "<div>\n",
       "<style scoped>\n",
       "    .dataframe tbody tr th:only-of-type {\n",
       "        vertical-align: middle;\n",
       "    }\n",
       "\n",
       "    .dataframe tbody tr th {\n",
       "        vertical-align: top;\n",
       "    }\n",
       "\n",
       "    .dataframe thead th {\n",
       "        text-align: right;\n",
       "    }\n",
       "</style>\n",
       "<table border=\"1\" class=\"dataframe\">\n",
       "  <thead>\n",
       "    <tr style=\"text-align: right;\">\n",
       "      <th></th>\n",
       "      <th>Date</th>\n",
       "      <th>Cement (kg/m^3)</th>\n",
       "      <th>Blast Furnace Slag (kg/m^3)</th>\n",
       "      <th>Fly Ash (kg/m^3)</th>\n",
       "      <th>Water (kg/m^3)</th>\n",
       "      <th>Superplasticizer (kg/m^3)</th>\n",
       "      <th>Coarse Aggregate (kg/m^3)</th>\n",
       "      <th>Fine Aggregate (kg/m^3)</th>\n",
       "      <th>Concrete compressive strength (MPa)</th>\n",
       "      <th>Water-to-Cement Ratio</th>\n",
       "    </tr>\n",
       "  </thead>\n",
       "  <tbody>\n",
       "    <tr>\n",
       "      <th>0</th>\n",
       "      <td>9/29/2024</td>\n",
       "      <td>540.0</td>\n",
       "      <td>0.0</td>\n",
       "      <td>0.0</td>\n",
       "      <td>162.0</td>\n",
       "      <td>2.5</td>\n",
       "      <td>1040.0</td>\n",
       "      <td>676.0</td>\n",
       "      <td>79.99</td>\n",
       "      <td>0.300000</td>\n",
       "    </tr>\n",
       "    <tr>\n",
       "      <th>1</th>\n",
       "      <td>9/29/2024</td>\n",
       "      <td>540.0</td>\n",
       "      <td>0.0</td>\n",
       "      <td>0.0</td>\n",
       "      <td>162.0</td>\n",
       "      <td>2.5</td>\n",
       "      <td>1055.0</td>\n",
       "      <td>676.0</td>\n",
       "      <td>61.89</td>\n",
       "      <td>0.300000</td>\n",
       "    </tr>\n",
       "    <tr>\n",
       "      <th>2</th>\n",
       "      <td>1/31/2024</td>\n",
       "      <td>332.5</td>\n",
       "      <td>142.5</td>\n",
       "      <td>0.0</td>\n",
       "      <td>228.0</td>\n",
       "      <td>0.0</td>\n",
       "      <td>932.0</td>\n",
       "      <td>594.0</td>\n",
       "      <td>40.27</td>\n",
       "      <td>0.685714</td>\n",
       "    </tr>\n",
       "    <tr>\n",
       "      <th>3</th>\n",
       "      <td>10/28/2023</td>\n",
       "      <td>332.5</td>\n",
       "      <td>142.5</td>\n",
       "      <td>0.0</td>\n",
       "      <td>228.0</td>\n",
       "      <td>0.0</td>\n",
       "      <td>932.0</td>\n",
       "      <td>594.0</td>\n",
       "      <td>41.05</td>\n",
       "      <td>0.685714</td>\n",
       "    </tr>\n",
       "    <tr>\n",
       "      <th>4</th>\n",
       "      <td>11/2/2023</td>\n",
       "      <td>198.6</td>\n",
       "      <td>132.4</td>\n",
       "      <td>0.0</td>\n",
       "      <td>192.0</td>\n",
       "      <td>0.0</td>\n",
       "      <td>978.4</td>\n",
       "      <td>825.5</td>\n",
       "      <td>44.30</td>\n",
       "      <td>0.966767</td>\n",
       "    </tr>\n",
       "  </tbody>\n",
       "</table>\n",
       "</div>"
      ],
      "text/plain": [
       "         Date  Cement (kg/m^3)  Blast Furnace Slag (kg/m^3)  Fly Ash (kg/m^3)  \\\n",
       "0   9/29/2024            540.0                          0.0               0.0   \n",
       "1   9/29/2024            540.0                          0.0               0.0   \n",
       "2   1/31/2024            332.5                        142.5               0.0   \n",
       "3  10/28/2023            332.5                        142.5               0.0   \n",
       "4   11/2/2023            198.6                        132.4               0.0   \n",
       "\n",
       "   Water (kg/m^3)  Superplasticizer (kg/m^3)  Coarse Aggregate (kg/m^3)  \\\n",
       "0           162.0                        2.5                     1040.0   \n",
       "1           162.0                        2.5                     1055.0   \n",
       "2           228.0                        0.0                      932.0   \n",
       "3           228.0                        0.0                      932.0   \n",
       "4           192.0                        0.0                      978.4   \n",
       "\n",
       "   Fine Aggregate (kg/m^3)  Concrete compressive strength (MPa)  \\\n",
       "0                    676.0                                79.99   \n",
       "1                    676.0                                61.89   \n",
       "2                    594.0                                40.27   \n",
       "3                    594.0                                41.05   \n",
       "4                    825.5                                44.30   \n",
       "\n",
       "   Water-to-Cement Ratio  \n",
       "0               0.300000  \n",
       "1               0.300000  \n",
       "2               0.685714  \n",
       "3               0.685714  \n",
       "4               0.966767  "
      ]
     },
     "execution_count": 26,
     "metadata": {},
     "output_type": "execute_result"
    }
   ],
   "source": [
    "# Create a new feature: Water-to-Cement Ratio\n",
    "df['Water-to-Cement Ratio'] = df['Water (kg/m^3)'] / df['Cement (kg/m^3)']\n",
    "\n",
    "# Display the first few rows of the new feature\n",
    "print(\"\\nWater-to-Cement Ratio:\")\n",
    "df.head()"
   ]
  },
  {
   "cell_type": "markdown",
   "metadata": {},
   "source": [
    "\n",
    "##### 2. **Aggregate Ratio**\n"
   ]
  },
  {
   "cell_type": "code",
   "execution_count": 27,
   "metadata": {},
   "outputs": [
    {
     "name": "stdout",
     "output_type": "stream",
     "text": [
      "\n",
      "Aggregate Ratio:\n",
      "   Coarse Aggregate (kg/m^3)  Fine Aggregate (kg/m^3)  Aggregate Ratio\n",
      "0                     1040.0                    676.0         1.538462\n",
      "1                     1055.0                    676.0         1.560651\n",
      "2                      932.0                    594.0         1.569024\n",
      "3                      932.0                    594.0         1.569024\n",
      "4                      978.4                    825.5         1.185221\n"
     ]
    }
   ],
   "source": [
    "# Create a new feature: Aggregate Ratio (Coarse/Fine)\n",
    "df['Aggregate Ratio'] = df['Coarse Aggregate (kg/m^3)'] / df['Fine Aggregate (kg/m^3)']\n",
    "\n",
    "# Display the first few rows of the new feature\n",
    "print(\"\\nAggregate Ratio:\")\n",
    "print(df[['Coarse Aggregate (kg/m^3)', 'Fine Aggregate (kg/m^3)', 'Aggregate Ratio']].head())\n"
   ]
  },
  {
   "cell_type": "markdown",
   "metadata": {},
   "source": [
    "\n",
    "##### 3. **Age (day)**\n"
   ]
  },
  {
   "cell_type": "code",
   "execution_count": 28,
   "metadata": {},
   "outputs": [
    {
     "name": "stdout",
     "output_type": "stream",
     "text": [
      "<class 'pandas.core.frame.DataFrame'>\n",
      "RangeIndex: 1030 entries, 0 to 1029\n",
      "Data columns (total 11 columns):\n",
      " #   Column                               Non-Null Count  Dtype         \n",
      "---  ------                               --------------  -----         \n",
      " 0   Date                                 1030 non-null   datetime64[ns]\n",
      " 1   Cement (kg/m^3)                      1030 non-null   float64       \n",
      " 2   Blast Furnace Slag (kg/m^3)          1030 non-null   float64       \n",
      " 3   Fly Ash (kg/m^3)                     1030 non-null   float64       \n",
      " 4   Water (kg/m^3)                       1030 non-null   float64       \n",
      " 5   Superplasticizer (kg/m^3)            1030 non-null   float64       \n",
      " 6   Coarse Aggregate (kg/m^3)            1030 non-null   float64       \n",
      " 7   Fine Aggregate (kg/m^3)              1030 non-null   float64       \n",
      " 8   Concrete compressive strength (MPa)  1030 non-null   float64       \n",
      " 9   Water-to-Cement Ratio                1030 non-null   float64       \n",
      " 10  Aggregate Ratio                      1030 non-null   float64       \n",
      "dtypes: datetime64[ns](1), float64(10)\n",
      "memory usage: 88.6 KB\n"
     ]
    }
   ],
   "source": [
    "# Convert the 'Date' column to datetime format (assuming the column is named 'Date')\n",
    "df['Date'] = pd.to_datetime(df['Date'])\n",
    "df.info()\n"
   ]
  },
  {
   "cell_type": "code",
   "execution_count": 29,
   "metadata": {},
   "outputs": [
    {
     "name": "stdout",
     "output_type": "stream",
     "text": [
      "\n",
      "Calculated Age in Days:\n",
      "        Date  Age (day)\n",
      "0 2024-09-29         28\n",
      "1 2024-09-29         28\n",
      "2 2024-01-31        270\n",
      "3 2023-10-28        365\n",
      "4 2023-11-02        360\n"
     ]
    }
   ],
   "source": [
    "# Calculate the age in days as (today - date)\n",
    "today = datetime.today()\n",
    "df['Age (day)'] = (today - df['Date']).dt.days\n",
    "\n",
    "# Display the first few rows with the new 'Age (day)' feature\n",
    "print(\"\\nCalculated Age in Days:\")\n",
    "print(df[['Date', 'Age (day)']].head())"
   ]
  },
  {
   "cell_type": "markdown",
   "metadata": {},
   "source": [
    "#### **Summary of Feature Engineering**\n"
   ]
  },
  {
   "cell_type": "code",
   "execution_count": 30,
   "metadata": {},
   "outputs": [
    {
     "name": "stdout",
     "output_type": "stream",
     "text": [
      "\n",
      "Summary of New Features:\n",
      "       Water-to-Cement Ratio  Aggregate Ratio    Age (day)\n",
      "count            1030.000000      1030.000000  1030.000000\n",
      "mean                0.748266         1.273752    45.662136\n",
      "std                 0.314005         0.185670    63.169912\n",
      "min                 0.266893         0.858453     1.000000\n",
      "25%                 0.533333         1.121488     7.000000\n",
      "50%                 0.675349         1.266055    28.000000\n",
      "75%                 0.935165         1.358146    56.000000\n",
      "max                 1.882353         1.874876   365.000000\n"
     ]
    }
   ],
   "source": [
    "\n",
    "# Display the summary of the new features added to the DataFrame\n",
    "new_features = ['Water-to-Cement Ratio', 'Aggregate Ratio', 'Age (day)']\n",
    "print(\"\\nSummary of New Features:\")\n",
    "print(df[new_features].describe())\n"
   ]
  },
  {
   "cell_type": "markdown",
   "metadata": {},
   "source": [
    "\n",
    "### Explanation\n",
    "- **Outlier Detection**:\n",
    "  - The **IQR method** identifies outliers based on the middle spread of the data.\n",
    "  - The **Z-Score method** standardizes the data and flags values that deviate significantly from the mean.\n",
    "- **Feature Engineering**:\n",
    "  - **Water-to-Cement Ratio** and **Aggregate Ratio** represent important physical relationships in the concrete mix.\n",
    "  - **Age (day)** represents the age of the concrete mix in days.\n",
    "  - **Total Cementitious Materials** sums the cement, slag, and fly ash, providing an overall view of the binding materials."
   ]
  },
  {
   "cell_type": "markdown",
   "metadata": {},
   "source": [
    "<hr style=\"margin-top: 4rem;\">\n",
    "<h2>Author</h2>\n",
    "\n",
    "<a href=\"https://github.com/SamerHany\">Samer Hany</a>"
   ]
  },
  {
   "cell_type": "markdown",
   "metadata": {},
   "source": [
    "<h2>References</h2>\n",
    "<a href=\"https://www.w3schools.com/python/default.asp\">w3schools.com</a>"
   ]
  }
 ],
 "metadata": {
  "kernelspec": {
   "display_name": "Python 3",
   "language": "python",
   "name": "python3"
  },
  "language_info": {
   "codemirror_mode": {
    "name": "ipython",
    "version": 3
   },
   "file_extension": ".py",
   "mimetype": "text/x-python",
   "name": "python",
   "nbconvert_exporter": "python",
   "pygments_lexer": "ipython3",
   "version": "3.12.0"
  }
 },
 "nbformat": 4,
 "nbformat_minor": 4
}
