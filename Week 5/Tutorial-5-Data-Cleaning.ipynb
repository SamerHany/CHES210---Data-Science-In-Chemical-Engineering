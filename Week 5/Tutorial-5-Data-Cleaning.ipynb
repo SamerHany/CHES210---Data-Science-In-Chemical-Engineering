{
 "cells": [
  {
   "cell_type": "markdown",
   "metadata": {},
   "source": [
    "# Tutorial 5: Data Cleaning\n",
    "*Also called: data pre-processing, data wrangling*\n",
    "\n",
    "## Objectives\n",
    "\n",
    "After this tutorial you will be able to:\n",
    "\n",
    "*   Identify and handle missing values\n",
    "*   Remove duplicates\n",
    "*   Standardize data\n",
    "*   Validate the cleaned data to ensure that it is accurate and complete."
   ]
  },
  {
   "cell_type": "markdown",
   "metadata": {},
   "source": [
    "<h2>Table of Contents</h2>\n",
    "\n",
    "<ol>\n",
    "    <li>\n",
    "        <a href=\"#import\">Import the dataset</a>\n",
    "    </li>\n",
    "    <br>\n",
    "    <li>\n",
    "        <details>\n",
    "            <summary><a href=\"#clean\">Identify and handle common data cleaning problems</a></summary>\n",
    "            <ul>\n",
    "                <li><a href=\"#clean-missing\">Handle missing values</a></li>\n",
    "                <li><a href=\"#clean-duplicates\">Remove duplicates</a></li>\n",
    "                <li><a href=\"#clean-standardize\">Standardize data</a></li>\n",
    "            </ul>\n",
    "        </details>\n",
    "    </li>\n",
    "    <br>\n",
    "    <li>\n",
    "        <a href=\"#validate\">Validate cleaned data</a>\n",
    "    </li>\n",
    "    <br>    \n",
    "</ol>\n"
   ]
  },
  {
   "cell_type": "markdown",
   "metadata": {},
   "source": [
    "<hr id=\"import\">\n",
    "\n",
    "<h2>1. Import the dataset</h2>"
   ]
  },
  {
   "cell_type": "markdown",
   "metadata": {},
   "source": [
    "Import the `Pandas` library"
   ]
  },
  {
   "cell_type": "code",
   "execution_count": 1,
   "metadata": {},
   "outputs": [],
   "source": [
    "import pandas as pd"
   ]
  },
  {
   "cell_type": "markdown",
   "metadata": {},
   "source": [
    "Read the data from `data.csv` into a `Pandas DataFrame`"
   ]
  },
  {
   "cell_type": "code",
   "execution_count": 2,
   "metadata": {},
   "outputs": [
    {
     "data": {
      "text/html": [
       "<div>\n",
       "<style scoped>\n",
       "    .dataframe tbody tr th:only-of-type {\n",
       "        vertical-align: middle;\n",
       "    }\n",
       "\n",
       "    .dataframe tbody tr th {\n",
       "        vertical-align: top;\n",
       "    }\n",
       "\n",
       "    .dataframe thead th {\n",
       "        text-align: right;\n",
       "    }\n",
       "</style>\n",
       "<table border=\"1\" class=\"dataframe\">\n",
       "  <thead>\n",
       "    <tr style=\"text-align: right;\">\n",
       "      <th></th>\n",
       "      <th>Timestamp</th>\n",
       "      <th>Reactor Type</th>\n",
       "      <th>Temperature [C]</th>\n",
       "      <th>Pressure [bar]</th>\n",
       "      <th>Flow Rate [l/min]</th>\n",
       "    </tr>\n",
       "  </thead>\n",
       "  <tbody>\n",
       "    <tr>\n",
       "      <th>0</th>\n",
       "      <td>2023-10-21 10:00:00</td>\n",
       "      <td>CSTR</td>\n",
       "      <td>75.0</td>\n",
       "      <td>10.0</td>\n",
       "      <td>50.0</td>\n",
       "    </tr>\n",
       "    <tr>\n",
       "      <th>1</th>\n",
       "      <td>2023-10-21 10:00:00</td>\n",
       "      <td>CSTR</td>\n",
       "      <td>75.0</td>\n",
       "      <td>10.0</td>\n",
       "      <td>50.0</td>\n",
       "    </tr>\n",
       "    <tr>\n",
       "      <th>2</th>\n",
       "      <td>2023-10-21 10:00:05</td>\n",
       "      <td>CSTR</td>\n",
       "      <td>76.0</td>\n",
       "      <td>10.1</td>\n",
       "      <td>51.0</td>\n",
       "    </tr>\n",
       "    <tr>\n",
       "      <th>3</th>\n",
       "      <td>2023-10-21 10:00:10</td>\n",
       "      <td>PFR</td>\n",
       "      <td>77.0</td>\n",
       "      <td>10.0</td>\n",
       "      <td>NaN</td>\n",
       "    </tr>\n",
       "    <tr>\n",
       "      <th>4</th>\n",
       "      <td>2023-10-21 10:00:15</td>\n",
       "      <td>PFR</td>\n",
       "      <td>NaN</td>\n",
       "      <td>17.0</td>\n",
       "      <td>60.0</td>\n",
       "    </tr>\n",
       "    <tr>\n",
       "      <th>5</th>\n",
       "      <td>2023-10-21 10:00:20</td>\n",
       "      <td>Tubular</td>\n",
       "      <td>78.0</td>\n",
       "      <td>17.0</td>\n",
       "      <td>60.0</td>\n",
       "    </tr>\n",
       "    <tr>\n",
       "      <th>6</th>\n",
       "      <td>2023-10-21 10:00:25</td>\n",
       "      <td>NaN</td>\n",
       "      <td>79.0</td>\n",
       "      <td>17.0</td>\n",
       "      <td>61.0</td>\n",
       "    </tr>\n",
       "    <tr>\n",
       "      <th>7</th>\n",
       "      <td>2023-10-21 10:00:30</td>\n",
       "      <td>MFR</td>\n",
       "      <td>80.0</td>\n",
       "      <td>18.0</td>\n",
       "      <td>62.0</td>\n",
       "    </tr>\n",
       "  </tbody>\n",
       "</table>\n",
       "</div>"
      ],
      "text/plain": [
       "             Timestamp Reactor Type  Temperature [C]  Pressure [bar]  \\\n",
       "0  2023-10-21 10:00:00         CSTR             75.0            10.0   \n",
       "1  2023-10-21 10:00:00         CSTR             75.0            10.0   \n",
       "2  2023-10-21 10:00:05         CSTR             76.0            10.1   \n",
       "3  2023-10-21 10:00:10          PFR             77.0            10.0   \n",
       "4  2023-10-21 10:00:15          PFR              NaN            17.0   \n",
       "5  2023-10-21 10:00:20      Tubular             78.0            17.0   \n",
       "6  2023-10-21 10:00:25          NaN             79.0            17.0   \n",
       "7  2023-10-21 10:00:30          MFR             80.0            18.0   \n",
       "\n",
       "   Flow Rate [l/min]  \n",
       "0               50.0  \n",
       "1               50.0  \n",
       "2               51.0  \n",
       "3                NaN  \n",
       "4               60.0  \n",
       "5               60.0  \n",
       "6               61.0  \n",
       "7               62.0  "
      ]
     },
     "execution_count": 2,
     "metadata": {},
     "output_type": "execute_result"
    }
   ],
   "source": [
    "df = pd.read_csv('data.csv')\n",
    "df"
   ]
  },
  {
   "cell_type": "markdown",
   "metadata": {},
   "source": [
    "<hr id=\"clean\">\n",
    "\n",
    "<h2>2. Identify and handle common data cleaning problems</h2>"
   ]
  },
  {
   "cell_type": "markdown",
   "metadata": {},
   "source": [
    "<h5 id=\"clean-missing\">Handle missing values</h5>\n",
    "\n",
    "Identify missing values"
   ]
  },
  {
   "cell_type": "code",
   "execution_count": 3,
   "metadata": {},
   "outputs": [
    {
     "name": "stdout",
     "output_type": "stream",
     "text": [
      "<class 'pandas.core.frame.DataFrame'>\n",
      "RangeIndex: 8 entries, 0 to 7\n",
      "Data columns (total 5 columns):\n",
      " #   Column             Non-Null Count  Dtype  \n",
      "---  ------             --------------  -----  \n",
      " 0   Timestamp          8 non-null      object \n",
      " 1   Reactor Type       7 non-null      object \n",
      " 2   Temperature [C]    7 non-null      float64\n",
      " 3   Pressure [bar]     8 non-null      float64\n",
      " 4   Flow Rate [l/min]  7 non-null      float64\n",
      "dtypes: float64(3), object(2)\n",
      "memory usage: 452.0+ bytes\n"
     ]
    }
   ],
   "source": [
    "# get more info about the data\n",
    "df.info()"
   ]
  },
  {
   "cell_type": "code",
   "execution_count": 4,
   "metadata": {},
   "outputs": [
    {
     "data": {
      "text/plain": [
       "Timestamp            0\n",
       "Reactor Type         1\n",
       "Temperature [C]      1\n",
       "Pressure [bar]       0\n",
       "Flow Rate [l/min]    1\n",
       "dtype: int64"
      ]
     },
     "execution_count": 4,
     "metadata": {},
     "output_type": "execute_result"
    }
   ],
   "source": [
    "# find the number of missing values in each column\n",
    "df.isna().sum()"
   ]
  },
  {
   "cell_type": "markdown",
   "metadata": {},
   "source": [
    "Drop rows with \"NaN\" from certain columns"
   ]
  },
  {
   "cell_type": "code",
   "execution_count": 5,
   "metadata": {},
   "outputs": [
    {
     "data": {
      "text/html": [
       "<div>\n",
       "<style scoped>\n",
       "    .dataframe tbody tr th:only-of-type {\n",
       "        vertical-align: middle;\n",
       "    }\n",
       "\n",
       "    .dataframe tbody tr th {\n",
       "        vertical-align: top;\n",
       "    }\n",
       "\n",
       "    .dataframe thead th {\n",
       "        text-align: right;\n",
       "    }\n",
       "</style>\n",
       "<table border=\"1\" class=\"dataframe\">\n",
       "  <thead>\n",
       "    <tr style=\"text-align: right;\">\n",
       "      <th></th>\n",
       "      <th>Timestamp</th>\n",
       "      <th>Reactor Type</th>\n",
       "      <th>Temperature [C]</th>\n",
       "      <th>Pressure [bar]</th>\n",
       "      <th>Flow Rate [l/min]</th>\n",
       "    </tr>\n",
       "  </thead>\n",
       "  <tbody>\n",
       "    <tr>\n",
       "      <th>0</th>\n",
       "      <td>2023-10-21 10:00:00</td>\n",
       "      <td>CSTR</td>\n",
       "      <td>75.0</td>\n",
       "      <td>10.0</td>\n",
       "      <td>50.0</td>\n",
       "    </tr>\n",
       "    <tr>\n",
       "      <th>1</th>\n",
       "      <td>2023-10-21 10:00:00</td>\n",
       "      <td>CSTR</td>\n",
       "      <td>75.0</td>\n",
       "      <td>10.0</td>\n",
       "      <td>50.0</td>\n",
       "    </tr>\n",
       "    <tr>\n",
       "      <th>2</th>\n",
       "      <td>2023-10-21 10:00:05</td>\n",
       "      <td>CSTR</td>\n",
       "      <td>76.0</td>\n",
       "      <td>10.1</td>\n",
       "      <td>51.0</td>\n",
       "    </tr>\n",
       "    <tr>\n",
       "      <th>4</th>\n",
       "      <td>2023-10-21 10:00:15</td>\n",
       "      <td>PFR</td>\n",
       "      <td>NaN</td>\n",
       "      <td>17.0</td>\n",
       "      <td>60.0</td>\n",
       "    </tr>\n",
       "    <tr>\n",
       "      <th>5</th>\n",
       "      <td>2023-10-21 10:00:20</td>\n",
       "      <td>Tubular</td>\n",
       "      <td>78.0</td>\n",
       "      <td>17.0</td>\n",
       "      <td>60.0</td>\n",
       "    </tr>\n",
       "    <tr>\n",
       "      <th>6</th>\n",
       "      <td>2023-10-21 10:00:25</td>\n",
       "      <td>NaN</td>\n",
       "      <td>79.0</td>\n",
       "      <td>17.0</td>\n",
       "      <td>61.0</td>\n",
       "    </tr>\n",
       "    <tr>\n",
       "      <th>7</th>\n",
       "      <td>2023-10-21 10:00:30</td>\n",
       "      <td>MFR</td>\n",
       "      <td>80.0</td>\n",
       "      <td>18.0</td>\n",
       "      <td>62.0</td>\n",
       "    </tr>\n",
       "  </tbody>\n",
       "</table>\n",
       "</div>"
      ],
      "text/plain": [
       "             Timestamp Reactor Type  Temperature [C]  Pressure [bar]  \\\n",
       "0  2023-10-21 10:00:00         CSTR             75.0            10.0   \n",
       "1  2023-10-21 10:00:00         CSTR             75.0            10.0   \n",
       "2  2023-10-21 10:00:05         CSTR             76.0            10.1   \n",
       "4  2023-10-21 10:00:15          PFR              NaN            17.0   \n",
       "5  2023-10-21 10:00:20      Tubular             78.0            17.0   \n",
       "6  2023-10-21 10:00:25          NaN             79.0            17.0   \n",
       "7  2023-10-21 10:00:30          MFR             80.0            18.0   \n",
       "\n",
       "   Flow Rate [l/min]  \n",
       "0               50.0  \n",
       "1               50.0  \n",
       "2               51.0  \n",
       "4               60.0  \n",
       "5               60.0  \n",
       "6               61.0  \n",
       "7               62.0  "
      ]
     },
     "execution_count": 5,
     "metadata": {},
     "output_type": "execute_result"
    }
   ],
   "source": [
    "# drop the rows with missing values\n",
    "df.dropna(subset=['Flow Rate [l/min]'], inplace=True)\n",
    "df"
   ]
  },
  {
   "cell_type": "markdown",
   "metadata": {},
   "source": [
    "Replace \"NaN\" by the mean for numeric data"
   ]
  },
  {
   "cell_type": "code",
   "execution_count": 6,
   "metadata": {},
   "outputs": [
    {
     "data": {
      "text/html": [
       "<div>\n",
       "<style scoped>\n",
       "    .dataframe tbody tr th:only-of-type {\n",
       "        vertical-align: middle;\n",
       "    }\n",
       "\n",
       "    .dataframe tbody tr th {\n",
       "        vertical-align: top;\n",
       "    }\n",
       "\n",
       "    .dataframe thead th {\n",
       "        text-align: right;\n",
       "    }\n",
       "</style>\n",
       "<table border=\"1\" class=\"dataframe\">\n",
       "  <thead>\n",
       "    <tr style=\"text-align: right;\">\n",
       "      <th></th>\n",
       "      <th>Timestamp</th>\n",
       "      <th>Reactor Type</th>\n",
       "      <th>Temperature [C]</th>\n",
       "      <th>Pressure [bar]</th>\n",
       "      <th>Flow Rate [l/min]</th>\n",
       "    </tr>\n",
       "  </thead>\n",
       "  <tbody>\n",
       "    <tr>\n",
       "      <th>0</th>\n",
       "      <td>2023-10-21 10:00:00</td>\n",
       "      <td>CSTR</td>\n",
       "      <td>75.000000</td>\n",
       "      <td>10.0</td>\n",
       "      <td>50.0</td>\n",
       "    </tr>\n",
       "    <tr>\n",
       "      <th>1</th>\n",
       "      <td>2023-10-21 10:00:00</td>\n",
       "      <td>CSTR</td>\n",
       "      <td>75.000000</td>\n",
       "      <td>10.0</td>\n",
       "      <td>50.0</td>\n",
       "    </tr>\n",
       "    <tr>\n",
       "      <th>2</th>\n",
       "      <td>2023-10-21 10:00:05</td>\n",
       "      <td>CSTR</td>\n",
       "      <td>76.000000</td>\n",
       "      <td>10.1</td>\n",
       "      <td>51.0</td>\n",
       "    </tr>\n",
       "    <tr>\n",
       "      <th>4</th>\n",
       "      <td>2023-10-21 10:00:15</td>\n",
       "      <td>PFR</td>\n",
       "      <td>77.166667</td>\n",
       "      <td>17.0</td>\n",
       "      <td>60.0</td>\n",
       "    </tr>\n",
       "    <tr>\n",
       "      <th>5</th>\n",
       "      <td>2023-10-21 10:00:20</td>\n",
       "      <td>Tubular</td>\n",
       "      <td>78.000000</td>\n",
       "      <td>17.0</td>\n",
       "      <td>60.0</td>\n",
       "    </tr>\n",
       "    <tr>\n",
       "      <th>6</th>\n",
       "      <td>2023-10-21 10:00:25</td>\n",
       "      <td>NaN</td>\n",
       "      <td>79.000000</td>\n",
       "      <td>17.0</td>\n",
       "      <td>61.0</td>\n",
       "    </tr>\n",
       "    <tr>\n",
       "      <th>7</th>\n",
       "      <td>2023-10-21 10:00:30</td>\n",
       "      <td>MFR</td>\n",
       "      <td>80.000000</td>\n",
       "      <td>18.0</td>\n",
       "      <td>62.0</td>\n",
       "    </tr>\n",
       "  </tbody>\n",
       "</table>\n",
       "</div>"
      ],
      "text/plain": [
       "             Timestamp Reactor Type  Temperature [C]  Pressure [bar]  \\\n",
       "0  2023-10-21 10:00:00         CSTR        75.000000            10.0   \n",
       "1  2023-10-21 10:00:00         CSTR        75.000000            10.0   \n",
       "2  2023-10-21 10:00:05         CSTR        76.000000            10.1   \n",
       "4  2023-10-21 10:00:15          PFR        77.166667            17.0   \n",
       "5  2023-10-21 10:00:20      Tubular        78.000000            17.0   \n",
       "6  2023-10-21 10:00:25          NaN        79.000000            17.0   \n",
       "7  2023-10-21 10:00:30          MFR        80.000000            18.0   \n",
       "\n",
       "   Flow Rate [l/min]  \n",
       "0               50.0  \n",
       "1               50.0  \n",
       "2               51.0  \n",
       "4               60.0  \n",
       "5               60.0  \n",
       "6               61.0  \n",
       "7               62.0  "
      ]
     },
     "execution_count": 6,
     "metadata": {},
     "output_type": "execute_result"
    }
   ],
   "source": [
    "# replace the missing values with the mean of the column\n",
    "avg_temp = df['Temperature [C]'].mean()\n",
    "df['Temperature [C]'].fillna(avg_temp, inplace=True)\n",
    "df"
   ]
  },
  {
   "cell_type": "markdown",
   "metadata": {},
   "source": [
    "Replace \"NaN\" by the mode (for categorical data)"
   ]
  },
  {
   "cell_type": "code",
   "execution_count": 7,
   "metadata": {},
   "outputs": [
    {
     "data": {
      "text/plain": [
       "Reactor Type\n",
       "CSTR       3\n",
       "PFR        1\n",
       "Tubular    1\n",
       "MFR        1\n",
       "Name: count, dtype: int64"
      ]
     },
     "execution_count": 7,
     "metadata": {},
     "output_type": "execute_result"
    }
   ],
   "source": [
    "# find the unique values in the column\n",
    "df['Reactor Type'].value_counts()"
   ]
  },
  {
   "cell_type": "code",
   "execution_count": 8,
   "metadata": {},
   "outputs": [
    {
     "data": {
      "text/html": [
       "<div>\n",
       "<style scoped>\n",
       "    .dataframe tbody tr th:only-of-type {\n",
       "        vertical-align: middle;\n",
       "    }\n",
       "\n",
       "    .dataframe tbody tr th {\n",
       "        vertical-align: top;\n",
       "    }\n",
       "\n",
       "    .dataframe thead th {\n",
       "        text-align: right;\n",
       "    }\n",
       "</style>\n",
       "<table border=\"1\" class=\"dataframe\">\n",
       "  <thead>\n",
       "    <tr style=\"text-align: right;\">\n",
       "      <th></th>\n",
       "      <th>Timestamp</th>\n",
       "      <th>Reactor Type</th>\n",
       "      <th>Temperature [C]</th>\n",
       "      <th>Pressure [bar]</th>\n",
       "      <th>Flow Rate [l/min]</th>\n",
       "    </tr>\n",
       "  </thead>\n",
       "  <tbody>\n",
       "    <tr>\n",
       "      <th>0</th>\n",
       "      <td>2023-10-21 10:00:00</td>\n",
       "      <td>CSTR</td>\n",
       "      <td>75.000000</td>\n",
       "      <td>10.0</td>\n",
       "      <td>50.0</td>\n",
       "    </tr>\n",
       "    <tr>\n",
       "      <th>1</th>\n",
       "      <td>2023-10-21 10:00:00</td>\n",
       "      <td>CSTR</td>\n",
       "      <td>75.000000</td>\n",
       "      <td>10.0</td>\n",
       "      <td>50.0</td>\n",
       "    </tr>\n",
       "    <tr>\n",
       "      <th>2</th>\n",
       "      <td>2023-10-21 10:00:05</td>\n",
       "      <td>CSTR</td>\n",
       "      <td>76.000000</td>\n",
       "      <td>10.1</td>\n",
       "      <td>51.0</td>\n",
       "    </tr>\n",
       "    <tr>\n",
       "      <th>4</th>\n",
       "      <td>2023-10-21 10:00:15</td>\n",
       "      <td>PFR</td>\n",
       "      <td>77.166667</td>\n",
       "      <td>17.0</td>\n",
       "      <td>60.0</td>\n",
       "    </tr>\n",
       "    <tr>\n",
       "      <th>5</th>\n",
       "      <td>2023-10-21 10:00:20</td>\n",
       "      <td>Tubular</td>\n",
       "      <td>78.000000</td>\n",
       "      <td>17.0</td>\n",
       "      <td>60.0</td>\n",
       "    </tr>\n",
       "    <tr>\n",
       "      <th>6</th>\n",
       "      <td>2023-10-21 10:00:25</td>\n",
       "      <td>CSTR</td>\n",
       "      <td>79.000000</td>\n",
       "      <td>17.0</td>\n",
       "      <td>61.0</td>\n",
       "    </tr>\n",
       "    <tr>\n",
       "      <th>7</th>\n",
       "      <td>2023-10-21 10:00:30</td>\n",
       "      <td>MFR</td>\n",
       "      <td>80.000000</td>\n",
       "      <td>18.0</td>\n",
       "      <td>62.0</td>\n",
       "    </tr>\n",
       "  </tbody>\n",
       "</table>\n",
       "</div>"
      ],
      "text/plain": [
       "             Timestamp Reactor Type  Temperature [C]  Pressure [bar]  \\\n",
       "0  2023-10-21 10:00:00         CSTR        75.000000            10.0   \n",
       "1  2023-10-21 10:00:00         CSTR        75.000000            10.0   \n",
       "2  2023-10-21 10:00:05         CSTR        76.000000            10.1   \n",
       "4  2023-10-21 10:00:15          PFR        77.166667            17.0   \n",
       "5  2023-10-21 10:00:20      Tubular        78.000000            17.0   \n",
       "6  2023-10-21 10:00:25         CSTR        79.000000            17.0   \n",
       "7  2023-10-21 10:00:30          MFR        80.000000            18.0   \n",
       "\n",
       "   Flow Rate [l/min]  \n",
       "0               50.0  \n",
       "1               50.0  \n",
       "2               51.0  \n",
       "4               60.0  \n",
       "5               60.0  \n",
       "6               61.0  \n",
       "7               62.0  "
      ]
     },
     "execution_count": 8,
     "metadata": {},
     "output_type": "execute_result"
    }
   ],
   "source": [
    "# replace the missing values with the most frequent value\n",
    "mode_type = df['Reactor Type'].mode()[0]\n",
    "df['Reactor Type'].fillna(mode_type, inplace=True)\n",
    "df"
   ]
  },
  {
   "cell_type": "markdown",
   "metadata": {},
   "source": [
    "<h5 id=\"clean-duplicates\">Remove duplicates</h5>"
   ]
  },
  {
   "cell_type": "code",
   "execution_count": 9,
   "metadata": {},
   "outputs": [
    {
     "data": {
      "text/plain": [
       "1"
      ]
     },
     "execution_count": 9,
     "metadata": {},
     "output_type": "execute_result"
    }
   ],
   "source": [
    "# find the number of duplicate rows\n",
    "df.duplicated().sum()"
   ]
  },
  {
   "cell_type": "code",
   "execution_count": 10,
   "metadata": {},
   "outputs": [
    {
     "data": {
      "text/html": [
       "<div>\n",
       "<style scoped>\n",
       "    .dataframe tbody tr th:only-of-type {\n",
       "        vertical-align: middle;\n",
       "    }\n",
       "\n",
       "    .dataframe tbody tr th {\n",
       "        vertical-align: top;\n",
       "    }\n",
       "\n",
       "    .dataframe thead th {\n",
       "        text-align: right;\n",
       "    }\n",
       "</style>\n",
       "<table border=\"1\" class=\"dataframe\">\n",
       "  <thead>\n",
       "    <tr style=\"text-align: right;\">\n",
       "      <th></th>\n",
       "      <th>Timestamp</th>\n",
       "      <th>Reactor Type</th>\n",
       "      <th>Temperature [C]</th>\n",
       "      <th>Pressure [bar]</th>\n",
       "      <th>Flow Rate [l/min]</th>\n",
       "    </tr>\n",
       "  </thead>\n",
       "  <tbody>\n",
       "    <tr>\n",
       "      <th>0</th>\n",
       "      <td>2023-10-21 10:00:00</td>\n",
       "      <td>CSTR</td>\n",
       "      <td>75.000000</td>\n",
       "      <td>10.0</td>\n",
       "      <td>50.0</td>\n",
       "    </tr>\n",
       "    <tr>\n",
       "      <th>2</th>\n",
       "      <td>2023-10-21 10:00:05</td>\n",
       "      <td>CSTR</td>\n",
       "      <td>76.000000</td>\n",
       "      <td>10.1</td>\n",
       "      <td>51.0</td>\n",
       "    </tr>\n",
       "    <tr>\n",
       "      <th>4</th>\n",
       "      <td>2023-10-21 10:00:15</td>\n",
       "      <td>PFR</td>\n",
       "      <td>77.166667</td>\n",
       "      <td>17.0</td>\n",
       "      <td>60.0</td>\n",
       "    </tr>\n",
       "    <tr>\n",
       "      <th>5</th>\n",
       "      <td>2023-10-21 10:00:20</td>\n",
       "      <td>Tubular</td>\n",
       "      <td>78.000000</td>\n",
       "      <td>17.0</td>\n",
       "      <td>60.0</td>\n",
       "    </tr>\n",
       "    <tr>\n",
       "      <th>6</th>\n",
       "      <td>2023-10-21 10:00:25</td>\n",
       "      <td>CSTR</td>\n",
       "      <td>79.000000</td>\n",
       "      <td>17.0</td>\n",
       "      <td>61.0</td>\n",
       "    </tr>\n",
       "    <tr>\n",
       "      <th>7</th>\n",
       "      <td>2023-10-21 10:00:30</td>\n",
       "      <td>MFR</td>\n",
       "      <td>80.000000</td>\n",
       "      <td>18.0</td>\n",
       "      <td>62.0</td>\n",
       "    </tr>\n",
       "  </tbody>\n",
       "</table>\n",
       "</div>"
      ],
      "text/plain": [
       "             Timestamp Reactor Type  Temperature [C]  Pressure [bar]  \\\n",
       "0  2023-10-21 10:00:00         CSTR        75.000000            10.0   \n",
       "2  2023-10-21 10:00:05         CSTR        76.000000            10.1   \n",
       "4  2023-10-21 10:00:15          PFR        77.166667            17.0   \n",
       "5  2023-10-21 10:00:20      Tubular        78.000000            17.0   \n",
       "6  2023-10-21 10:00:25         CSTR        79.000000            17.0   \n",
       "7  2023-10-21 10:00:30          MFR        80.000000            18.0   \n",
       "\n",
       "   Flow Rate [l/min]  \n",
       "0               50.0  \n",
       "2               51.0  \n",
       "4               60.0  \n",
       "5               60.0  \n",
       "6               61.0  \n",
       "7               62.0  "
      ]
     },
     "execution_count": 10,
     "metadata": {},
     "output_type": "execute_result"
    }
   ],
   "source": [
    "# drop the duplicate rows\n",
    "df.drop_duplicates(inplace=True)\n",
    "df"
   ]
  },
  {
   "cell_type": "markdown",
   "metadata": {},
   "source": [
    "<h5 id=\"clean-standardize\">Standardize data</h5>"
   ]
  },
  {
   "cell_type": "code",
   "execution_count": 11,
   "metadata": {},
   "outputs": [],
   "source": [
    "# convert column to float\n",
    "df['Temperature [C]'] = df['Temperature [C]'].astype('float64')\n",
    "\n",
    "# convert multilple columns to float\n",
    "df[['Pressure [bar]', 'Flow Rate [l/min]']] = df[['Pressure [bar]', 'Flow Rate [l/min]']].astype('float64')\n",
    "\n",
    "# convert column to datetime\n",
    "df['Timestamp'] = pd.to_datetime(df['Timestamp'])"
   ]
  },
  {
   "cell_type": "code",
   "execution_count": 12,
   "metadata": {},
   "outputs": [
    {
     "data": {
      "text/html": [
       "<div>\n",
       "<style scoped>\n",
       "    .dataframe tbody tr th:only-of-type {\n",
       "        vertical-align: middle;\n",
       "    }\n",
       "\n",
       "    .dataframe tbody tr th {\n",
       "        vertical-align: top;\n",
       "    }\n",
       "\n",
       "    .dataframe thead th {\n",
       "        text-align: right;\n",
       "    }\n",
       "</style>\n",
       "<table border=\"1\" class=\"dataframe\">\n",
       "  <thead>\n",
       "    <tr style=\"text-align: right;\">\n",
       "      <th></th>\n",
       "      <th>Timestamp</th>\n",
       "      <th>Reactor Type</th>\n",
       "      <th>Temperature [C]</th>\n",
       "      <th>Pressure [bar]</th>\n",
       "      <th>Flow Rate [l/min]</th>\n",
       "    </tr>\n",
       "  </thead>\n",
       "  <tbody>\n",
       "    <tr>\n",
       "      <th>0</th>\n",
       "      <td>2023-10-21 10:00:00</td>\n",
       "      <td>CSTR</td>\n",
       "      <td>75.000000</td>\n",
       "      <td>10.0</td>\n",
       "      <td>50.0</td>\n",
       "    </tr>\n",
       "    <tr>\n",
       "      <th>2</th>\n",
       "      <td>2023-10-21 10:00:05</td>\n",
       "      <td>CSTR</td>\n",
       "      <td>76.000000</td>\n",
       "      <td>10.1</td>\n",
       "      <td>51.0</td>\n",
       "    </tr>\n",
       "    <tr>\n",
       "      <th>4</th>\n",
       "      <td>2023-10-21 10:00:15</td>\n",
       "      <td>PFR</td>\n",
       "      <td>77.166667</td>\n",
       "      <td>17.0</td>\n",
       "      <td>60.0</td>\n",
       "    </tr>\n",
       "    <tr>\n",
       "      <th>5</th>\n",
       "      <td>2023-10-21 10:00:20</td>\n",
       "      <td>PFR</td>\n",
       "      <td>78.000000</td>\n",
       "      <td>17.0</td>\n",
       "      <td>60.0</td>\n",
       "    </tr>\n",
       "    <tr>\n",
       "      <th>6</th>\n",
       "      <td>2023-10-21 10:00:25</td>\n",
       "      <td>CSTR</td>\n",
       "      <td>79.000000</td>\n",
       "      <td>17.0</td>\n",
       "      <td>61.0</td>\n",
       "    </tr>\n",
       "    <tr>\n",
       "      <th>7</th>\n",
       "      <td>2023-10-21 10:00:30</td>\n",
       "      <td>CSTR</td>\n",
       "      <td>80.000000</td>\n",
       "      <td>18.0</td>\n",
       "      <td>62.0</td>\n",
       "    </tr>\n",
       "  </tbody>\n",
       "</table>\n",
       "</div>"
      ],
      "text/plain": [
       "            Timestamp Reactor Type  Temperature [C]  Pressure [bar]  \\\n",
       "0 2023-10-21 10:00:00         CSTR        75.000000            10.0   \n",
       "2 2023-10-21 10:00:05         CSTR        76.000000            10.1   \n",
       "4 2023-10-21 10:00:15          PFR        77.166667            17.0   \n",
       "5 2023-10-21 10:00:20          PFR        78.000000            17.0   \n",
       "6 2023-10-21 10:00:25         CSTR        79.000000            17.0   \n",
       "7 2023-10-21 10:00:30         CSTR        80.000000            18.0   \n",
       "\n",
       "   Flow Rate [l/min]  \n",
       "0               50.0  \n",
       "2               51.0  \n",
       "4               60.0  \n",
       "5               60.0  \n",
       "6               61.0  \n",
       "7               62.0  "
      ]
     },
     "execution_count": 12,
     "metadata": {},
     "output_type": "execute_result"
    }
   ],
   "source": [
    "# standardize the values in a column\n",
    "df['Reactor Type'] = df['Reactor Type'].replace('Tubular', 'PFR')\n",
    "df['Reactor Type'] = df['Reactor Type'].replace('MFR', 'CSTR')\n",
    "df"
   ]
  },
  {
   "cell_type": "code",
   "execution_count": 13,
   "metadata": {},
   "outputs": [
    {
     "data": {
      "text/html": [
       "<div>\n",
       "<style scoped>\n",
       "    .dataframe tbody tr th:only-of-type {\n",
       "        vertical-align: middle;\n",
       "    }\n",
       "\n",
       "    .dataframe tbody tr th {\n",
       "        vertical-align: top;\n",
       "    }\n",
       "\n",
       "    .dataframe thead th {\n",
       "        text-align: right;\n",
       "    }\n",
       "</style>\n",
       "<table border=\"1\" class=\"dataframe\">\n",
       "  <thead>\n",
       "    <tr style=\"text-align: right;\">\n",
       "      <th></th>\n",
       "      <th>Timestamp</th>\n",
       "      <th>Reactor Type</th>\n",
       "      <th>Temperature [K]</th>\n",
       "      <th>Pressure [bar]</th>\n",
       "      <th>Flow Rate [l/min]</th>\n",
       "    </tr>\n",
       "  </thead>\n",
       "  <tbody>\n",
       "    <tr>\n",
       "      <th>0</th>\n",
       "      <td>2023-10-21 10:00:00</td>\n",
       "      <td>CSTR</td>\n",
       "      <td>348.000000</td>\n",
       "      <td>10.0</td>\n",
       "      <td>50.0</td>\n",
       "    </tr>\n",
       "    <tr>\n",
       "      <th>2</th>\n",
       "      <td>2023-10-21 10:00:05</td>\n",
       "      <td>CSTR</td>\n",
       "      <td>349.000000</td>\n",
       "      <td>10.1</td>\n",
       "      <td>51.0</td>\n",
       "    </tr>\n",
       "    <tr>\n",
       "      <th>4</th>\n",
       "      <td>2023-10-21 10:00:15</td>\n",
       "      <td>PFR</td>\n",
       "      <td>350.166667</td>\n",
       "      <td>17.0</td>\n",
       "      <td>60.0</td>\n",
       "    </tr>\n",
       "    <tr>\n",
       "      <th>5</th>\n",
       "      <td>2023-10-21 10:00:20</td>\n",
       "      <td>PFR</td>\n",
       "      <td>351.000000</td>\n",
       "      <td>17.0</td>\n",
       "      <td>60.0</td>\n",
       "    </tr>\n",
       "    <tr>\n",
       "      <th>6</th>\n",
       "      <td>2023-10-21 10:00:25</td>\n",
       "      <td>CSTR</td>\n",
       "      <td>352.000000</td>\n",
       "      <td>17.0</td>\n",
       "      <td>61.0</td>\n",
       "    </tr>\n",
       "    <tr>\n",
       "      <th>7</th>\n",
       "      <td>2023-10-21 10:00:30</td>\n",
       "      <td>CSTR</td>\n",
       "      <td>353.000000</td>\n",
       "      <td>18.0</td>\n",
       "      <td>62.0</td>\n",
       "    </tr>\n",
       "  </tbody>\n",
       "</table>\n",
       "</div>"
      ],
      "text/plain": [
       "            Timestamp Reactor Type  Temperature [K]  Pressure [bar]  \\\n",
       "0 2023-10-21 10:00:00         CSTR       348.000000            10.0   \n",
       "2 2023-10-21 10:00:05         CSTR       349.000000            10.1   \n",
       "4 2023-10-21 10:00:15          PFR       350.166667            17.0   \n",
       "5 2023-10-21 10:00:20          PFR       351.000000            17.0   \n",
       "6 2023-10-21 10:00:25         CSTR       352.000000            17.0   \n",
       "7 2023-10-21 10:00:30         CSTR       353.000000            18.0   \n",
       "\n",
       "   Flow Rate [l/min]  \n",
       "0               50.0  \n",
       "2               51.0  \n",
       "4               60.0  \n",
       "5               60.0  \n",
       "6               61.0  \n",
       "7               62.0  "
      ]
     },
     "execution_count": 13,
     "metadata": {},
     "output_type": "execute_result"
    }
   ],
   "source": [
    "# apply a function to a column\n",
    "df['Temperature [C]'] = df['Temperature [C]'].apply(lambda x: x + 273)\n",
    "df.rename(columns={'Temperature [C]': 'Temperature [K]'}, inplace=True)\n",
    "df"
   ]
  },
  {
   "cell_type": "markdown",
   "metadata": {},
   "source": [
    "<hr id=\"validate\">\n",
    "\n",
    "<h2>3. Validate cleaned data</h2>"
   ]
  },
  {
   "cell_type": "code",
   "execution_count": 14,
   "metadata": {},
   "outputs": [
    {
     "data": {
      "text/plain": [
       "Timestamp            datetime64[ns]\n",
       "Reactor Type                 object\n",
       "Temperature [K]             float64\n",
       "Pressure [bar]              float64\n",
       "Flow Rate [l/min]           float64\n",
       "dtype: object"
      ]
     },
     "execution_count": 14,
     "metadata": {},
     "output_type": "execute_result"
    }
   ],
   "source": [
    "# check data types\n",
    "df.dtypes"
   ]
  },
  {
   "cell_type": "code",
   "execution_count": 15,
   "metadata": {},
   "outputs": [
    {
     "data": {
      "text/plain": [
       "0"
      ]
     },
     "execution_count": 15,
     "metadata": {},
     "output_type": "execute_result"
    }
   ],
   "source": [
    "# check for duplicates\n",
    "df.duplicated().sum()"
   ]
  },
  {
   "cell_type": "code",
   "execution_count": 16,
   "metadata": {},
   "outputs": [
    {
     "data": {
      "text/plain": [
       "Timestamp            0\n",
       "Reactor Type         0\n",
       "Temperature [K]      0\n",
       "Pressure [bar]       0\n",
       "Flow Rate [l/min]    0\n",
       "dtype: int64"
      ]
     },
     "execution_count": 16,
     "metadata": {},
     "output_type": "execute_result"
    }
   ],
   "source": [
    "# check for missing values\n",
    "df.isna().sum()"
   ]
  },
  {
   "cell_type": "code",
   "execution_count": 17,
   "metadata": {},
   "outputs": [],
   "source": [
    "# save the cleaned data for future use\n",
    "df.to_csv('cleaned_data.csv', index=False)"
   ]
  },
  {
   "cell_type": "markdown",
   "metadata": {},
   "source": [
    "<hr style=\"margin-top: 4rem;\">\n",
    "<h2>Author</h2>\n",
    "\n",
    "<a href=\"https://github.com/SamerHany\">Samer Hany</a>"
   ]
  },
  {
   "cell_type": "markdown",
   "metadata": {},
   "source": [
    "<h2>References</h2>\n",
    "<a href=\"https://www.w3schools.com/python/default.asp\">w3schools.com</a>"
   ]
  }
 ],
 "metadata": {
  "kernelspec": {
   "display_name": "Python 3 (ipykernel)",
   "language": "python",
   "name": "python3"
  },
  "language_info": {
   "codemirror_mode": {
    "name": "ipython",
    "version": 3
   },
   "file_extension": ".py",
   "mimetype": "text/x-python",
   "name": "python",
   "nbconvert_exporter": "python",
   "pygments_lexer": "ipython3",
   "version": "3.11.4"
  }
 },
 "nbformat": 4,
 "nbformat_minor": 4
}
