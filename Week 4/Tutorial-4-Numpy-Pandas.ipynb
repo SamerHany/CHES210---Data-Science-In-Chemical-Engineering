{
 "cells": [
  {
   "cell_type": "markdown",
   "metadata": {},
   "source": [
    "# Tutorial 4: NumPy & Pandas\n",
    "\n",
    "\n",
    "## Objectives\n",
    "\n",
    "After this tutorial you will be able to:\n",
    "\n",
    "*   understand the basics of NumPy and Pandas libraries\n",
    "*   use NumPy arrays for efficient data manipulation\n",
    "*   use Pandas DataFrames for structured data manipulation\n",
    "*   load data from different sources into NumPy arrays and Pandas DataFrames\n",
    "*   perform data manipulation tasks such as filtering, sorting, and aggregating data\n"
   ]
  },
  {
   "cell_type": "markdown",
   "metadata": {},
   "source": [
    "<h2>Table of Contents</h2>\n",
    "\n",
    "<ol>\n",
    "    <li>\n",
    "        <details>\n",
    "            <summary><a href=\"#numpy\">NumPy</a></summary>\n",
    "            <ul>\n",
    "                <li><a href=\"#numpy-create\">Create and initialize NumPy arrays</a></li>\n",
    "                <li><a href=\"#numpy-perform\">Perform basic arithmetic operations on NumPy arrays</a></li>\n",
    "                <li><a href=\"#numpy-index\">Index and slice NumPy arrays</a></li>\n",
    "                <li><a href=\"#numpy-shape\">Change the shape of NumPy arrays</a></li>\n",
    "            </ul>\n",
    "        </details>\n",
    "    </li>\n",
    "    <br>\n",
    "    <li>\n",
    "        <details>\n",
    "            <summary><a href=\"#pandas\">Pandas</a></summary>\n",
    "            <ul>\n",
    "                <li><a href=\"#pandas-create\">Create and initialize Pandas DataFrames</a></li>\n",
    "                <li><a href=\"#pandas-index\">Index and slice Pandas DataFrames</a></li>\n",
    "                <li><a href=\"#pandas-select\">Select columns from Pandas DataFrames</a></li>\n",
    "                <li><a href=\"#pandas-filter\">Filter and sort Pandas DataFrames</a></li>\n",
    "                <li><a href=\"#pandas-aggregate\">Aggregate data in Pandas DataFrames</a></li>\n",
    "            </ul>\n",
    "        </details>\n",
    "    </li>\n",
    "    <br>\n",
    "    <li>\n",
    "        <details>\n",
    "            <summary><a href=\"#data\">Loading and Manipulating Data</a></summary>\n",
    "            <ul>\n",
    "                <li><a href=\"#data-csv\">Load data from CSV files into Pandas DataFrames</a></li>\n",
    "                <li><a href=\"#data-json\">Load data from JSON files into Pandas DataFrames</a></li>\n",
    "                <li><a href=\"#data-sql\">Load data from SQL database into Pandas DataFrames</a></li>\n",
    "            </ul>\n",
    "        </details>\n",
    "    </li>\n",
    "    <br>    \n",
    "</ol>\n"
   ]
  },
  {
   "cell_type": "markdown",
   "metadata": {},
   "source": [
    "<hr id=\"numpy\">\n",
    "\n",
    "<h2>1. NumPy</h2>\n",
    "\n",
    "Numpy is a library used for working with arrays.  \n",
    "It also has useful functions for linear agebra and matrices."
   ]
  },
  {
   "cell_type": "markdown",
   "metadata": {},
   "source": [
    "<h5 id=\"numpy-create\">Create and initialize NumPy arrays</h5>\n",
    "\n",
    "import the NumPy library"
   ]
  },
  {
   "cell_type": "code",
   "execution_count": null,
   "metadata": {},
   "outputs": [],
   "source": [
    "# np is the most popular alias for numpy\n",
    "import numpy as np"
   ]
  },
  {
   "cell_type": "markdown",
   "metadata": {},
   "source": [
    "Create a 1D NumPy array"
   ]
  },
  {
   "cell_type": "code",
   "execution_count": null,
   "metadata": {},
   "outputs": [],
   "source": [
    "array_1d = np.array([1, 2, 3, 4, 5])\n",
    "array_1d"
   ]
  },
  {
   "cell_type": "markdown",
   "metadata": {},
   "source": [
    "Create a 2D NumPy array"
   ]
  },
  {
   "cell_type": "code",
   "execution_count": null,
   "metadata": {},
   "outputs": [],
   "source": [
    "array_2d = np.array([[1, 2, 3], [4, 5, 6], [7, 8, 9]])\n",
    "array_2d"
   ]
  },
  {
   "cell_type": "markdown",
   "metadata": {},
   "source": [
    "To get the number of dimensions or an array, use the attribute `ndim`."
   ]
  },
  {
   "cell_type": "code",
   "execution_count": null,
   "metadata": {},
   "outputs": [],
   "source": [
    "# Show the numpy array dimensions\n",
    "print(array_1d.ndim)\n",
    "print(array_2d.ndim)"
   ]
  },
  {
   "cell_type": "markdown",
   "metadata": {},
   "source": [
    "To get the size of each dimension, use the attribute `shape`.`\n"
   ]
  },
  {
   "cell_type": "code",
   "execution_count": null,
   "metadata": {},
   "outputs": [],
   "source": [
    "print(array_1d.shape)\n",
    "print(array_2d.shape)"
   ]
  },
  {
   "cell_type": "markdown",
   "metadata": {},
   "source": [
    "To get the total number of elements in the array, use the attribute `size`.\n"
   ]
  },
  {
   "cell_type": "code",
   "execution_count": null,
   "metadata": {},
   "outputs": [],
   "source": [
    "# Show the numpy array size\n",
    "print(array_1d.size)\n",
    "print(array_2d.size)"
   ]
  },
  {
   "cell_type": "markdown",
   "metadata": {},
   "source": [
    "<h5 id=\"numpy-perform\">Perform basic arithmetic operations on NumPy arrays</h5>"
   ]
  },
  {
   "cell_type": "code",
   "execution_count": null,
   "metadata": {},
   "outputs": [],
   "source": [
    "# create 2 new arrays\n",
    "A = np.array([1, 2, 3])\n",
    "B = np.array([4, 5, 6])\n",
    "\n",
    "# Addition\n",
    "print('Addition: ', A + B)\n",
    "\n",
    "# Subtraction\n",
    "print('Subtraction: ', A - B)\n",
    "\n",
    "# Multiplication\n",
    "print('Multiplication: ', A * B)\n",
    "\n",
    "# Division\n",
    "print('Division: ', A / B)\n",
    "\n",
    "# Dot product\n",
    "print('Dot product: ', A.dot(B))"
   ]
  },
  {
   "cell_type": "markdown",
   "metadata": {},
   "source": [
    "<h5 id=\"numpy-index\">Index and slice NumPy arrays</h5>"
   ]
  },
  {
   "cell_type": "code",
   "execution_count": null,
   "metadata": {},
   "outputs": [],
   "source": [
    "# accessing elements in a 2d array\n",
    "print(array_2d[0, 0])\n",
    "print(array_2d[1][2])\n",
    "print(array_2d[2, -1])\n",
    "\n",
    "# slicing a 2d array\n",
    "print(array_2d[0, :])\n",
    "print(array_2d[:, 0])\n",
    "print(array_2d[0:2, 1:3])\n"
   ]
  },
  {
   "cell_type": "markdown",
   "metadata": {},
   "source": [
    "<h5 id=\"numpy-shape\">Change the shape of NumPy arrays</h5>"
   ]
  },
  {
   "cell_type": "code",
   "execution_count": null,
   "metadata": {},
   "outputs": [],
   "source": [
    "array = np.array([1, 2, 3, 4, 5, 6])\n",
    "\n",
    "# Reshape the array into a 2D array\n",
    "array_2d = array.reshape((2, 3))\n",
    "print(array_2d)"
   ]
  },
  {
   "cell_type": "code",
   "execution_count": null,
   "metadata": {},
   "outputs": [],
   "source": [
    "# Transpose the array\n",
    "print(array_2d.T)"
   ]
  },
  {
   "cell_type": "markdown",
   "metadata": {},
   "source": [
    "<hr id=\"pandas\">\n",
    "\n",
    "<h2>2. Pandas</h2>\n",
    "\n",
    "Pandas is a Python library for data manipulation and analysis. It is a powerful and versatile tool that can be used to work with a wide variety of data types, includingtabular data, time series data, and categorical data.\n",
    "\n",
    "Pandas provide 2 data structures for working with data:\n",
    "1. Series: a one-dimensional array of indexed data.  \n",
    "2. DataFrame: a two-dimensional data structure, with data arranged in rows and columns in a tabular manner."
   ]
  },
  {
   "cell_type": "markdown",
   "metadata": {},
   "source": [
    "<h5 id=\"pandas-create\">Create and initialize Pandas DataFrames</h5>\n",
    "\n",
    "import the Pandas library"
   ]
  },
  {
   "cell_type": "code",
   "execution_count": null,
   "metadata": {},
   "outputs": [],
   "source": [
    "# pd is the most popular alias for pandas\n",
    "import pandas as pd"
   ]
  },
  {
   "cell_type": "markdown",
   "metadata": {},
   "source": [
    "We can create a pandas DataFrame from a list of dictionaries where each dictionary has:\n",
    "- the column headers as *dict keys*\n",
    "- the row values as *dict values*."
   ]
  },
  {
   "cell_type": "code",
   "execution_count": null,
   "metadata": {},
   "outputs": [],
   "source": [
    "# Create a DataFrame from a list of dictionaries\n",
    "data = [\n",
    "    {'name': 'John Doe', 'age': 30, 'occupation': 'Engineer'}, \n",
    "    {'name': 'Jane Doe', 'age': 25, 'occupation': 'Data scientist'},\n",
    "    {'name': 'Mary Smith', 'age': 27, 'occupation': 'Software developer'},\n",
    "    {'name': 'Mark Smith', 'age': 28, 'occupation': 'Data analyst'}\n",
    "]\n",
    "df = pd.DataFrame(data)\n",
    "df"
   ]
  },
  {
   "cell_type": "markdown",
   "metadata": {},
   "source": [
    "We can create a pandas DataFrame from a dictionary of lists where:\n",
    "- the keys are the column headers\n",
    "- the lists are the column values"
   ]
  },
  {
   "cell_type": "code",
   "execution_count": null,
   "metadata": {},
   "outputs": [],
   "source": [
    "data = {\n",
    "    'name': ['John Doe', 'Jane Doe', 'Mike Smith'], \n",
    "    'age': [30, 25, 40], \n",
    "    'occupation': ['Engineer', 'Doctor', 'Teacher']\n",
    "}\n",
    "df2 = pd.DataFrame(data)\n",
    "df2"
   ]
  },
  {
   "cell_type": "markdown",
   "metadata": {},
   "source": [
    "We can create a pandas DataFrame from a NumPy 2D array, and a columns list."
   ]
  },
  {
   "cell_type": "code",
   "execution_count": null,
   "metadata": {},
   "outputs": [],
   "source": [
    "# Create a DataFrame from a NumPy array\n",
    "array = np.array([[1, 2, 3], [4, 5, 6], [7, 8, 9]])\n",
    "df3 = pd.DataFrame(array, columns=['A', 'B', 'C'])\n",
    "df3"
   ]
  },
  {
   "cell_type": "markdown",
   "metadata": {},
   "source": [
    "<h5 id=\"pandas-index\">Index and slice Pandas DataFrames</h5>"
   ]
  },
  {
   "cell_type": "markdown",
   "metadata": {},
   "source": [
    "We have 2 ways to index and slice Pandas DataFrames:\n",
    "1. `iloc()`: an index-based selecting method similar to lists and NumPy arrays "
   ]
  },
  {
   "cell_type": "code",
   "execution_count": null,
   "metadata": {},
   "outputs": [],
   "source": [
    "# print the DataFrame for reference\n",
    "df"
   ]
  },
  {
   "cell_type": "code",
   "execution_count": null,
   "metadata": {},
   "outputs": [],
   "source": [
    "# access the 1st row and 1st column\n",
    "print(df.iloc[0, 0])"
   ]
  },
  {
   "cell_type": "code",
   "execution_count": null,
   "metadata": {},
   "outputs": [],
   "source": [
    "# access the 2nd row and 3rd column\n",
    "print(df.iloc[1, 2])"
   ]
  },
  {
   "cell_type": "code",
   "execution_count": null,
   "metadata": {},
   "outputs": [],
   "source": [
    "# slice the 1st 2 rows and 1st 2 columns\n",
    "print(df.iloc[0:2, 0:2])"
   ]
  },
  {
   "cell_type": "markdown",
   "metadata": {},
   "source": [
    "2. `loc()`: a label-based selecting method\n",
    "When using this method for slicing, the upper limit is included."
   ]
  },
  {
   "cell_type": "code",
   "execution_count": null,
   "metadata": {},
   "outputs": [],
   "source": [
    "# print the DataFrame for reference\n",
    "df"
   ]
  },
  {
   "cell_type": "code",
   "execution_count": null,
   "metadata": {},
   "outputs": [],
   "source": [
    "# access the 1st row age\n",
    "print(df.loc[0, 'age'])"
   ]
  },
  {
   "cell_type": "markdown",
   "metadata": {},
   "source": [
    "We can also set the DataFrame index to a certain column instead of the default numerical index of (0, 1, 2, ...)"
   ]
  },
  {
   "cell_type": "code",
   "execution_count": null,
   "metadata": {},
   "outputs": [],
   "source": [
    "# set index to name\n",
    "df.set_index('name', inplace=True)\n",
    "print(df)"
   ]
  },
  {
   "cell_type": "markdown",
   "metadata": {},
   "source": [
    "In that case, we can use the `loc()` method with the row/index name and the column/header name."
   ]
  },
  {
   "cell_type": "code",
   "execution_count": null,
   "metadata": {},
   "outputs": [],
   "source": [
    "# access the 1st row age\n",
    "print('\\n1st row age: ', df.loc['John Doe', 'age'])"
   ]
  },
  {
   "cell_type": "code",
   "execution_count": null,
   "metadata": {},
   "outputs": [],
   "source": [
    "# slice the 1st 2 rows and 1st 2 columns\n",
    "print('\\n1st 2 rows and 1st 2 columns: ')\n",
    "print(df.loc['John Doe':'Jane Doe', 'age':'occupation'])"
   ]
  },
  {
   "cell_type": "markdown",
   "metadata": {},
   "source": [
    "<h5 id=\"pandas-select\">Select columns from Pandas DataFrames</h5>"
   ]
  },
  {
   "cell_type": "code",
   "execution_count": null,
   "metadata": {},
   "outputs": [],
   "source": [
    "# print the DataFrame for reference\n",
    "df"
   ]
  },
  {
   "cell_type": "code",
   "execution_count": null,
   "metadata": {},
   "outputs": [],
   "source": [
    "# Select the 'name' column as a series\n",
    "df = pd.DataFrame(data)\n",
    "name_column = df['name']\n",
    "print(name_column)\n",
    "type(name_column)"
   ]
  },
  {
   "cell_type": "code",
   "execution_count": null,
   "metadata": {},
   "outputs": [],
   "source": [
    "# select the 'name' column as a DataFrame\n",
    "name_column = df[['name']]\n",
    "print(name_column)\n",
    "type(name_column)"
   ]
  },
  {
   "cell_type": "code",
   "execution_count": null,
   "metadata": {},
   "outputs": [],
   "source": [
    "# Select multiple columns as a DataFrame\n",
    "multiple_columns = df[['name', 'age']]\n",
    "print(multiple_columns)"
   ]
  },
  {
   "cell_type": "markdown",
   "metadata": {},
   "source": [
    "<h5 id=\"pandas-filter\">Filter and sort Pandas DataFrames</h5>"
   ]
  },
  {
   "cell_type": "code",
   "execution_count": null,
   "metadata": {},
   "outputs": [],
   "source": [
    "# print the DataFrame for reference\n",
    "df"
   ]
  },
  {
   "cell_type": "code",
   "execution_count": null,
   "metadata": {},
   "outputs": [],
   "source": [
    "# filter rows based on a condition\n",
    "df[df['age'] > 25]"
   ]
  },
  {
   "cell_type": "code",
   "execution_count": null,
   "metadata": {},
   "outputs": [],
   "source": [
    "# sort the DataFrame by age in ascending order\n",
    "df.sort_values(by='age', ascending=True, inplace=True)\n",
    "df"
   ]
  },
  {
   "cell_type": "markdown",
   "metadata": {},
   "source": [
    "<h5 id=\"pandas-aggregate\">Aggregate data in Pandas DataFrames</h5>"
   ]
  },
  {
   "cell_type": "code",
   "execution_count": null,
   "metadata": {},
   "outputs": [],
   "source": [
    "# Create a DataFrame\n",
    "df = pd.DataFrame({\n",
    "    'product': ['A', 'A', 'B', 'B', 'C'],\n",
    "    'price': [10, 12, 15, 20, 25]\n",
    "})\n",
    "\n",
    "# Group the DataFrame by product\n",
    "grouped_df = df.groupby(['product'])['price'].sum()\n",
    "grouped_df"
   ]
  },
  {
   "cell_type": "markdown",
   "metadata": {},
   "source": [
    "<hr id=\"data\">\n",
    "\n",
    "<h2>2. Loading and Manipulating Data</h2>\n",
    "\n",
    "Pandas provides useful built-in functions for loading data from different sources."
   ]
  },
  {
   "cell_type": "markdown",
   "metadata": {},
   "source": [
    "<h5 id=\"data-csv\">Load data from CSV files into Pandas DataFrames</h5>"
   ]
  },
  {
   "cell_type": "code",
   "execution_count": null,
   "metadata": {},
   "outputs": [],
   "source": [
    "# load data from a CSV file\n",
    "df = pd.read_csv('harry_potter.csv', delimiter=';')\n",
    "df.head()   # shows the first 5 rows"
   ]
  },
  {
   "cell_type": "markdown",
   "metadata": {},
   "source": [
    "<h5 id=\"data-json\">Load data from JSON files into Pandas DataFrames</h5>\n"
   ]
  },
  {
   "cell_type": "code",
   "execution_count": null,
   "metadata": {},
   "outputs": [],
   "source": [
    "# import data from a JSON file\n",
    "df = pd.read_json('pokemon.json')\n",
    "df.head()"
   ]
  },
  {
   "cell_type": "code",
   "execution_count": null,
   "metadata": {},
   "outputs": [],
   "source": [
    "# normalize the JSON data\n",
    "stats = pd.json_normalize(df['stats'])\n",
    "stats.rename(columns={x:f'stats.{x}' for x in stats.columns.values.tolist()}, inplace=True)     # this line is to rename column (you can ignore it)\n",
    "stats.head()\n",
    "df.drop('stats', axis=1, inplace=True)\n",
    "df = pd.concat([df, stats], axis=1)\n",
    "df.head()"
   ]
  },
  {
   "cell_type": "markdown",
   "metadata": {},
   "source": [
    "<h5 id=\"data-sql\">Load data from SQL database into Pandas DataFrames</h5>\n"
   ]
  },
  {
   "cell_type": "code",
   "execution_count": 5,
   "metadata": {},
   "outputs": [
    {
     "data": {
      "text/html": [
       "<div>\n",
       "<style scoped>\n",
       "    .dataframe tbody tr th:only-of-type {\n",
       "        vertical-align: middle;\n",
       "    }\n",
       "\n",
       "    .dataframe tbody tr th {\n",
       "        vertical-align: top;\n",
       "    }\n",
       "\n",
       "    .dataframe thead th {\n",
       "        text-align: right;\n",
       "    }\n",
       "</style>\n",
       "<table border=\"1\" class=\"dataframe\">\n",
       "  <thead>\n",
       "    <tr style=\"text-align: right;\">\n",
       "      <th></th>\n",
       "      <th>name</th>\n",
       "    </tr>\n",
       "  </thead>\n",
       "  <tbody>\n",
       "    <tr>\n",
       "      <th>0</th>\n",
       "      <td>employees</td>\n",
       "    </tr>\n",
       "    <tr>\n",
       "      <th>1</th>\n",
       "      <td>departments</td>\n",
       "    </tr>\n",
       "  </tbody>\n",
       "</table>\n",
       "</div>"
      ],
      "text/plain": [
       "          name\n",
       "0    employees\n",
       "1  departments"
      ]
     },
     "execution_count": 5,
     "metadata": {},
     "output_type": "execute_result"
    }
   ],
   "source": [
    "# import SQLite library\n",
    "import sqlite3      # make sure you have sqlite3 installed first using \"pip install sqlite3\"\n",
    "\n",
    "# create a connection to the database\n",
    "conn = sqlite3.connect('employee_data.db')\n",
    "\n",
    "# see the tables in the database\n",
    "df_tables = pd.read_sql('SELECT name FROM sqlite_master WHERE type=\"table\"', conn)\n",
    "df_tables"
   ]
  },
  {
   "cell_type": "code",
   "execution_count": 6,
   "metadata": {},
   "outputs": [
    {
     "data": {
      "text/html": [
       "<div>\n",
       "<style scoped>\n",
       "    .dataframe tbody tr th:only-of-type {\n",
       "        vertical-align: middle;\n",
       "    }\n",
       "\n",
       "    .dataframe tbody tr th {\n",
       "        vertical-align: top;\n",
       "    }\n",
       "\n",
       "    .dataframe thead th {\n",
       "        text-align: right;\n",
       "    }\n",
       "</style>\n",
       "<table border=\"1\" class=\"dataframe\">\n",
       "  <thead>\n",
       "    <tr style=\"text-align: right;\">\n",
       "      <th></th>\n",
       "      <th>emp_idno</th>\n",
       "      <th>emp_fname</th>\n",
       "      <th>emp_lname</th>\n",
       "      <th>emp_dept</th>\n",
       "    </tr>\n",
       "  </thead>\n",
       "  <tbody>\n",
       "    <tr>\n",
       "      <th>0</th>\n",
       "      <td>127323</td>\n",
       "      <td>Michale</td>\n",
       "      <td>Robbin</td>\n",
       "      <td>57</td>\n",
       "    </tr>\n",
       "    <tr>\n",
       "      <th>1</th>\n",
       "      <td>328717</td>\n",
       "      <td>Jhon</td>\n",
       "      <td>Snares</td>\n",
       "      <td>63</td>\n",
       "    </tr>\n",
       "    <tr>\n",
       "      <th>2</th>\n",
       "      <td>444527</td>\n",
       "      <td>Joseph</td>\n",
       "      <td>Dosni</td>\n",
       "      <td>47</td>\n",
       "    </tr>\n",
       "    <tr>\n",
       "      <th>3</th>\n",
       "      <td>526689</td>\n",
       "      <td>Carlos</td>\n",
       "      <td>Snares</td>\n",
       "      <td>63</td>\n",
       "    </tr>\n",
       "    <tr>\n",
       "      <th>4</th>\n",
       "      <td>539569</td>\n",
       "      <td>George</td>\n",
       "      <td>Mardy</td>\n",
       "      <td>27</td>\n",
       "    </tr>\n",
       "  </tbody>\n",
       "</table>\n",
       "</div>"
      ],
      "text/plain": [
       "   emp_idno emp_fname emp_lname  emp_dept\n",
       "0    127323   Michale    Robbin        57\n",
       "1    328717      Jhon    Snares        63\n",
       "2    444527    Joseph     Dosni        47\n",
       "3    526689    Carlos    Snares        63\n",
       "4    539569    George     Mardy        27"
      ]
     },
     "execution_count": 6,
     "metadata": {},
     "output_type": "execute_result"
    }
   ],
   "source": [
    "# read employee details table\n",
    "df_employees = pd.read_sql('SELECT * FROM employees', conn)\n",
    "df_employees.head()"
   ]
  },
  {
   "cell_type": "code",
   "execution_count": 7,
   "metadata": {},
   "outputs": [
    {
     "data": {
      "text/html": [
       "<div>\n",
       "<style scoped>\n",
       "    .dataframe tbody tr th:only-of-type {\n",
       "        vertical-align: middle;\n",
       "    }\n",
       "\n",
       "    .dataframe tbody tr th {\n",
       "        vertical-align: top;\n",
       "    }\n",
       "\n",
       "    .dataframe thead th {\n",
       "        text-align: right;\n",
       "    }\n",
       "</style>\n",
       "<table border=\"1\" class=\"dataframe\">\n",
       "  <thead>\n",
       "    <tr style=\"text-align: right;\">\n",
       "      <th></th>\n",
       "      <th>dpt_code</th>\n",
       "      <th>dpt_name</th>\n",
       "      <th>dpt_allotment</th>\n",
       "    </tr>\n",
       "  </thead>\n",
       "  <tbody>\n",
       "    <tr>\n",
       "      <th>0</th>\n",
       "      <td>57</td>\n",
       "      <td>IT</td>\n",
       "      <td>65000</td>\n",
       "    </tr>\n",
       "    <tr>\n",
       "      <th>1</th>\n",
       "      <td>63</td>\n",
       "      <td>Finance</td>\n",
       "      <td>15000</td>\n",
       "    </tr>\n",
       "    <tr>\n",
       "      <th>2</th>\n",
       "      <td>47</td>\n",
       "      <td>HR</td>\n",
       "      <td>240000</td>\n",
       "    </tr>\n",
       "    <tr>\n",
       "      <th>3</th>\n",
       "      <td>27</td>\n",
       "      <td>RD</td>\n",
       "      <td>55000</td>\n",
       "    </tr>\n",
       "    <tr>\n",
       "      <th>4</th>\n",
       "      <td>89</td>\n",
       "      <td>QC</td>\n",
       "      <td>75000</td>\n",
       "    </tr>\n",
       "  </tbody>\n",
       "</table>\n",
       "</div>"
      ],
      "text/plain": [
       "   dpt_code dpt_name  dpt_allotment\n",
       "0        57       IT          65000\n",
       "1        63  Finance          15000\n",
       "2        47       HR         240000\n",
       "3        27       RD          55000\n",
       "4        89       QC          75000"
      ]
     },
     "execution_count": 7,
     "metadata": {},
     "output_type": "execute_result"
    }
   ],
   "source": [
    "# read department details table\n",
    "df_departments = pd.read_sql('SELECT * FROM departments', conn)\n",
    "df_departments.head()"
   ]
  },
  {
   "cell_type": "code",
   "execution_count": 8,
   "metadata": {},
   "outputs": [
    {
     "data": {
      "text/html": [
       "<div>\n",
       "<style scoped>\n",
       "    .dataframe tbody tr th:only-of-type {\n",
       "        vertical-align: middle;\n",
       "    }\n",
       "\n",
       "    .dataframe tbody tr th {\n",
       "        vertical-align: top;\n",
       "    }\n",
       "\n",
       "    .dataframe thead th {\n",
       "        text-align: right;\n",
       "    }\n",
       "</style>\n",
       "<table border=\"1\" class=\"dataframe\">\n",
       "  <thead>\n",
       "    <tr style=\"text-align: right;\">\n",
       "      <th></th>\n",
       "      <th>emp_idno</th>\n",
       "      <th>emp_fname</th>\n",
       "      <th>emp_lname</th>\n",
       "      <th>dpt_name</th>\n",
       "    </tr>\n",
       "  </thead>\n",
       "  <tbody>\n",
       "    <tr>\n",
       "      <th>0</th>\n",
       "      <td>127323</td>\n",
       "      <td>Michale</td>\n",
       "      <td>Robbin</td>\n",
       "      <td>IT</td>\n",
       "    </tr>\n",
       "    <tr>\n",
       "      <th>1</th>\n",
       "      <td>328717</td>\n",
       "      <td>Jhon</td>\n",
       "      <td>Snares</td>\n",
       "      <td>Finance</td>\n",
       "    </tr>\n",
       "    <tr>\n",
       "      <th>2</th>\n",
       "      <td>444527</td>\n",
       "      <td>Joseph</td>\n",
       "      <td>Dosni</td>\n",
       "      <td>HR</td>\n",
       "    </tr>\n",
       "    <tr>\n",
       "      <th>3</th>\n",
       "      <td>526689</td>\n",
       "      <td>Carlos</td>\n",
       "      <td>Snares</td>\n",
       "      <td>Finance</td>\n",
       "    </tr>\n",
       "    <tr>\n",
       "      <th>4</th>\n",
       "      <td>539569</td>\n",
       "      <td>George</td>\n",
       "      <td>Mardy</td>\n",
       "      <td>RD</td>\n",
       "    </tr>\n",
       "  </tbody>\n",
       "</table>\n",
       "</div>"
      ],
      "text/plain": [
       "   emp_idno emp_fname emp_lname dpt_name\n",
       "0    127323   Michale    Robbin       IT\n",
       "1    328717      Jhon    Snares  Finance\n",
       "2    444527    Joseph     Dosni       HR\n",
       "3    526689    Carlos    Snares  Finance\n",
       "4    539569    George     Mardy       RD"
      ]
     },
     "execution_count": 8,
     "metadata": {},
     "output_type": "execute_result"
    }
   ],
   "source": [
    "# read employee details table with department name using the \"LEFT JOIN\" clause\n",
    "df_full = pd.read_sql('SELECT employees.emp_idno, employees.emp_fname, employees.emp_lname, departments.dpt_name FROM employees LEFT JOIN departments ON employees.emp_dept = departments.dpt_code', conn)\n",
    "df_full.head()"
   ]
  },
  {
   "cell_type": "markdown",
   "metadata": {},
   "source": [
    "<hr style=\"margin-top: 4rem;\">\n",
    "<h2>Author</h2>\n",
    "\n",
    "<a href=\"https://github.com/SamerHany\">Samer Hany</a>"
   ]
  },
  {
   "cell_type": "markdown",
   "metadata": {},
   "source": [
    "<h2>References</h2>\n",
    "<a href=\"https://www.w3schools.com/python/default.asp\">w3schools.com</a>\n",
    "<br>\n",
    "<a href=\"https://www.kaggle.com\">kaggle.com</a>"
   ]
  }
 ],
 "metadata": {
  "kernelspec": {
   "display_name": "Python 3",
   "language": "python",
   "name": "python3"
  },
  "language_info": {
   "codemirror_mode": {
    "name": "ipython",
    "version": 3
   },
   "file_extension": ".py",
   "mimetype": "text/x-python",
   "name": "python",
   "nbconvert_exporter": "python",
   "pygments_lexer": "ipython3",
   "version": "3.11.4"
  }
 },
 "nbformat": 4,
 "nbformat_minor": 2
}
